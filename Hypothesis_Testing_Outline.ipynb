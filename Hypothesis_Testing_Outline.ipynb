{
  "nbformat": 4,
  "nbformat_minor": 0,
  "metadata": {
    "colab": {
      "name": "Hypothesis Testing Outline.ipynb",
      "version": "0.3.2",
      "provenance": [],
      "collapsed_sections": [
        "BZ7haVualclY",
        "-qewqDkPectU",
        "cC9pxUInUYo9",
        "m-IJsfaeZShd"
      ],
      "toc_visible": true
    },
    "kernelspec": {
      "name": "python3",
      "display_name": "Python 3"
    }
  },
  "cells": [
    {
      "metadata": {
        "id": "YquGSYME_B5z",
        "colab_type": "text"
      },
      "cell_type": "markdown",
      "source": [
        ""
      ]
    },
    {
      "metadata": {
        "colab_type": "text",
        "id": "Oz3uzog5wwQM"
      },
      "cell_type": "markdown",
      "source": [
        "# Importing of Packages and Defining Functions"
      ]
    },
    {
      "metadata": {
        "colab_type": "text",
        "id": "PVjqeNPowwQN"
      },
      "cell_type": "markdown",
      "source": [
        "## Import packages:"
      ]
    },
    {
      "metadata": {
        "colab_type": "code",
        "id": "vl-HKeJJwwQP",
        "outputId": "5343616b-3413-4094-9f29-744d58141e97",
        "colab": {
          "base_uri": "https://localhost:8080/",
          "height": 72
        }
      },
      "cell_type": "code",
      "source": [
        "# Normal packages\n",
        "import pandas as pd\n",
        "import numpy as np\n",
        "import seaborn as sns\n",
        "import matplotlib.pyplot as plt\n",
        "import matplotlib.ticker as mtick\n",
        "%matplotlib inline\n",
        "\n",
        "# Statsmodels\n",
        "\n",
        "import statsmodels.api as sm\n",
        "import statsmodels.formula.api as smf\n",
        "import statsmodels.stats.api as sms\n",
        "\n",
        "import scipy.stats as stats\n",
        "\n",
        "\n",
        "# Counter\n",
        "from collections import Counter\n",
        "\n",
        "# Sklearn\n",
        "from sklearn.model_selection import train_test_split\n",
        "from sklearn.feature_selection import RFE\n",
        "from sklearn.linear_model import LinearRegression\n",
        "from sklearn.metrics import mean_squared_error\n",
        "from sklearn.preprocessing import MinMaxScaler\n",
        "from sklearn.preprocessing import RobustScaler\n",
        "import sklearn.metrics as metrics\n",
        "\n",
        "\n",
        "import sqlalchemy\n",
        "from sqlalchemy import create_engine\n",
        "from sqlalchemy.orm import Session, sessionmaker\n",
        "from sqlalchemy import inspect"
      ],
      "execution_count": 1,
      "outputs": [
        {
          "output_type": "stream",
          "text": [
            "/usr/local/lib/python3.6/dist-packages/statsmodels/compat/pandas.py:56: FutureWarning: The pandas.core.datetools module is deprecated and will be removed in a future version. Please use the pandas.tseries module instead.\n",
            "  from pandas.core import datetools\n"
          ],
          "name": "stderr"
        }
      ]
    },
    {
      "metadata": {
        "colab_type": "text",
        "heading_collapsed": true,
        "id": "s6AsUbfMwwQU"
      },
      "cell_type": "markdown",
      "source": [
        "## Define Functions (from proj 1)"
      ]
    },
    {
      "metadata": {
        "colab_type": "text",
        "hidden": true,
        "id": "O0xNoo6vwwQV"
      },
      "cell_type": "markdown",
      "source": [
        "### def check_column"
      ]
    },
    {
      "metadata": {
        "colab_type": "code",
        "hidden": true,
        "id": "UEz2Osm_wwQW",
        "colab": {}
      },
      "cell_type": "code",
      "source": [
        "# Check columns returns the datatype, null values and unique values of input series \n",
        "def check_column(series,nlargest='all'):\n",
        "    print(f\"Column: df['{series.name}']':\")\n",
        "    print(f\"dtype: {series.dtype}\")\n",
        "    print(f\"isna: {series.isna().sum()} out of {len(series)} - {round(series.isna().sum()/len(series)*100,3)}%\")\n",
        "        \n",
        "    print(f'\\nUnique non-na values:') #,df['waterfront'].unique())\n",
        "    if nlargest =='all':\n",
        "        print(series.value_counts())\n",
        "    else:\n",
        "        print(series.value_counts().nlargest(nlargest))"
      ],
      "execution_count": 0,
      "outputs": []
    },
    {
      "metadata": {
        "colab_type": "text",
        "hidden": true,
        "id": "GtI-okJkwwQa"
      },
      "cell_type": "markdown",
      "source": [
        "### def multiplot"
      ]
    },
    {
      "metadata": {
        "colab_type": "code",
        "hidden": true,
        "id": "i7lFBscHwwQb",
        "colab": {}
      },
      "cell_type": "code",
      "source": [
        "# MULTIPLOT\n",
        "from string import ascii_letters\n",
        "import numpy as np\n",
        "import pandas as pd\n",
        "import seaborn as sns\n",
        "import matplotlib.pyplot as plt\n",
        "\n",
        "\n",
        "def multiplot(df):\n",
        "    \"\"\"Plots results from df.corr() in a correlation heat map for multicollinearity.\n",
        "    Returns fig, ax objects\"\"\"\n",
        "    sns.set(style=\"white\")\n",
        "\n",
        "    # Compute the correlation matrix\n",
        "    corr = df.corr()\n",
        "\n",
        "    # Generate a mask for the upper triangle\n",
        "    mask = np.zeros_like(corr, dtype=np.bool)\n",
        "    mask[np.triu_indices_from(mask)] = True\n",
        "\n",
        "    # Set up the matplotlib figure\n",
        "    f, ax = plt.subplots(figsize=(16, 16))\n",
        "\n",
        "    # Generate a custom diverging colormap\n",
        "    cmap = sns.diverging_palette(220, 10, as_cmap=True)\n",
        "\n",
        "    # Draw the heatmap with the mask and correct aspect ratio\n",
        "    sns.heatmap(corr, mask=mask, annot=True, cmap=cmap, center=0,\n",
        "                \n",
        "    square=True, linewidths=.5, cbar_kws={\"shrink\": .5})\n",
        "    return f, ax"
      ],
      "execution_count": 0,
      "outputs": []
    },
    {
      "metadata": {
        "colab_type": "text",
        "hidden": true,
        "id": "Qk9N1jMywwQf"
      },
      "cell_type": "markdown",
      "source": [
        "### def detect_outliers"
      ]
    },
    {
      "metadata": {
        "colab_type": "code",
        "hidden": true,
        "id": "LzpDuDd5wwQg",
        "colab": {}
      },
      "cell_type": "code",
      "source": [
        "# Tukey's method using IQR to eliminate \n",
        "def detect_outliers(df, n, features):\n",
        "    \"\"\"Uses Tukey's method to return outer of interquartile ranges to return indices if outliers in a dataframe.\n",
        "    Parameters:\n",
        "    df (DataFrame): DataFrane containing columns of features\n",
        "    n: default is 0, multiple outlier cutoff  \n",
        "    \n",
        "    Returns:\n",
        "    Index of outliers for .loc\n",
        "    \n",
        "    Examples:\n",
        "    Outliers_to_drop = detect_outliers(data,2,[\"col1\",\"col2\"]) Returning value\n",
        "    df.loc[Outliers_to_drop] # Show the outliers rows\n",
        "    data= data.drop(Outliers_to_drop, axis = 0).reset_index(drop=True)\n",
        "   \"\"\"\n",
        "\n",
        "# Drop outliers    \n",
        "\n",
        "    outlier_indices = []\n",
        "    # iterate over features(columns)\n",
        "    for col in features:\n",
        "        \n",
        "        # 1st quartile (25%)\n",
        "        Q1 = np.percentile(df[col], 25)\n",
        "        # 3rd quartile (75%)\n",
        "        Q3 = np.percentile(df[col],75)\n",
        "        \n",
        "        # Interquartile range (IQR)\n",
        "        IQR = Q3 - Q1\n",
        "        # outlier step\n",
        "        outlier_step = 1.5 * IQR\n",
        "        \n",
        "        # Determine a list of indices of outliers for feature col\n",
        "        outlier_list_col = df[(df[col] < Q1 - outlier_step) | (df[col] > Q3 + outlier_step )].index\n",
        "        \n",
        "        # append the found outlier indices for col to the list of outlier indices \n",
        "        outlier_indices.extend(outlier_list_col)\n",
        "        \n",
        "        # select observations containing more than 2 outliers\n",
        "        outlier_indices = Counter(outlier_indices)        \n",
        "        multiple_outliers = list( k for k, v in outlier_indices.items() if v > n )\n",
        "    return multiple_outliers \n"
      ],
      "execution_count": 0,
      "outputs": []
    },
    {
      "metadata": {
        "colab_type": "text",
        "hidden": true,
        "id": "GDzeDK5gwwQk"
      },
      "cell_type": "markdown",
      "source": [
        "### def plot_hist_scat_sns"
      ]
    },
    {
      "metadata": {
        "colab_type": "code",
        "hidden": true,
        "id": "MITbzaCcwwQl",
        "colab": {}
      },
      "cell_type": "code",
      "source": [
        "# Plots histogram and scatter (vs price) side by side\n",
        "def plot_hist_scat_sns(df, target='index'):\n",
        "    \"\"\"Plots seaborne distplots and regplots for columns im datamframe vs target.\n",
        "\n",
        "    Parameters:\n",
        "    df (DataFrame): DataFrame.describe() columns will be used. \n",
        "    target = name of column containing target variable.assume first coluumn. \n",
        "    \n",
        "    Returns:\n",
        "    Figures for each column vs target with 2 subplots.\n",
        "   \"\"\"\n",
        "    import matplotlib.ticker as mtick\n",
        "    import matplotlib.pyplot as plt\n",
        "    import seaborn as sns\n",
        "    \n",
        "    with plt.style.context(('seaborn-paper')):\n",
        "        ###  DEFINE AESTHETIC CUSTOMIZATIONS  -------------------------------##\n",
        "\n",
        "\n",
        "        plt.style.use('dark_background')\n",
        "        figsize=(10,8)\n",
        "\n",
        "        # Axis Label fonts\n",
        "        fontTitle = {'fontsize': 12,\n",
        "                   'fontweight': 'bold',\n",
        "                    'fontfamily':'serif'}\n",
        "\n",
        "        fontAxis = {'fontsize': 10,\n",
        "                   'fontweight': 'bold',\n",
        "                    'fontfamily':'serif'}\n",
        "\n",
        "        fontTicks = {'fontsize': 8,\n",
        "                   'fontweight':'bold',\n",
        "                    'fontfamily':'serif'}\n",
        "\n",
        "        # Formatting dollar sign labels\n",
        "        fmtPrice = '${x:,.0f}'\n",
        "        tickPrice = mtick.StrMethodFormatter(fmtPrice)\n",
        "\n",
        "\n",
        "        ###  PLOTTING ----------------------------- ------------------------ ##\n",
        "\n",
        "        # Loop through dataframe to plot\n",
        "        for column in df.describe():\n",
        "\n",
        "            # Create figure with subplots for current column\n",
        "            fig, ax = plt.subplots(figsize=figsize, ncols=2, nrows=2)\n",
        "\n",
        "            ##  SUBPLOT 1 --------------------------------------------------##\n",
        "            i,j = 0,0\n",
        "            ax[i,j].set_title(column.capitalize(),fontdict=fontTitle)\n",
        "\n",
        "            # Define graphing keyword dictionaries for distplot (Subplot 1)\n",
        "            hist_kws = {\"linewidth\": 1, \"alpha\": 1, \"color\": 'blue','edgecolor':'w'}\n",
        "            kde_kws = {\"color\": \"white\", \"linewidth\": 1, \"label\": \"KDE\"}\n",
        "\n",
        "            # Plot distplot on ax[i,j] using hist_kws and kde_kws\n",
        "            sns.distplot(df[column], norm_hist=True, kde=True,\n",
        "                         hist_kws = hist_kws, kde_kws = kde_kws,\n",
        "                         label=column+' histogram', ax=ax[i,j])\n",
        "\n",
        "\n",
        "            # Set x axis label\n",
        "            ax[i,j].set_xlabel(column.title(),fontdict=fontAxis)\n",
        "\n",
        "            # Get x-ticks, rotate labels, and return\n",
        "            xticklab1 = ax[i,j].get_xticklabels(which = 'both')\n",
        "            ax[i,j].set_xticklabels(labels=xticklab1, fontdict=fontTicks, rotation=45)\n",
        "            ax[i,j].xaxis.set_major_formatter(mtick.ScalarFormatter())\n",
        "\n",
        "\n",
        "            # Set y-label \n",
        "            ax[i,j].set_ylabel('Density',fontdict=fontAxis)\n",
        "            yticklab1=ax[i,j].get_yticklabels(which='both')\n",
        "            ax[i,j].set_yticklabels(labels=yticklab1,fontdict=fontTicks)\n",
        "            ax[i,j].yaxis.set_major_formatter(mtick.ScalarFormatter())\n",
        "\n",
        "\n",
        "            # Set y-grid\n",
        "            ax[i, j].set_axisbelow(True)\n",
        "            ax[i, j].grid(axis='y',ls='--')\n",
        "\n",
        "\n",
        "\n",
        "\n",
        "            ##  SUBPLOT 2-------------------------------------------------- ##\n",
        "            i,j = 0,1\n",
        "            ax[i,j].set_title(column.capitalize(),fontdict=fontTitle)\n",
        "\n",
        "            # Define the kwd dictionaries for scatter and regression line (subplot 2)\n",
        "            line_kws={\"color\":\"white\",\"alpha\":0.5,\"lw\":4,\"ls\":\":\"}\n",
        "            scatter_kws={'s': 2, 'alpha': 0.5,'marker':'.','color':'blue'}\n",
        "\n",
        "            # Plot regplot on ax[i,j] using line_kws and scatter_kws\n",
        "            sns.regplot(df[column], df[target], \n",
        "                        line_kws = line_kws,\n",
        "                        scatter_kws = scatter_kws,\n",
        "                        ax=ax[i,j])\n",
        "\n",
        "            # Set x-axis label\n",
        "            ax[i,j].set_xlabel(column.title(),fontdict=fontAxis)\n",
        "\n",
        "             # Get x ticks, rotate labels, and return\n",
        "            xticklab2=ax[i,j].get_xticklabels(which='both')\n",
        "            ax[i,j].set_xticklabels(labels=xticklab2,fontdict=fontTicks, rotation=45)\n",
        "            ax[i,j].xaxis.set_major_formatter(mtick.ScalarFormatter())\n",
        "\n",
        "            # Set  y-axis label\n",
        "            ax[i,j].set_ylabel(target,fontdict=fontAxis)\n",
        "\n",
        "            # Get, set, and format y-axis Price labels\n",
        "            yticklab = ax[i,j].get_yticklabels()\n",
        "            ax[i,j].set_yticklabels(yticklab,fontdict=fontTicks)\n",
        "            ax[i,j].yaxis.set_major_formatter(mtick.ScalarFormatter())\n",
        "\n",
        "    #         ax[i,j].get_yaxis().set_major_formatter(tickPrice) \n",
        "\n",
        "            # Set y-grid\n",
        "            ax[i, j].set_axisbelow(True)\n",
        "            ax[i, j].grid(axis='y',ls='--')       \n",
        "\n",
        "            ## ---------- Final layout adjustments ----------- ##\n",
        "            # Deleted unused subplots \n",
        "            fig.delaxes(ax[1,1])\n",
        "            fig.delaxes(ax[1,0])\n",
        "\n",
        "            # Optimizing spatial layout\n",
        "            fig.tight_layout()\n",
        "            figtitle=column+'_dist_regr_plots.png'\n",
        "            plt.savefig(figtitle)\n",
        "    return "
      ],
      "execution_count": 0,
      "outputs": []
    },
    {
      "metadata": {
        "colab_type": "text",
        "id": "BVwy49ADwwQn"
      },
      "cell_type": "markdown",
      "source": [
        "## Defining Functions (Proj 2 specific)"
      ]
    },
    {
      "metadata": {
        "colab_type": "text",
        "id": "nkPB_HcdwwQo"
      },
      "cell_type": "markdown",
      "source": [
        "### def list2df"
      ]
    },
    {
      "metadata": {
        "colab_type": "code",
        "id": "TwdV-j85wwQp",
        "colab": {}
      },
      "cell_type": "code",
      "source": [
        "def list2df(list):#, sort_values='index'):\n",
        "    \"\"\" Take in a list where row[0] = column_names and outputs a dataframe.\n",
        "    \n",
        "    Keyword arguments:\n",
        "    set_index -- df.set_index(set_index)\n",
        "    sortby -- df.sorted()\n",
        "    \"\"\"    \n",
        "    \n",
        "    df_list = pd.DataFrame(list[1:],columns=list[0])\n",
        "#     df_list = df_list[1:]\n",
        "\n",
        "    return df_list"
      ],
      "execution_count": 0,
      "outputs": []
    },
    {
      "metadata": {
        "colab_type": "text",
        "id": "ekTOehxHwwQu"
      },
      "cell_type": "markdown",
      "source": [
        "### def get_col_info"
      ]
    },
    {
      "metadata": {
        "colab_type": "code",
        "id": "LOaNcafFwwQv",
        "colab": {}
      },
      "cell_type": "code",
      "source": [
        "def  get_col_info(col_name):\n",
        "    \"\"\"Gets the column names and data types from the alchamey inspector object.\n",
        "    Returns column_info dataframe of table details.\n",
        "    \"\"\"\n",
        "    col_list = inspector.get_columns(col_name)\n",
        "    \n",
        "    column_info = [['table','column','dtype']]\n",
        "    print(f'Table Name: {col_name}\\n')\n",
        "\n",
        "    for col in col_list:\n",
        "        column_info.append([str(col_name),col['name'], col['type']])\n",
        "        \n",
        "    df = list2df(column_info)\n",
        "    return column_info"
      ],
      "execution_count": 0,
      "outputs": []
    },
    {
      "metadata": {
        "colab_type": "text",
        "id": "O7Xq2RqAR0va"
      },
      "cell_type": "markdown",
      "source": [
        "### def describe_outliers"
      ]
    },
    {
      "metadata": {
        "colab_type": "code",
        "id": "Ne6vEM4CwwQ3",
        "colab": {}
      },
      "cell_type": "code",
      "source": [
        "# describe_outliers -- calls detect_outliers\n",
        "def describe_outliers(df):\n",
        "    \"\"\" Returns a new_df of outliers, and % outliers each col using detect_outliers.\n",
        "    \"\"\"\n",
        "    out_count = 0\n",
        "    new_df = pd.DataFrame(columns=['total_outliers', 'percent_total'])\n",
        "    for col in df.columns:\n",
        "        outies = detect_outliers(df[col])\n",
        "        out_count += len(outies) \n",
        "        new_df.loc[col] = [len(outies), round((len(outies)/len(df.index))*100, 2)]\n",
        "    new_df.loc['grand_total'] = [sum(new_df['total_outliers']), sum(new_df['percent_total'])]\n",
        "    return new_df"
      ],
      "execution_count": 0,
      "outputs": []
    },
    {
      "metadata": {
        "colab_type": "text",
        "id": "XrvSuzkKwwQz"
      },
      "cell_type": "markdown",
      "source": [
        "### def get_full_table_info"
      ]
    },
    {
      "metadata": {
        "colab_type": "code",
        "id": "A0bruXiLwwQ0",
        "colab": {}
      },
      "cell_type": "code",
      "source": [
        "def  get_full_table_info(engine):\n",
        "    \"\"\"Gets the table names, their column namesand data types engine.\n",
        "    Returns column_info dataframe of table details.\n",
        "    \"\"\"\n",
        "    column_info = [['table','column','dtype']]\n",
        "    \n",
        "    list_tables= engine.table_names()\n",
        "    \n",
        "    for table in list_tables:\n",
        "        \n",
        "        col_list = inspector.get_columns(table)\n",
        "        \n",
        "        for col in col_list:\n",
        "            \n",
        "            column_info.append([str(table),col['name'], col['type'],col['']])\n",
        "            inspector.get_foreign_keys()\n",
        "    \n",
        "    df = list2df(column_info)\n",
        "    return df"
      ],
      "execution_count": 0,
      "outputs": []
    },
    {
      "metadata": {
        "colab_type": "text",
        "id": "EDLKQNdKR4Cb"
      },
      "cell_type": "markdown",
      "source": [
        "### def Cohen's d "
      ]
    },
    {
      "metadata": {
        "colab_type": "code",
        "id": "F_vkRMKMRO0Z",
        "colab": {}
      },
      "cell_type": "code",
      "source": [
        "#### Cohen's d\n",
        "def Cohen_d(group1, group2):\n",
        "    # Compute Cohen's d.\n",
        "    # group1: Series or NumPy array\n",
        "    # group2: Series or NumPy array\n",
        "    # returns a floating point number \n",
        "    diff = group1.mean() - group2.mean()\n",
        "\n",
        "    n1, n2 = len(group1), len(group2)\n",
        "    var1 = group1.var()\n",
        "    var2 = group2.var()\n",
        "\n",
        "    # Calculate the pooled threshold as shown earlier\n",
        "    pooled_var = (n1 * var1 + n2 * var2) / (n1 + n2)\n",
        "    \n",
        "    # Calculate Cohen's d statistic\n",
        "    d = diff / np.sqrt(pooled_var)\n",
        "    \n",
        "    return d\n",
        "\n",
        "\n",
        "def plot_pdfs(cohen_d=2):\n",
        "    \"\"\"Plot PDFs for distributions that differ by some number of stds.\n",
        "    \n",
        "    cohen_d: number of standard deviations between the means\n",
        "    \"\"\"\n",
        "    group1 = scipy.stats.norm(0, 1)\n",
        "    group2 = scipy.stats.norm(cohen_d, 1)\n",
        "    xs, ys = evaluate_PDF(group1)\n",
        "    pyplot.fill_between(xs, ys, label='Group1', color='#ff2289', alpha=0.7)\n",
        "\n",
        "    xs, ys = evaluate_PDF(group2)\n",
        "    pyplot.fill_between(xs, ys, label='Group2', color='#376cb0', alpha=0.7)\n",
        "    \n",
        "    o, s = overlap_superiority(group1, group2)\n",
        "    print('overlap', o)\n",
        "    print('superiority', s)\n",
        "   "
      ],
      "execution_count": 0,
      "outputs": []
    },
    {
      "metadata": {
        "id": "W6qgv8Pl_1Hu",
        "colab_type": "text"
      },
      "cell_type": "markdown",
      "source": [
        "### def normtest_results"
      ]
    },
    {
      "metadata": {
        "id": "_bc2zw82_c8F",
        "colab_type": "code",
        "colab": {}
      },
      "cell_type": "code",
      "source": [
        "def normtest_results(dict_data):\n",
        "    \"\"\"Peforms both d'agostino-pearson and shapiro-wilik normal tests\n",
        "        \n",
        "        Parameters:\n",
        "            dict_data -- dictionary with {'name' : data} \n",
        "        Returns:\n",
        "            results_normtest -- list of test results (can run list2df(results_normtest)\n",
        "    \"\"\"\n",
        "    from numpy.random import seed\n",
        "    from numpy.random import randn\n",
        "    from scipy.stats import shapiro\n",
        "    from scipy.stats import normaltest\n",
        "\n",
        "    results_normtest_shap = [['DataIn','Test','stat','p']]\n",
        "    results_normtest_dagp = [['DataIn','Test','stat','p']]\n",
        "\n",
        "    for key,val in dict_data.items():\n",
        "\n",
        "        data_in = val\n",
        "        name = key\n",
        "        test = 'Shapiro'\n",
        "        stat, p = shapiro(data_in)\n",
        "        results_normtest_shap.append([name , test, stat , p ])\n",
        "        test = 'D’Agostino’s'\n",
        "        stat, p = normaltest(data_in)\n",
        "        results_normtest_dagp.append([name,test,stat, p])\n",
        "\n",
        "    results_normtest = pd.concat([list2df(results_normtest_shap), list2df(results_normtest_dagp)]) \n",
        "\n",
        "    return results_normtest #, list2df(results_normtest_shap),list2df(results_normtest_dagp)\n",
        "\n",
        "#   results_pivot = results.pivot(index='DataIn', columns= 'Test')\n",
        "#   results_pivot.stack(0)"
      ],
      "execution_count": 0,
      "outputs": []
    },
    {
      "metadata": {
        "id": "iOxElICo_34g",
        "colab_type": "text"
      },
      "cell_type": "markdown",
      "source": [
        "### def quant_transform"
      ]
    },
    {
      "metadata": {
        "id": "zIcRSLF__ret",
        "colab_type": "code",
        "colab": {}
      },
      "cell_type": "code",
      "source": [
        "# TRANSFORM DATA BEFORE RE-CALLING ORIGINAL normtest_results\n",
        "def quant_transform(data_in):\n",
        "    '''Use sklearn.preprocessing.QuantileTransformer to remove outliers from dataset.\n",
        "    \n",
        "    Parameters:\n",
        "        data_in (dict) -- dictionary with data series as values to be processed.\n",
        "    Returns: \n",
        "        data_tf (dict) -- dicionary of same keys from data_in, but transformed.\n",
        "        '''\n",
        "    \n",
        "    from sklearn import preprocessing as prep \n",
        "    from sklearn.preprocessing import QuantileTransformer\n",
        "\n",
        "    qt =  QuantileTransformer(n_quantiles=10,output_distribution='normal')\n",
        "    data_tf = {}\n",
        "    for k,v in data_in.items():    \n",
        "        data = np.array(v).reshape(-1,1)\n",
        "        transformed = pd.Series(np.squeeze(qt.fit_transform(data)))\n",
        "      \n",
        "        data_tf[k] = transformed\n",
        "    \n",
        "    return data_tf"
      ],
      "execution_count": 0,
      "outputs": []
    },
    {
      "metadata": {
        "id": "dBDZ_d_71Vat",
        "colab_type": "text"
      },
      "cell_type": "markdown",
      "source": [
        "# Hypothesis 3\n",
        "Does the time of year affect quantity of items sold?\n",
        "\n",
        " - H0 = The month of an order has no affect on the mean quantity of items sold.\n",
        "\n",
        " - HA = THe month an order is placed relates to either a higher or lower mean quantity of items sold.\n"
      ]
    },
    {
      "metadata": {
        "id": "7PaYTrUi1YH0",
        "colab_type": "text"
      },
      "cell_type": "markdown",
      "source": [
        "_________\n",
        "## ***Aim 1.1 : To select the proper dataset for analyiss  and generate data groups for testing.***\n",
        "\n",
        "#### Importing Method\n",
        "- Use sqlalchemy to create engine to connect to Northwind_small.sqlite.\n",
        "ENTER YOUR SQL HERE\n"
      ]
    },
    {
      "metadata": {
        "id": "flNBkgM2RY3-",
        "colab_type": "code",
        "colab": {
          "base_uri": "https://localhost:8080/",
          "height": 193
        },
        "outputId": "77085bba-a85d-4211-86e2-0501d57f4d6d"
      },
      "cell_type": "code",
      "source": [
        "\n",
        "import sqlalchemy\n",
        "from sqlalchemy import create_engine\n",
        "from sqlalchemy.orm import Session, sessionmaker\n",
        "\n",
        "from google.colab import drive\n",
        "drive.mount('/content/drive/', force_remount=True)\n",
        "\n",
        "filepath = '/content/drive/My Drive/Colab Notebooks/datasets/Northwind_small.sqlite'\n",
        "engine = create_engine('sqlite:///'+filepath,echo=True)\n",
        "inspector = inspect(engine);\n",
        "\n",
        "# df_employee = pd.read_sql_query(\"SELECT Id, Title, LastName, HireDate , BirthDate  FROM [EMPLOYEE]\", engine )\n",
        "# df_cust_ord = pd.read_sql_query(\"SELECT *FROM [Order] JOIN [Customer] ON [Customer].Id = [Order].CustomerId\", engine)"
      ],
      "execution_count": 13,
      "outputs": [
        {
          "output_type": "stream",
          "text": [
            "Go to this URL in a browser: https://accounts.google.com/o/oauth2/auth?client_id=947318989803-6bn6qk8qdgf4n4g3pfee6491hc0brc4i.apps.googleusercontent.com&redirect_uri=urn%3Aietf%3Awg%3Aoauth%3A2.0%3Aoob&scope=email%20https%3A%2F%2Fwww.googleapis.com%2Fauth%2Fdocs.test%20https%3A%2F%2Fwww.googleapis.com%2Fauth%2Fdrive%20https%3A%2F%2Fwww.googleapis.com%2Fauth%2Fdrive.photos.readonly%20https%3A%2F%2Fwww.googleapis.com%2Fauth%2Fpeopleapi.readonly&response_type=code\n",
            "\n",
            "Enter your authorization code:\n",
            "··········\n",
            "Mounted at /content/drive/\n",
            "2019-04-06 20:26:06,345 INFO sqlalchemy.engine.base.Engine SELECT CAST('test plain returns' AS VARCHAR(60)) AS anon_1\n",
            "2019-04-06 20:26:06,349 INFO sqlalchemy.engine.base.Engine ()\n",
            "2019-04-06 20:26:06,357 INFO sqlalchemy.engine.base.Engine SELECT CAST('test unicode returns' AS VARCHAR(60)) AS anon_1\n",
            "2019-04-06 20:26:06,360 INFO sqlalchemy.engine.base.Engine ()\n"
          ],
          "name": "stdout"
        }
      ]
    },
    {
      "metadata": {
        "id": "HgE9TMkNh3Pu",
        "colab_type": "code",
        "colab": {
          "base_uri": "https://localhost:8080/",
          "height": 138
        },
        "outputId": "7032b784-a726-4570-c4ae-1bde88290cfc"
      },
      "cell_type": "code",
      "source": [
        "df_ord = pd.read_sql_query(\"SELECT * FROM OrderDetail JOIN [Order]  ON [Order].Id = OrderDetail.OrderId\", engine)\n",
        "# df_ord = pd.concat([df_ord, df_employee['Title']], axis=1)\n",
        "df_ord.columns\n"
      ],
      "execution_count": 14,
      "outputs": [
        {
          "output_type": "stream",
          "text": [
            "2019-04-06 20:26:06,378 INFO sqlalchemy.engine.base.Engine SELECT * FROM OrderDetail JOIN [Order]  ON [Order].Id = OrderDetail.OrderId\n",
            "2019-04-06 20:26:06,381 INFO sqlalchemy.engine.base.Engine ()\n"
          ],
          "name": "stdout"
        },
        {
          "output_type": "execute_result",
          "data": {
            "text/plain": [
              "Index(['Id', 'OrderId', 'ProductId', 'UnitPrice', 'Quantity', 'Discount', 'Id',\n",
              "       'CustomerId', 'EmployeeId', 'OrderDate', 'RequiredDate', 'ShippedDate',\n",
              "       'ShipVia', 'Freight', 'ShipName', 'ShipAddress', 'ShipCity',\n",
              "       'ShipRegion', 'ShipPostalCode', 'ShipCountry'],\n",
              "      dtype='object')"
            ]
          },
          "metadata": {
            "tags": []
          },
          "execution_count": 14
        }
      ]
    },
    {
      "metadata": {
        "id": "NA8ibZmLiCEC",
        "colab_type": "code",
        "colab": {}
      },
      "cell_type": "code",
      "source": [
        "#Drop wht we dont need\n",
        "df_ord.drop(['OrderId', 'ShipName', 'ShippedDate', 'RequiredDate', 'ShipVia','ShipAddress',\n",
        "             'RequiredDate','ShippedDate', 'ShippedDate', 'ShipCity', 'ShipCountry',\n",
        "            'ShipRegion', 'Freight'],inplace=True, axis=1)\n",
        "\n",
        "\n",
        "# relabel the Id column so they have unique names\n",
        "df_ord.columns = ['Id', 'ProductId', 'UnitPrice', 'Quantity', 'Discount', 'OrderId',\n",
        "       'CustomerId', 'EmployeeId', 'OrderDate', 'ShipPostalCode']\n",
        "\n",
        "# df_ord['OrderDate'] = pd.to_datetime(df_ord.OrderDate )\n",
        "# df_ord.OrderDate.sort_values().min(), df_ord.OrderDate.sort_values().max()"
      ],
      "execution_count": 0,
      "outputs": []
    },
    {
      "metadata": {
        "id": "BZ7haVualclY",
        "colab_type": "text"
      },
      "cell_type": "markdown",
      "source": [
        "### Engineering price features for our hypothesis"
      ]
    },
    {
      "metadata": {
        "id": "-qewqDkPectU",
        "colab_type": "text"
      },
      "cell_type": "markdown",
      "source": [
        "##### def calc_product_price & cal_order_total"
      ]
    },
    {
      "metadata": {
        "id": "J9YIedhAu-O2",
        "colab_type": "code",
        "colab": {}
      },
      "cell_type": "code",
      "source": [
        "#from James\n",
        "def calc_product_price(row):\n",
        "    price = row['UnitPrice']*(1-row['Discount'])*row['Quantity']\n",
        "    row['price'] = price\n",
        "    if row['Discount']>0:\n",
        "        row['OnSale'] = True\n",
        "    else:\n",
        "        row['OnSale'] = False\n",
        "    return row    \n",
        "\n",
        "# Use calc_order_total to fill in order_total column\n",
        "def calc_order_total(row,df):\n",
        "    order = row['OrderId']\n",
        "    df_temp = df.groupby('OrderId').get_group(order)\n",
        "\n",
        "    \n",
        "    if any(df_temp['OnSale']):\n",
        "        row['discounted_order'] = True\n",
        "    else:\n",
        "        row['discounted_order'] = False\n",
        "    \n",
        "    order_total = df_temp['price'].sum()\n",
        "    row['order_total'] = order_total\n",
        "    \n",
        "    return row"
      ],
      "execution_count": 0,
      "outputs": []
    },
    {
      "metadata": {
        "id": "Wyb-1bCvd90c",
        "colab_type": "text"
      },
      "cell_type": "markdown",
      "source": [
        "##### make new df with new features"
      ]
    },
    {
      "metadata": {
        "id": "MfRRthIDeFeQ",
        "colab_type": "code",
        "colab": {
          "base_uri": "https://localhost:8080/",
          "height": 288
        },
        "outputId": "04e61215-8ed9-4a62-fb0f-5ede5fc5a598"
      },
      "cell_type": "code",
      "source": [
        "#Apply calc_product_price to every row \n",
        "\n",
        "df_price = df_ord.apply(lambda x: calc_product_price(x),axis=1)\n",
        "\n",
        "# Apply_calc_order_total to every row\n",
        "\n",
        "df_price = df_price.apply(lambda x: calc_order_total(x,df_price), axis=1)  \n",
        "df_price.describe()"
      ],
      "execution_count": 17,
      "outputs": [
        {
          "output_type": "execute_result",
          "data": {
            "text/html": [
              "<div>\n",
              "<style scoped>\n",
              "    .dataframe tbody tr th:only-of-type {\n",
              "        vertical-align: middle;\n",
              "    }\n",
              "\n",
              "    .dataframe tbody tr th {\n",
              "        vertical-align: top;\n",
              "    }\n",
              "\n",
              "    .dataframe thead th {\n",
              "        text-align: right;\n",
              "    }\n",
              "</style>\n",
              "<table border=\"1\" class=\"dataframe\">\n",
              "  <thead>\n",
              "    <tr style=\"text-align: right;\">\n",
              "      <th></th>\n",
              "      <th>ProductId</th>\n",
              "      <th>UnitPrice</th>\n",
              "      <th>Quantity</th>\n",
              "      <th>Discount</th>\n",
              "      <th>OrderId</th>\n",
              "      <th>EmployeeId</th>\n",
              "      <th>price</th>\n",
              "      <th>order_total</th>\n",
              "    </tr>\n",
              "  </thead>\n",
              "  <tbody>\n",
              "    <tr>\n",
              "      <th>count</th>\n",
              "      <td>2155.000000</td>\n",
              "      <td>2155.000000</td>\n",
              "      <td>2155.000000</td>\n",
              "      <td>2155.000000</td>\n",
              "      <td>2155.000000</td>\n",
              "      <td>2155.000000</td>\n",
              "      <td>2155.000000</td>\n",
              "      <td>2155.000000</td>\n",
              "    </tr>\n",
              "    <tr>\n",
              "      <th>mean</th>\n",
              "      <td>40.793039</td>\n",
              "      <td>26.218520</td>\n",
              "      <td>23.812993</td>\n",
              "      <td>0.056167</td>\n",
              "      <td>10659.375870</td>\n",
              "      <td>4.333179</td>\n",
              "      <td>587.374960</td>\n",
              "      <td>1854.402873</td>\n",
              "    </tr>\n",
              "    <tr>\n",
              "      <th>std</th>\n",
              "      <td>22.159019</td>\n",
              "      <td>29.827418</td>\n",
              "      <td>19.022047</td>\n",
              "      <td>0.083450</td>\n",
              "      <td>241.378032</td>\n",
              "      <td>2.490351</td>\n",
              "      <td>969.224235</td>\n",
              "      <td>1961.203326</td>\n",
              "    </tr>\n",
              "    <tr>\n",
              "      <th>min</th>\n",
              "      <td>1.000000</td>\n",
              "      <td>2.000000</td>\n",
              "      <td>1.000000</td>\n",
              "      <td>0.000000</td>\n",
              "      <td>10248.000000</td>\n",
              "      <td>1.000000</td>\n",
              "      <td>4.800000</td>\n",
              "      <td>12.500000</td>\n",
              "    </tr>\n",
              "    <tr>\n",
              "      <th>25%</th>\n",
              "      <td>22.000000</td>\n",
              "      <td>12.000000</td>\n",
              "      <td>10.000000</td>\n",
              "      <td>0.000000</td>\n",
              "      <td>10451.000000</td>\n",
              "      <td>2.000000</td>\n",
              "      <td>147.000000</td>\n",
              "      <td>634.200000</td>\n",
              "    </tr>\n",
              "    <tr>\n",
              "      <th>50%</th>\n",
              "      <td>41.000000</td>\n",
              "      <td>18.400000</td>\n",
              "      <td>20.000000</td>\n",
              "      <td>0.000000</td>\n",
              "      <td>10657.000000</td>\n",
              "      <td>4.000000</td>\n",
              "      <td>337.750000</td>\n",
              "      <td>1336.950000</td>\n",
              "    </tr>\n",
              "    <tr>\n",
              "      <th>75%</th>\n",
              "      <td>60.000000</td>\n",
              "      <td>32.000000</td>\n",
              "      <td>30.000000</td>\n",
              "      <td>0.100000</td>\n",
              "      <td>10862.500000</td>\n",
              "      <td>7.000000</td>\n",
              "      <td>656.000000</td>\n",
              "      <td>2222.300000</td>\n",
              "    </tr>\n",
              "    <tr>\n",
              "      <th>max</th>\n",
              "      <td>77.000000</td>\n",
              "      <td>263.500000</td>\n",
              "      <td>130.000000</td>\n",
              "      <td>0.250000</td>\n",
              "      <td>11077.000000</td>\n",
              "      <td>9.000000</td>\n",
              "      <td>15810.000000</td>\n",
              "      <td>16387.500000</td>\n",
              "    </tr>\n",
              "  </tbody>\n",
              "</table>\n",
              "</div>"
            ],
            "text/plain": [
              "         ProductId    UnitPrice     Quantity     Discount       OrderId  \\\n",
              "count  2155.000000  2155.000000  2155.000000  2155.000000   2155.000000   \n",
              "mean     40.793039    26.218520    23.812993     0.056167  10659.375870   \n",
              "std      22.159019    29.827418    19.022047     0.083450    241.378032   \n",
              "min       1.000000     2.000000     1.000000     0.000000  10248.000000   \n",
              "25%      22.000000    12.000000    10.000000     0.000000  10451.000000   \n",
              "50%      41.000000    18.400000    20.000000     0.000000  10657.000000   \n",
              "75%      60.000000    32.000000    30.000000     0.100000  10862.500000   \n",
              "max      77.000000   263.500000   130.000000     0.250000  11077.000000   \n",
              "\n",
              "        EmployeeId         price   order_total  \n",
              "count  2155.000000   2155.000000   2155.000000  \n",
              "mean      4.333179    587.374960   1854.402873  \n",
              "std       2.490351    969.224235   1961.203326  \n",
              "min       1.000000      4.800000     12.500000  \n",
              "25%       2.000000    147.000000    634.200000  \n",
              "50%       4.000000    337.750000   1336.950000  \n",
              "75%       7.000000    656.000000   2222.300000  \n",
              "max       9.000000  15810.000000  16387.500000  "
            ]
          },
          "metadata": {
            "tags": []
          },
          "execution_count": 17
        }
      ]
    },
    {
      "metadata": {
        "id": "qed8obkqmaX_",
        "colab_type": "text"
      },
      "cell_type": "markdown",
      "source": [
        "#### Adding datetime columns for day of week and month"
      ]
    },
    {
      "metadata": {
        "id": "SJ0oHs0agtro",
        "colab_type": "code",
        "colab": {
          "base_uri": "https://localhost:8080/",
          "height": 35
        },
        "outputId": "e5190812-4902-4e31-f256-e35656bda781"
      },
      "cell_type": "code",
      "source": [
        "#convert dates to datetime\n",
        "df_price['OrderDate'] = pd.to_datetime(df_price.OrderDate )\n",
        "df_price.OrderDate.sort_values().min(), df_price.OrderDate.sort_values().max()# seeing date range"
      ],
      "execution_count": 18,
      "outputs": [
        {
          "output_type": "execute_result",
          "data": {
            "text/plain": [
              "(Timestamp('2012-07-04 00:00:00'), Timestamp('2014-05-06 00:00:00'))"
            ]
          },
          "metadata": {
            "tags": []
          },
          "execution_count": 18
        }
      ]
    },
    {
      "metadata": {
        "id": "K6ISt698TKFB",
        "colab_type": "code",
        "colab": {}
      },
      "cell_type": "code",
      "source": [
        "# concat two dfs\n",
        "# df_price = pd.concat([df_price, df_ord[['OrderDate']]], axis=1) #, 'EmployeeId', 'employee_title"
      ],
      "execution_count": 0,
      "outputs": []
    },
    {
      "metadata": {
        "id": "suMU_rYsTwGA",
        "colab_type": "code",
        "colab": {
          "base_uri": "https://localhost:8080/",
          "height": 380
        },
        "outputId": "eb46d7c1-c675-4d71-e5e2-20c03cca71b3"
      },
      "cell_type": "code",
      "source": [
        "# create columns for day of week and month\n",
        "df_price['OrderDate'] = pd.to_datetime(df_price.OrderDate) \n",
        "\n",
        "df_price['week_day'] = df_price['OrderDate'].dt.dayofweek\n",
        "df_price['month'] = df_price['OrderDate'].dt.month\n",
        "\n",
        "df_price.info()"
      ],
      "execution_count": 20,
      "outputs": [
        {
          "output_type": "stream",
          "text": [
            "<class 'pandas.core.frame.DataFrame'>\n",
            "RangeIndex: 2155 entries, 0 to 2154\n",
            "Data columns (total 16 columns):\n",
            "Id                  2155 non-null object\n",
            "ProductId           2155 non-null int64\n",
            "UnitPrice           2155 non-null float64\n",
            "Quantity            2155 non-null int64\n",
            "Discount            2155 non-null float64\n",
            "OrderId             2155 non-null int64\n",
            "CustomerId          2155 non-null object\n",
            "EmployeeId          2155 non-null int64\n",
            "OrderDate           2155 non-null datetime64[ns]\n",
            "ShipPostalCode      2100 non-null object\n",
            "price               2155 non-null float64\n",
            "OnSale              2155 non-null bool\n",
            "discounted_order    2155 non-null bool\n",
            "order_total         2155 non-null float64\n",
            "week_day            2155 non-null int64\n",
            "month               2155 non-null int64\n",
            "dtypes: bool(2), datetime64[ns](1), float64(4), int64(6), object(3)\n",
            "memory usage: 240.0+ KB\n"
          ],
          "name": "stdout"
        }
      ]
    },
    {
      "metadata": {
        "colab_type": "code",
        "id": "-bLcUQq5TO2-",
        "colab": {
          "base_uri": "https://localhost:8080/",
          "height": 35
        },
        "outputId": "fef136d4-d36d-482a-e5e6-edcecc1f0320"
      },
      "cell_type": "code",
      "source": [
        "criteria = df_price['month'] <= 6 # boolean selector used to select parts of df for possible plotting options\n",
        "\n",
        "#drop duplicate orders based on OrderId to not inflate or deflate order_total mean\n",
        "# split in two for exploring subsets\n",
        "df_month6 = df_price.loc[criteria,['month','order_total','Discount','OrderId']].drop_duplicates(['OrderId'])\n",
        "df_month12 = df_price.loc[~criteria,['month','order_total','Discount','OrderId']].drop_duplicates(['OrderId'])\n",
        "\n",
        "#Did use this variable\n",
        "total_order = pd.concat([df_month6['order_total'], df_month12['order_total']],axis=0)\n",
        "len(total_order) == len(df_month6['order_total'])+len(df_month12['order_total']) # verifying correct lengths"
      ],
      "execution_count": 21,
      "outputs": [
        {
          "output_type": "execute_result",
          "data": {
            "text/plain": [
              "True"
            ]
          },
          "metadata": {
            "tags": []
          },
          "execution_count": 21
        }
      ]
    },
    {
      "metadata": {
        "id": "59EIWG2zlOQv",
        "colab_type": "text"
      },
      "cell_type": "markdown",
      "source": [
        "####Subset our final working dataframe for further testing"
      ]
    },
    {
      "metadata": {
        "id": "W3ISv47sTXEe",
        "colab_type": "code",
        "colab": {
          "base_uri": "https://localhost:8080/",
          "height": 173
        },
        "outputId": "e91bf59e-cc45-410b-b769-89a467befb44"
      },
      "cell_type": "code",
      "source": [
        "df_year = df_price.loc[:,['month', 'order_total', 'Discount', 'OrderId']].drop_duplicates(['OrderId'])\n",
        "df_year.info()"
      ],
      "execution_count": 22,
      "outputs": [
        {
          "output_type": "stream",
          "text": [
            "<class 'pandas.core.frame.DataFrame'>\n",
            "Int64Index: 830 entries, 0 to 2130\n",
            "Data columns (total 4 columns):\n",
            "month          830 non-null int64\n",
            "order_total    830 non-null float64\n",
            "Discount       830 non-null float64\n",
            "OrderId        830 non-null int64\n",
            "dtypes: float64(2), int64(2)\n",
            "memory usage: 32.4 KB\n"
          ],
          "name": "stdout"
        }
      ]
    },
    {
      "metadata": {
        "id": "d64NuV4ylahh",
        "colab_type": "text"
      },
      "cell_type": "markdown",
      "source": [
        "#### Create a dictionary containing keys and values representing months to assist in plotting and testing"
      ]
    },
    {
      "metadata": {
        "id": "SIQ4qydMlyF-",
        "colab_type": "code",
        "colab": {
          "base_uri": "https://localhost:8080/",
          "height": 55
        },
        "outputId": "7fe370fd-bf5d-4503-fcf8-c907ee0155f4"
      },
      "cell_type": "code",
      "source": [
        "#make list of month names (strings)\n",
        "months = ['jan','feb', 'mar', 'apr', 'may' , 'jun', 'jul', 'aug', 'sep', 'oct', 'nov', 'dec']#creating label names\n",
        "#make corresponding list of integers from 1 = 'jan' through 12 = 'dec'\n",
        "month_code = list(range(1,len(months)+1))\n",
        "month_dict = dict(zip(month_code,months)) # zip the two into a dictionary\n",
        "month_dict.items()"
      ],
      "execution_count": 23,
      "outputs": [
        {
          "output_type": "execute_result",
          "data": {
            "text/plain": [
              "dict_items([(1, 'jan'), (2, 'feb'), (3, 'mar'), (4, 'apr'), (5, 'may'), (6, 'jun'), (7, 'jul'), (8, 'aug'), (9, 'sep'), (10, 'oct'), (11, 'nov'), (12, 'dec')])"
            ]
          },
          "metadata": {
            "tags": []
          },
          "execution_count": 23
        }
      ]
    },
    {
      "metadata": {
        "id": "4mYSeThzw7OY",
        "colab_type": "text"
      },
      "cell_type": "markdown",
      "source": [
        "####Finally ad one more columns, month_name"
      ]
    },
    {
      "metadata": {
        "id": "NgIsZB9Ww6my",
        "colab_type": "code",
        "colab": {
          "base_uri": "https://localhost:8080/",
          "height": 225
        },
        "outputId": "97ea3cd2-384e-4451-81c1-0239cb950515"
      },
      "cell_type": "code",
      "source": [
        "for k,v in month_dict.items():\n",
        "  df_year.loc[(df_year['month'] == k), 'month_name'] = v \n",
        "df_year.head(), df_year.tail()"
      ],
      "execution_count": 24,
      "outputs": [
        {
          "output_type": "execute_result",
          "data": {
            "text/plain": [
              "(    month  order_total  Discount  OrderId month_name\n",
              " 0       7       440.00      0.00    10248        jul\n",
              " 3       7      1863.40      0.00    10249        jul\n",
              " 5       7      1552.60      0.00    10250        jul\n",
              " 8       7       654.06      0.05    10251        jul\n",
              " 11      7      3597.90      0.05    10252        jul,\n",
              "       month  order_total  Discount  OrderId month_name\n",
              " 2121      5     300.0000      0.00    11073        may\n",
              " 2123      5     232.0850      0.05    11074        may\n",
              " 2124      5     498.1000      0.15    11075        may\n",
              " 2127      5     792.7500      0.25    11076        may\n",
              " 2130      5    1255.7205      0.20    11077        may)"
            ]
          },
          "metadata": {
            "tags": []
          },
          "execution_count": 24
        }
      ]
    },
    {
      "metadata": {
        "id": "eOHvLslMTz2u",
        "colab_type": "text"
      },
      "cell_type": "markdown",
      "source": [
        "### EDA\n",
        " - define uselful functions for visualizations\n",
        " - Plotting and visualizing features"
      ]
    },
    {
      "metadata": {
        "id": "cC9pxUInUYo9",
        "colab_type": "text"
      },
      "cell_type": "markdown",
      "source": [
        "#### Define plotting functions for looking at each month individually \n"
      ]
    },
    {
      "metadata": {
        "id": "cPcTIgoDX4u-",
        "colab_type": "text"
      },
      "cell_type": "markdown",
      "source": [
        "##### def make_violinplot"
      ]
    },
    {
      "metadata": {
        "id": "iR1kdhfiT8J_",
        "colab_type": "code",
        "colab": {}
      },
      "cell_type": "code",
      "source": [
        "# plotting order totals per month in violin plots\n",
        "\n",
        "def make_violinplot(x,y, title=None, hue=None, ticklabels=None):\n",
        "  \n",
        "  '''Plots a violin plot with horizontal mean line, inner stick lines'''\n",
        "  \n",
        "  plt.style.use('dark_background')\n",
        "  fig,ax =plt.subplots(figsize=(12,10))\n",
        "\n",
        "\n",
        "  sns.violinplot(x, y,cut=2,split=True, scale='count', scale_hue=True,\n",
        "                 saturation=.5, alpha=.9,bw=.25, palette='Dark2',inner='stick', hue=hue).set_title(title)\n",
        "\n",
        "  ax.axhline(y.mean(),label='total mean', ls=':', alpha=.5, color='xkcd:yellow')\n",
        "  ax.set_xticklabels(ticklabels)\n",
        "\n",
        "  plt.legend()\n",
        "  plt.show()\n",
        "  x= df_year['month']\n",
        "  y= df_year['order_total']\n",
        "  title = 'Order totals per month with or without discounts'\n",
        "  hue=df_year['Discount']>0"
      ],
      "execution_count": 0,
      "outputs": []
    },
    {
      "metadata": {
        "id": "5ZXCOjzFbspu",
        "colab_type": "text"
      },
      "cell_type": "markdown",
      "source": [
        "##### def make-stripplot"
      ]
    },
    {
      "metadata": {
        "colab_type": "code",
        "id": "S9Yyn3cBbw7r",
        "colab": {}
      },
      "cell_type": "code",
      "source": [
        "def make_stripplot(x, y, title=None, hue=None, ticklabels=None):\n",
        "\n",
        "  plt.style.use('dark_background')\n",
        "  fig,ax =plt.subplots(figsize=(8,6))\n",
        "\n",
        "\n",
        "  sns.stripplot(x, y, jitter=True, size=12,edgecolor='gray',linewidth=1.5, alpha=.5, palette='Dark2',marker='d', hue=hue).set_title(title)\n",
        "\n",
        "  ax.axhline(y.mean(),label='total mean', ls=':', alpha=.5, color='xkcd:yellow')\n",
        "  ax.set_xticklabels(ticklabels)\n",
        "\n",
        "  plt.legend()\n",
        "  plt.show()\n"
      ],
      "execution_count": 0,
      "outputs": []
    },
    {
      "metadata": {
        "id": "cBrj92x2Us3C",
        "colab_type": "text"
      },
      "cell_type": "markdown",
      "source": [
        "##### def draw_histograms"
      ]
    },
    {
      "metadata": {
        "id": "3LvINQTiUO6y",
        "colab_type": "code",
        "colab": {}
      },
      "cell_type": "code",
      "source": [
        "plt.style.use('default')\n",
        "def draw_histograms(df, variable, sample_dict, n_rows, n_cols):\n",
        "\n",
        "  '''Takes dataframe, variable is column name , plots histograms '''\n",
        "  \n",
        "  with plt.style.context('seaborn-paper'):\n",
        "\n",
        "    fig = plt.figure(figsize=(10,10))\n",
        "\n",
        "    for k,v in sample_dict.items():\n",
        "\n",
        "      month = df[df[variable] == k]['order_total']\n",
        "      month_mean = round(np.mean(month),2)\n",
        "\n",
        "      year =  df[df['month'] != k]['order_total']\n",
        "      year_mean = round(np.mean(year),2)\n",
        "\n",
        "      ax = fig.add_subplot(n_rows,n_cols,k)\n",
        "      ax.tick_params(labelsize=8)\n",
        "\n",
        "      plt.hist(year, bins=90,alpha=.7, label='Rest of Year')\n",
        "      plt.hist(month, alpha=.6,label= v.title())\n",
        "\n",
        "      ax.set_title(v.title(),fontsize=14)\n",
        "\n",
        "      plt.axvline(month_mean, color='xkcd:fuchsia',linestyle='--',\n",
        "                  label='Sample Mean \\n'+str(month_mean))\n",
        "\n",
        "      plt.axvline(year_mean,color='xkcd:green',linestyle='-',\n",
        "                  label='Pop. Mean \\n'+str(year_mean))\n",
        "\n",
        "      plt.legend(fontsize=6, frameon=False, ncol = 2 )\n",
        "\n",
        "    fig.tight_layout()    \n",
        "    plt.show()"
      ],
      "execution_count": 0,
      "outputs": []
    },
    {
      "metadata": {
        "id": "kR6ajM4YVH3z",
        "colab_type": "text"
      },
      "cell_type": "markdown",
      "source": [
        "##### def draw_histograms_sample "
      ]
    },
    {
      "metadata": {
        "id": "b290y-7DVQg_",
        "colab_type": "code",
        "colab": {}
      },
      "cell_type": "code",
      "source": [
        "def draw_histograms_from_sample(population,sample_dict, n_rows, n_cols):\n",
        "\n",
        "  fig = plt.figure(figsize=(8.5,7.5))\n",
        "  count = 0\n",
        "  \n",
        "  for k,v in sample_dict.items():\n",
        "    \n",
        "    count += 1                        \n",
        "\n",
        "    month = sample_dict[k] #pop_samp_month_dict[k]\n",
        "    month_mean = round(np.mean(v),2)\n",
        "    \n",
        "    year = population\n",
        "    year_mean = round(np.mean(population),2)\n",
        "\n",
        "    ax = fig.add_subplot(n_rows,n_cols, count)\n",
        "    ax.tick_params(labelsize=8)\n",
        "\n",
        "    plt.hist(year, alpha=.8, label='All Months')\n",
        "    plt.hist(month, alpha=.6, label = k.title())\n",
        "\n",
        "    ax.set_title(k.title(),fontsize=14)\n",
        "\n",
        "    plt.axvline(month_mean, color='xkcd:fuchsia',linestyle='--',\n",
        "                label='Sample Mean \\n'+str(month_mean))\n",
        "    plt.axvline(year_mean,color='xkcd:green',linestyle='-',\n",
        "                label='Pop. Mean \\n'+str(year_mean))\n",
        "    \n",
        "    plt.legend(fontsize=6, frameon=False)\n",
        "    \n",
        "  fig.tight_layout()    \n",
        "  plt.show()"
      ],
      "execution_count": 0,
      "outputs": []
    },
    {
      "metadata": {
        "id": "m-IJsfaeZShd",
        "colab_type": "text"
      },
      "cell_type": "markdown",
      "source": [
        "#### plot initial order totals by month"
      ]
    },
    {
      "metadata": {
        "id": "vWUI5areZg83",
        "colab_type": "code",
        "colab": {}
      },
      "cell_type": "code",
      "source": [
        "#declare variables to be plotted\n",
        "\n",
        "x = df_year['month']\n",
        "y = df_year['order_total']\n",
        "ticks = [v for v in month_dict.values()] \n",
        "title = 'Order totals per month with or without discounts'\n",
        "hue = df_year['Discount']>0"
      ],
      "execution_count": 0,
      "outputs": []
    },
    {
      "metadata": {
        "id": "600QfjFUZo0N",
        "colab_type": "code",
        "colab": {
          "base_uri": "https://localhost:8080/",
          "height": 995
        },
        "outputId": "be838291-8995-4194-f2ff-646e01e29877"
      },
      "cell_type": "code",
      "source": [
        "make_violinplot(x,y,title,hue, ticks)"
      ],
      "execution_count": 30,
      "outputs": [
        {
          "output_type": "stream",
          "text": [
            "/usr/local/lib/python3.6/dist-packages/seaborn/categorical.py:637: FutureWarning: remove_na is deprecated and is a private function. Do not use.\n",
            "  kde_data = remove_na(group_data[hue_mask])\n",
            "/usr/local/lib/python3.6/dist-packages/seaborn/categorical.py:885: FutureWarning: remove_na is deprecated and is a private function. Do not use.\n",
            "  violin_data = remove_na(group_data[hue_mask])\n",
            "/usr/local/lib/python3.6/dist-packages/seaborn/categorical.py:905: FutureWarning: remove_na is deprecated and is a private function. Do not use.\n",
            "  violin_data = remove_na(group_data)\n"
          ],
          "name": "stderr"
        },
        {
          "output_type": "display_data",
          "data": {
            "image/png": "[encoded data removed]",
            "text/plain": [
              "<Figure size 1200x1000 with 1 Axes>"
            ]
          },
          "metadata": {
            "tags": []
          }
        }
      ]
    },
    {
      "metadata": {
        "id": "yKstXyROa-5y",
        "colab_type": "code",
        "colab": {
          "base_uri": "https://localhost:8080/",
          "height": 565
        },
        "outputId": "c34f3321-2508-4f61-efbf-07ae17adaae9"
      },
      "cell_type": "code",
      "source": [
        "make_stripplot(x,y,title,hue,ticks)"
      ],
      "execution_count": 31,
      "outputs": [
        {
          "output_type": "display_data",
          "data": {
            "image/png": "[encoded data removed]",
            "text/plain": [
              "<Figure size 800x600 with 1 Axes>"
            ]
          },
          "metadata": {
            "tags": []
          }
        }
      ]
    },
    {
      "metadata": {
        "id": "i4ODtjI71c03",
        "colab_type": "text"
      },
      "cell_type": "markdown",
      "source": [
        "## ***Aim 2 : Run final workflow for testing assumptions***\n",
        "\n",
        "---\n",
        "\n",
        "\n",
        "\n",
        "---\n",
        "\n"
      ]
    },
    {
      "metadata": {
        "id": "xkFmrtPc1a8I",
        "colab_type": "text"
      },
      "cell_type": "markdown",
      "source": [
        "\n",
        "* ***Aim 2: Select the appropriate t-test based on tests for the assumptions of normality and homogeneity of variance.***\n",
        "    1. **Test for Normality**<br>\n",
        "        - [Normaltest/ D’Agostino and Pearson’s](https://docs.scipy.org/doc/scipy/reference/generated/scipy.stats.normaltest.html)\n",
        "<br>\n",
        "        ```scipy.stats.normaltest```\n",
        "        - Shapiro-Wilik Test<br>\n",
        "        ```scipy.stats.shapiro```\n",
        "    2. **Test for Homogeneity of Variance**<br>\n",
        "        - [Levene's Test](https://docs.scipy.org/doc/scipy-0.14.0/reference/generated/scipy.stats.levene.html)<br>         ```scipy.stats.levene```\n",
        "    3. **Choose appropriate test based upon 1. and 2.** \n",
        "        - [Mann Whitney U Test](https://docs.scipy.org/doc/scipy/reference/generated/scipy.stats.mannwhitneyu.html)<br>  - non parametric equivalent of ANOVA)<br>\n",
        "    ```stats.mannwhitneyu```<br>\n",
        "        - Normal: 2 sample t-test\n",
        "        - Welch's t-test (Jeff)\n",
        "        \n",
        "    4.  Calculate effect size, post-hoc tukeys tests.\n",
        "        - Effect size: [cohen's d](https://stackoverflow.com/questions/21532471/how-to-calculate-cohens-d-in-python)\n",
        "          \n",
        "* ***Aim 3: To perform post-hoc pairwise comparisons for level of discount***      \n",
        " \n",
        "     \n",
        "    6. If significant result, follow up with post-hoc tests\n",
        "        - [Tukey's] https://www.statsmodels.org/stable/generated/statsmodels.stats.multicomp.pairwise_tukeyhsd.html)\n",
        "        ```statsmodels.stats.multicomp.pairwise_tukeyhsd```\n"
      ]
    },
    {
      "metadata": {
        "id": "7VAimpHrBRoL",
        "colab_type": "text"
      },
      "cell_type": "markdown",
      "source": [
        "### Aim 2.1: Test for Normality"
      ]
    },
    {
      "metadata": {
        "id": "GFMslgjQqhPW",
        "colab_type": "text"
      },
      "cell_type": "markdown",
      "source": [
        "#### Histograms month vs all months"
      ]
    },
    {
      "metadata": {
        "id": "ORjoqjicqgxQ",
        "colab_type": "code",
        "colab": {
          "base_uri": "https://localhost:8080/",
          "height": 1007
        },
        "outputId": "7453ace0-474f-4246-bc24-e124657fccb9"
      },
      "cell_type": "code",
      "source": [
        "draw_histograms(df_year, 'month', month_dict, 4, 3)"
      ],
      "execution_count": 33,
      "outputs": [
        {
          "output_type": "display_data",
          "data": {
            "image/png": "[encoded data removed]",
            "text/plain": [
              "<Figure size 1000x1000 with 12 Axes>"
            ]
          },
          "metadata": {
            "tags": []
          }
        }
      ]
    },
    {
      "metadata": {
        "id": "oVpC31QUC9cg",
        "colab_type": "code",
        "colab": {}
      },
      "cell_type": "code",
      "source": [
        "# create a dict to test stats\n",
        "dict_to_test ={}\n",
        "for month in list(df_year['month_name'].unique()):\n",
        "    dict_to_test[month] = df_year.groupby('month_name').get_group(month)"
      ],
      "execution_count": 0,
      "outputs": []
    },
    {
      "metadata": {
        "id": "hwvBZywE0V0B",
        "colab_type": "text"
      },
      "cell_type": "markdown",
      "source": [
        "####Test for Normality"
      ]
    },
    {
      "metadata": {
        "id": "gqiBjl0W4SP_",
        "colab_type": "code",
        "colab": {}
      },
      "cell_type": "code",
      "source": [
        "H3_tests = [['Group:','TestName','Test Purpose','stat','p', 'p < .05'] ]"
      ],
      "execution_count": 0,
      "outputs": []
    },
    {
      "metadata": {
        "id": "34ds8zvRz-X7",
        "colab_type": "code",
        "colab": {}
      },
      "cell_type": "code",
      "source": [
        "from scipy.stats import normaltest\n",
        "\n",
        "for month,  df  in dict_to_test.items(): #month = key, df = values\n",
        "\n",
        "    arrA = dict_to_test[month][['order_total']]\n",
        "\n",
        "    #1. Test for normality\n",
        "    test_purpose = 'Normality'\n",
        "    test_to_run = 'normaltest'\n",
        "\n",
        "    arrA = np.array(arrA)\n",
        "    \n",
        "\n",
        "    statA, pA = eval(test_to_run)(arrA)\n",
        "    print(f'{month}:' statA, pA)\n",
        "    H3_tests.append([month, test_to_run, test_purpose ,statA, pA, pA < .05])\n",
        "    \n",
        "arrB = np.array(df_year['order_total'])\n",
        "stat, p = eval(test_to_run)(arrB)\n",
        "H3_tests.append(['Total Pop', test_to_run, test_purpose,stat,p, p < .05])"
      ],
      "execution_count": 0,
      "outputs": []
    },
    {
      "metadata": {
        "id": "cNlFwil16GUb",
        "colab_type": "text"
      },
      "cell_type": "markdown",
      "source": [
        "### Aim 2.2 Test Homogneity of variance"
      ]
    },
    {
      "metadata": {
        "id": "gp3XGOXh_j7l",
        "colab_type": "text"
      },
      "cell_type": "markdown",
      "source": [
        "####Levenes Test"
      ]
    },
    {
      "metadata": {
        "id": "WYGU5I1f6K2e",
        "colab_type": "code",
        "colab": {}
      },
      "cell_type": "code",
      "source": [
        "from scipy.stats import levene\n",
        "\n",
        "for month,  df  in dict_to_test.items(): #month = key, df = values\n",
        "\n",
        "    arrA = dict_to_test[month][['order_total']]\n",
        "    arrB = df_year['order_total']\n",
        "\n",
        "    test_to_run = 'levene'\n",
        "    test_purpose = 'Equal Variance'\n",
        "\n",
        "    arrA = np.array(arrA)\n",
        "    arrB = np.array(arrB)\n",
        "\n",
        "    stat, p = eval(test_to_run)(arrA,arrB,center='median')\n",
        "    \n",
        "    print(f'{month}:' stat,p)\n",
        "    H3_tests.append([f'{month} & pop', test_to_run, test_purpose ,stat, p, p < .05])\n",
        "\n",
        "\n",
        "\n",
        "\n",
        "\n",
        "stat,p = eval(test_to_run)(arrA,arrB,center='median')\n",
        "\n",
        "H3_tests.append(['A&B',test_to_run,'Equal Var',stat,p, p < .05])"
      ],
      "execution_count": 0,
      "outputs": []
    },
    {
      "metadata": {
        "id": "x92oj_lYeAEv",
        "colab_type": "text"
      },
      "cell_type": "markdown",
      "source": [
        "### Aim 2.3 T-Test\n",
        "- Resample to compare results \n",
        "- Mann-Whitney U  because it is nonparametric"
      ]
    },
    {
      "metadata": {
        "id": "09fpshCkejbw",
        "colab_type": "text"
      },
      "cell_type": "markdown",
      "source": [
        "#### Resampling"
      ]
    },
    {
      "metadata": {
        "id": "B6kzrsltegbb",
        "colab_type": "code",
        "colab": {}
      },
      "cell_type": "code",
      "source": [
        "months = {v:df_year.loc[df_year['month']==k]['order_total'] for k,v in month_dict.items()}\n",
        "totals = df_year['order_total']\n",
        "\n",
        "n = 50 \n",
        "i = 10000\n",
        "pop_samp_month_dict = {}\n",
        "pop_samp_order_total = []\n",
        "\n",
        "\n",
        "for i in range(0,i):\n",
        "  \n",
        "  pop_samp_order_total.append(totals.sample(n=30).mean())\n",
        "  \n",
        "for k,v in months.items():\n",
        "  pop_samp_month_dict[k] = []\n",
        "  for i in range(0,i):\n",
        "      \n",
        "    pop_samp_month_dict[k].append(round(v.sample(n=30).mean(),2))\n",
        "    \n",
        "pop_samp_month_dict = {k:np.random.choice(pop_samp_month_dict[k],1000) for k,\n",
        "                       v in pop_samp_month_dict.items()}\n",
        "pop_samp_order_total = np.random.choice(pop_samp_order_total, 1000)"
      ],
      "execution_count": 0,
      "outputs": []
    },
    {
      "metadata": {
        "id": "JUq9rj0-gQua",
        "colab_type": "text"
      },
      "cell_type": "markdown",
      "source": [
        "##### Historgrams of resamples"
      ]
    },
    {
      "metadata": {
        "id": "ZEY8jcIvfBnQ",
        "colab_type": "code",
        "colab": {
          "base_uri": "https://localhost:8080/",
          "height": 757
        },
        "outputId": "047c2148-fac6-462a-cd44-6068f3c9c134"
      },
      "cell_type": "code",
      "source": [
        "draw_histograms_from_sample(pop_samp_order_total, pop_samp_month_dict, 4,3)"
      ],
      "execution_count": 52,
      "outputs": [
        {
          "output_type": "display_data",
          "data": {
            "image/png": "[encoded data removed]",
            "text/plain": [
              "<Figure size 850x750 with 12 Axes>"
            ]
          },
          "metadata": {
            "tags": []
          }
        }
      ]
    },
    {
      "metadata": {
        "id": "31HioqKghRCr",
        "colab_type": "text"
      },
      "cell_type": "markdown",
      "source": [
        "##### Re-test homogeneity"
      ]
    },
    {
      "metadata": {
        "id": "CkirOf--iRYz",
        "colab_type": "code",
        "colab": {
          "base_uri": "https://localhost:8080/",
          "height": 35
        },
        "outputId": "43d057d7-a5ec-44bc-aef4-e48d30b6c7dd"
      },
      "cell_type": "code",
      "source": [
        "\n",
        "arrA = [pop_samp_month_dict[k] for k,v in pop_samp_month_dict.items()]\n",
        "arrB = pop_samp_order_total\n",
        "test_to_run = 'levene'\n",
        "test_purpose = 'Equal Variance'\n",
        "\n",
        "stat,p = eval(test_to_run)(arrA[0],arrA[1],arrA[2],arrA[3],arrA[4],arrA[5]\n",
        "                           ,arrA[6],arrA[7],arrA[8],arrA[9],arrA[10],\n",
        "                           arrA[11],arrB,center='mean')\n",
        "\n",
        "# H3_tests.append(['A&B Resampled',test_to_run,'Equal Var',stat,p])\n",
        "print(stat, p)"
      ],
      "execution_count": 49,
      "outputs": [
        {
          "output_type": "stream",
          "text": [
            "308.35283529132056 0.0\n"
          ],
          "name": "stdout"
        }
      ]
    },
    {
      "metadata": {
        "id": "qdeuhELRgbMy",
        "colab_type": "text"
      },
      "cell_type": "markdown",
      "source": [
        "#####T- Test resampled populations "
      ]
    },
    {
      "metadata": {
        "id": "NPW6sFdLhpFH",
        "colab_type": "code",
        "colab": {
          "base_uri": "https://localhost:8080/",
          "height": 225
        },
        "outputId": "e72a8233-6d34-46e0-c8e6-1c6e5bc3ad04"
      },
      "cell_type": "code",
      "source": [
        "from scipy.stats import ttest_ind\n",
        "\n",
        "for k, v  in pop_samp_month_dict.items(): \n",
        "\n",
        "  arrA = pop_samp_month_dict[k]\n",
        "  arrB = pop_samp_order_total\n",
        "\n",
        "  test_to_run = 'ttest_ind'\n",
        "  test_purpose = 'H1 signifigance'\n",
        "\n",
        "\n",
        "  stat,p = eval(test_to_run)(arrA,arrB,equal_var=False)\n",
        "\n",
        "  print(f'{k}:',stat, p)\n",
        "\n",
        "  H3_tests.append([f'{k} & pop', test_to_run, test_purpose ,stat, p, p < .05])\n",
        "\n",
        "\n",
        "\n"
      ],
      "execution_count": 41,
      "outputs": [
        {
          "output_type": "stream",
          "text": [
            "jan: 18.774020444762186 1.5641411485065607e-72\n",
            "feb: 10.65756904870432 7.955065021277903e-26\n",
            "mar: -7.550196656642076 6.588472648213872e-14\n",
            "apr: 10.902235519205004 6.339856675240126e-27\n",
            "may: 4.897138757427711 1.0694715928266611e-06\n",
            "jun: -27.226220109782666 1.5209175397537036e-122\n",
            "jul: -6.114427914510814 1.2242749018376897e-09\n",
            "aug: -21.642822586971043 2.9036373201508872e-89\n",
            "sep: -11.739432121504581 1.8113924867031588e-30\n",
            "oct: 10.776759200717745 3.005072060544989e-26\n",
            "nov: 0.6635765743087698 0.507054113661187\n",
            "dec: -2.2474273584327333 0.024741409047352652\n"
          ],
          "name": "stdout"
        }
      ]
    },
    {
      "metadata": {
        "id": "P1mYMQLXGuU9",
        "colab_type": "text"
      },
      "cell_type": "markdown",
      "source": [
        "## Conclusions so far...\n",
        "- We failed both normaltests and homo variance\n",
        "the results for resampling do not seem reliable because they are being compared against them selfs\n",
        "- Will try non-parametric 2sample ttest\n",
        "    - [**Mann-Whitney U test**](https://docs.scipy.org/doc/scipy/reference/generated/scipy.stats.mannwhitneyu.html)\n",
        "  - Most likey the tukeys test will be the best test for signifigance of these samples"
      ]
    },
    {
      "metadata": {
        "id": "CEdSVdVRgmjG",
        "colab_type": "text"
      },
      "cell_type": "markdown",
      "source": [
        "####Whitney-Mann U test\n",
        "- non parametric test "
      ]
    },
    {
      "metadata": {
        "id": "GFWsPYW24Afm",
        "colab_type": "code",
        "colab": {
          "base_uri": "https://localhost:8080/",
          "height": 225
        },
        "outputId": "192239f7-3eb2-4b4d-fdf0-83498e118ed4"
      },
      "cell_type": "code",
      "source": [
        "from scipy.stats import mannwhitneyu\n",
        "\n",
        "for month, df  in dict_to_test.items(): #month = key, df = values\n",
        "\n",
        "    arrA = dict_to_test[month][['order_total']]\n",
        "    arrB = df_year['order_total']\n",
        "\n",
        "    test_to_run = 'mannwhitneyu'\n",
        "    test_purpose = 'Hi sig.'\n",
        "\n",
        "    arrA = np.array(arrA).reshape(-1,1)\n",
        "    arrB = np.array(arrB).reshape(-1,1)\n",
        "\n",
        "    stat, p = eval(test_to_run)(arrA,arrB,alternative='two-sided')\n",
        "    \n",
        "    print(f'{month}:',stat, p)\n",
        "    \n",
        "    H3_tests.append([f'{month}', test_to_run, test_purpose ,stat, p, p < .05]) "
      ],
      "execution_count": 42,
      "outputs": [
        {
          "output_type": "stream",
          "text": [
            "jul: 22169.5 0.7212599766032516\n",
            "aug: 23658.5 0.8277135151606767\n",
            "sep: 24066.5 0.6648739304857842\n",
            "oct: 28409.0 0.35305089693057\n",
            "nov: 24699.5 0.9105927574947236\n",
            "dec: 33818.5 0.6431833031647948\n",
            "jan: 39094.0 0.2765420112740373\n",
            "feb: 32504.5 0.397040778774961\n",
            "mar: 40223.5 0.3284153440773995\n",
            "apr: 43578.0 0.9992349333133655\n",
            "may: 19592.0 0.7640070387172484\n",
            "jun: 12636.5 0.88932673899123\n"
          ],
          "name": "stdout"
        }
      ]
    },
    {
      "metadata": {
        "id": "Pnd2X_DWArZh",
        "colab_type": "text"
      },
      "cell_type": "markdown",
      "source": [
        "###Aim 2.4 Test effect size\n",
        " - use cohens d"
      ]
    },
    {
      "metadata": {
        "id": "NchRG4PQA0Um",
        "colab_type": "code",
        "colab": {
          "base_uri": "https://localhost:8080/",
          "height": 225
        },
        "outputId": "a97662fa-f647-427b-e380-fb6394b69978"
      },
      "cell_type": "code",
      "source": [
        "d_dict = {}\n",
        "for month,  df  in dict_to_test.items(): #month = key, df = values\n",
        "\n",
        "    arrA = dict_to_test[month][['order_total']]\n",
        "    arrB = df_year[df_year['month_name']!= month]['order_total']\n",
        "\n",
        "    test_to_run = 'Cohen_d'\n",
        "    test_purpose = 'efect Size'\n",
        "\n",
        "    arrA = np.array(arrA)\n",
        "    arrB = np.array(arrB)\n",
        "\n",
        "    d = Cohen_d(arrA, arrB)\n",
        "    \n",
        "    d_dict[month] = d\n",
        "    \n",
        "    print(f'{month}:',d)\n",
        "    H3_tests.append([f'{month}', test_to_run, test_purpose ,stat])"
      ],
      "execution_count": 43,
      "outputs": [
        {
          "output_type": "stream",
          "text": [
            "jul: -0.052749530713908026\n",
            "aug: -0.15774473701015873\n",
            "sep: -0.09250458218541906\n",
            "oct: 0.061168973116125624\n",
            "nov: -0.008353033432259563\n",
            "dec: -0.029140629162365816\n",
            "jan: 0.1468047736499956\n",
            "feb: 0.08219900692412836\n",
            "mar: -0.08225129122081062\n",
            "apr: 0.09879971312517516\n",
            "may: 0.024493555997597418\n",
            "jun: -0.17617034499076667\n"
          ],
          "name": "stdout"
        }
      ]
    },
    {
      "metadata": {
        "colab_type": "code",
        "id": "0OVY01SMRD_l",
        "colab": {
          "base_uri": "https://localhost:8080/",
          "height": 1578
        },
        "outputId": "e9335ea2-a6bf-4918-8560-7106c282b5e8"
      },
      "cell_type": "code",
      "source": [
        "list2df(H3_tests)"
      ],
      "execution_count": 44,
      "outputs": [
        {
          "output_type": "execute_result",
          "data": {
            "text/html": [
              "<div>\n",
              "<style scoped>\n",
              "    .dataframe tbody tr th:only-of-type {\n",
              "        vertical-align: middle;\n",
              "    }\n",
              "\n",
              "    .dataframe tbody tr th {\n",
              "        vertical-align: top;\n",
              "    }\n",
              "\n",
              "    .dataframe thead th {\n",
              "        text-align: right;\n",
              "    }\n",
              "</style>\n",
              "<table border=\"1\" class=\"dataframe\">\n",
              "  <thead>\n",
              "    <tr style=\"text-align: right;\">\n",
              "      <th></th>\n",
              "      <th>Group:</th>\n",
              "      <th>TestName</th>\n",
              "      <th>Test Purpose</th>\n",
              "      <th>stat</th>\n",
              "      <th>p</th>\n",
              "    </tr>\n",
              "  </thead>\n",
              "  <tbody>\n",
              "    <tr>\n",
              "      <th>0</th>\n",
              "      <td>jul</td>\n",
              "      <td>normaltest</td>\n",
              "      <td>Normality</td>\n",
              "      <td>[28.482051126185347]</td>\n",
              "      <td>[6.534331770226038e-07]</td>\n",
              "    </tr>\n",
              "    <tr>\n",
              "      <th>1</th>\n",
              "      <td>aug</td>\n",
              "      <td>normaltest</td>\n",
              "      <td>Normality</td>\n",
              "      <td>[35.4162984483613]</td>\n",
              "      <td>[2.0391468707471406e-08]</td>\n",
              "    </tr>\n",
              "    <tr>\n",
              "      <th>2</th>\n",
              "      <td>sep</td>\n",
              "      <td>normaltest</td>\n",
              "      <td>Normality</td>\n",
              "      <td>[20.54630169179557]</td>\n",
              "      <td>[3.454834723154762e-05]</td>\n",
              "    </tr>\n",
              "    <tr>\n",
              "      <th>3</th>\n",
              "      <td>oct</td>\n",
              "      <td>normaltest</td>\n",
              "      <td>Normality</td>\n",
              "      <td>[55.13143348111063]</td>\n",
              "      <td>[1.067483890748691e-12]</td>\n",
              "    </tr>\n",
              "    <tr>\n",
              "      <th>4</th>\n",
              "      <td>nov</td>\n",
              "      <td>normaltest</td>\n",
              "      <td>Normality</td>\n",
              "      <td>[47.558320737323626]</td>\n",
              "      <td>[4.7080586849956407e-11]</td>\n",
              "    </tr>\n",
              "    <tr>\n",
              "      <th>5</th>\n",
              "      <td>dec</td>\n",
              "      <td>normaltest</td>\n",
              "      <td>Normality</td>\n",
              "      <td>[65.10205167458949]</td>\n",
              "      <td>[7.299096385000296e-15]</td>\n",
              "    </tr>\n",
              "    <tr>\n",
              "      <th>6</th>\n",
              "      <td>jan</td>\n",
              "      <td>normaltest</td>\n",
              "      <td>Normality</td>\n",
              "      <td>[71.68838581919523]</td>\n",
              "      <td>[2.710596112209101e-16]</td>\n",
              "    </tr>\n",
              "    <tr>\n",
              "      <th>7</th>\n",
              "      <td>feb</td>\n",
              "      <td>normaltest</td>\n",
              "      <td>Normality</td>\n",
              "      <td>[91.35156962415954]</td>\n",
              "      <td>[1.4563263232896427e-20]</td>\n",
              "    </tr>\n",
              "    <tr>\n",
              "      <th>8</th>\n",
              "      <td>mar</td>\n",
              "      <td>normaltest</td>\n",
              "      <td>Normality</td>\n",
              "      <td>[139.72199290480154]</td>\n",
              "      <td>[4.568301306359054e-31]</td>\n",
              "    </tr>\n",
              "    <tr>\n",
              "      <th>9</th>\n",
              "      <td>apr</td>\n",
              "      <td>normaltest</td>\n",
              "      <td>Normality</td>\n",
              "      <td>[81.80660342704186]</td>\n",
              "      <td>[1.721558457237129e-18]</td>\n",
              "    </tr>\n",
              "    <tr>\n",
              "      <th>10</th>\n",
              "      <td>may</td>\n",
              "      <td>normaltest</td>\n",
              "      <td>Normality</td>\n",
              "      <td>[51.838465893479984]</td>\n",
              "      <td>[5.538857041016992e-12]</td>\n",
              "    </tr>\n",
              "    <tr>\n",
              "      <th>11</th>\n",
              "      <td>jun</td>\n",
              "      <td>normaltest</td>\n",
              "      <td>Normality</td>\n",
              "      <td>[4.169504160436977]</td>\n",
              "      <td>[0.1243379421803869]</td>\n",
              "    </tr>\n",
              "    <tr>\n",
              "      <th>12</th>\n",
              "      <td>Total Pop</td>\n",
              "      <td>normaltest</td>\n",
              "      <td>Normality</td>\n",
              "      <td>643.646</td>\n",
              "      <td>1.71391e-140</td>\n",
              "    </tr>\n",
              "    <tr>\n",
              "      <th>13</th>\n",
              "      <td>jul &amp; pop</td>\n",
              "      <td>levene</td>\n",
              "      <td>Equal Variance</td>\n",
              "      <td>[0.08046409054083728]</td>\n",
              "      <td>[0.7767359677909258]</td>\n",
              "    </tr>\n",
              "    <tr>\n",
              "      <th>14</th>\n",
              "      <td>aug &amp; pop</td>\n",
              "      <td>levene</td>\n",
              "      <td>Equal Variance</td>\n",
              "      <td>[2.120380234852356]</td>\n",
              "      <td>[0.1457047113384279]</td>\n",
              "    </tr>\n",
              "    <tr>\n",
              "      <th>15</th>\n",
              "      <td>sep &amp; pop</td>\n",
              "      <td>levene</td>\n",
              "      <td>Equal Variance</td>\n",
              "      <td>[0.3751276649365739]</td>\n",
              "      <td>[0.5403792364326085]</td>\n",
              "    </tr>\n",
              "    <tr>\n",
              "      <th>16</th>\n",
              "      <td>oct &amp; pop</td>\n",
              "      <td>levene</td>\n",
              "      <td>Equal Variance</td>\n",
              "      <td>[0.04173707857733334]</td>\n",
              "      <td>[0.8381683716172523]</td>\n",
              "    </tr>\n",
              "    <tr>\n",
              "      <th>17</th>\n",
              "      <td>nov &amp; pop</td>\n",
              "      <td>levene</td>\n",
              "      <td>Equal Variance</td>\n",
              "      <td>[0.001205831938457188]</td>\n",
              "      <td>[0.9723067660188858]</td>\n",
              "    </tr>\n",
              "    <tr>\n",
              "      <th>18</th>\n",
              "      <td>dec &amp; pop</td>\n",
              "      <td>levene</td>\n",
              "      <td>Equal Variance</td>\n",
              "      <td>[0.1428231874096457]</td>\n",
              "      <td>[0.7055787817318452]</td>\n",
              "    </tr>\n",
              "    <tr>\n",
              "      <th>19</th>\n",
              "      <td>jan &amp; pop</td>\n",
              "      <td>levene</td>\n",
              "      <td>Equal Variance</td>\n",
              "      <td>[0.6757755069342722]</td>\n",
              "      <td>[0.41125914254819507]</td>\n",
              "    </tr>\n",
              "    <tr>\n",
              "      <th>20</th>\n",
              "      <td>feb &amp; pop</td>\n",
              "      <td>levene</td>\n",
              "      <td>Equal Variance</td>\n",
              "      <td>[1.0119625272620378]</td>\n",
              "      <td>[0.31470025248162525]</td>\n",
              "    </tr>\n",
              "    <tr>\n",
              "      <th>21</th>\n",
              "      <td>mar &amp; pop</td>\n",
              "      <td>levene</td>\n",
              "      <td>Equal Variance</td>\n",
              "      <td>[0.3930262709223839]</td>\n",
              "      <td>[0.5308666394542467]</td>\n",
              "    </tr>\n",
              "    <tr>\n",
              "      <th>22</th>\n",
              "      <td>apr &amp; pop</td>\n",
              "      <td>levene</td>\n",
              "      <td>Equal Variance</td>\n",
              "      <td>[1.217684385390171]</td>\n",
              "      <td>[0.27010009998586215]</td>\n",
              "    </tr>\n",
              "    <tr>\n",
              "      <th>23</th>\n",
              "      <td>may &amp; pop</td>\n",
              "      <td>levene</td>\n",
              "      <td>Equal Variance</td>\n",
              "      <td>[0.021520383338676483]</td>\n",
              "      <td>[0.8834040118930576]</td>\n",
              "    </tr>\n",
              "    <tr>\n",
              "      <th>24</th>\n",
              "      <td>jun &amp; pop</td>\n",
              "      <td>levene</td>\n",
              "      <td>Equal Variance</td>\n",
              "      <td>[1.8489660072923149]</td>\n",
              "      <td>[0.1742609080815281]</td>\n",
              "    </tr>\n",
              "    <tr>\n",
              "      <th>25</th>\n",
              "      <td>A&amp;B</td>\n",
              "      <td>levene</td>\n",
              "      <td>Equal Var</td>\n",
              "      <td>[1.8489660072923149]</td>\n",
              "      <td>[0.1742609080815281]</td>\n",
              "    </tr>\n",
              "    <tr>\n",
              "      <th>26</th>\n",
              "      <td>A&amp;B Resampled</td>\n",
              "      <td>levene</td>\n",
              "      <td>Equal Var</td>\n",
              "      <td>314.067</td>\n",
              "      <td>0</td>\n",
              "    </tr>\n",
              "    <tr>\n",
              "      <th>27</th>\n",
              "      <td>jan &amp; pop</td>\n",
              "      <td>ttest_ind</td>\n",
              "      <td>H1 signifigance</td>\n",
              "      <td>18.774</td>\n",
              "      <td>1.56414e-72</td>\n",
              "    </tr>\n",
              "    <tr>\n",
              "      <th>28</th>\n",
              "      <td>feb &amp; pop</td>\n",
              "      <td>ttest_ind</td>\n",
              "      <td>H1 signifigance</td>\n",
              "      <td>10.6576</td>\n",
              "      <td>7.95507e-26</td>\n",
              "    </tr>\n",
              "    <tr>\n",
              "      <th>29</th>\n",
              "      <td>mar &amp; pop</td>\n",
              "      <td>ttest_ind</td>\n",
              "      <td>H1 signifigance</td>\n",
              "      <td>-7.5502</td>\n",
              "      <td>6.58847e-14</td>\n",
              "    </tr>\n",
              "    <tr>\n",
              "      <th>30</th>\n",
              "      <td>apr &amp; pop</td>\n",
              "      <td>ttest_ind</td>\n",
              "      <td>H1 signifigance</td>\n",
              "      <td>10.9022</td>\n",
              "      <td>6.33986e-27</td>\n",
              "    </tr>\n",
              "    <tr>\n",
              "      <th>31</th>\n",
              "      <td>may &amp; pop</td>\n",
              "      <td>ttest_ind</td>\n",
              "      <td>H1 signifigance</td>\n",
              "      <td>4.89714</td>\n",
              "      <td>1.06947e-06</td>\n",
              "    </tr>\n",
              "    <tr>\n",
              "      <th>32</th>\n",
              "      <td>jun &amp; pop</td>\n",
              "      <td>ttest_ind</td>\n",
              "      <td>H1 signifigance</td>\n",
              "      <td>-27.2262</td>\n",
              "      <td>1.52092e-122</td>\n",
              "    </tr>\n",
              "    <tr>\n",
              "      <th>33</th>\n",
              "      <td>jul &amp; pop</td>\n",
              "      <td>ttest_ind</td>\n",
              "      <td>H1 signifigance</td>\n",
              "      <td>-6.11443</td>\n",
              "      <td>1.22427e-09</td>\n",
              "    </tr>\n",
              "    <tr>\n",
              "      <th>34</th>\n",
              "      <td>aug &amp; pop</td>\n",
              "      <td>ttest_ind</td>\n",
              "      <td>H1 signifigance</td>\n",
              "      <td>-21.6428</td>\n",
              "      <td>2.90364e-89</td>\n",
              "    </tr>\n",
              "    <tr>\n",
              "      <th>35</th>\n",
              "      <td>sep &amp; pop</td>\n",
              "      <td>ttest_ind</td>\n",
              "      <td>H1 signifigance</td>\n",
              "      <td>-11.7394</td>\n",
              "      <td>1.81139e-30</td>\n",
              "    </tr>\n",
              "    <tr>\n",
              "      <th>36</th>\n",
              "      <td>oct &amp; pop</td>\n",
              "      <td>ttest_ind</td>\n",
              "      <td>H1 signifigance</td>\n",
              "      <td>10.7768</td>\n",
              "      <td>3.00507e-26</td>\n",
              "    </tr>\n",
              "    <tr>\n",
              "      <th>37</th>\n",
              "      <td>nov &amp; pop</td>\n",
              "      <td>ttest_ind</td>\n",
              "      <td>H1 signifigance</td>\n",
              "      <td>0.663577</td>\n",
              "      <td>0.507054</td>\n",
              "    </tr>\n",
              "    <tr>\n",
              "      <th>38</th>\n",
              "      <td>dec &amp; pop</td>\n",
              "      <td>ttest_ind</td>\n",
              "      <td>H1 signifigance</td>\n",
              "      <td>-2.24743</td>\n",
              "      <td>0.0247414</td>\n",
              "    </tr>\n",
              "    <tr>\n",
              "      <th>39</th>\n",
              "      <td>jul</td>\n",
              "      <td>mannwhitneyu</td>\n",
              "      <td>Hi sig.</td>\n",
              "      <td>22169.5</td>\n",
              "      <td>0.72126</td>\n",
              "    </tr>\n",
              "    <tr>\n",
              "      <th>40</th>\n",
              "      <td>aug</td>\n",
              "      <td>mannwhitneyu</td>\n",
              "      <td>Hi sig.</td>\n",
              "      <td>23658.5</td>\n",
              "      <td>0.827714</td>\n",
              "    </tr>\n",
              "    <tr>\n",
              "      <th>41</th>\n",
              "      <td>sep</td>\n",
              "      <td>mannwhitneyu</td>\n",
              "      <td>Hi sig.</td>\n",
              "      <td>24066.5</td>\n",
              "      <td>0.664874</td>\n",
              "    </tr>\n",
              "    <tr>\n",
              "      <th>42</th>\n",
              "      <td>oct</td>\n",
              "      <td>mannwhitneyu</td>\n",
              "      <td>Hi sig.</td>\n",
              "      <td>28409</td>\n",
              "      <td>0.353051</td>\n",
              "    </tr>\n",
              "    <tr>\n",
              "      <th>43</th>\n",
              "      <td>nov</td>\n",
              "      <td>mannwhitneyu</td>\n",
              "      <td>Hi sig.</td>\n",
              "      <td>24699.5</td>\n",
              "      <td>0.910593</td>\n",
              "    </tr>\n",
              "    <tr>\n",
              "      <th>44</th>\n",
              "      <td>dec</td>\n",
              "      <td>mannwhitneyu</td>\n",
              "      <td>Hi sig.</td>\n",
              "      <td>33818.5</td>\n",
              "      <td>0.643183</td>\n",
              "    </tr>\n",
              "    <tr>\n",
              "      <th>45</th>\n",
              "      <td>jan</td>\n",
              "      <td>mannwhitneyu</td>\n",
              "      <td>Hi sig.</td>\n",
              "      <td>39094</td>\n",
              "      <td>0.276542</td>\n",
              "    </tr>\n",
              "    <tr>\n",
              "      <th>46</th>\n",
              "      <td>feb</td>\n",
              "      <td>mannwhitneyu</td>\n",
              "      <td>Hi sig.</td>\n",
              "      <td>32504.5</td>\n",
              "      <td>0.397041</td>\n",
              "    </tr>\n",
              "    <tr>\n",
              "      <th>47</th>\n",
              "      <td>mar</td>\n",
              "      <td>mannwhitneyu</td>\n",
              "      <td>Hi sig.</td>\n",
              "      <td>40223.5</td>\n",
              "      <td>0.328415</td>\n",
              "    </tr>\n",
              "    <tr>\n",
              "      <th>48</th>\n",
              "      <td>apr</td>\n",
              "      <td>mannwhitneyu</td>\n",
              "      <td>Hi sig.</td>\n",
              "      <td>43578</td>\n",
              "      <td>0.999235</td>\n",
              "    </tr>\n",
              "    <tr>\n",
              "      <th>49</th>\n",
              "      <td>may</td>\n",
              "      <td>mannwhitneyu</td>\n",
              "      <td>Hi sig.</td>\n",
              "      <td>19592</td>\n",
              "      <td>0.764007</td>\n",
              "    </tr>\n",
              "    <tr>\n",
              "      <th>50</th>\n",
              "      <td>jun</td>\n",
              "      <td>mannwhitneyu</td>\n",
              "      <td>Hi sig.</td>\n",
              "      <td>12636.5</td>\n",
              "      <td>0.889327</td>\n",
              "    </tr>\n",
              "  </tbody>\n",
              "</table>\n",
              "</div>"
            ],
            "text/plain": [
              "           Group:      TestName     Test Purpose                    stat  \\\n",
              "0             jul    normaltest        Normality    [28.482051126185347]   \n",
              "1             aug    normaltest        Normality      [35.4162984483613]   \n",
              "2             sep    normaltest        Normality     [20.54630169179557]   \n",
              "3             oct    normaltest        Normality     [55.13143348111063]   \n",
              "4             nov    normaltest        Normality    [47.558320737323626]   \n",
              "5             dec    normaltest        Normality     [65.10205167458949]   \n",
              "6             jan    normaltest        Normality     [71.68838581919523]   \n",
              "7             feb    normaltest        Normality     [91.35156962415954]   \n",
              "8             mar    normaltest        Normality    [139.72199290480154]   \n",
              "9             apr    normaltest        Normality     [81.80660342704186]   \n",
              "10            may    normaltest        Normality    [51.838465893479984]   \n",
              "11            jun    normaltest        Normality     [4.169504160436977]   \n",
              "12      Total Pop    normaltest        Normality                 643.646   \n",
              "13      jul & pop        levene   Equal Variance   [0.08046409054083728]   \n",
              "14      aug & pop        levene   Equal Variance     [2.120380234852356]   \n",
              "15      sep & pop        levene   Equal Variance    [0.3751276649365739]   \n",
              "16      oct & pop        levene   Equal Variance   [0.04173707857733334]   \n",
              "17      nov & pop        levene   Equal Variance  [0.001205831938457188]   \n",
              "18      dec & pop        levene   Equal Variance    [0.1428231874096457]   \n",
              "19      jan & pop        levene   Equal Variance    [0.6757755069342722]   \n",
              "20      feb & pop        levene   Equal Variance    [1.0119625272620378]   \n",
              "21      mar & pop        levene   Equal Variance    [0.3930262709223839]   \n",
              "22      apr & pop        levene   Equal Variance     [1.217684385390171]   \n",
              "23      may & pop        levene   Equal Variance  [0.021520383338676483]   \n",
              "24      jun & pop        levene   Equal Variance    [1.8489660072923149]   \n",
              "25            A&B        levene        Equal Var    [1.8489660072923149]   \n",
              "26  A&B Resampled        levene        Equal Var                 314.067   \n",
              "27      jan & pop     ttest_ind  H1 signifigance                  18.774   \n",
              "28      feb & pop     ttest_ind  H1 signifigance                 10.6576   \n",
              "29      mar & pop     ttest_ind  H1 signifigance                 -7.5502   \n",
              "30      apr & pop     ttest_ind  H1 signifigance                 10.9022   \n",
              "31      may & pop     ttest_ind  H1 signifigance                 4.89714   \n",
              "32      jun & pop     ttest_ind  H1 signifigance                -27.2262   \n",
              "33      jul & pop     ttest_ind  H1 signifigance                -6.11443   \n",
              "34      aug & pop     ttest_ind  H1 signifigance                -21.6428   \n",
              "35      sep & pop     ttest_ind  H1 signifigance                -11.7394   \n",
              "36      oct & pop     ttest_ind  H1 signifigance                 10.7768   \n",
              "37      nov & pop     ttest_ind  H1 signifigance                0.663577   \n",
              "38      dec & pop     ttest_ind  H1 signifigance                -2.24743   \n",
              "39            jul  mannwhitneyu          Hi sig.                 22169.5   \n",
              "40            aug  mannwhitneyu          Hi sig.                 23658.5   \n",
              "41            sep  mannwhitneyu          Hi sig.                 24066.5   \n",
              "42            oct  mannwhitneyu          Hi sig.                   28409   \n",
              "43            nov  mannwhitneyu          Hi sig.                 24699.5   \n",
              "44            dec  mannwhitneyu          Hi sig.                 33818.5   \n",
              "45            jan  mannwhitneyu          Hi sig.                   39094   \n",
              "46            feb  mannwhitneyu          Hi sig.                 32504.5   \n",
              "47            mar  mannwhitneyu          Hi sig.                 40223.5   \n",
              "48            apr  mannwhitneyu          Hi sig.                   43578   \n",
              "49            may  mannwhitneyu          Hi sig.                   19592   \n",
              "50            jun  mannwhitneyu          Hi sig.                 12636.5   \n",
              "\n",
              "                           p  \n",
              "0    [6.534331770226038e-07]  \n",
              "1   [2.0391468707471406e-08]  \n",
              "2    [3.454834723154762e-05]  \n",
              "3    [1.067483890748691e-12]  \n",
              "4   [4.7080586849956407e-11]  \n",
              "5    [7.299096385000296e-15]  \n",
              "6    [2.710596112209101e-16]  \n",
              "7   [1.4563263232896427e-20]  \n",
              "8    [4.568301306359054e-31]  \n",
              "9    [1.721558457237129e-18]  \n",
              "10   [5.538857041016992e-12]  \n",
              "11      [0.1243379421803869]  \n",
              "12              1.71391e-140  \n",
              "13      [0.7767359677909258]  \n",
              "14      [0.1457047113384279]  \n",
              "15      [0.5403792364326085]  \n",
              "16      [0.8381683716172523]  \n",
              "17      [0.9723067660188858]  \n",
              "18      [0.7055787817318452]  \n",
              "19     [0.41125914254819507]  \n",
              "20     [0.31470025248162525]  \n",
              "21      [0.5308666394542467]  \n",
              "22     [0.27010009998586215]  \n",
              "23      [0.8834040118930576]  \n",
              "24      [0.1742609080815281]  \n",
              "25      [0.1742609080815281]  \n",
              "26                         0  \n",
              "27               1.56414e-72  \n",
              "28               7.95507e-26  \n",
              "29               6.58847e-14  \n",
              "30               6.33986e-27  \n",
              "31               1.06947e-06  \n",
              "32              1.52092e-122  \n",
              "33               1.22427e-09  \n",
              "34               2.90364e-89  \n",
              "35               1.81139e-30  \n",
              "36               3.00507e-26  \n",
              "37                  0.507054  \n",
              "38                 0.0247414  \n",
              "39                   0.72126  \n",
              "40                  0.827714  \n",
              "41                  0.664874  \n",
              "42                  0.353051  \n",
              "43                  0.910593  \n",
              "44                  0.643183  \n",
              "45                  0.276542  \n",
              "46                  0.397041  \n",
              "47                  0.328415  \n",
              "48                  0.999235  \n",
              "49                  0.764007  \n",
              "50                  0.889327  "
            ]
          },
          "metadata": {
            "tags": []
          },
          "execution_count": 44
        }
      ]
    },
    {
      "metadata": {
        "id": "fhPYorQYBRof",
        "colab_type": "text"
      },
      "cell_type": "markdown",
      "source": [
        "#### Calculating Effect Size"
      ]
    },
    {
      "metadata": {
        "id": "YNNnHq2TBRof",
        "colab_type": "code",
        "colab": {
          "base_uri": "https://localhost:8080/",
          "height": 35
        },
        "outputId": "9af036a2-a5bc-414b-9563-0ddcbed1b5a2"
      },
      "cell_type": "code",
      "source": [
        "# Calculating Cohens d\n",
        "d = Cohen_d(arrA,arrB)\n",
        "print(f\"Cohen's d={round(d,3)}\")"
      ],
      "execution_count": 45,
      "outputs": [
        {
          "output_type": "stream",
          "text": [
            "Cohen's d=-0.176\n"
          ],
          "name": "stdout"
        }
      ]
    },
    {
      "metadata": {
        "id": "Tlxz4CgRBRoj",
        "colab_type": "text"
      },
      "cell_type": "markdown",
      "source": [
        "## ***Aim 3: Compare between all Months***"
      ]
    },
    {
      "metadata": {
        "id": "y2MPDv3PCqdG",
        "colab_type": "text"
      },
      "cell_type": "markdown",
      "source": [
        "###Tukey's Test\n"
      ]
    },
    {
      "metadata": {
        "id": "xIHLn1gqEe57",
        "colab_type": "code",
        "colab": {}
      },
      "cell_type": "code",
      "source": [
        "# Importing tukey's test\n",
        "from statsmodels.stats.multicomp import pairwise_tukeyhsd as tukey\n",
        "\n",
        "int_str = [str(x) for x in df_year['month_name']]# create labels"
      ],
      "execution_count": 0,
      "outputs": []
    },
    {
      "metadata": {
        "id": "NF-3vbMb3ofW",
        "colab_type": "code",
        "colab": {
          "base_uri": "https://localhost:8080/",
          "height": 1244
        },
        "outputId": "5ebcb2b5-76ad-4899-e49f-46f4c7e7fe40"
      },
      "cell_type": "code",
      "source": [
        "#run tukeys test\n",
        "tukey_results =tukey(df_year['order_total'], int_str, 0.05)\n",
        "print(tukey_results.summary())"
      ],
      "execution_count": 47,
      "outputs": [
        {
          "output_type": "stream",
          "text": [
            " Multiple Comparison of Means - Tukey HSD,FWER=0.05\n",
            "===================================================\n",
            "group1 group2  meandiff   lower      upper   reject\n",
            "---------------------------------------------------\n",
            " apr    aug   -429.4049 -1421.7047  562.895  False \n",
            " apr    dec   -207.6797 -1111.0347  695.6754 False \n",
            " apr    feb    -22.678  -913.5247   868.1687 False \n",
            " apr    jan    82.7094  -793.8885   959.3073 False \n",
            " apr    jul   -249.8789 -1259.4613  759.7034 False \n",
            " apr    jun   -472.0174 -1727.6696  783.6348 False \n",
            " apr    mar   -291.8645 -1133.0197  549.2908 False \n",
            " apr    may   -116.3951 -1188.8343  956.044  False \n",
            " apr    nov   -173.3675 -1160.2354  813.5004 False \n",
            " apr    oct    -54.971  -1016.8412  906.8993 False \n",
            " apr    sep   -317.2668 -1298.8553  664.3217 False \n",
            " aug    dec    221.7252 -827.0696  1270.5199 False \n",
            " aug    feb    406.7269 -631.3136  1444.7673 False \n",
            " aug    jan    512.1143 -513.7239  1537.9525 False \n",
            " aug    jul    179.5259 -962.0417  1321.0935 False \n",
            " aug    jun    -42.6125 -1406.6443 1321.4192 False \n",
            " aug    mar    137.5404 -858.1816  1133.2624 False \n",
            " aug    may    313.0097 -884.5068  1510.5262 False \n",
            " aug    nov    256.0373 -865.4921  1377.5668 False \n",
            " aug    oct    374.4339 -725.1635  1474.0313 False \n",
            " aug    sep    112.1381 -1004.7487 1229.0249 False \n",
            " dec    feb    185.0017 -768.3709  1138.3743 False \n",
            " dec    jan    290.3891 -649.6829  1230.4611 False \n",
            " dec    jul    -42.1993 -1107.3603 1022.9618 False \n",
            " dec    jun   -264.3377 -1565.0967 1036.4213 False \n",
            " dec    mar    -84.1848 -991.2976   822.928  False \n",
            " dec    may    91.2845  -1033.632  1216.2011 False \n",
            " dec    nov    34.3122  -1009.3447 1077.9691 False \n",
            " dec    oct    152.7087 -867.3431  1172.7606 False \n",
            " dec    sep   -109.5871 -1148.2533  929.0791 False \n",
            " feb    jan    105.3874 -822.6712  1033.4461 False \n",
            " feb    jul   -227.2009 -1281.7746  827.3727 False \n",
            " feb    jun   -449.3394 -1741.4429  842.7641 False \n",
            " feb    mar   -269.1864 -1163.8435  625.4706 False \n",
            " feb    may    -93.7171 -1208.6139 1021.1796 False \n",
            " feb    nov   -150.6895 -1183.5386  882.1596 False \n",
            " feb    oct    -32.2929 -1041.2842  976.6983 False \n",
            " feb    sep   -294.5888 -1322.3947  733.2171 False \n",
            " jan    jul   -332.5884 -1375.1533  709.9765 False \n",
            " jan    jun   -554.7268 -1837.048   727.5943 False \n",
            " jan    mar   -374.5739 -1255.0437  505.896  False \n",
            " jan    may   -199.1046 -1302.6492  904.4401 False \n",
            " jan    nov   -256.0769 -1276.6617  764.5078 False \n",
            " jan    oct   -137.6804 -1134.1137  858.7529 False \n",
            " jan    sep   -399.9762 -1415.4569  615.5045 False \n",
            " jul    jun   -222.1384 -1598.7939  1154.517 False \n",
            " jul    mar    -41.9855 -1054.9316  970.9606 False \n",
            " jul    may    133.4838 -1078.3922 1345.3598 False \n",
            " jul    nov    76.5114  -1060.3377 1213.3606 False \n",
            " jul    oct    194.908  -920.3104  1310.1264 False \n",
            " jul    sep    -67.3878 -1199.6571 1064.8814 False \n",
            " jun    mar    180.1529 -1078.2054 1438.5113 False \n",
            " jun    may    355.6222 -1067.7714 1779.0159 False \n",
            " jun    nov    298.6499 -1061.4354 1658.7351 False \n",
            " jun    oct    417.0464 -925.0109  1759.1038 False \n",
            " jun    sep    154.7506 -1201.5088  1511.01  False \n",
            " mar    may    175.4693 -900.1371  1251.0757 False \n",
            " mar    nov    118.4969 -871.8119  1108.8058 False \n",
            " mar    oct    236.8935 -728.5067  1202.2937 False \n",
            " mar    sep    -25.4023 -1010.4502  959.6455 False \n",
            " may    nov    -56.9724 -1249.9917  1136.047 False \n",
            " may    oct    61.4242  -1111.0012 1233.8495 False \n",
            " may    sep   -200.8716 -1389.5275  987.7843 False \n",
            " nov    oct    118.3966 -976.3014  1213.0946 False \n",
            " nov    sep   -143.8992 -1255.9628  968.1643 False \n",
            " oct    sep   -262.2958 -1352.2368  827.6452 False \n",
            "---------------------------------------------------\n"
          ],
          "name": "stdout"
        }
      ]
    },
    {
      "metadata": {
        "colab_type": "code",
        "id": "j6-3co5F1NWz",
        "colab": {
          "base_uri": "https://localhost:8080/",
          "height": 48
        },
        "outputId": "aabf3a45-7b47-415b-e6f6-325d7486154d"
      },
      "cell_type": "code",
      "source": [
        "# Save the results into a dataframe\n",
        "dfH_tukey = pd.DataFrame(data=tukey_results._results_table.data[1:],\n",
        "                         columns=tukey_results._results_table.data[0])\n",
        "\n",
        "# checking for any signifigance\n",
        "dfH_tukey.loc[dfH_tukey['reject']==True]"
      ],
      "execution_count": 48,
      "outputs": [
        {
          "output_type": "execute_result",
          "data": {
            "text/html": [
              "<div>\n",
              "<style scoped>\n",
              "    .dataframe tbody tr th:only-of-type {\n",
              "        vertical-align: middle;\n",
              "    }\n",
              "\n",
              "    .dataframe tbody tr th {\n",
              "        vertical-align: top;\n",
              "    }\n",
              "\n",
              "    .dataframe thead th {\n",
              "        text-align: right;\n",
              "    }\n",
              "</style>\n",
              "<table border=\"1\" class=\"dataframe\">\n",
              "  <thead>\n",
              "    <tr style=\"text-align: right;\">\n",
              "      <th></th>\n",
              "      <th>group1</th>\n",
              "      <th>group2</th>\n",
              "      <th>meandiff</th>\n",
              "      <th>lower</th>\n",
              "      <th>upper</th>\n",
              "      <th>reject</th>\n",
              "    </tr>\n",
              "  </thead>\n",
              "  <tbody>\n",
              "  </tbody>\n",
              "</table>\n",
              "</div>"
            ],
            "text/plain": [
              "Empty DataFrame\n",
              "Columns: [group1, group2, meandiff, lower, upper, reject]\n",
              "Index: []"
            ]
          },
          "metadata": {
            "tags": []
          },
          "execution_count": 48
        }
      ]
    },
    {
      "metadata": {
        "colab_type": "text",
        "id": "3JKcx3pw5_LK"
      },
      "cell_type": "markdown",
      "source": [
        "## ***Conclusions for Hypothesis 3:***\n",
        "1. **We first used D'Agostino & Perason's test (normaltest) to check for normal distributions**\n",
        "    -  Both groups had p-values very far below our $\\alpha=0.05$  (Rows 0,1 below)\n",
        "        - We rejecteded the null hypothesis that the groups came from a populatiin with a normal distribtuion. \n",
        "2. **We tested for equal variances using Levene's test. **\n",
        "    - Level's test had a signifcant p-value, so we rejected the hypothesis that the groups have equal variances\n",
        "    \n",
        "3. **We then concluded we need a non-parametric 2-sample test, so we used the Mann-Whitney U test**. \n",
        "    -  Our comparison had a p-value less than .05\n",
        "    - We reject the null hypothesis that discounts do not affect quantities sold.\n",
        "\n"
      ]
    },
    {
      "metadata": {
        "id": "MaYycUP4GdMg",
        "colab_type": "code",
        "colab": {}
      },
      "cell_type": "code",
      "source": [
        ""
      ],
      "execution_count": 0,
      "outputs": []
    }
  ]
}