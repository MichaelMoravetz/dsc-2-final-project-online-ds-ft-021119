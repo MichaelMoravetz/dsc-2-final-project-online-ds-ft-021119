{
  "nbformat": 4,
  "nbformat_minor": 0,
  "metadata": {
    "colab": {
      "name": "MVM_Copy of JMI_H1+Tukey_FIN.ipynb",
      "version": "0.3.2",
      "provenance": [],
      "collapsed_sections": [],
      "toc_visible": true
    },
    "kernelspec": {
      "name": "python3",
      "display_name": "Python 3"
    }
  },
  "cells": [
    {
      "metadata": {
        "colab_type": "text",
        "id": "3yoyuAnnwwP4"
      },
      "cell_type": "markdown",
      "source": [
        ""
      ]
    },
    {
      "metadata": {
        "colab_type": "text",
        "id": "EZeLgicvwwP6"
      },
      "cell_type": "markdown",
      "source": [
        "# Module 2 Final Project Specifications: Introduction"
      ]
    },
    {
      "metadata": {
        "colab_type": "text",
        "id": "gklyzeSFwwP9"
      },
      "cell_type": "markdown",
      "source": [
        "In this lesson, we'll review all the guidelines and specifications for the final project for Module 2. \n",
        "\n",
        "### Objectives\n",
        "\n",
        "* Understand all required aspects of the Final Project for Module 2\n",
        "* Understand all required deliverables\n",
        "* Understand what constitutes a successful project\n",
        "\n",
        "### Final Project Summary\n",
        "\n",
        "Another module down--you're half way there!\n",
        "\n",
        "< img src='halfway-there.gif'>\n",
        "\n",
        "For the culmination of Module 2, you just need to complete the final project!\n",
        "\n",
        "### The Project\n",
        "\n",
        "For this project, you'll be working with the Northwind database--a free, open-source dataset created by Microsoft containing data from a fictional company. You probably remember the Northwind database from our section on Advanced SQL. Here's the schema for the Northwind database:\n",
        "\n",
        "<img src='https://github.com/jirvingphd/dsc-2-final-project-online-ds-ft-021119/blob/master/Northwind_ERD.png?raw=1' width=400>"
      ]
    },
    {
      "metadata": {
        "colab_type": "text",
        "id": "pgOCAkAHwwP-"
      },
      "cell_type": "markdown",
      "source": [
        "## The Deliverables\n",
        "> **The goal of this project** is to test your ability to gather information from a real-world database and use your knowledge of statistical analysis and hypothesis testing to generate analytical insights that can be of value to the company.\n"
      ]
    },
    {
      "metadata": {
        "colab_type": "text",
        "id": "A4eo2x98wwQA"
      },
      "cell_type": "markdown",
      "source": [
        "In addition to answering this question with a hypothesis test, you will also need to come up with **_at least 3 other hypotheses to test on your own_**.  \n",
        "\n",
        "These can by **anything that you think could be imporant information _for the company_.** \n",
        "\n",
        "For this hypothesis, be sure to specify both the **_null hypothesis_** and the **_alternative hypothesis_** for your question.  You should also specify if this is one-tail or a two-tail test. \n",
        "\n",
        "To complete this project, you will need to turn in the following 3 deliverables:\n",
        "\n",
        "1. A **_Jupyter Notebook_** containing any code you've written for this project. \n",
        "2. A **_Blog Post_** explaining your process, methodology, and findings.  \n",
        "3. An **_\"Executive Summary\" PowerPoint Presentation_** that explains the hypothesis tests you ran, your findings, and their relevance to company stakeholders.  "
      ]
    },
    {
      "metadata": {
        "colab_type": "text",
        "id": "-F7VwA6BwwQB"
      },
      "cell_type": "markdown",
      "source": [
        "### Jupyter Notebook Must-Haves\n",
        "\n",
        "For this project, your jupyter notebook should meet the following specifications:\n",
        "\n",
        "**_Organization/Code Cleanliness_**\n",
        "\n",
        "* The notebook should be well organized, easy to follow, and code is commented where appropriate.  \n",
        "<br>  \n",
        "    * Level Up: The notebook contains well-formatted, professional looking markdown cells explaining any substantial code. All functions have docstrings that act as professional-quality documentation.  \n",
        "<br>      \n",
        "* The notebook is written to technical audiences with a way to both understand your approach and reproduce your results. The target audience for this deliverable is other data scientists looking to validate your findings.  \n",
        "<br>    \n",
        "* Any SQL code written to source data should also be included.  \n",
        "\n",
        "**_Findings_**\n",
        "\n",
        "* Your notebook should clearly show how you arrived at your results for each hypothesis test, including how you calculated your p-values.   \n",
        "<br>\n",
        "* You should also include any other statistics that you find relevant to your analysis, such as effect size. "
      ]
    },
    {
      "metadata": {
        "colab_type": "text",
        "id": "PXe-ZIk3wwQC"
      },
      "cell_type": "markdown",
      "source": [
        "### Executive Summary Must-Haves\n",
        "\n",
        "Your presentation should:\n",
        "\n",
        "* Contain between 5-10 professional quality slides detailing:\n",
        "<br>  \n",
        "    * A high-level overview of your methodology  \n",
        "    <br>  \n",
        "    * The results of your hypothesis tests  \n",
        "    <br>  \n",
        "    * Any real-world recommendations you would like to make based on your findings (ask yourself--why should the executive team care about what you found? How can your findings help the company?)  \n",
        "    <br>  \n",
        "* Take no more than 5 minutes to present  \n",
        "<br>  \n",
        "* Avoid technical jargon and explain results in a clear, actionable way for non-technical audiences.  "
      ]
    },
    {
      "metadata": {
        "colab_type": "text",
        "id": "z6jWCSDawwQD"
      },
      "cell_type": "markdown",
      "source": [
        "### Blog Post Must-Haves\n",
        "\n",
        "Your blog post should include everything from how you identified what tables contained the information you need, to how you retrieved it using SQL (and any challenges you ran into while doing so), as well as your methodology and results for your hypothesis tests. \n",
        "\n",
        "**_NOTE:_**  This blog post is your way of showcasing the work you've done on this project--chances are it will soon be read by a recruiter or hiring manager! Take the time to make sure that you craft your story well, and clearly explain your process and findings in a way that clearly shows both your technical expertise **_and_** your ability to communicate your results!\n",
        "___"
      ]
    },
    {
      "metadata": {
        "colab_type": "text",
        "id": "RXO-WQHYwwQF"
      },
      "cell_type": "markdown",
      "source": [
        "___"
      ]
    },
    {
      "metadata": {
        "colab_type": "text",
        "id": "hLrUyfOEwwQG"
      },
      "cell_type": "markdown",
      "source": [
        "# Outline of Data Processing and Analysis<br> (using OSEMN model)"
      ]
    },
    {
      "metadata": {
        "colab_type": "text",
        "id": "Q70itr8BwwQH"
      },
      "cell_type": "markdown",
      "source": [
        "1. **OBTAIN:**\n",
        "    - **Import data, inspect, check for datatypes to convert and null values**<br>\n",
        "        - Display header and info\n",
        "        - Drop any unneeded columns (df.drop(['col1','col2'],axis=1)\n",
        "\n",
        "2. **SCRUB: cast data types, identify outliers, check for multicollinearity, normalize data**<br>\n",
        "    - Check and cast data types\n",
        "        - [ ] Check for #'s that are store as objects (df.info())\n",
        "            - when converting to #'s, look for odd values (like many 0's), or strings that can't be converted\n",
        "            - Decide how to deal weird/null values (df.unique(), df.isna().sum(), df.describe()-min/max, etc\n",
        "        - [ ]  Check for categorical variables stored as integers\n",
        "    - [ ] Check for missing values  (df.isna().sum())\n",
        "        - Can drop rows or colums\n",
        "        - For missing numeric data with median or bin/convert to categorical\n",
        "        - For missing categorical data: make NaN own category OR replace with most common category\n",
        "    - [ ] Check for multicollinearity\n",
        "         - use seaborn to make correlation matrix plot [Evernote Link](https://www.evernote.com/l/AArNyaEwjA5JUL6I9PazHs_ts_hU-m7ja1I/) \n",
        "        - Good rule of thumb is anything over 0.75 corr is high, remove the variable that has the most correl with the largest # of variables\n",
        "    - [ ] Normalize data (may want to do after some exploring)\n",
        "        - Most popular is Z-scoring (but won't fix skew) \n",
        "        - Can log-transform to fix skewed data\n",
        "    \n",
        "            \n",
        "3. **EXPLORE:Check distributions, outliers, etc**\n",
        "    - [ ] Check scales, ranges (df.describe())\n",
        "    - [ ] Check histograms to get an idea of distributions (df.hist()) and dat transformations to perform\n",
        "        - Can also do kernel density estimates\n",
        "    - [ ] Use scatterplots to check for linearity and possible categorical variables (df.plot(kind-'scatter')\n",
        "        - categoricals will look like vertical lines\n",
        "    - [ ] Use pd.plotting.scatter_matrix to visualize possible relationships\n",
        "    - [ ] Check for linearity\n",
        "\n",
        "   \n",
        "4. **FIT AN INITIAL MODEL:** \n",
        "    - Various forms, detail later...\n",
        "    - **Assessing the model:**\n",
        "        - Assess parameters (slope,intercept)\n",
        "        - Check if the model explains the variation in the data (RMSE, F, R_square)\n",
        "        - *Are the coeffs, slopes, intercepts in appropriate units?*\n",
        "        - *Whats the impact of collinearity? Can we ignore?*\n",
        "5. **Revise the fitted model**\n",
        "    - Multicollinearity is big issue for lin regression and cannot fully remove it\n",
        "    - Use the predictive ability of model to test it (like R2 and RMSE)\n",
        "    - Check for missed non-linearity\n",
        "6. **Holdout validation / Train/test split**\n",
        "    - use sklearn train_test_split \n",
        "___"
      ]
    },
    {
      "metadata": {
        "colab_type": "text",
        "id": "7i8Ev_kKwwQJ"
      },
      "cell_type": "markdown",
      "source": [
        ""
      ]
    },
    {
      "metadata": {
        "colab_type": "text",
        "id": "ubtNFAFewwQK"
      },
      "cell_type": "markdown",
      "source": [
        "# EXPERIMENTAL DESIGN PLANNING"
      ]
    },
    {
      "metadata": {
        "colab_type": "text",
        "id": "7rzJx4u8wwQL"
      },
      "cell_type": "markdown",
      "source": [
        "## Hypothesis Testing\n",
        "\n",
        "You will need query the database to get the data needed to perform a statistical analysis.  In this statistical analysis, **you'll need to perform a hypothesis test (or perhaps several) to answer the following question:**\n",
        "\n",
        "\n",
        "> **_Do discounts have a statistically significant effect on the number of products customers order? If so, at what level(s) of discount?_**\n",
        "\n",
        "### Hypothesis 1: (Given Hypothesis)\n",
        "\n",
        "- $H_1$: The greater the discount, the greater the quantity of products ordered by individual customers?\n",
        "- $H_0$:  Discounts have no effect on the quantity of product ordered by individual customers.  \n",
        "<br>\n",
        "- **Specific Aims:**\n",
        "\n",
        "    - **Aim 1:To select dataset that allows us to compare our target variable, **quantity _per purchase_**, vs the predictor variable discount.**\n",
        "    \n",
        "       - [ ] SELECT OrderID, QUantity,Discount FROM OrderDetails\n",
        "        - GROUPBY discount\n",
        "        - id = OrderId\\\n",
        "        \n",
        "    - **Aim 2: To test the relationship using a[ ]-tailed t-test.**\n",
        "        - One or two tailed?\n",
        "            - __ tailed, because...\n",
        "    - **Aim 3: To determine which level of discounts affect quantity?**\n",
        "    \n",
        " \n",
        "<br>\n",
        "\n",
        "### Hypothesis 2:\n",
        "\n",
        "- $H_1$: Customers buy more of other store items when they are buying discounted items.\n",
        "- $H_0$: Customers buy the same ***amount*** of items\n",
        "    - **amount could mean:**\n",
        "        - the # of items (discounted vs not discounted vs same level of discount?)\n",
        "        - total price per order with/without discounted products\n",
        "<br>\n",
        "- **Specific Aims:**\n",
        "\n",
        "    - Aim 1:To select dataset that allows us to compare our target variable [    ] vs the predictor variable [      ].\n",
        "    - Aim 2: To test the relationship using a [ ] -tailed t-test. \n",
        "    - Aim 3: To determine which levels of the predictor underly the effect.\n",
        "\n",
        "### Hypothesis 3:\n",
        "- $H_1$: Mean total price per order  is the same for each month of the year.\n",
        "​\n",
        "- $H_0$: Mean total price per order is different between months:\n",
        "    \n",
        "    \n",
        "  \n",
        "<br>\n",
        "- **Specific Aims:**\n",
        "      \n",
        "      - subset data:\n",
        "      \n",
        "       [ ] SELECT * FROM OrderDetails, OrderDate FROM [Order]\n",
        "        - GROUPBY orderDate\n",
        "        - id = OrderId\\\n",
        "​\n",
        "    - Aim 1:Determine which months have the worst sales, best sales . \n",
        "    - Aim 2: To test the relationship using a 2 -tailed t-test. \n",
        "    - Aim 3: determine if there are any distinguishable reasons why there is a difference month by month.\n",
        "<br>\n",
        "-\n",
        "### Hypothesis 4:\n",
        "- $H_1$: \n",
        "- $H_0$:   \n",
        "<br>\n",
        "- **Specific Aims:**\n",
        "\n",
        "    - Aim 1:To select dataset that allows us to compare our target variable [    ] vs the predictor variable [      ].\n",
        "    - Aim 2: To test the relationship using a [ ] -tailed t-test. \n",
        "    - Aim 3: To determine which levels of the predictor underly the effect."
      ]
    },
    {
      "metadata": {
        "colab_type": "text",
        "id": "Oz3uzog5wwQM"
      },
      "cell_type": "markdown",
      "source": [
        "# INITIALIZATION AND DECLARATION OF FUNCTIONS"
      ]
    },
    {
      "metadata": {
        "colab_type": "text",
        "id": "PVjqeNPowwQN"
      },
      "cell_type": "markdown",
      "source": [
        "## Import packages:"
      ]
    },
    {
      "metadata": {
        "colab_type": "code",
        "id": "vl-HKeJJwwQP",
        "outputId": "8e8c5af2-ba6a-45d8-d3bd-4264340afbf2",
        "colab": {
          "base_uri": "https://localhost:8080/",
          "height": 72
        }
      },
      "cell_type": "code",
      "source": [
        "# Normal packages\n",
        "import pandas as pd\n",
        "import numpy as np\n",
        "import seaborn as sns\n",
        "import matplotlib.pyplot as plt\n",
        "import matplotlib.ticker as mtick\n",
        "%matplotlib inline\n",
        "\n",
        "# Statsmodels\n",
        "\n",
        "import statsmodels.api as sm\n",
        "import statsmodels.formula.api as smf\n",
        "import statsmodels.stats.api as sms\n",
        "\n",
        "import scipy.stats as stats\n",
        "\n",
        "\n",
        "# Counter\n",
        "from collections import Counter\n",
        "\n",
        "# Sklearn\n",
        "from sklearn.model_selection import train_test_split\n",
        "from sklearn.feature_selection import RFE\n",
        "from sklearn.linear_model import LinearRegression\n",
        "from sklearn.metrics import mean_squared_error\n",
        "from sklearn.preprocessing import MinMaxScaler\n",
        "from sklearn.preprocessing import RobustScaler\n",
        "import sklearn.metrics as metrics\n",
        "\n",
        "\n",
        "import sqlalchemy\n",
        "from sqlalchemy import create_engine\n",
        "from sqlalchemy.orm import Session, sessionmaker\n",
        "from sqlalchemy import inspect"
      ],
      "execution_count": 1,
      "outputs": [
        {
          "output_type": "stream",
          "text": [
            "/usr/local/lib/python3.6/dist-packages/statsmodels/compat/pandas.py:56: FutureWarning: The pandas.core.datetools module is deprecated and will be removed in a future version. Please use the pandas.tseries module instead.\n",
            "  from pandas.core import datetools\n"
          ],
          "name": "stderr"
        }
      ]
    },
    {
      "metadata": {
        "colab_type": "text",
        "id": "s6AsUbfMwwQU"
      },
      "cell_type": "markdown",
      "source": [
        "## Define Functions (from proj 1)"
      ]
    },
    {
      "metadata": {
        "colab_type": "text",
        "id": "O0xNoo6vwwQV"
      },
      "cell_type": "markdown",
      "source": [
        "### def check_column"
      ]
    },
    {
      "metadata": {
        "colab_type": "code",
        "id": "UEz2Osm_wwQW",
        "colab": {}
      },
      "cell_type": "code",
      "source": [
        "# Check columns returns the datatype, null values and unique values of input series \n",
        "def check_column(series,nlargest='all'):\n",
        "    print(f\"Column: df['{series.name}']':\")\n",
        "    print(f\"dtype: {series.dtype}\")\n",
        "    print(f\"isna: {series.isna().sum()} out of {len(series)} - {round(series.isna().sum()/len(series)*100,3)}%\")\n",
        "        \n",
        "    print(f'\\nUnique non-na values:') #,df['waterfront'].unique())\n",
        "    if nlargest =='all':\n",
        "        print(series.value_counts())\n",
        "    else:\n",
        "        print(series.value_counts().nlargest(nlargest))"
      ],
      "execution_count": 0,
      "outputs": []
    },
    {
      "metadata": {
        "colab_type": "text",
        "id": "GtI-okJkwwQa"
      },
      "cell_type": "markdown",
      "source": [
        "### def multiplot"
      ]
    },
    {
      "metadata": {
        "colab_type": "code",
        "id": "i7lFBscHwwQb",
        "colab": {}
      },
      "cell_type": "code",
      "source": [
        "# MULTIPLOT\n",
        "from string import ascii_letters\n",
        "import numpy as np\n",
        "import pandas as pd\n",
        "import seaborn as sns\n",
        "import matplotlib.pyplot as plt\n",
        "\n",
        "\n",
        "def multiplot(df):\n",
        "\n",
        "    sns.set(style=\"white\")\n",
        "\n",
        "    # Compute the correlation matrix\n",
        "    corr = df.corr()\n",
        "\n",
        "    # Generate a mask for the upper triangle\n",
        "    mask = np.zeros_like(corr, dtype=np.bool)\n",
        "    mask[np.triu_indices_from(mask)] = True\n",
        "\n",
        "    # Set up the matplotlib figure\n",
        "    f, ax = plt.subplots(figsize=(16, 16))\n",
        "\n",
        "    # Generate a custom diverging colormap\n",
        "    cmap = sns.diverging_palette(220, 10, as_cmap=True)\n",
        "\n",
        "    # Draw the heatmap with the mask and correct aspect ratio\n",
        "    sns.heatmap(corr, mask=mask, annot=True, cmap=cmap, center=0,\n",
        "                \n",
        "    square=True, linewidths=.5, cbar_kws={\"shrink\": .5}) #"
      ],
      "execution_count": 0,
      "outputs": []
    },
    {
      "metadata": {
        "colab_type": "text",
        "id": "Qk9N1jMywwQf"
      },
      "cell_type": "markdown",
      "source": [
        "### def detect_outliers"
      ]
    },
    {
      "metadata": {
        "colab_type": "code",
        "id": "LzpDuDd5wwQg",
        "colab": {}
      },
      "cell_type": "code",
      "source": [
        "# Tukey's method using IQR to eliminate \n",
        "def detect_outliers(df,n,features):\n",
        "    outlier_indices = []\n",
        "    # iterate over features(columns)\n",
        "    for col in features:\n",
        "        # 1st quartile (25%)\n",
        "        Q1 = np.percentile(df[col], 25)\n",
        "        # 3rd quartile (75%)\n",
        "        Q3 = np.percentile(df[col],75)\n",
        "        # Interquartile range (IQR)\n",
        "        IQR = Q3 - Q1\n",
        "        # outlier step\n",
        "        outlier_step = 1.5 * IQR\n",
        "        # Determine a list of indices of outliers for feature col\n",
        "        outlier_list_col = df[(df[col] < Q1 - outlier_step) | (df[col] > Q3 + outlier_step )].index\n",
        "        # append the found outlier indices for col to the list of outlier indices \n",
        "        outlier_indices.extend(outlier_list_col)\n",
        "        # select observations containing more than 2 outliers\n",
        "        outlier_indices = Counter(outlier_indices)        \n",
        "        multiple_outliers = list( k for k, v in outlier_indices.items() if v > n )\n",
        "        return multiple_outliers \n",
        "# Outliers_to_drop = detect_outliers(data,2,[\"col1\",\"col2\"])\n",
        "# df.loc[Outliers_to_drop] # Show the outliers rows\n",
        "# Drop outliers\n",
        "# data= data.drop(Outliers_to_drop, axis = 0).reset_index(drop=True)"
      ],
      "execution_count": 0,
      "outputs": []
    },
    {
      "metadata": {
        "colab_type": "text",
        "id": "GDzeDK5gwwQk"
      },
      "cell_type": "markdown",
      "source": [
        "### def plot_hist_scat_sns"
      ]
    },
    {
      "metadata": {
        "colab_type": "code",
        "id": "MITbzaCcwwQl",
        "colab": {}
      },
      "cell_type": "code",
      "source": [
        "#SEABORN\n",
        "import matplotlib.ticker as mtick\n",
        "import matplotlib.pyplot as plt\n",
        "\n",
        "# Plots histogram and scatter (vs price) side by side\n",
        "def plot_hist_scat_sns(df,target='price'):\n",
        "    plt.style.use('dark_background')\n",
        "\n",
        "    figsize=(10,6)\n",
        "    \n",
        "    ## ----------- DEFINE AESTHETIC CUSTOMIZATIONS ----------- ##\n",
        "    # Axis Label fonts\n",
        "    fontTitle = {'fontsize': 12,\n",
        "               'fontweight': 'bold',\n",
        "                'fontfamily':'serif'}\n",
        "\n",
        "    fontAxis = {'fontsize': 10,\n",
        "               'fontweight': 'bold',\n",
        "                'fontfamily':'serif'}\n",
        "\n",
        "    fontTicks = {'fontsize': 8,\n",
        "               'fontweight':'bold',\n",
        "                'fontfamily':'serif'}\n",
        "\n",
        "    # Formatting dollar sign labels\n",
        "    fmtPrice = '${x:,.0f}'\n",
        "    tickPrice = mtick.StrMethodFormatter(fmtPrice)\n",
        "    \n",
        "\n",
        "    ## ----------- PLOTTING ----------- ##\n",
        "    \n",
        "    ## Loop through dataframe to plot\n",
        "    for column in df.describe():\n",
        "    \n",
        "        # Create figure with subplots for current column\n",
        "        # Note: in order to use identical syntax for large # of subplots (ax[i,j]), \n",
        "        #  declare an extra row of subplots to be removed later\n",
        "        fig, ax = plt.subplots(figsize=figsize, ncols=2, nrows=2)\n",
        "\n",
        "        \n",
        "        \n",
        "        ## ----- SUBPLOT 1 -----##\n",
        "        i,j = 0,0\n",
        "        ax[i,j].set_title(column.capitalize(),fontdict=fontTitle)\n",
        "        \n",
        "        # Define graphing keyword dictionaries for distplot (Subplot 1)\n",
        "        hist_kws = {\"linewidth\": 1, \"alpha\": 1, \"color\": 'blue','edgecolor':'w'}\n",
        "        kde_kws = {\"color\": \"white\", \"linewidth\": 1, \"label\": \"KDE\"}\n",
        "        \n",
        "        # Plot distplot on ax[i,j] using hist_kws and kde_kws\n",
        "        sns.distplot(df[column], norm_hist=True, kde=True,\n",
        "                     hist_kws = hist_kws, kde_kws = kde_kws,\n",
        "                     label=column+' histogram', ax=ax[i,j])\n",
        " \n",
        "\n",
        "        # Set x axis label\n",
        "        ax[i,j].set_xlabel(column.title(),fontdict=fontAxis)\n",
        "    \n",
        "        # Get x-ticks, rotate labels, and return\n",
        "        xticklab1 = ax[i,j].get_xticklabels(which = 'both')\n",
        "        ax[i,j].set_xticklabels(labels=xticklab1, fontdict=fontTicks, rotation=45)\n",
        "        ax[i,j].xaxis.set_major_formatter(mtick.ScalarFormatter())\n",
        "\n",
        "        \n",
        "        # Set y-label \n",
        "        ax[i,j].set_ylabel('Density',fontdict=fontAxis)\n",
        "        yticklab1=ax[i,j].get_yticklabels(which='both')\n",
        "        ax[i,j].set_yticklabels(labels=yticklab1,fontdict=fontTicks)\n",
        "        ax[i,j].yaxis.set_major_formatter(mtick.ScalarFormatter())\n",
        "        \n",
        "        \n",
        "        # Set y-grid\n",
        "        ax[i, j].set_axisbelow(True)\n",
        "        ax[i, j].grid(axis='y',ls='--')\n",
        "\n",
        "\n",
        "        \n",
        "        \n",
        "        ## ----- SUBPLOT 2-----  ##\n",
        "        i,j = 0,1\n",
        "        ax[i,j].set_title(column.capitalize(),fontdict=fontTitle)\n",
        "\n",
        "        # Define the ketword dictionaries for  scatter plot and regression line (subplot 2)\n",
        "        line_kws={\"color\":\"white\",\"alpha\":0.5,\"lw\":4,\"ls\":\":\"}\n",
        "        scatter_kws={'s': 2, 'alpha': 0.5,'marker':'.','color':'blue'}\n",
        "\n",
        "        # Plot regplot on ax[i,j] using line_kws and scatter_kws\n",
        "        sns.regplot(df[column], df[target], \n",
        "                    line_kws = line_kws,\n",
        "                    scatter_kws = scatter_kws,\n",
        "                    ax=ax[i,j])\n",
        "        \n",
        "        # Set x-axis label\n",
        "        ax[i,j].set_xlabel(column.title(),fontdict=fontAxis)\n",
        "\n",
        "         # Get x ticks, rotate labels, and return\n",
        "        xticklab2=ax[i,j].get_xticklabels(which='both')\n",
        "        ax[i,j].set_xticklabels(labels=xticklab2,fontdict=fontTicks, rotation=45)\n",
        "        ax[i,j].xaxis.set_major_formatter(mtick.ScalarFormatter())\n",
        "\n",
        "        # Set  y-axis label\n",
        "        ax[i,j].set_ylabel(target,fontdict=fontAxis)\n",
        "        \n",
        "        # Get, set, and format y-axis Price labels\n",
        "        yticklab = ax[i,j].get_yticklabels()\n",
        "        ax[i,j].set_yticklabels(yticklab,fontdict=fontTicks)\n",
        "        ax[i,j].yaxis.set_major_formatter(mtick.ScalarFormatter())\n",
        "\n",
        "#         ax[i,j].get_yaxis().set_major_formatter(tickPrice) \n",
        "\n",
        "        # Set y-grid\n",
        "        ax[i, j].set_axisbelow(True)\n",
        "        ax[i, j].grid(axis='y',ls='--')       \n",
        "        \n",
        "        ## ---------- Final layout adjustments ----------- ##\n",
        "        # Deleted unused subplots \n",
        "        fig.delaxes(ax[1,1])\n",
        "        fig.delaxes(ax[1,0])\n",
        "\n",
        "        # Optimizing spatial layout\n",
        "        fig.tight_layout()\n",
        "        figtitle=column+'_dist_regr_plots.png'\n",
        "        plt.savefig(figtitle)\n",
        "    return "
      ],
      "execution_count": 0,
      "outputs": []
    },
    {
      "metadata": {
        "colab_type": "text",
        "id": "BVwy49ADwwQn"
      },
      "cell_type": "markdown",
      "source": [
        "## Defining Functions (Proj 2 specific)"
      ]
    },
    {
      "metadata": {
        "colab_type": "text",
        "id": "nkPB_HcdwwQo"
      },
      "cell_type": "markdown",
      "source": [
        "### def list2df"
      ]
    },
    {
      "metadata": {
        "colab_type": "code",
        "id": "TwdV-j85wwQp",
        "colab": {}
      },
      "cell_type": "code",
      "source": [
        "def list2df(list):#, sort_values='index'):\n",
        "    \"\"\" Take in a list where row[0] = column_names and outputs a dataframe.\n",
        "    \n",
        "    Keyword arguments:\n",
        "    set_index -- df.set_index(set_index)\n",
        "    sortby -- df.sorted()\n",
        "    \"\"\"    \n",
        "    \n",
        "    df_list = pd.DataFrame(list[1:],columns=list[0])\n",
        "#     df_list = df_list[1:]\n",
        "\n",
        "    return df_list"
      ],
      "execution_count": 0,
      "outputs": []
    },
    {
      "metadata": {
        "colab_type": "text",
        "id": "ekTOehxHwwQu"
      },
      "cell_type": "markdown",
      "source": [
        "### def get_col_info"
      ]
    },
    {
      "metadata": {
        "colab_type": "code",
        "id": "LOaNcafFwwQv",
        "colab": {}
      },
      "cell_type": "code",
      "source": [
        "def  get_col_info(col_name):\n",
        "    \n",
        "    col_list = inspector.get_columns(col_name)\n",
        "    \n",
        "    column_info = [['table','column','dtype']]\n",
        "    print(f'Table Name: {col_name}\\n')\n",
        "\n",
        "    for col in col_list:\n",
        "        column_info.append([str(col_name),col['name'], col['type']])\n",
        "        \n",
        "    df = list2df(column_info)\n",
        "    return column_info"
      ],
      "execution_count": 0,
      "outputs": []
    },
    {
      "metadata": {
        "colab_type": "text",
        "id": "XrvSuzkKwwQz"
      },
      "cell_type": "markdown",
      "source": [
        "### def get_full_table_info"
      ]
    },
    {
      "metadata": {
        "colab_type": "code",
        "id": "A0bruXiLwwQ0",
        "colab": {}
      },
      "cell_type": "code",
      "source": [
        "def  get_full_table_info(engine):\n",
        "    \n",
        "    column_info = [['table','column','dtype']]\n",
        "    \n",
        "    list_tables= engine.table_names()\n",
        "    \n",
        "    for table in list_tables:\n",
        "        \n",
        "        col_list = inspector.get_columns(table)\n",
        "        \n",
        "        for col in col_list:\n",
        "            \n",
        "            column_info.append([str(table),col['name'], col['type'],col['']])\n",
        "            inspector.get_foreign_keys()\n",
        "    \n",
        "    df = list2df(column_info)\n",
        "    return df"
      ],
      "execution_count": 0,
      "outputs": []
    },
    {
      "metadata": {
        "colab_type": "code",
        "id": "Ne6vEM4CwwQ3",
        "colab": {}
      },
      "cell_type": "code",
      "source": [
        "# From Mike\n",
        "def describe_outliers(df):\n",
        "    out_count = 0\n",
        "    new_df = pd.DataFrame(columns=['total_outliers', 'percent_total'])\n",
        "    for col in df.columns:\n",
        "        outies = find_outliers(df[col])\n",
        "        out_count += len(outies) \n",
        "        new_df.loc[col] = [len(outies), round((len(outies)/len(df.index))*100, 2)]\n",
        "    new_df.loc['grand_total'] = [sum(new_df['total_outliers']), sum(new_df['percent_total'])]\n",
        "    return new_df"
      ],
      "execution_count": 0,
      "outputs": []
    },
    {
      "metadata": {
        "id": "G-vIN-Vm7Fts",
        "colab_type": "code",
        "colab": {}
      },
      "cell_type": "code",
      "source": [
        "#### Cohen's d\n",
        "def Cohen_d(group1, group2):\n",
        "    # Compute Cohen's d.\n",
        "    # group1: Series or NumPy array\n",
        "    # group2: Series or NumPy array\n",
        "    # returns a floating point number \n",
        "    diff = group1.mean() - group2.mean()\n",
        "\n",
        "    n1, n2 = len(group1), len(group2)\n",
        "    var1 = group1.var()\n",
        "    var2 = group2.var()\n",
        "\n",
        "    # Calculate the pooled threshold as shown earlier\n",
        "    pooled_var = (n1 * var1 + n2 * var2) / (n1 + n2)\n",
        "    \n",
        "    # Calculate Cohen's d statistic\n",
        "    d = diff / np.sqrt(pooled_var)\n",
        "    \n",
        "    return d\n",
        "\n",
        "\n",
        "def plot_pdfs(cohen_d=2):\n",
        "    \"\"\"Plot PDFs for distributions that differ by some number of stds.\n",
        "    \n",
        "    cohen_d: number of standard deviations between the means\n",
        "    \"\"\"\n",
        "    group1 = scipy.stats.norm(0, 1)\n",
        "    group2 = scipy.stats.norm(cohen_d, 1)\n",
        "    xs, ys = evaluate_PDF(group1)\n",
        "    pyplot.fill_between(xs, ys, label='Group1', color='#ff2289', alpha=0.7)\n",
        "\n",
        "    xs, ys = evaluate_PDF(group2)\n",
        "    pyplot.fill_between(xs, ys, label='Group2', color='#376cb0', alpha=0.7)\n",
        "    \n",
        "    o, s = overlap_superiority(group1, group2)\n",
        "    print('overlap', o)\n",
        "    print('superiority', s)"
      ],
      "execution_count": 0,
      "outputs": []
    },
    {
      "metadata": {
        "colab_type": "text",
        "id": "7mKcl3fkwwQ6"
      },
      "cell_type": "markdown",
      "source": [
        "# IMPORTING DATA"
      ]
    },
    {
      "metadata": {
        "id": "Xhtq20r5iSVw",
        "colab_type": "text"
      },
      "cell_type": "markdown",
      "source": [
        "#### THIS VERSION FO THE CODE WORKED TO GET SQLITE WORKING ON COLAB:\n",
        " ```python\n",
        "from google.colab import drive\n",
        "drive.mount('/content/drive/', force_remount=True) \n",
        "\n",
        "\n",
        "filepath = '/content/drive/My Drive/Colab Notebooks/datasets/Northwind_small.sqlite'\n",
        "#-------------------\n",
        "# Testing minimal version of prior code\n",
        "import sqlite3\n",
        "from sqlalchemy import create_engine, inspect\n",
        "# from sqlalchemy import Table, Column, Integer, String, MetaData, ForeignKey,text, Float\n",
        "\n",
        "engine = create_engine('sqlite:///'+filepath,echo=True)\n",
        "inspector = inspect(engine);\n",
        "db_tables = inspector.get_table_names()\n",
        "print('\\n',db_tables);\n",
        "```"
      ]
    },
    {
      "metadata": {
        "colab_type": "code",
        "id": "N0O4-cWq1N53",
        "outputId": "4c188558-a3e4-415c-bf86-e92a14d6373f",
        "cellView": "both",
        "colab": {
          "base_uri": "https://localhost:8080/",
          "height": 124
        }
      },
      "cell_type": "code",
      "source": [
        "# @title\n",
        "#The northwind.sqlite is located in: content/drive/My Drive/Colab Notebooks/datasets/Northwind_small.sqlite\n",
        "from google.colab import drive\n",
        "drive.mount('/content/drive/', force_remount=True) \n",
        "\n",
        "# !ln -s \"gdrive/My Drive/Colab Notebooks/\" # \"/content/Colab Notebooks\" # I tried to make a link to just load folder but it didn't work. \n"
      ],
      "execution_count": 10,
      "outputs": [
        {
          "output_type": "stream",
          "text": [
            "Go to this URL in a browser: https://accounts.google.com/o/oauth2/auth?client_id=947318989803-6bn6qk8qdgf4n4g3pfee6491hc0brc4i.apps.googleusercontent.com&redirect_uri=urn%3Aietf%3Awg%3Aoauth%3A2.0%3Aoob&scope=email%20https%3A%2F%2Fwww.googleapis.com%2Fauth%2Fdocs.test%20https%3A%2F%2Fwww.googleapis.com%2Fauth%2Fdrive%20https%3A%2F%2Fwww.googleapis.com%2Fauth%2Fdrive.photos.readonly%20https%3A%2F%2Fwww.googleapis.com%2Fauth%2Fpeopleapi.readonly&response_type=code\n",
            "\n",
            "Enter your authorization code:\n",
            "··········\n",
            "Mounted at /content/drive/\n"
          ],
          "name": "stdout"
        }
      ]
    },
    {
      "metadata": {
        "colab_type": "code",
        "id": "NGfWlIw45Xs1",
        "outputId": "5f0c0f5c-42e5-4f86-d9e6-c007e0274e8c",
        "colab": {
          "base_uri": "https://localhost:8080/",
          "height": 175
        }
      },
      "cell_type": "code",
      "source": [
        "\n",
        "filepath = '/content/drive/My Drive/Colab Notebooks/datasets/Northwind_small.sqlite'\n",
        "#-------------------\n",
        "# Testing minimal version of prior code\n",
        "import sqlite3\n",
        "from sqlalchemy import create_engine, inspect\n",
        "# from sqlalchemy import Table, Column, Integer, String, MetaData, ForeignKey,text, Float\n",
        "\n",
        "engine = create_engine('sqlite:///'+filepath,echo=True)\n",
        "inspector = inspect(engine);\n",
        "db_tables = inspector.get_table_names()\n",
        "print('\\n',db_tables);"
      ],
      "execution_count": 11,
      "outputs": [
        {
          "output_type": "stream",
          "text": [
            "2019-04-05 13:33:50,294 INFO sqlalchemy.engine.base.Engine SELECT CAST('test plain returns' AS VARCHAR(60)) AS anon_1\n",
            "2019-04-05 13:33:50,295 INFO sqlalchemy.engine.base.Engine ()\n",
            "2019-04-05 13:33:50,299 INFO sqlalchemy.engine.base.Engine SELECT CAST('test unicode returns' AS VARCHAR(60)) AS anon_1\n",
            "2019-04-05 13:33:50,300 INFO sqlalchemy.engine.base.Engine ()\n",
            "2019-04-05 13:33:50,307 INFO sqlalchemy.engine.base.Engine SELECT name FROM sqlite_master WHERE type='table' ORDER BY name\n",
            "2019-04-05 13:33:50,309 INFO sqlalchemy.engine.base.Engine ()\n",
            "\n",
            " ['Category', 'Customer', 'CustomerCustomerDemo', 'CustomerDemographic', 'Employee', 'EmployeeTerritory', 'Order', 'OrderDetail', 'Product', 'Region', 'Shipper', 'Supplier', 'Territory']\n"
          ],
          "name": "stdout"
        }
      ]
    },
    {
      "metadata": {
        "colab_type": "code",
        "id": "zEqu9PbxwwQ8",
        "colab": {}
      },
      "cell_type": "code",
      "source": [
        "# # Testing minimal version of prior code\n",
        "# import sqlite3\n",
        "# from sqlalchemy import create_engine, inspect\n",
        "# from sqlalchemy import Table, Column, Integer, String, MetaData, ForeignKey,text, Float\n",
        "\n",
        "# engine = create_engine(\"sqlite:///Northwind_small.sqlite\",echo=True)\n",
        "# inspector = inspect(engine);\n",
        "# db_tables = inspector.get_table_names()\n",
        "# print('\\n',db_tables);"
      ],
      "execution_count": 0,
      "outputs": []
    },
    {
      "metadata": {
        "colab_type": "text",
        "id": "Lz_NZXdJ55r8"
      },
      "cell_type": "markdown",
      "source": [
        "### YAY! The Sqlite file is working!\n"
      ]
    },
    {
      "metadata": {
        "colab_type": "text",
        "id": "1BgHrsVywwQ6"
      },
      "cell_type": "markdown",
      "source": [
        "### Importing Method \n",
        "- Use sqlalchemy to create engine to connect to Northwind_small.sqlite.\n",
        "- use pd.read_sql_query('SELECT * FROM OrderDetail',egine) to directly read db into df"
      ]
    },
    {
      "metadata": {
        "colab_type": "code",
        "id": "slE9zwdIwwRF",
        "outputId": "bd873a69-38b3-42ad-a9f7-38e779aeb1f2",
        "colab": {
          "base_uri": "https://localhost:8080/",
          "height": 297
        }
      },
      "cell_type": "code",
      "source": [
        "list2df(get_col_info('OrderDetail'))"
      ],
      "execution_count": 13,
      "outputs": [
        {
          "output_type": "stream",
          "text": [
            "2019-04-05 13:33:50,345 INFO sqlalchemy.engine.base.Engine PRAGMA table_info(\"OrderDetail\")\n",
            "2019-04-05 13:33:50,348 INFO sqlalchemy.engine.base.Engine ()\n",
            "Table Name: OrderDetail\n",
            "\n"
          ],
          "name": "stdout"
        },
        {
          "output_type": "execute_result",
          "data": {
            "text/html": [
              "<div>\n",
              "<style scoped>\n",
              "    .dataframe tbody tr th:only-of-type {\n",
              "        vertical-align: middle;\n",
              "    }\n",
              "\n",
              "    .dataframe tbody tr th {\n",
              "        vertical-align: top;\n",
              "    }\n",
              "\n",
              "    .dataframe thead th {\n",
              "        text-align: right;\n",
              "    }\n",
              "</style>\n",
              "<table border=\"1\" class=\"dataframe\">\n",
              "  <thead>\n",
              "    <tr style=\"text-align: right;\">\n",
              "      <th></th>\n",
              "      <th>table</th>\n",
              "      <th>column</th>\n",
              "      <th>dtype</th>\n",
              "    </tr>\n",
              "  </thead>\n",
              "  <tbody>\n",
              "    <tr>\n",
              "      <th>0</th>\n",
              "      <td>OrderDetail</td>\n",
              "      <td>Id</td>\n",
              "      <td>VARCHAR(8000)</td>\n",
              "    </tr>\n",
              "    <tr>\n",
              "      <th>1</th>\n",
              "      <td>OrderDetail</td>\n",
              "      <td>OrderId</td>\n",
              "      <td>INTEGER</td>\n",
              "    </tr>\n",
              "    <tr>\n",
              "      <th>2</th>\n",
              "      <td>OrderDetail</td>\n",
              "      <td>ProductId</td>\n",
              "      <td>INTEGER</td>\n",
              "    </tr>\n",
              "    <tr>\n",
              "      <th>3</th>\n",
              "      <td>OrderDetail</td>\n",
              "      <td>UnitPrice</td>\n",
              "      <td>DECIMAL</td>\n",
              "    </tr>\n",
              "    <tr>\n",
              "      <th>4</th>\n",
              "      <td>OrderDetail</td>\n",
              "      <td>Quantity</td>\n",
              "      <td>INTEGER</td>\n",
              "    </tr>\n",
              "    <tr>\n",
              "      <th>5</th>\n",
              "      <td>OrderDetail</td>\n",
              "      <td>Discount</td>\n",
              "      <td>FLOAT</td>\n",
              "    </tr>\n",
              "  </tbody>\n",
              "</table>\n",
              "</div>"
            ],
            "text/plain": [
              "         table     column          dtype\n",
              "0  OrderDetail         Id  VARCHAR(8000)\n",
              "1  OrderDetail    OrderId        INTEGER\n",
              "2  OrderDetail  ProductId        INTEGER\n",
              "3  OrderDetail  UnitPrice        DECIMAL\n",
              "4  OrderDetail   Quantity        INTEGER\n",
              "5  OrderDetail   Discount          FLOAT"
            ]
          },
          "metadata": {
            "tags": []
          },
          "execution_count": 13
        }
      ]
    },
    {
      "metadata": {
        "colab_type": "code",
        "id": "grfRrQwj6Ff8",
        "colab": {}
      },
      "cell_type": "code",
      "source": [
        ""
      ],
      "execution_count": 0,
      "outputs": []
    },
    {
      "metadata": {
        "colab_type": "text",
        "id": "fcYXKTJe-bjt"
      },
      "cell_type": "markdown",
      "source": [
        "___\n",
        "# Hypothesis 1: discounted vs non-discounted quantites"
      ]
    },
    {
      "metadata": {
        "colab_type": "code",
        "id": "8r91sfLGwwRK",
        "outputId": "5098b8b8-d614-452c-881e-59cd510b3cd9",
        "colab": {
          "base_uri": "https://localhost:8080/",
          "height": 233
        }
      },
      "cell_type": "code",
      "source": [
        "# We want to test hypothesis one, so we need OrderDetail table.\n",
        "table_to_test = \"OrderDetail\"\n",
        "df = pd.read_sql_query(\"SELECT * FROM OrderDetail\",  engine)\n",
        "df.head()"
      ],
      "execution_count": 14,
      "outputs": [
        {
          "output_type": "stream",
          "text": [
            "2019-04-05 13:33:50,395 INFO sqlalchemy.engine.base.Engine SELECT * FROM OrderDetail\n",
            "2019-04-05 13:33:50,396 INFO sqlalchemy.engine.base.Engine ()\n"
          ],
          "name": "stdout"
        },
        {
          "output_type": "execute_result",
          "data": {
            "text/html": [
              "<div>\n",
              "<style scoped>\n",
              "    .dataframe tbody tr th:only-of-type {\n",
              "        vertical-align: middle;\n",
              "    }\n",
              "\n",
              "    .dataframe tbody tr th {\n",
              "        vertical-align: top;\n",
              "    }\n",
              "\n",
              "    .dataframe thead th {\n",
              "        text-align: right;\n",
              "    }\n",
              "</style>\n",
              "<table border=\"1\" class=\"dataframe\">\n",
              "  <thead>\n",
              "    <tr style=\"text-align: right;\">\n",
              "      <th></th>\n",
              "      <th>Id</th>\n",
              "      <th>OrderId</th>\n",
              "      <th>ProductId</th>\n",
              "      <th>UnitPrice</th>\n",
              "      <th>Quantity</th>\n",
              "      <th>Discount</th>\n",
              "    </tr>\n",
              "  </thead>\n",
              "  <tbody>\n",
              "    <tr>\n",
              "      <th>0</th>\n",
              "      <td>10248/11</td>\n",
              "      <td>10248</td>\n",
              "      <td>11</td>\n",
              "      <td>14.0</td>\n",
              "      <td>12</td>\n",
              "      <td>0.0</td>\n",
              "    </tr>\n",
              "    <tr>\n",
              "      <th>1</th>\n",
              "      <td>10248/42</td>\n",
              "      <td>10248</td>\n",
              "      <td>42</td>\n",
              "      <td>9.8</td>\n",
              "      <td>10</td>\n",
              "      <td>0.0</td>\n",
              "    </tr>\n",
              "    <tr>\n",
              "      <th>2</th>\n",
              "      <td>10248/72</td>\n",
              "      <td>10248</td>\n",
              "      <td>72</td>\n",
              "      <td>34.8</td>\n",
              "      <td>5</td>\n",
              "      <td>0.0</td>\n",
              "    </tr>\n",
              "    <tr>\n",
              "      <th>3</th>\n",
              "      <td>10249/14</td>\n",
              "      <td>10249</td>\n",
              "      <td>14</td>\n",
              "      <td>18.6</td>\n",
              "      <td>9</td>\n",
              "      <td>0.0</td>\n",
              "    </tr>\n",
              "    <tr>\n",
              "      <th>4</th>\n",
              "      <td>10249/51</td>\n",
              "      <td>10249</td>\n",
              "      <td>51</td>\n",
              "      <td>42.4</td>\n",
              "      <td>40</td>\n",
              "      <td>0.0</td>\n",
              "    </tr>\n",
              "  </tbody>\n",
              "</table>\n",
              "</div>"
            ],
            "text/plain": [
              "         Id  OrderId  ProductId  UnitPrice  Quantity  Discount\n",
              "0  10248/11    10248         11       14.0        12       0.0\n",
              "1  10248/42    10248         42        9.8        10       0.0\n",
              "2  10248/72    10248         72       34.8         5       0.0\n",
              "3  10249/14    10249         14       18.6         9       0.0\n",
              "4  10249/51    10249         51       42.4        40       0.0"
            ]
          },
          "metadata": {
            "tags": []
          },
          "execution_count": 14
        }
      ]
    },
    {
      "metadata": {
        "colab_type": "code",
        "id": "bHdkczoawwRO",
        "scrolled": true,
        "outputId": "4ee8f387-5de8-4d8e-ebb8-6cfb797f16b6",
        "colab": {
          "base_uri": "https://localhost:8080/",
          "height": 207
        }
      },
      "cell_type": "code",
      "source": [
        "df.info()"
      ],
      "execution_count": 15,
      "outputs": [
        {
          "output_type": "stream",
          "text": [
            "<class 'pandas.core.frame.DataFrame'>\n",
            "RangeIndex: 2155 entries, 0 to 2154\n",
            "Data columns (total 6 columns):\n",
            "Id           2155 non-null object\n",
            "OrderId      2155 non-null int64\n",
            "ProductId    2155 non-null int64\n",
            "UnitPrice    2155 non-null float64\n",
            "Quantity     2155 non-null int64\n",
            "Discount     2155 non-null float64\n",
            "dtypes: float64(2), int64(3), object(1)\n",
            "memory usage: 101.1+ KB\n"
          ],
          "name": "stdout"
        }
      ]
    },
    {
      "metadata": {
        "colab_type": "code",
        "id": "hOZ_8uy7HuMr",
        "outputId": "7bd8c5a8-41d7-425b-e82d-a5d7b20faa66",
        "colab": {
          "base_uri": "https://localhost:8080/",
          "height": 35
        }
      },
      "cell_type": "code",
      "source": [
        "sorted(df['Discount'].unique())"
      ],
      "execution_count": 16,
      "outputs": [
        {
          "output_type": "execute_result",
          "data": {
            "text/plain": [
              "[0.0, 0.01, 0.02, 0.03, 0.04, 0.05, 0.06, 0.1, 0.15, 0.2, 0.25]"
            ]
          },
          "metadata": {
            "tags": []
          },
          "execution_count": 16
        }
      ]
    },
    {
      "metadata": {
        "colab_type": "text",
        "id": "u1V-i0y6wwTB",
        "scrolled": true
      },
      "cell_type": "markdown",
      "source": [
        "### Note on OrderDetails df:\n",
        "1. There are 11 possible values for discounts: \n",
        "    - Values = [0.0, 0.01, 0.02, 0.03, 0.04, 0.05, 0.06, 0.1, 0.15, 0.2, 0.25]<br>\n",
        "    ``` print(sorted(df['Discount'].unique())) ```\n",
        "2. Too many columns to see.\n",
        "    - Can I stack/unstack to see better?\n",
        "    \n",
        "### Now how to proceed?\n",
        "1. Check what I need to run a t-test in python. \n",
        "    - [ ] Once review, use info to determine next steps."
      ]
    },
    {
      "metadata": {
        "colab_type": "code",
        "id": "S7s99OFmwwRS",
        "outputId": "9d7eb899-48ef-4361-f80e-3daef9b003f6",
        "colab": {
          "base_uri": "https://localhost:8080/",
          "height": 173
        }
      },
      "cell_type": "code",
      "source": [
        "df['Quantity'].describe()"
      ],
      "execution_count": 17,
      "outputs": [
        {
          "output_type": "execute_result",
          "data": {
            "text/plain": [
              "count    2155.000000\n",
              "mean       23.812993\n",
              "std        19.022047\n",
              "min         1.000000\n",
              "25%        10.000000\n",
              "50%        20.000000\n",
              "75%        30.000000\n",
              "max       130.000000\n",
              "Name: Quantity, dtype: float64"
            ]
          },
          "metadata": {
            "tags": []
          },
          "execution_count": 17
        }
      ]
    },
    {
      "metadata": {
        "colab_type": "code",
        "id": "Hv1Y1NyQwwRW",
        "outputId": "06be042f-ecb7-434f-8ee5-ea85b2461297",
        "colab": {
          "base_uri": "https://localhost:8080/",
          "height": 384
        }
      },
      "cell_type": "code",
      "source": [
        "plt.style.use('default')\n",
        "              \n",
        "fig = plt.figure(num=1, figsize=(3,3))\n",
        "ax = fig.add_axes()\n",
        "sns.distplot(df['Quantity'],ax=ax)"
      ],
      "execution_count": 18,
      "outputs": [
        {
          "output_type": "stream",
          "text": [
            "/usr/local/lib/python3.6/dist-packages/matplotlib/axes/_axes.py:6521: MatplotlibDeprecationWarning: \n",
            "The 'normed' kwarg was deprecated in Matplotlib 2.1 and will be removed in 3.1. Use 'density' instead.\n",
            "  alternative=\"'density'\", removal=\"3.1\")\n"
          ],
          "name": "stderr"
        },
        {
          "output_type": "execute_result",
          "data": {
            "text/plain": [
              "<matplotlib.axes._subplots.AxesSubplot at 0x7f7869089e10>"
            ]
          },
          "metadata": {
            "tags": []
          },
          "execution_count": 18
        },
        {
          "output_type": "display_data",
          "data": {
            "image/png": "[encoded data removed]",
            "text/plain": [
              "<Figure size 300x300 with 1 Axes>"
            ]
          },
          "metadata": {
            "tags": []
          }
        }
      ]
    },
    {
      "metadata": {
        "colab_type": "code",
        "id": "VX6P3oYJwwRa",
        "outputId": "039f2ce8-ed8e-4ffc-fed4-0ba4f43c9f4e",
        "colab": {
          "base_uri": "https://localhost:8080/",
          "height": 1937
        }
      },
      "cell_type": "code",
      "source": [
        "# Examining descriptive stats by discount\n",
        "df.groupby('Discount').describe().stack()"
      ],
      "execution_count": 19,
      "outputs": [
        {
          "output_type": "execute_result",
          "data": {
            "text/html": [
              "<div>\n",
              "<style scoped>\n",
              "    .dataframe tbody tr th:only-of-type {\n",
              "        vertical-align: middle;\n",
              "    }\n",
              "\n",
              "    .dataframe tbody tr th {\n",
              "        vertical-align: top;\n",
              "    }\n",
              "\n",
              "    .dataframe thead th {\n",
              "        text-align: right;\n",
              "    }\n",
              "</style>\n",
              "<table border=\"1\" class=\"dataframe\">\n",
              "  <thead>\n",
              "    <tr style=\"text-align: right;\">\n",
              "      <th></th>\n",
              "      <th></th>\n",
              "      <th>OrderId</th>\n",
              "      <th>ProductId</th>\n",
              "      <th>Quantity</th>\n",
              "      <th>UnitPrice</th>\n",
              "    </tr>\n",
              "    <tr>\n",
              "      <th>Discount</th>\n",
              "      <th></th>\n",
              "      <th></th>\n",
              "      <th></th>\n",
              "      <th></th>\n",
              "      <th></th>\n",
              "    </tr>\n",
              "  </thead>\n",
              "  <tbody>\n",
              "    <tr>\n",
              "      <th rowspan=\"8\" valign=\"top\">0.00</th>\n",
              "      <th>count</th>\n",
              "      <td>1317.000000</td>\n",
              "      <td>1317.000000</td>\n",
              "      <td>1317.000000</td>\n",
              "      <td>1317.000000</td>\n",
              "    </tr>\n",
              "    <tr>\n",
              "      <th>mean</th>\n",
              "      <td>10662.791951</td>\n",
              "      <td>41.396355</td>\n",
              "      <td>21.715262</td>\n",
              "      <td>26.171534</td>\n",
              "    </tr>\n",
              "    <tr>\n",
              "      <th>std</th>\n",
              "      <td>244.835366</td>\n",
              "      <td>22.217410</td>\n",
              "      <td>17.507493</td>\n",
              "      <td>29.717354</td>\n",
              "    </tr>\n",
              "    <tr>\n",
              "      <th>min</th>\n",
              "      <td>10248.000000</td>\n",
              "      <td>1.000000</td>\n",
              "      <td>1.000000</td>\n",
              "      <td>2.000000</td>\n",
              "    </tr>\n",
              "    <tr>\n",
              "      <th>25%</th>\n",
              "      <td>10448.000000</td>\n",
              "      <td>23.000000</td>\n",
              "      <td>10.000000</td>\n",
              "      <td>12.000000</td>\n",
              "    </tr>\n",
              "    <tr>\n",
              "      <th>50%</th>\n",
              "      <td>10671.000000</td>\n",
              "      <td>41.000000</td>\n",
              "      <td>18.000000</td>\n",
              "      <td>18.400000</td>\n",
              "    </tr>\n",
              "    <tr>\n",
              "      <th>75%</th>\n",
              "      <td>10879.000000</td>\n",
              "      <td>60.000000</td>\n",
              "      <td>30.000000</td>\n",
              "      <td>32.800000</td>\n",
              "    </tr>\n",
              "    <tr>\n",
              "      <th>max</th>\n",
              "      <td>11077.000000</td>\n",
              "      <td>77.000000</td>\n",
              "      <td>130.000000</td>\n",
              "      <td>263.500000</td>\n",
              "    </tr>\n",
              "    <tr>\n",
              "      <th rowspan=\"7\" valign=\"top\">0.01</th>\n",
              "      <th>count</th>\n",
              "      <td>1.000000</td>\n",
              "      <td>1.000000</td>\n",
              "      <td>1.000000</td>\n",
              "      <td>1.000000</td>\n",
              "    </tr>\n",
              "    <tr>\n",
              "      <th>mean</th>\n",
              "      <td>11077.000000</td>\n",
              "      <td>73.000000</td>\n",
              "      <td>2.000000</td>\n",
              "      <td>15.000000</td>\n",
              "    </tr>\n",
              "    <tr>\n",
              "      <th>min</th>\n",
              "      <td>11077.000000</td>\n",
              "      <td>73.000000</td>\n",
              "      <td>2.000000</td>\n",
              "      <td>15.000000</td>\n",
              "    </tr>\n",
              "    <tr>\n",
              "      <th>25%</th>\n",
              "      <td>11077.000000</td>\n",
              "      <td>73.000000</td>\n",
              "      <td>2.000000</td>\n",
              "      <td>15.000000</td>\n",
              "    </tr>\n",
              "    <tr>\n",
              "      <th>50%</th>\n",
              "      <td>11077.000000</td>\n",
              "      <td>73.000000</td>\n",
              "      <td>2.000000</td>\n",
              "      <td>15.000000</td>\n",
              "    </tr>\n",
              "    <tr>\n",
              "      <th>75%</th>\n",
              "      <td>11077.000000</td>\n",
              "      <td>73.000000</td>\n",
              "      <td>2.000000</td>\n",
              "      <td>15.000000</td>\n",
              "    </tr>\n",
              "    <tr>\n",
              "      <th>max</th>\n",
              "      <td>11077.000000</td>\n",
              "      <td>73.000000</td>\n",
              "      <td>2.000000</td>\n",
              "      <td>15.000000</td>\n",
              "    </tr>\n",
              "    <tr>\n",
              "      <th rowspan=\"8\" valign=\"top\">0.02</th>\n",
              "      <th>count</th>\n",
              "      <td>2.000000</td>\n",
              "      <td>2.000000</td>\n",
              "      <td>2.000000</td>\n",
              "      <td>2.000000</td>\n",
              "    </tr>\n",
              "    <tr>\n",
              "      <th>mean</th>\n",
              "      <td>11077.000000</td>\n",
              "      <td>26.000000</td>\n",
              "      <td>2.000000</td>\n",
              "      <td>18.500000</td>\n",
              "    </tr>\n",
              "    <tr>\n",
              "      <th>std</th>\n",
              "      <td>0.000000</td>\n",
              "      <td>28.284271</td>\n",
              "      <td>1.414214</td>\n",
              "      <td>9.192388</td>\n",
              "    </tr>\n",
              "    <tr>\n",
              "      <th>min</th>\n",
              "      <td>11077.000000</td>\n",
              "      <td>6.000000</td>\n",
              "      <td>1.000000</td>\n",
              "      <td>12.000000</td>\n",
              "    </tr>\n",
              "    <tr>\n",
              "      <th>25%</th>\n",
              "      <td>11077.000000</td>\n",
              "      <td>16.000000</td>\n",
              "      <td>1.500000</td>\n",
              "      <td>15.250000</td>\n",
              "    </tr>\n",
              "    <tr>\n",
              "      <th>50%</th>\n",
              "      <td>11077.000000</td>\n",
              "      <td>26.000000</td>\n",
              "      <td>2.000000</td>\n",
              "      <td>18.500000</td>\n",
              "    </tr>\n",
              "    <tr>\n",
              "      <th>75%</th>\n",
              "      <td>11077.000000</td>\n",
              "      <td>36.000000</td>\n",
              "      <td>2.500000</td>\n",
              "      <td>21.750000</td>\n",
              "    </tr>\n",
              "    <tr>\n",
              "      <th>max</th>\n",
              "      <td>11077.000000</td>\n",
              "      <td>46.000000</td>\n",
              "      <td>3.000000</td>\n",
              "      <td>25.000000</td>\n",
              "    </tr>\n",
              "    <tr>\n",
              "      <th rowspan=\"7\" valign=\"top\">0.03</th>\n",
              "      <th>count</th>\n",
              "      <td>3.000000</td>\n",
              "      <td>3.000000</td>\n",
              "      <td>3.000000</td>\n",
              "      <td>3.000000</td>\n",
              "    </tr>\n",
              "    <tr>\n",
              "      <th>mean</th>\n",
              "      <td>11077.000000</td>\n",
              "      <td>31.333333</td>\n",
              "      <td>1.666667</td>\n",
              "      <td>24.650000</td>\n",
              "    </tr>\n",
              "    <tr>\n",
              "      <th>std</th>\n",
              "      <td>0.000000</td>\n",
              "      <td>28.307832</td>\n",
              "      <td>0.577350</td>\n",
              "      <td>7.992496</td>\n",
              "    </tr>\n",
              "    <tr>\n",
              "      <th>min</th>\n",
              "      <td>11077.000000</td>\n",
              "      <td>14.000000</td>\n",
              "      <td>1.000000</td>\n",
              "      <td>17.450000</td>\n",
              "    </tr>\n",
              "    <tr>\n",
              "      <th>25%</th>\n",
              "      <td>11077.000000</td>\n",
              "      <td>15.000000</td>\n",
              "      <td>1.500000</td>\n",
              "      <td>20.350000</td>\n",
              "    </tr>\n",
              "    <tr>\n",
              "      <th>50%</th>\n",
              "      <td>11077.000000</td>\n",
              "      <td>16.000000</td>\n",
              "      <td>2.000000</td>\n",
              "      <td>23.250000</td>\n",
              "    </tr>\n",
              "    <tr>\n",
              "      <th>75%</th>\n",
              "      <td>11077.000000</td>\n",
              "      <td>40.000000</td>\n",
              "      <td>2.000000</td>\n",
              "      <td>28.250000</td>\n",
              "    </tr>\n",
              "    <tr>\n",
              "      <th>...</th>\n",
              "      <th>...</th>\n",
              "      <td>...</td>\n",
              "      <td>...</td>\n",
              "      <td>...</td>\n",
              "      <td>...</td>\n",
              "    </tr>\n",
              "    <tr>\n",
              "      <th rowspan=\"6\" valign=\"top\">0.10</th>\n",
              "      <th>std</th>\n",
              "      <td>220.393484</td>\n",
              "      <td>21.766181</td>\n",
              "      <td>21.186503</td>\n",
              "      <td>30.679956</td>\n",
              "    </tr>\n",
              "    <tr>\n",
              "      <th>min</th>\n",
              "      <td>10288.000000</td>\n",
              "      <td>1.000000</td>\n",
              "      <td>2.000000</td>\n",
              "      <td>2.500000</td>\n",
              "    </tr>\n",
              "    <tr>\n",
              "      <th>25%</th>\n",
              "      <td>10420.000000</td>\n",
              "      <td>21.000000</td>\n",
              "      <td>10.000000</td>\n",
              "      <td>10.200000</td>\n",
              "    </tr>\n",
              "    <tr>\n",
              "      <th>50%</th>\n",
              "      <td>10541.000000</td>\n",
              "      <td>41.000000</td>\n",
              "      <td>20.000000</td>\n",
              "      <td>18.000000</td>\n",
              "    </tr>\n",
              "    <tr>\n",
              "      <th>75%</th>\n",
              "      <td>10764.000000</td>\n",
              "      <td>61.000000</td>\n",
              "      <td>30.000000</td>\n",
              "      <td>30.000000</td>\n",
              "    </tr>\n",
              "    <tr>\n",
              "      <th>max</th>\n",
              "      <td>11077.000000</td>\n",
              "      <td>77.000000</td>\n",
              "      <td>130.000000</td>\n",
              "      <td>263.500000</td>\n",
              "    </tr>\n",
              "    <tr>\n",
              "      <th rowspan=\"8\" valign=\"top\">0.15</th>\n",
              "      <th>count</th>\n",
              "      <td>157.000000</td>\n",
              "      <td>157.000000</td>\n",
              "      <td>157.000000</td>\n",
              "      <td>157.000000</td>\n",
              "    </tr>\n",
              "    <tr>\n",
              "      <th>mean</th>\n",
              "      <td>10656.025478</td>\n",
              "      <td>40.452229</td>\n",
              "      <td>28.382166</td>\n",
              "      <td>22.975924</td>\n",
              "    </tr>\n",
              "    <tr>\n",
              "      <th>std</th>\n",
              "      <td>239.767675</td>\n",
              "      <td>22.830885</td>\n",
              "      <td>20.923099</td>\n",
              "      <td>16.066346</td>\n",
              "    </tr>\n",
              "    <tr>\n",
              "      <th>min</th>\n",
              "      <td>10250.000000</td>\n",
              "      <td>1.000000</td>\n",
              "      <td>2.000000</td>\n",
              "      <td>2.500000</td>\n",
              "    </tr>\n",
              "    <tr>\n",
              "      <th>25%</th>\n",
              "      <td>10469.000000</td>\n",
              "      <td>21.000000</td>\n",
              "      <td>15.000000</td>\n",
              "      <td>12.750000</td>\n",
              "    </tr>\n",
              "    <tr>\n",
              "      <th>50%</th>\n",
              "      <td>10633.000000</td>\n",
              "      <td>43.000000</td>\n",
              "      <td>21.000000</td>\n",
              "      <td>18.000000</td>\n",
              "    </tr>\n",
              "    <tr>\n",
              "      <th>75%</th>\n",
              "      <td>10854.000000</td>\n",
              "      <td>59.000000</td>\n",
              "      <td>40.000000</td>\n",
              "      <td>32.000000</td>\n",
              "    </tr>\n",
              "    <tr>\n",
              "      <th>max</th>\n",
              "      <td>11075.000000</td>\n",
              "      <td>77.000000</td>\n",
              "      <td>100.000000</td>\n",
              "      <td>99.000000</td>\n",
              "    </tr>\n",
              "    <tr>\n",
              "      <th rowspan=\"8\" valign=\"top\">0.20</th>\n",
              "      <th>count</th>\n",
              "      <td>161.000000</td>\n",
              "      <td>161.000000</td>\n",
              "      <td>161.000000</td>\n",
              "      <td>161.000000</td>\n",
              "    </tr>\n",
              "    <tr>\n",
              "      <th>mean</th>\n",
              "      <td>10631.708075</td>\n",
              "      <td>40.031056</td>\n",
              "      <td>27.024845</td>\n",
              "      <td>23.526770</td>\n",
              "    </tr>\n",
              "    <tr>\n",
              "      <th>std</th>\n",
              "      <td>231.401724</td>\n",
              "      <td>22.795675</td>\n",
              "      <td>18.832801</td>\n",
              "      <td>25.090160</td>\n",
              "    </tr>\n",
              "    <tr>\n",
              "      <th>min</th>\n",
              "      <td>10258.000000</td>\n",
              "      <td>1.000000</td>\n",
              "      <td>2.000000</td>\n",
              "      <td>2.000000</td>\n",
              "    </tr>\n",
              "    <tr>\n",
              "      <th>25%</th>\n",
              "      <td>10430.000000</td>\n",
              "      <td>21.000000</td>\n",
              "      <td>12.000000</td>\n",
              "      <td>12.500000</td>\n",
              "    </tr>\n",
              "    <tr>\n",
              "      <th>50%</th>\n",
              "      <td>10597.000000</td>\n",
              "      <td>40.000000</td>\n",
              "      <td>21.000000</td>\n",
              "      <td>18.000000</td>\n",
              "    </tr>\n",
              "    <tr>\n",
              "      <th>75%</th>\n",
              "      <td>10796.000000</td>\n",
              "      <td>59.000000</td>\n",
              "      <td>40.000000</td>\n",
              "      <td>27.200000</td>\n",
              "    </tr>\n",
              "    <tr>\n",
              "      <th>max</th>\n",
              "      <td>11077.000000</td>\n",
              "      <td>77.000000</td>\n",
              "      <td>100.000000</td>\n",
              "      <td>210.800000</td>\n",
              "    </tr>\n",
              "    <tr>\n",
              "      <th rowspan=\"8\" valign=\"top\">0.25</th>\n",
              "      <th>count</th>\n",
              "      <td>154.000000</td>\n",
              "      <td>154.000000</td>\n",
              "      <td>154.000000</td>\n",
              "      <td>154.000000</td>\n",
              "    </tr>\n",
              "    <tr>\n",
              "      <th>mean</th>\n",
              "      <td>10706.500000</td>\n",
              "      <td>37.792208</td>\n",
              "      <td>28.240260</td>\n",
              "      <td>28.214416</td>\n",
              "    </tr>\n",
              "    <tr>\n",
              "      <th>std</th>\n",
              "      <td>233.827383</td>\n",
              "      <td>22.343625</td>\n",
              "      <td>20.120570</td>\n",
              "      <td>28.762396</td>\n",
              "    </tr>\n",
              "    <tr>\n",
              "      <th>min</th>\n",
              "      <td>10260.000000</td>\n",
              "      <td>1.000000</td>\n",
              "      <td>2.000000</td>\n",
              "      <td>2.500000</td>\n",
              "    </tr>\n",
              "    <tr>\n",
              "      <th>25%</th>\n",
              "      <td>10500.750000</td>\n",
              "      <td>19.000000</td>\n",
              "      <td>15.000000</td>\n",
              "      <td>12.625000</td>\n",
              "    </tr>\n",
              "    <tr>\n",
              "      <th>50%</th>\n",
              "      <td>10716.500000</td>\n",
              "      <td>35.500000</td>\n",
              "      <td>25.000000</td>\n",
              "      <td>19.000000</td>\n",
              "    </tr>\n",
              "    <tr>\n",
              "      <th>75%</th>\n",
              "      <td>10912.000000</td>\n",
              "      <td>57.750000</td>\n",
              "      <td>36.000000</td>\n",
              "      <td>34.000000</td>\n",
              "    </tr>\n",
              "    <tr>\n",
              "      <th>max</th>\n",
              "      <td>11076.000000</td>\n",
              "      <td>77.000000</td>\n",
              "      <td>120.000000</td>\n",
              "      <td>210.800000</td>\n",
              "    </tr>\n",
              "  </tbody>\n",
              "</table>\n",
              "<p>85 rows × 4 columns</p>\n",
              "</div>"
            ],
            "text/plain": [
              "                     OrderId    ProductId     Quantity    UnitPrice\n",
              "Discount                                                           \n",
              "0.00     count   1317.000000  1317.000000  1317.000000  1317.000000\n",
              "         mean   10662.791951    41.396355    21.715262    26.171534\n",
              "         std      244.835366    22.217410    17.507493    29.717354\n",
              "         min    10248.000000     1.000000     1.000000     2.000000\n",
              "         25%    10448.000000    23.000000    10.000000    12.000000\n",
              "         50%    10671.000000    41.000000    18.000000    18.400000\n",
              "         75%    10879.000000    60.000000    30.000000    32.800000\n",
              "         max    11077.000000    77.000000   130.000000   263.500000\n",
              "0.01     count      1.000000     1.000000     1.000000     1.000000\n",
              "         mean   11077.000000    73.000000     2.000000    15.000000\n",
              "         min    11077.000000    73.000000     2.000000    15.000000\n",
              "         25%    11077.000000    73.000000     2.000000    15.000000\n",
              "         50%    11077.000000    73.000000     2.000000    15.000000\n",
              "         75%    11077.000000    73.000000     2.000000    15.000000\n",
              "         max    11077.000000    73.000000     2.000000    15.000000\n",
              "0.02     count      2.000000     2.000000     2.000000     2.000000\n",
              "         mean   11077.000000    26.000000     2.000000    18.500000\n",
              "         std        0.000000    28.284271     1.414214     9.192388\n",
              "         min    11077.000000     6.000000     1.000000    12.000000\n",
              "         25%    11077.000000    16.000000     1.500000    15.250000\n",
              "         50%    11077.000000    26.000000     2.000000    18.500000\n",
              "         75%    11077.000000    36.000000     2.500000    21.750000\n",
              "         max    11077.000000    46.000000     3.000000    25.000000\n",
              "0.03     count      3.000000     3.000000     3.000000     3.000000\n",
              "         mean   11077.000000    31.333333     1.666667    24.650000\n",
              "         std        0.000000    28.307832     0.577350     7.992496\n",
              "         min    11077.000000    14.000000     1.000000    17.450000\n",
              "         25%    11077.000000    15.000000     1.500000    20.350000\n",
              "         50%    11077.000000    16.000000     2.000000    23.250000\n",
              "         75%    11077.000000    40.000000     2.000000    28.250000\n",
              "...                      ...          ...          ...          ...\n",
              "0.10     std      220.393484    21.766181    21.186503    30.679956\n",
              "         min    10288.000000     1.000000     2.000000     2.500000\n",
              "         25%    10420.000000    21.000000    10.000000    10.200000\n",
              "         50%    10541.000000    41.000000    20.000000    18.000000\n",
              "         75%    10764.000000    61.000000    30.000000    30.000000\n",
              "         max    11077.000000    77.000000   130.000000   263.500000\n",
              "0.15     count    157.000000   157.000000   157.000000   157.000000\n",
              "         mean   10656.025478    40.452229    28.382166    22.975924\n",
              "         std      239.767675    22.830885    20.923099    16.066346\n",
              "         min    10250.000000     1.000000     2.000000     2.500000\n",
              "         25%    10469.000000    21.000000    15.000000    12.750000\n",
              "         50%    10633.000000    43.000000    21.000000    18.000000\n",
              "         75%    10854.000000    59.000000    40.000000    32.000000\n",
              "         max    11075.000000    77.000000   100.000000    99.000000\n",
              "0.20     count    161.000000   161.000000   161.000000   161.000000\n",
              "         mean   10631.708075    40.031056    27.024845    23.526770\n",
              "         std      231.401724    22.795675    18.832801    25.090160\n",
              "         min    10258.000000     1.000000     2.000000     2.000000\n",
              "         25%    10430.000000    21.000000    12.000000    12.500000\n",
              "         50%    10597.000000    40.000000    21.000000    18.000000\n",
              "         75%    10796.000000    59.000000    40.000000    27.200000\n",
              "         max    11077.000000    77.000000   100.000000   210.800000\n",
              "0.25     count    154.000000   154.000000   154.000000   154.000000\n",
              "         mean   10706.500000    37.792208    28.240260    28.214416\n",
              "         std      233.827383    22.343625    20.120570    28.762396\n",
              "         min    10260.000000     1.000000     2.000000     2.500000\n",
              "         25%    10500.750000    19.000000    15.000000    12.625000\n",
              "         50%    10716.500000    35.500000    25.000000    19.000000\n",
              "         75%    10912.000000    57.750000    36.000000    34.000000\n",
              "         max    11076.000000    77.000000   120.000000   210.800000\n",
              "\n",
              "[85 rows x 4 columns]"
            ]
          },
          "metadata": {
            "tags": []
          },
          "execution_count": 19
        }
      ]
    },
    {
      "metadata": {
        "colab_type": "text",
        "id": "xVFJ3FrcwwRe"
      },
      "cell_type": "markdown",
      "source": [
        ""
      ]
    },
    {
      "metadata": {
        "colab_type": "text",
        "id": "Zx9Gwa4bwwRf"
      },
      "cell_type": "markdown",
      "source": [
        ""
      ]
    },
    {
      "metadata": {
        "colab_type": "text",
        "id": "QHAKqLPM96FU"
      },
      "cell_type": "markdown",
      "source": [
        ""
      ]
    },
    {
      "metadata": {
        "colab_type": "text",
        "id": "q-uvY3EMwwRg"
      },
      "cell_type": "markdown",
      "source": [
        "## Processing df into 2 for normalizaiton and ttest\n",
        "1. We were first separating the dataframe into the groups we wanted to test. \n",
        "2. **@NOW**: ADDING IN OUTLIER REMOVAL\n",
        "- separate df into 2 dfs:\n",
        "    - df_disc\n",
        "    - df_no_disc\n",
        "- run each df thought detect_outliers to get outlier index\n",
        "\n",
        "```python\n",
        "outliers_disc = detect_outliers(df_disc,0,['Quantity])\n",
        "outliers_no_disc = detect_outliers(df_no_disc,0,['Quantity])\n",
        "```\n",
        "- To see outliers just do:\n",
        "```python\n",
        "df_disc = df_disc.loc[df['Discount']>0]\n",
        "df_disc.head()\n",
        "```\n",
        "\n",
        "- To drop outliers dO:\n",
        "```python\n",
        "df_disc.loc[outliers_disc]=np.nan\n",
        "df_disc.dropna() #?\n",
        "```"
      ]
    },
    {
      "metadata": {
        "colab_type": "text",
        "id": "vefLX4WswwRg"
      },
      "cell_type": "markdown",
      "source": [
        "#### 1. We were first separating the dataframe into the groups we wanted to test. \n"
      ]
    },
    {
      "metadata": {
        "colab_type": "code",
        "id": "W_tI5InvwwRi",
        "outputId": "bf9f6cda-3220-44d6-dfe5-3bb0168d6ea4",
        "colab": {
          "base_uri": "https://localhost:8080/",
          "height": 108
        }
      },
      "cell_type": "code",
      "source": [
        "df_disc = df.loc[df['Discount']>0]\n",
        "df_disc.head(2)"
      ],
      "execution_count": 20,
      "outputs": [
        {
          "output_type": "execute_result",
          "data": {
            "text/html": [
              "<div>\n",
              "<style scoped>\n",
              "    .dataframe tbody tr th:only-of-type {\n",
              "        vertical-align: middle;\n",
              "    }\n",
              "\n",
              "    .dataframe tbody tr th {\n",
              "        vertical-align: top;\n",
              "    }\n",
              "\n",
              "    .dataframe thead th {\n",
              "        text-align: right;\n",
              "    }\n",
              "</style>\n",
              "<table border=\"1\" class=\"dataframe\">\n",
              "  <thead>\n",
              "    <tr style=\"text-align: right;\">\n",
              "      <th></th>\n",
              "      <th>Id</th>\n",
              "      <th>OrderId</th>\n",
              "      <th>ProductId</th>\n",
              "      <th>UnitPrice</th>\n",
              "      <th>Quantity</th>\n",
              "      <th>Discount</th>\n",
              "    </tr>\n",
              "  </thead>\n",
              "  <tbody>\n",
              "    <tr>\n",
              "      <th>6</th>\n",
              "      <td>10250/51</td>\n",
              "      <td>10250</td>\n",
              "      <td>51</td>\n",
              "      <td>42.4</td>\n",
              "      <td>35</td>\n",
              "      <td>0.15</td>\n",
              "    </tr>\n",
              "    <tr>\n",
              "      <th>7</th>\n",
              "      <td>10250/65</td>\n",
              "      <td>10250</td>\n",
              "      <td>65</td>\n",
              "      <td>16.8</td>\n",
              "      <td>15</td>\n",
              "      <td>0.15</td>\n",
              "    </tr>\n",
              "  </tbody>\n",
              "</table>\n",
              "</div>"
            ],
            "text/plain": [
              "         Id  OrderId  ProductId  UnitPrice  Quantity  Discount\n",
              "6  10250/51    10250         51       42.4        35      0.15\n",
              "7  10250/65    10250         65       16.8        15      0.15"
            ]
          },
          "metadata": {
            "tags": []
          },
          "execution_count": 20
        }
      ]
    },
    {
      "metadata": {
        "colab_type": "code",
        "id": "16Ebxk2JwwRo",
        "outputId": "158e7e2f-21b6-4671-cb80-69cda843bcaa",
        "colab": {
          "base_uri": "https://localhost:8080/",
          "height": 288
        }
      },
      "cell_type": "code",
      "source": [
        "# Examine split dataframes  - df_disc\n",
        "df_disc.describe()"
      ],
      "execution_count": 21,
      "outputs": [
        {
          "output_type": "execute_result",
          "data": {
            "text/html": [
              "<div>\n",
              "<style scoped>\n",
              "    .dataframe tbody tr th:only-of-type {\n",
              "        vertical-align: middle;\n",
              "    }\n",
              "\n",
              "    .dataframe tbody tr th {\n",
              "        vertical-align: top;\n",
              "    }\n",
              "\n",
              "    .dataframe thead th {\n",
              "        text-align: right;\n",
              "    }\n",
              "</style>\n",
              "<table border=\"1\" class=\"dataframe\">\n",
              "  <thead>\n",
              "    <tr style=\"text-align: right;\">\n",
              "      <th></th>\n",
              "      <th>OrderId</th>\n",
              "      <th>ProductId</th>\n",
              "      <th>UnitPrice</th>\n",
              "      <th>Quantity</th>\n",
              "      <th>Discount</th>\n",
              "    </tr>\n",
              "  </thead>\n",
              "  <tbody>\n",
              "    <tr>\n",
              "      <th>count</th>\n",
              "      <td>838.000000</td>\n",
              "      <td>838.000000</td>\n",
              "      <td>838.000000</td>\n",
              "      <td>838.000000</td>\n",
              "      <td>838.000000</td>\n",
              "    </tr>\n",
              "    <tr>\n",
              "      <th>mean</th>\n",
              "      <td>10654.007160</td>\n",
              "      <td>39.844869</td>\n",
              "      <td>26.292363</td>\n",
              "      <td>27.109785</td>\n",
              "      <td>0.144439</td>\n",
              "    </tr>\n",
              "    <tr>\n",
              "      <th>std</th>\n",
              "      <td>235.887125</td>\n",
              "      <td>22.046812</td>\n",
              "      <td>30.017214</td>\n",
              "      <td>20.771439</td>\n",
              "      <td>0.071808</td>\n",
              "    </tr>\n",
              "    <tr>\n",
              "      <th>min</th>\n",
              "      <td>10250.000000</td>\n",
              "      <td>1.000000</td>\n",
              "      <td>2.000000</td>\n",
              "      <td>1.000000</td>\n",
              "      <td>0.010000</td>\n",
              "    </tr>\n",
              "    <tr>\n",
              "      <th>25%</th>\n",
              "      <td>10452.250000</td>\n",
              "      <td>21.000000</td>\n",
              "      <td>12.500000</td>\n",
              "      <td>12.000000</td>\n",
              "      <td>0.100000</td>\n",
              "    </tr>\n",
              "    <tr>\n",
              "      <th>50%</th>\n",
              "      <td>10645.000000</td>\n",
              "      <td>40.000000</td>\n",
              "      <td>18.000000</td>\n",
              "      <td>20.000000</td>\n",
              "      <td>0.150000</td>\n",
              "    </tr>\n",
              "    <tr>\n",
              "      <th>75%</th>\n",
              "      <td>10847.000000</td>\n",
              "      <td>59.000000</td>\n",
              "      <td>31.230000</td>\n",
              "      <td>36.000000</td>\n",
              "      <td>0.200000</td>\n",
              "    </tr>\n",
              "    <tr>\n",
              "      <th>max</th>\n",
              "      <td>11077.000000</td>\n",
              "      <td>77.000000</td>\n",
              "      <td>263.500000</td>\n",
              "      <td>130.000000</td>\n",
              "      <td>0.250000</td>\n",
              "    </tr>\n",
              "  </tbody>\n",
              "</table>\n",
              "</div>"
            ],
            "text/plain": [
              "            OrderId   ProductId   UnitPrice    Quantity    Discount\n",
              "count    838.000000  838.000000  838.000000  838.000000  838.000000\n",
              "mean   10654.007160   39.844869   26.292363   27.109785    0.144439\n",
              "std      235.887125   22.046812   30.017214   20.771439    0.071808\n",
              "min    10250.000000    1.000000    2.000000    1.000000    0.010000\n",
              "25%    10452.250000   21.000000   12.500000   12.000000    0.100000\n",
              "50%    10645.000000   40.000000   18.000000   20.000000    0.150000\n",
              "75%    10847.000000   59.000000   31.230000   36.000000    0.200000\n",
              "max    11077.000000   77.000000  263.500000  130.000000    0.250000"
            ]
          },
          "metadata": {
            "tags": []
          },
          "execution_count": 21
        }
      ]
    },
    {
      "metadata": {
        "colab_type": "code",
        "id": "yhiC4aWY82VH",
        "outputId": "8f5e5e02-7c2e-41d3-a130-24042deea33a",
        "colab": {
          "base_uri": "https://localhost:8080/",
          "height": 108
        }
      },
      "cell_type": "code",
      "source": [
        "# Separating df_no_disc\n",
        "df_no_disc = df.loc[df['Discount']==0]\n",
        "df_no_disc.head(2)"
      ],
      "execution_count": 22,
      "outputs": [
        {
          "output_type": "execute_result",
          "data": {
            "text/html": [
              "<div>\n",
              "<style scoped>\n",
              "    .dataframe tbody tr th:only-of-type {\n",
              "        vertical-align: middle;\n",
              "    }\n",
              "\n",
              "    .dataframe tbody tr th {\n",
              "        vertical-align: top;\n",
              "    }\n",
              "\n",
              "    .dataframe thead th {\n",
              "        text-align: right;\n",
              "    }\n",
              "</style>\n",
              "<table border=\"1\" class=\"dataframe\">\n",
              "  <thead>\n",
              "    <tr style=\"text-align: right;\">\n",
              "      <th></th>\n",
              "      <th>Id</th>\n",
              "      <th>OrderId</th>\n",
              "      <th>ProductId</th>\n",
              "      <th>UnitPrice</th>\n",
              "      <th>Quantity</th>\n",
              "      <th>Discount</th>\n",
              "    </tr>\n",
              "  </thead>\n",
              "  <tbody>\n",
              "    <tr>\n",
              "      <th>0</th>\n",
              "      <td>10248/11</td>\n",
              "      <td>10248</td>\n",
              "      <td>11</td>\n",
              "      <td>14.0</td>\n",
              "      <td>12</td>\n",
              "      <td>0.0</td>\n",
              "    </tr>\n",
              "    <tr>\n",
              "      <th>1</th>\n",
              "      <td>10248/42</td>\n",
              "      <td>10248</td>\n",
              "      <td>42</td>\n",
              "      <td>9.8</td>\n",
              "      <td>10</td>\n",
              "      <td>0.0</td>\n",
              "    </tr>\n",
              "  </tbody>\n",
              "</table>\n",
              "</div>"
            ],
            "text/plain": [
              "         Id  OrderId  ProductId  UnitPrice  Quantity  Discount\n",
              "0  10248/11    10248         11       14.0        12       0.0\n",
              "1  10248/42    10248         42        9.8        10       0.0"
            ]
          },
          "metadata": {
            "tags": []
          },
          "execution_count": 22
        }
      ]
    },
    {
      "metadata": {
        "colab_type": "code",
        "id": "CXEftlqV9SWd",
        "outputId": "84fef104-0457-410c-e1e1-08c8901ce4b1",
        "colab": {
          "base_uri": "https://localhost:8080/",
          "height": 288
        }
      },
      "cell_type": "code",
      "source": [
        "# Examine split dataframes  - df_disc\n",
        "df_no_disc.describe()"
      ],
      "execution_count": 23,
      "outputs": [
        {
          "output_type": "execute_result",
          "data": {
            "text/html": [
              "<div>\n",
              "<style scoped>\n",
              "    .dataframe tbody tr th:only-of-type {\n",
              "        vertical-align: middle;\n",
              "    }\n",
              "\n",
              "    .dataframe tbody tr th {\n",
              "        vertical-align: top;\n",
              "    }\n",
              "\n",
              "    .dataframe thead th {\n",
              "        text-align: right;\n",
              "    }\n",
              "</style>\n",
              "<table border=\"1\" class=\"dataframe\">\n",
              "  <thead>\n",
              "    <tr style=\"text-align: right;\">\n",
              "      <th></th>\n",
              "      <th>OrderId</th>\n",
              "      <th>ProductId</th>\n",
              "      <th>UnitPrice</th>\n",
              "      <th>Quantity</th>\n",
              "      <th>Discount</th>\n",
              "    </tr>\n",
              "  </thead>\n",
              "  <tbody>\n",
              "    <tr>\n",
              "      <th>count</th>\n",
              "      <td>1317.000000</td>\n",
              "      <td>1317.000000</td>\n",
              "      <td>1317.000000</td>\n",
              "      <td>1317.000000</td>\n",
              "      <td>1317.0</td>\n",
              "    </tr>\n",
              "    <tr>\n",
              "      <th>mean</th>\n",
              "      <td>10662.791951</td>\n",
              "      <td>41.396355</td>\n",
              "      <td>26.171534</td>\n",
              "      <td>21.715262</td>\n",
              "      <td>0.0</td>\n",
              "    </tr>\n",
              "    <tr>\n",
              "      <th>std</th>\n",
              "      <td>244.835366</td>\n",
              "      <td>22.217410</td>\n",
              "      <td>29.717354</td>\n",
              "      <td>17.507493</td>\n",
              "      <td>0.0</td>\n",
              "    </tr>\n",
              "    <tr>\n",
              "      <th>min</th>\n",
              "      <td>10248.000000</td>\n",
              "      <td>1.000000</td>\n",
              "      <td>2.000000</td>\n",
              "      <td>1.000000</td>\n",
              "      <td>0.0</td>\n",
              "    </tr>\n",
              "    <tr>\n",
              "      <th>25%</th>\n",
              "      <td>10448.000000</td>\n",
              "      <td>23.000000</td>\n",
              "      <td>12.000000</td>\n",
              "      <td>10.000000</td>\n",
              "      <td>0.0</td>\n",
              "    </tr>\n",
              "    <tr>\n",
              "      <th>50%</th>\n",
              "      <td>10671.000000</td>\n",
              "      <td>41.000000</td>\n",
              "      <td>18.400000</td>\n",
              "      <td>18.000000</td>\n",
              "      <td>0.0</td>\n",
              "    </tr>\n",
              "    <tr>\n",
              "      <th>75%</th>\n",
              "      <td>10879.000000</td>\n",
              "      <td>60.000000</td>\n",
              "      <td>32.800000</td>\n",
              "      <td>30.000000</td>\n",
              "      <td>0.0</td>\n",
              "    </tr>\n",
              "    <tr>\n",
              "      <th>max</th>\n",
              "      <td>11077.000000</td>\n",
              "      <td>77.000000</td>\n",
              "      <td>263.500000</td>\n",
              "      <td>130.000000</td>\n",
              "      <td>0.0</td>\n",
              "    </tr>\n",
              "  </tbody>\n",
              "</table>\n",
              "</div>"
            ],
            "text/plain": [
              "            OrderId    ProductId    UnitPrice     Quantity  Discount\n",
              "count   1317.000000  1317.000000  1317.000000  1317.000000    1317.0\n",
              "mean   10662.791951    41.396355    26.171534    21.715262       0.0\n",
              "std      244.835366    22.217410    29.717354    17.507493       0.0\n",
              "min    10248.000000     1.000000     2.000000     1.000000       0.0\n",
              "25%    10448.000000    23.000000    12.000000    10.000000       0.0\n",
              "50%    10671.000000    41.000000    18.400000    18.000000       0.0\n",
              "75%    10879.000000    60.000000    32.800000    30.000000       0.0\n",
              "max    11077.000000    77.000000   263.500000   130.000000       0.0"
            ]
          },
          "metadata": {
            "tags": []
          },
          "execution_count": 23
        }
      ]
    },
    {
      "metadata": {
        "colab_type": "text",
        "id": "Fq_JAeWWwwRy"
      },
      "cell_type": "markdown",
      "source": [
        "#### 2. Run each df thought detect_outliers to get outlier index"
      ]
    },
    {
      "metadata": {
        "colab_type": "text",
        "id": "eMA7n-4O9X7o"
      },
      "cell_type": "markdown",
      "source": [
        "##### Run detect_outliers on df_disc and then examine stats of outliers\n"
      ]
    },
    {
      "metadata": {
        "colab_type": "code",
        "id": "nxaepnCPwwRz",
        "outputId": "79fc3ba5-2daa-4dc3-e0ec-53d87db6ab1c",
        "colab": {
          "base_uri": "https://localhost:8080/",
          "height": 305
        }
      },
      "cell_type": "code",
      "source": [
        "# Detect outliers in df_disc\n",
        "outlier_disc = detect_outliers(df_disc,0,['Quantity'])\n",
        "\n",
        "print(f'There are {len(outlier_disc)} outliers out of {len(df)} = {len(outlier_disc)/len(df)*100}%')\n",
        "df[['Quantity','Discount']].iloc[outlier_disc].describe()\n",
        "# df.iloc[outlier_disc].sort_values('Quantity', ascending=False).head()"
      ],
      "execution_count": 24,
      "outputs": [
        {
          "output_type": "stream",
          "text": [
            "There are 29 outliers out of 2155 = 1.345707656612529%\n"
          ],
          "name": "stdout"
        },
        {
          "output_type": "execute_result",
          "data": {
            "text/html": [
              "<div>\n",
              "<style scoped>\n",
              "    .dataframe tbody tr th:only-of-type {\n",
              "        vertical-align: middle;\n",
              "    }\n",
              "\n",
              "    .dataframe tbody tr th {\n",
              "        vertical-align: top;\n",
              "    }\n",
              "\n",
              "    .dataframe thead th {\n",
              "        text-align: right;\n",
              "    }\n",
              "</style>\n",
              "<table border=\"1\" class=\"dataframe\">\n",
              "  <thead>\n",
              "    <tr style=\"text-align: right;\">\n",
              "      <th></th>\n",
              "      <th>Quantity</th>\n",
              "      <th>Discount</th>\n",
              "    </tr>\n",
              "  </thead>\n",
              "  <tbody>\n",
              "    <tr>\n",
              "      <th>count</th>\n",
              "      <td>29.000000</td>\n",
              "      <td>29.000000</td>\n",
              "    </tr>\n",
              "    <tr>\n",
              "      <th>mean</th>\n",
              "      <td>93.862069</td>\n",
              "      <td>0.132759</td>\n",
              "    </tr>\n",
              "    <tr>\n",
              "      <th>std</th>\n",
              "      <td>16.558822</td>\n",
              "      <td>0.069790</td>\n",
              "    </tr>\n",
              "    <tr>\n",
              "      <th>min</th>\n",
              "      <td>77.000000</td>\n",
              "      <td>0.050000</td>\n",
              "    </tr>\n",
              "    <tr>\n",
              "      <th>25%</th>\n",
              "      <td>80.000000</td>\n",
              "      <td>0.050000</td>\n",
              "    </tr>\n",
              "    <tr>\n",
              "      <th>50%</th>\n",
              "      <td>90.000000</td>\n",
              "      <td>0.150000</td>\n",
              "    </tr>\n",
              "    <tr>\n",
              "      <th>75%</th>\n",
              "      <td>100.000000</td>\n",
              "      <td>0.200000</td>\n",
              "    </tr>\n",
              "    <tr>\n",
              "      <th>max</th>\n",
              "      <td>130.000000</td>\n",
              "      <td>0.250000</td>\n",
              "    </tr>\n",
              "  </tbody>\n",
              "</table>\n",
              "</div>"
            ],
            "text/plain": [
              "         Quantity   Discount\n",
              "count   29.000000  29.000000\n",
              "mean    93.862069   0.132759\n",
              "std     16.558822   0.069790\n",
              "min     77.000000   0.050000\n",
              "25%     80.000000   0.050000\n",
              "50%     90.000000   0.150000\n",
              "75%    100.000000   0.200000\n",
              "max    130.000000   0.250000"
            ]
          },
          "metadata": {
            "tags": []
          },
          "execution_count": 24
        }
      ]
    },
    {
      "metadata": {
        "colab_type": "text",
        "id": "dIikkelyABAB"
      },
      "cell_type": "markdown",
      "source": [
        "#### Now checking df_no_disc for outliers\n"
      ]
    },
    {
      "metadata": {
        "colab_type": "code",
        "id": "1uQLmUcZ_5t3",
        "outputId": "992fd5ba-d6df-4aa2-e686-d0894c3287c1",
        "colab": {
          "base_uri": "https://localhost:8080/",
          "height": 305
        }
      },
      "cell_type": "code",
      "source": [
        "# Detect outliers in df_no_disc\n",
        "outlier_no_disc = detect_outliers(df_no_disc,0,['Quantity'])\n",
        "# df.iloc[outlier_no_disc].sort_values('Quantity', ascending=False)#.describe()\n",
        "print(f'There are {len(outlier_no_disc)} outliers out of {len(df)} = {len(outlier_no_disc)/len(df)*100}%')\n",
        "df[['Quantity','Discount']].iloc[outlier_no_disc].describe()"
      ],
      "execution_count": 25,
      "outputs": [
        {
          "output_type": "stream",
          "text": [
            "There are 34 outliers out of 2155 = 1.5777262180974478%\n"
          ],
          "name": "stdout"
        },
        {
          "output_type": "execute_result",
          "data": {
            "text/html": [
              "<div>\n",
              "<style scoped>\n",
              "    .dataframe tbody tr th:only-of-type {\n",
              "        vertical-align: middle;\n",
              "    }\n",
              "\n",
              "    .dataframe tbody tr th {\n",
              "        vertical-align: top;\n",
              "    }\n",
              "\n",
              "    .dataframe thead th {\n",
              "        text-align: right;\n",
              "    }\n",
              "</style>\n",
              "<table border=\"1\" class=\"dataframe\">\n",
              "  <thead>\n",
              "    <tr style=\"text-align: right;\">\n",
              "      <th></th>\n",
              "      <th>Quantity</th>\n",
              "      <th>Discount</th>\n",
              "    </tr>\n",
              "  </thead>\n",
              "  <tbody>\n",
              "    <tr>\n",
              "      <th>count</th>\n",
              "      <td>34.000000</td>\n",
              "      <td>34.0</td>\n",
              "    </tr>\n",
              "    <tr>\n",
              "      <th>mean</th>\n",
              "      <td>85.764706</td>\n",
              "      <td>0.0</td>\n",
              "    </tr>\n",
              "    <tr>\n",
              "      <th>std</th>\n",
              "      <td>19.589822</td>\n",
              "      <td>0.0</td>\n",
              "    </tr>\n",
              "    <tr>\n",
              "      <th>min</th>\n",
              "      <td>63.000000</td>\n",
              "      <td>0.0</td>\n",
              "    </tr>\n",
              "    <tr>\n",
              "      <th>25%</th>\n",
              "      <td>70.000000</td>\n",
              "      <td>0.0</td>\n",
              "    </tr>\n",
              "    <tr>\n",
              "      <th>50%</th>\n",
              "      <td>80.000000</td>\n",
              "      <td>0.0</td>\n",
              "    </tr>\n",
              "    <tr>\n",
              "      <th>75%</th>\n",
              "      <td>100.000000</td>\n",
              "      <td>0.0</td>\n",
              "    </tr>\n",
              "    <tr>\n",
              "      <th>max</th>\n",
              "      <td>130.000000</td>\n",
              "      <td>0.0</td>\n",
              "    </tr>\n",
              "  </tbody>\n",
              "</table>\n",
              "</div>"
            ],
            "text/plain": [
              "         Quantity  Discount\n",
              "count   34.000000      34.0\n",
              "mean    85.764706       0.0\n",
              "std     19.589822       0.0\n",
              "min     63.000000       0.0\n",
              "25%     70.000000       0.0\n",
              "50%     80.000000       0.0\n",
              "75%    100.000000       0.0\n",
              "max    130.000000       0.0"
            ]
          },
          "metadata": {
            "tags": []
          },
          "execution_count": 25
        }
      ]
    },
    {
      "metadata": {
        "colab_type": "code",
        "id": "Kz4oI-IPwwRu",
        "colab": {}
      },
      "cell_type": "code",
      "source": [
        "# print(f'Checking the statstics for the outliers from df_disc...' )\n",
        "# df[['Quantity','Discount']].iloc[outlier_no_disc] #.describe()"
      ],
      "execution_count": 0,
      "outputs": []
    },
    {
      "metadata": {
        "colab_type": "text",
        "id": "gGqk4D46HP4O"
      },
      "cell_type": "markdown",
      "source": [
        "## Now we should test if we remove those outliers, do we pass the normality test\n",
        "\n",
        "- Hmm ok so there is somethihng a bit weird about the outlier indices. They MUST be the index from the first df before we split it.\n",
        "- This means we will have to remove outliers from full df and split again."
      ]
    },
    {
      "metadata": {
        "colab_type": "code",
        "id": "7GUrC_QaHayz",
        "outputId": "b44808bd-ae78-4574-c229-651595e09361",
        "colab": {
          "base_uri": "https://localhost:8080/",
          "height": 190
        }
      },
      "cell_type": "code",
      "source": [
        "df_to_clean = df.copy()\n",
        "\n",
        "# I was being 'lazy' and zipping seemed easier lol\n",
        "remove_label= ['outlier_disc','outlier_no_disc']\n",
        "remove_data= [outlier_disc,outlier_no_disc]\n",
        "remove_me = dict(zip(remove_label,remove_data))\n",
        "\n",
        "# Loop and replace indices of outliers with np.nan \n",
        "for key,val in remove_me.items():\n",
        "  df_to_clean.iloc[val]=np.nan\n",
        "  print(f'{key} removed {len(val)} outliers')\n",
        "  \n",
        "  \n",
        "print('After removal:')\n",
        "print(df_to_clean.isna().sum())\n",
        "  \n"
      ],
      "execution_count": 27,
      "outputs": [
        {
          "output_type": "stream",
          "text": [
            "outlier_disc removed 29 outliers\n",
            "outlier_no_disc removed 34 outliers\n",
            "After removal:\n",
            "Id           63\n",
            "OrderId      63\n",
            "ProductId    63\n",
            "UnitPrice    63\n",
            "Quantity     63\n",
            "Discount     63\n",
            "dtype: int64\n"
          ],
          "name": "stdout"
        }
      ]
    },
    {
      "metadata": {
        "colab_type": "code",
        "id": "Uk4M3t4gKGa9",
        "outputId": "5b8f7ec0-40fb-4779-fffc-ade5724ceae9",
        "colab": {
          "base_uri": "https://localhost:8080/",
          "height": 207
        }
      },
      "cell_type": "code",
      "source": [
        "# Replace na and run stattest \n",
        "\n",
        "df_to_clean.info()"
      ],
      "execution_count": 28,
      "outputs": [
        {
          "output_type": "stream",
          "text": [
            "<class 'pandas.core.frame.DataFrame'>\n",
            "RangeIndex: 2155 entries, 0 to 2154\n",
            "Data columns (total 6 columns):\n",
            "Id           2092 non-null object\n",
            "OrderId      2092 non-null float64\n",
            "ProductId    2092 non-null float64\n",
            "UnitPrice    2092 non-null float64\n",
            "Quantity     2092 non-null float64\n",
            "Discount     2092 non-null float64\n",
            "dtypes: float64(5), object(1)\n",
            "memory usage: 101.1+ KB\n"
          ],
          "name": "stdout"
        }
      ]
    },
    {
      "metadata": {
        "colab_type": "code",
        "id": "W-5EtAuNMF84",
        "outputId": "95ef4b98-71de-466f-9a7f-fc7d32b32079",
        "colab": {
          "base_uri": "https://localhost:8080/",
          "height": 207
        }
      },
      "cell_type": "code",
      "source": [
        "df_clean = df_to_clean.dropna(axis=0)\n",
        "df_clean.info()"
      ],
      "execution_count": 29,
      "outputs": [
        {
          "output_type": "stream",
          "text": [
            "<class 'pandas.core.frame.DataFrame'>\n",
            "Int64Index: 2092 entries, 0 to 2154\n",
            "Data columns (total 6 columns):\n",
            "Id           2092 non-null object\n",
            "OrderId      2092 non-null float64\n",
            "ProductId    2092 non-null float64\n",
            "UnitPrice    2092 non-null float64\n",
            "Quantity     2092 non-null float64\n",
            "Discount     2092 non-null float64\n",
            "dtypes: float64(5), object(1)\n",
            "memory usage: 114.4+ KB\n"
          ],
          "name": "stdout"
        }
      ]
    },
    {
      "metadata": {
        "colab_type": "text",
        "id": "6PrPoFbsMZKb"
      },
      "cell_type": "markdown",
      "source": [
        "#### NOW ADD NORMTEST"
      ]
    },
    {
      "metadata": {
        "colab_type": "code",
        "id": "I72gdFKvwwR9",
        "outputId": "cbd7def3-97ea-4d8a-aaf1-c46910e03317",
        "colab": {
          "base_uri": "https://localhost:8080/",
          "height": 207
        }
      },
      "cell_type": "code",
      "source": [
        "df_discounted = df_clean.loc[df_clean['Discount']>0]\n",
        "df_discounted.info()"
      ],
      "execution_count": 30,
      "outputs": [
        {
          "output_type": "stream",
          "text": [
            "<class 'pandas.core.frame.DataFrame'>\n",
            "Int64Index: 809 entries, 6 to 2152\n",
            "Data columns (total 6 columns):\n",
            "Id           809 non-null object\n",
            "OrderId      809 non-null float64\n",
            "ProductId    809 non-null float64\n",
            "UnitPrice    809 non-null float64\n",
            "Quantity     809 non-null float64\n",
            "Discount     809 non-null float64\n",
            "dtypes: float64(5), object(1)\n",
            "memory usage: 44.2+ KB\n"
          ],
          "name": "stdout"
        }
      ]
    },
    {
      "metadata": {
        "colab_type": "code",
        "id": "aJ4PYoacM8Pn",
        "outputId": "7cefddec-4a85-4184-d416-dbedd1e9fcd1",
        "colab": {
          "base_uri": "https://localhost:8080/",
          "height": 207
        }
      },
      "cell_type": "code",
      "source": [
        "df_fullprice = df_clean.loc[df_clean['Discount']==0]\n",
        "df_fullprice.info()"
      ],
      "execution_count": 31,
      "outputs": [
        {
          "output_type": "stream",
          "text": [
            "<class 'pandas.core.frame.DataFrame'>\n",
            "Int64Index: 1283 entries, 0 to 2154\n",
            "Data columns (total 6 columns):\n",
            "Id           1283 non-null object\n",
            "OrderId      1283 non-null float64\n",
            "ProductId    1283 non-null float64\n",
            "UnitPrice    1283 non-null float64\n",
            "Quantity     1283 non-null float64\n",
            "Discount     1283 non-null float64\n",
            "dtypes: float64(5), object(1)\n",
            "memory usage: 70.2+ KB\n"
          ],
          "name": "stdout"
        }
      ]
    },
    {
      "metadata": {
        "colab_type": "code",
        "id": "B8V_fLKzNLgS",
        "outputId": "e234a587-471c-43f3-ef73-0a7285ab84c5",
        "colab": {
          "base_uri": "https://localhost:8080/",
          "height": 35
        }
      },
      "cell_type": "code",
      "source": [
        "from scipy.stats import normaltest \n",
        "stat, p = normaltest(df_discounted['Quantity'])\n",
        "print(f'p ={p}, stat ={stat}')\n",
        "\n",
        "results_normtest = [['DataIn','stat','p']]\n",
        "results_normtest.append(['Discounted, cleaned',stat,p])"
      ],
      "execution_count": 32,
      "outputs": [
        {
          "output_type": "stream",
          "text": [
            "p =1.9869796006071744e-18, stat =81.51983195360808\n"
          ],
          "name": "stdout"
        }
      ]
    },
    {
      "metadata": {
        "colab_type": "code",
        "id": "L6l3S61dPEng",
        "colab": {}
      },
      "cell_type": "code",
      "source": [
        "# Shapiro-Wilk Test\n",
        "from numpy.random import seed\n",
        "from numpy.random import randn\n",
        "from scipy.stats import shapiro\n"
      ],
      "execution_count": 0,
      "outputs": []
    },
    {
      "metadata": {
        "colab_type": "text",
        "id": "gnAePBXgN1BH"
      },
      "cell_type": "markdown",
      "source": [
        "#### Thoughts...\n",
        "- **Hmmmm...why didn't that work? Or maybe it did and the test is too picky?**\n",
        "- What was the original data's norm test?\n",
        "  - Run again below:"
      ]
    },
    {
      "metadata": {
        "colab_type": "text",
        "id": "tciaNn_rWcAW"
      },
      "cell_type": "markdown",
      "source": [
        "### DEF normtest_results to run multiple normaltests and save results"
      ]
    },
    {
      "metadata": {
        "colab_type": "code",
        "id": "Hb6MwcV-POzb",
        "colab": {}
      },
      "cell_type": "code",
      "source": [
        "# DEFINING FUNCTION \n",
        "#data_in={'name':data}\n",
        "def normtest_results(dict_data):\n",
        "\n",
        "  results_normtest_shap = [['DataIn','Test','stat','p']]\n",
        "  results_normtest_dagp = [['DataIn','Test','stat','p']]\n",
        "\n",
        "  for key,val in dict_data.items():\n",
        "\n",
        "    data_in = val\n",
        "    name = key\n",
        "    test = 'Shapiro'\n",
        "    stat, p = shapiro(data_in)\n",
        "    results_normtest_shap.append([name , test, stat , p ])\n",
        "    test = 'D’Agostino’s'\n",
        "    stat, p = normaltest(data_in)\n",
        "    results_normtest_dagp.append([name,test,stat, p])\n",
        "\n",
        "  results_normtest = pd.concat([list2df(results_normtest_shap), list2df(results_normtest_dagp)]) \n",
        "\n",
        "  return results_normtest#, list2df(results_normtest_shap),list2df(results_normtest_dagp)\n",
        "#   results_pivot = results.pivot(index='DataIn', columns= 'Test')\n",
        "#   results_pivot.stack(0)\n"
      ],
      "execution_count": 0,
      "outputs": []
    },
    {
      "metadata": {
        "colab_type": "code",
        "id": "QQlm4VmiUPOG",
        "colab": {
          "base_uri": "https://localhost:8080/",
          "height": 1271
        },
        "outputId": "36e3d8ec-b799-49e8-8cf7-6f6f395050ab"
      },
      "cell_type": "code",
      "source": [
        "# Building data_in dictionary for normtest_results\n",
        "data_in = {}\n",
        "\n",
        "df_disc_orig = df_disc\n",
        "df_no_disc_orig = df_no_disc\n",
        "\n",
        "data_in['Orig, Disc'] = df_disc_orig['Quantity']\n",
        "data_in['Clean,Disc'] = df_discounted['Quantity']\n",
        "data_in['Orig, Full Price'] = df_no_disc_orig['Quantity']\n",
        "data_in['Clean, Full Price'] = df_fullprice['Quantity']\n",
        "results = normtest_results(data_in)[0]\n",
        "# print(results.groupby('Test'))"
      ],
      "execution_count": 36,
      "outputs": [
        {
          "output_type": "error",
          "ename": "KeyError",
          "evalue": "ignored",
          "traceback": [
            "\u001b[0;31m---------------------------------------------------------------------------\u001b[0m",
            "\u001b[0;31mKeyError\u001b[0m                                  Traceback (most recent call last)",
            "\u001b[0;32m/usr/local/lib/python3.6/dist-packages/pandas/core/indexes/base.py\u001b[0m in \u001b[0;36mget_loc\u001b[0;34m(self, key, method, tolerance)\u001b[0m\n\u001b[1;32m   2524\u001b[0m             \u001b[0;32mtry\u001b[0m\u001b[0;34m:\u001b[0m\u001b[0;34m\u001b[0m\u001b[0;34m\u001b[0m\u001b[0m\n\u001b[0;32m-> 2525\u001b[0;31m                 \u001b[0;32mreturn\u001b[0m \u001b[0mself\u001b[0m\u001b[0;34m.\u001b[0m\u001b[0m_engine\u001b[0m\u001b[0;34m.\u001b[0m\u001b[0mget_loc\u001b[0m\u001b[0;34m(\u001b[0m\u001b[0mkey\u001b[0m\u001b[0;34m)\u001b[0m\u001b[0;34m\u001b[0m\u001b[0;34m\u001b[0m\u001b[0m\n\u001b[0m\u001b[1;32m   2526\u001b[0m             \u001b[0;32mexcept\u001b[0m \u001b[0mKeyError\u001b[0m\u001b[0;34m:\u001b[0m\u001b[0;34m\u001b[0m\u001b[0;34m\u001b[0m\u001b[0m\n",
            "\u001b[0;32mpandas/_libs/index.pyx\u001b[0m in \u001b[0;36mpandas._libs.index.IndexEngine.get_loc\u001b[0;34m()\u001b[0m\n",
            "\u001b[0;32mpandas/_libs/index.pyx\u001b[0m in \u001b[0;36mpandas._libs.index.IndexEngine.get_loc\u001b[0;34m()\u001b[0m\n",
            "\u001b[0;32mpandas/_libs/hashtable_class_helper.pxi\u001b[0m in \u001b[0;36mpandas._libs.hashtable.PyObjectHashTable.get_item\u001b[0;34m()\u001b[0m\n",
            "\u001b[0;32mpandas/_libs/hashtable_class_helper.pxi\u001b[0m in \u001b[0;36mpandas._libs.hashtable.PyObjectHashTable.get_item\u001b[0;34m()\u001b[0m\n",
            "\u001b[0;31mKeyError\u001b[0m: 0",
            "\nDuring handling of the above exception, another exception occurred:\n",
            "\u001b[0;31mKeyError\u001b[0m                                  Traceback (most recent call last)",
            "\u001b[0;32m<ipython-input-36-4dfc4bd78471>\u001b[0m in \u001b[0;36m<module>\u001b[0;34m()\u001b[0m\n\u001b[1;32m      8\u001b[0m \u001b[0mdata_in\u001b[0m\u001b[0;34m[\u001b[0m\u001b[0;34m'Orig, Full Price'\u001b[0m\u001b[0;34m]\u001b[0m \u001b[0;34m=\u001b[0m \u001b[0mdf_no_disc_orig\u001b[0m\u001b[0;34m[\u001b[0m\u001b[0;34m'Quantity'\u001b[0m\u001b[0;34m]\u001b[0m\u001b[0;34m\u001b[0m\u001b[0;34m\u001b[0m\u001b[0m\n\u001b[1;32m      9\u001b[0m \u001b[0mdata_in\u001b[0m\u001b[0;34m[\u001b[0m\u001b[0;34m'Clean, Full Price'\u001b[0m\u001b[0;34m]\u001b[0m \u001b[0;34m=\u001b[0m \u001b[0mdf_fullprice\u001b[0m\u001b[0;34m[\u001b[0m\u001b[0;34m'Quantity'\u001b[0m\u001b[0;34m]\u001b[0m\u001b[0;34m\u001b[0m\u001b[0;34m\u001b[0m\u001b[0m\n\u001b[0;32m---> 10\u001b[0;31m \u001b[0mresults\u001b[0m \u001b[0;34m=\u001b[0m \u001b[0mnormtest_results\u001b[0m\u001b[0;34m(\u001b[0m\u001b[0mdata_in\u001b[0m\u001b[0;34m)\u001b[0m\u001b[0;34m[\u001b[0m\u001b[0;36m0\u001b[0m\u001b[0;34m]\u001b[0m\u001b[0;34m\u001b[0m\u001b[0;34m\u001b[0m\u001b[0m\n\u001b[0m\u001b[1;32m     11\u001b[0m \u001b[0;31m# print(results.groupby('Test'))\u001b[0m\u001b[0;34m\u001b[0m\u001b[0;34m\u001b[0m\u001b[0;34m\u001b[0m\u001b[0m\n",
            "\u001b[0;32m/usr/local/lib/python3.6/dist-packages/pandas/core/frame.py\u001b[0m in \u001b[0;36m__getitem__\u001b[0;34m(self, key)\u001b[0m\n\u001b[1;32m   2137\u001b[0m             \u001b[0;32mreturn\u001b[0m \u001b[0mself\u001b[0m\u001b[0;34m.\u001b[0m\u001b[0m_getitem_multilevel\u001b[0m\u001b[0;34m(\u001b[0m\u001b[0mkey\u001b[0m\u001b[0;34m)\u001b[0m\u001b[0;34m\u001b[0m\u001b[0;34m\u001b[0m\u001b[0m\n\u001b[1;32m   2138\u001b[0m         \u001b[0;32melse\u001b[0m\u001b[0;34m:\u001b[0m\u001b[0;34m\u001b[0m\u001b[0;34m\u001b[0m\u001b[0m\n\u001b[0;32m-> 2139\u001b[0;31m             \u001b[0;32mreturn\u001b[0m \u001b[0mself\u001b[0m\u001b[0;34m.\u001b[0m\u001b[0m_getitem_column\u001b[0m\u001b[0;34m(\u001b[0m\u001b[0mkey\u001b[0m\u001b[0;34m)\u001b[0m\u001b[0;34m\u001b[0m\u001b[0;34m\u001b[0m\u001b[0m\n\u001b[0m\u001b[1;32m   2140\u001b[0m \u001b[0;34m\u001b[0m\u001b[0m\n\u001b[1;32m   2141\u001b[0m     \u001b[0;32mdef\u001b[0m \u001b[0m_getitem_column\u001b[0m\u001b[0;34m(\u001b[0m\u001b[0mself\u001b[0m\u001b[0;34m,\u001b[0m \u001b[0mkey\u001b[0m\u001b[0;34m)\u001b[0m\u001b[0;34m:\u001b[0m\u001b[0;34m\u001b[0m\u001b[0;34m\u001b[0m\u001b[0m\n",
            "\u001b[0;32m/usr/local/lib/python3.6/dist-packages/pandas/core/frame.py\u001b[0m in \u001b[0;36m_getitem_column\u001b[0;34m(self, key)\u001b[0m\n\u001b[1;32m   2144\u001b[0m         \u001b[0;31m# get column\u001b[0m\u001b[0;34m\u001b[0m\u001b[0;34m\u001b[0m\u001b[0;34m\u001b[0m\u001b[0m\n\u001b[1;32m   2145\u001b[0m         \u001b[0;32mif\u001b[0m \u001b[0mself\u001b[0m\u001b[0;34m.\u001b[0m\u001b[0mcolumns\u001b[0m\u001b[0;34m.\u001b[0m\u001b[0mis_unique\u001b[0m\u001b[0;34m:\u001b[0m\u001b[0;34m\u001b[0m\u001b[0;34m\u001b[0m\u001b[0m\n\u001b[0;32m-> 2146\u001b[0;31m             \u001b[0;32mreturn\u001b[0m \u001b[0mself\u001b[0m\u001b[0;34m.\u001b[0m\u001b[0m_get_item_cache\u001b[0m\u001b[0;34m(\u001b[0m\u001b[0mkey\u001b[0m\u001b[0;34m)\u001b[0m\u001b[0;34m\u001b[0m\u001b[0;34m\u001b[0m\u001b[0m\n\u001b[0m\u001b[1;32m   2147\u001b[0m \u001b[0;34m\u001b[0m\u001b[0m\n\u001b[1;32m   2148\u001b[0m         \u001b[0;31m# duplicate columns & possible reduce dimensionality\u001b[0m\u001b[0;34m\u001b[0m\u001b[0;34m\u001b[0m\u001b[0;34m\u001b[0m\u001b[0m\n",
            "\u001b[0;32m/usr/local/lib/python3.6/dist-packages/pandas/core/generic.py\u001b[0m in \u001b[0;36m_get_item_cache\u001b[0;34m(self, item)\u001b[0m\n\u001b[1;32m   1840\u001b[0m         \u001b[0mres\u001b[0m \u001b[0;34m=\u001b[0m \u001b[0mcache\u001b[0m\u001b[0;34m.\u001b[0m\u001b[0mget\u001b[0m\u001b[0;34m(\u001b[0m\u001b[0mitem\u001b[0m\u001b[0;34m)\u001b[0m\u001b[0;34m\u001b[0m\u001b[0;34m\u001b[0m\u001b[0m\n\u001b[1;32m   1841\u001b[0m         \u001b[0;32mif\u001b[0m \u001b[0mres\u001b[0m \u001b[0;32mis\u001b[0m \u001b[0;32mNone\u001b[0m\u001b[0;34m:\u001b[0m\u001b[0;34m\u001b[0m\u001b[0;34m\u001b[0m\u001b[0m\n\u001b[0;32m-> 1842\u001b[0;31m             \u001b[0mvalues\u001b[0m \u001b[0;34m=\u001b[0m \u001b[0mself\u001b[0m\u001b[0;34m.\u001b[0m\u001b[0m_data\u001b[0m\u001b[0;34m.\u001b[0m\u001b[0mget\u001b[0m\u001b[0;34m(\u001b[0m\u001b[0mitem\u001b[0m\u001b[0;34m)\u001b[0m\u001b[0;34m\u001b[0m\u001b[0;34m\u001b[0m\u001b[0m\n\u001b[0m\u001b[1;32m   1843\u001b[0m             \u001b[0mres\u001b[0m \u001b[0;34m=\u001b[0m \u001b[0mself\u001b[0m\u001b[0;34m.\u001b[0m\u001b[0m_box_item_values\u001b[0m\u001b[0;34m(\u001b[0m\u001b[0mitem\u001b[0m\u001b[0;34m,\u001b[0m \u001b[0mvalues\u001b[0m\u001b[0;34m)\u001b[0m\u001b[0;34m\u001b[0m\u001b[0;34m\u001b[0m\u001b[0m\n\u001b[1;32m   1844\u001b[0m             \u001b[0mcache\u001b[0m\u001b[0;34m[\u001b[0m\u001b[0mitem\u001b[0m\u001b[0;34m]\u001b[0m \u001b[0;34m=\u001b[0m \u001b[0mres\u001b[0m\u001b[0;34m\u001b[0m\u001b[0;34m\u001b[0m\u001b[0m\n",
            "\u001b[0;32m/usr/local/lib/python3.6/dist-packages/pandas/core/internals.py\u001b[0m in \u001b[0;36mget\u001b[0;34m(self, item, fastpath)\u001b[0m\n\u001b[1;32m   3841\u001b[0m \u001b[0;34m\u001b[0m\u001b[0m\n\u001b[1;32m   3842\u001b[0m             \u001b[0;32mif\u001b[0m \u001b[0;32mnot\u001b[0m \u001b[0misna\u001b[0m\u001b[0;34m(\u001b[0m\u001b[0mitem\u001b[0m\u001b[0;34m)\u001b[0m\u001b[0;34m:\u001b[0m\u001b[0;34m\u001b[0m\u001b[0;34m\u001b[0m\u001b[0m\n\u001b[0;32m-> 3843\u001b[0;31m                 \u001b[0mloc\u001b[0m \u001b[0;34m=\u001b[0m \u001b[0mself\u001b[0m\u001b[0;34m.\u001b[0m\u001b[0mitems\u001b[0m\u001b[0;34m.\u001b[0m\u001b[0mget_loc\u001b[0m\u001b[0;34m(\u001b[0m\u001b[0mitem\u001b[0m\u001b[0;34m)\u001b[0m\u001b[0;34m\u001b[0m\u001b[0;34m\u001b[0m\u001b[0m\n\u001b[0m\u001b[1;32m   3844\u001b[0m             \u001b[0;32melse\u001b[0m\u001b[0;34m:\u001b[0m\u001b[0;34m\u001b[0m\u001b[0;34m\u001b[0m\u001b[0m\n\u001b[1;32m   3845\u001b[0m                 \u001b[0mindexer\u001b[0m \u001b[0;34m=\u001b[0m \u001b[0mnp\u001b[0m\u001b[0;34m.\u001b[0m\u001b[0marange\u001b[0m\u001b[0;34m(\u001b[0m\u001b[0mlen\u001b[0m\u001b[0;34m(\u001b[0m\u001b[0mself\u001b[0m\u001b[0;34m.\u001b[0m\u001b[0mitems\u001b[0m\u001b[0;34m)\u001b[0m\u001b[0;34m)\u001b[0m\u001b[0;34m[\u001b[0m\u001b[0misna\u001b[0m\u001b[0;34m(\u001b[0m\u001b[0mself\u001b[0m\u001b[0;34m.\u001b[0m\u001b[0mitems\u001b[0m\u001b[0;34m)\u001b[0m\u001b[0;34m]\u001b[0m\u001b[0;34m\u001b[0m\u001b[0;34m\u001b[0m\u001b[0m\n",
            "\u001b[0;32m/usr/local/lib/python3.6/dist-packages/pandas/core/indexes/base.py\u001b[0m in \u001b[0;36mget_loc\u001b[0;34m(self, key, method, tolerance)\u001b[0m\n\u001b[1;32m   2525\u001b[0m                 \u001b[0;32mreturn\u001b[0m \u001b[0mself\u001b[0m\u001b[0;34m.\u001b[0m\u001b[0m_engine\u001b[0m\u001b[0;34m.\u001b[0m\u001b[0mget_loc\u001b[0m\u001b[0;34m(\u001b[0m\u001b[0mkey\u001b[0m\u001b[0;34m)\u001b[0m\u001b[0;34m\u001b[0m\u001b[0;34m\u001b[0m\u001b[0m\n\u001b[1;32m   2526\u001b[0m             \u001b[0;32mexcept\u001b[0m \u001b[0mKeyError\u001b[0m\u001b[0;34m:\u001b[0m\u001b[0;34m\u001b[0m\u001b[0;34m\u001b[0m\u001b[0m\n\u001b[0;32m-> 2527\u001b[0;31m                 \u001b[0;32mreturn\u001b[0m \u001b[0mself\u001b[0m\u001b[0;34m.\u001b[0m\u001b[0m_engine\u001b[0m\u001b[0;34m.\u001b[0m\u001b[0mget_loc\u001b[0m\u001b[0;34m(\u001b[0m\u001b[0mself\u001b[0m\u001b[0;34m.\u001b[0m\u001b[0m_maybe_cast_indexer\u001b[0m\u001b[0;34m(\u001b[0m\u001b[0mkey\u001b[0m\u001b[0;34m)\u001b[0m\u001b[0;34m)\u001b[0m\u001b[0;34m\u001b[0m\u001b[0;34m\u001b[0m\u001b[0m\n\u001b[0m\u001b[1;32m   2528\u001b[0m \u001b[0;34m\u001b[0m\u001b[0m\n\u001b[1;32m   2529\u001b[0m         \u001b[0mindexer\u001b[0m \u001b[0;34m=\u001b[0m \u001b[0mself\u001b[0m\u001b[0;34m.\u001b[0m\u001b[0mget_indexer\u001b[0m\u001b[0;34m(\u001b[0m\u001b[0;34m[\u001b[0m\u001b[0mkey\u001b[0m\u001b[0;34m]\u001b[0m\u001b[0;34m,\u001b[0m \u001b[0mmethod\u001b[0m\u001b[0;34m=\u001b[0m\u001b[0mmethod\u001b[0m\u001b[0;34m,\u001b[0m \u001b[0mtolerance\u001b[0m\u001b[0;34m=\u001b[0m\u001b[0mtolerance\u001b[0m\u001b[0;34m)\u001b[0m\u001b[0;34m\u001b[0m\u001b[0;34m\u001b[0m\u001b[0m\n",
            "\u001b[0;32mpandas/_libs/index.pyx\u001b[0m in \u001b[0;36mpandas._libs.index.IndexEngine.get_loc\u001b[0;34m()\u001b[0m\n",
            "\u001b[0;32mpandas/_libs/index.pyx\u001b[0m in \u001b[0;36mpandas._libs.index.IndexEngine.get_loc\u001b[0;34m()\u001b[0m\n",
            "\u001b[0;32mpandas/_libs/hashtable_class_helper.pxi\u001b[0m in \u001b[0;36mpandas._libs.hashtable.PyObjectHashTable.get_item\u001b[0;34m()\u001b[0m\n",
            "\u001b[0;32mpandas/_libs/hashtable_class_helper.pxi\u001b[0m in \u001b[0;36mpandas._libs.hashtable.PyObjectHashTable.get_item\u001b[0;34m()\u001b[0m\n",
            "\u001b[0;31mKeyError\u001b[0m: 0"
          ]
        }
      ]
    },
    {
      "metadata": {
        "id": "vjRnQs732Lxv",
        "colab_type": "text"
      },
      "cell_type": "markdown",
      "source": [
        ""
      ]
    },
    {
      "metadata": {
        "id": "PVXDUinWuA9G",
        "colab_type": "text"
      },
      "cell_type": "markdown",
      "source": [
        "## Normalizing the data to pass assumptions:\n"
      ]
    },
    {
      "metadata": {
        "id": "NSZa0Ato1PAm",
        "colab_type": "code",
        "colab": {}
      },
      "cell_type": "code",
      "source": [
        ""
      ],
      "execution_count": 0,
      "outputs": []
    },
    {
      "metadata": {
        "id": "BXBrLK3LuAu1",
        "colab_type": "code",
        "colab": {}
      },
      "cell_type": "code",
      "source": [
        "# df_discounted.info(),print('\\n'), df_fullprice.info()"
      ],
      "execution_count": 0,
      "outputs": []
    },
    {
      "metadata": {
        "id": "HGylCC5WuwYG",
        "colab_type": "code",
        "colab": {}
      },
      "cell_type": "code",
      "source": [
        "from sklearn import preprocessing as prep \n",
        "from sklearn.preprocessing import QuantileTransformer\n",
        "# quantTrans = QuantileTransformer(output_distribution='normal')\n",
        "qt =  QuantileTransformer(n_quantiles=10,output_distribution='normal')\n"
      ],
      "execution_count": 0,
      "outputs": []
    },
    {
      "metadata": {
        "id": "FcXEODDMw_Ei",
        "colab_type": "code",
        "outputId": "c47efb5c-bca8-4f7d-f5bd-3c9d2e82fca3",
        "colab": {
          "base_uri": "https://localhost:8080/",
          "height": 348
        }
      },
      "cell_type": "code",
      "source": [
        "test_data = df_disc[['Quantity','Discount']]\n",
        "test_data[0:10]"
      ],
      "execution_count": 39,
      "outputs": [
        {
          "output_type": "execute_result",
          "data": {
            "text/html": [
              "<div>\n",
              "<style scoped>\n",
              "    .dataframe tbody tr th:only-of-type {\n",
              "        vertical-align: middle;\n",
              "    }\n",
              "\n",
              "    .dataframe tbody tr th {\n",
              "        vertical-align: top;\n",
              "    }\n",
              "\n",
              "    .dataframe thead th {\n",
              "        text-align: right;\n",
              "    }\n",
              "</style>\n",
              "<table border=\"1\" class=\"dataframe\">\n",
              "  <thead>\n",
              "    <tr style=\"text-align: right;\">\n",
              "      <th></th>\n",
              "      <th>Quantity</th>\n",
              "      <th>Discount</th>\n",
              "    </tr>\n",
              "  </thead>\n",
              "  <tbody>\n",
              "    <tr>\n",
              "      <th>6</th>\n",
              "      <td>35</td>\n",
              "      <td>0.15</td>\n",
              "    </tr>\n",
              "    <tr>\n",
              "      <th>7</th>\n",
              "      <td>15</td>\n",
              "      <td>0.15</td>\n",
              "    </tr>\n",
              "    <tr>\n",
              "      <th>8</th>\n",
              "      <td>6</td>\n",
              "      <td>0.05</td>\n",
              "    </tr>\n",
              "    <tr>\n",
              "      <th>9</th>\n",
              "      <td>15</td>\n",
              "      <td>0.05</td>\n",
              "    </tr>\n",
              "    <tr>\n",
              "      <th>11</th>\n",
              "      <td>40</td>\n",
              "      <td>0.05</td>\n",
              "    </tr>\n",
              "    <tr>\n",
              "      <th>12</th>\n",
              "      <td>25</td>\n",
              "      <td>0.05</td>\n",
              "    </tr>\n",
              "    <tr>\n",
              "      <th>17</th>\n",
              "      <td>15</td>\n",
              "      <td>0.15</td>\n",
              "    </tr>\n",
              "    <tr>\n",
              "      <th>18</th>\n",
              "      <td>21</td>\n",
              "      <td>0.15</td>\n",
              "    </tr>\n",
              "    <tr>\n",
              "      <th>29</th>\n",
              "      <td>50</td>\n",
              "      <td>0.20</td>\n",
              "    </tr>\n",
              "    <tr>\n",
              "      <th>30</th>\n",
              "      <td>65</td>\n",
              "      <td>0.20</td>\n",
              "    </tr>\n",
              "  </tbody>\n",
              "</table>\n",
              "</div>"
            ],
            "text/plain": [
              "    Quantity  Discount\n",
              "6         35      0.15\n",
              "7         15      0.15\n",
              "8          6      0.05\n",
              "9         15      0.05\n",
              "11        40      0.05\n",
              "12        25      0.05\n",
              "17        15      0.15\n",
              "18        21      0.15\n",
              "29        50      0.20\n",
              "30        65      0.20"
            ]
          },
          "metadata": {
            "tags": []
          },
          "execution_count": 39
        }
      ]
    },
    {
      "metadata": {
        "id": "0O-hqxMIxOFk",
        "colab_type": "code",
        "outputId": "2cda7529-0a26-4997-b158-c4b9dad90987",
        "colab": {
          "base_uri": "https://localhost:8080/",
          "height": 138
        }
      },
      "cell_type": "code",
      "source": [
        "test_data.describe()\n",
        "test_data.info()"
      ],
      "execution_count": 40,
      "outputs": [
        {
          "output_type": "stream",
          "text": [
            "<class 'pandas.core.frame.DataFrame'>\n",
            "Int64Index: 838 entries, 6 to 2152\n",
            "Data columns (total 2 columns):\n",
            "Quantity    838 non-null int64\n",
            "Discount    838 non-null float64\n",
            "dtypes: float64(1), int64(1)\n",
            "memory usage: 19.6 KB\n"
          ],
          "name": "stdout"
        }
      ]
    },
    {
      "metadata": {
        "id": "tnDJjnolxwQD",
        "colab_type": "code",
        "outputId": "3b1911f3-a978-4e53-fa4c-d71fdeb31d36",
        "colab": {
          "base_uri": "https://localhost:8080/",
          "height": 505
        }
      },
      "cell_type": "code",
      "source": [
        "test_data.hist()"
      ],
      "execution_count": 41,
      "outputs": [
        {
          "output_type": "execute_result",
          "data": {
            "text/plain": [
              "array([[<matplotlib.axes._subplots.AxesSubplot object at 0x7f7866d61630>,\n",
              "        <matplotlib.axes._subplots.AxesSubplot object at 0x7f7866df6240>]],\n",
              "      dtype=object)"
            ]
          },
          "metadata": {
            "tags": []
          },
          "execution_count": 41
        },
        {
          "output_type": "display_data",
          "data": {
            "image/png": "[encoded data removed]",
            "text/plain": [
              "<Figure size 640x480 with 2 Axes>"
            ]
          },
          "metadata": {
            "tags": []
          }
        }
      ]
    },
    {
      "metadata": {
        "id": "M92AZIL0vgrw",
        "colab_type": "code",
        "outputId": "c54069e4-77ac-40c2-830c-62c218fcccaa",
        "colab": {
          "base_uri": "https://localhost:8080/",
          "height": 643
        }
      },
      "cell_type": "code",
      "source": [
        "test = qt.fit_transform(np.array(test_data['Quantity']).reshape(-1,1))\n",
        "test_data['post_transform'] = test\n",
        "test_data.hist()"
      ],
      "execution_count": 42,
      "outputs": [
        {
          "output_type": "stream",
          "text": [
            "/usr/local/lib/python3.6/dist-packages/ipykernel_launcher.py:2: SettingWithCopyWarning: \n",
            "A value is trying to be set on a copy of a slice from a DataFrame.\n",
            "Try using .loc[row_indexer,col_indexer] = value instead\n",
            "\n",
            "See the caveats in the documentation: http://pandas.pydata.org/pandas-docs/stable/indexing.html#indexing-view-versus-copy\n",
            "  \n"
          ],
          "name": "stderr"
        },
        {
          "output_type": "execute_result",
          "data": {
            "text/plain": [
              "array([[<matplotlib.axes._subplots.AxesSubplot object at 0x7f7868fe14e0>,\n",
              "        <matplotlib.axes._subplots.AxesSubplot object at 0x7f7866dda5f8>],\n",
              "       [<matplotlib.axes._subplots.AxesSubplot object at 0x7f7866dcde10>,\n",
              "        <matplotlib.axes._subplots.AxesSubplot object at 0x7f7866ddb2e8>]],\n",
              "      dtype=object)"
            ]
          },
          "metadata": {
            "tags": []
          },
          "execution_count": 42
        },
        {
          "output_type": "display_data",
          "data": {
            "image/png": "[encoded data removed]",
            "text/plain": [
              "<Figure size 640x480 with 4 Axes>"
            ]
          },
          "metadata": {
            "tags": []
          }
        }
      ]
    },
    {
      "metadata": {
        "id": "tNM9B_dOxyv1",
        "colab_type": "text"
      },
      "cell_type": "markdown",
      "source": [
        "### EXACT BOOKMARK 04-01-19 @ 1:25\n",
        "pm"
      ]
    },
    {
      "metadata": {
        "id": "qLhZ2Me87peg",
        "colab_type": "code",
        "colab": {}
      },
      "cell_type": "code",
      "source": [
        ""
      ],
      "execution_count": 0,
      "outputs": []
    },
    {
      "metadata": {
        "id": "GBZfYvQO2Jr0",
        "colab_type": "code",
        "colab": {}
      },
      "cell_type": "code",
      "source": [
        "# TRANSFORM DATA BEFORE RE-CALLING ORIGINAL normtest_results\n",
        "from sklearn import preprocessing as prep \n",
        "from sklearn.preprocessing import QuantileTransformer\n",
        "# quantTrans = QuantileTransformer(output_distribution='normal')\n",
        "qt =  QuantileTransformer(n_quantiles=10,output_distribution='normal')\n",
        "\n",
        "def transform(data_in):\n",
        "  \n",
        "  for k,v in data_in.items():    \n",
        "      data = np.array(v).reshape(-1,1)\n",
        "      transformed = pd.Series(np.squeeze(qt.fit_transform(data)))\n",
        "      \n",
        "      data_in[k] = transformed\n",
        "        \n",
        "  return data_in\n",
        "    "
      ],
      "execution_count": 0,
      "outputs": []
    },
    {
      "metadata": {
        "id": "WRM2gRQACpcj",
        "colab_type": "code",
        "outputId": "913e5247-2399-4364-f696-69a34e248c2f",
        "colab": {
          "base_uri": "https://localhost:8080/",
          "height": 52
        }
      },
      "cell_type": "code",
      "source": [
        "data_in_tf = transform(data_in)\n",
        "trans_data_in=data_in_tf\n",
        "type(data_in_tf)\n",
        "print([k.title() for k,x in data_in_tf.items()])\n",
        "print([len(x) for k,x in data_in_tf.items()])"
      ],
      "execution_count": 44,
      "outputs": [
        {
          "output_type": "stream",
          "text": [
            "['Orig, Disc', 'Clean,Disc', 'Orig, Full Price', 'Clean, Full Price']\n",
            "[838, 809, 1317, 1283]\n"
          ],
          "name": "stdout"
        }
      ]
    },
    {
      "metadata": {
        "id": "Jeun-AWq1m47",
        "colab_type": "code",
        "colab": {}
      },
      "cell_type": "code",
      "source": [
        "\n",
        "# def normtest_scaled(dict_data):\n",
        "  \n",
        "#   dict_data = transform(dict_data) \n",
        "#   results_normtest_shap = [['DataIn','Test','stat','p']]\n",
        "#   results_normtest_dagp = [['DataIn','Test','stat','p']]\n",
        "  \n",
        "#   for key,val in dict_data.items():\n",
        "\n",
        "\n",
        "#     data_in = val\n",
        "#     name = key\n",
        "#     test = 'Shapiro'\n",
        "#     stat, p = shapiro(data_in)\n",
        "#     results_normtest_shap.append([name , test, stat , p ])\n",
        "#     test = 'D’Agostino’s'\n",
        "#     stat, p = normaltest(data_in)\n",
        "#     results_normtest_dagp.append([name,test,stat, p])\n",
        "\n",
        "#   results_normtest = pd.concat([list2df(results_normtest_shap), list2df(results_normtest_dagp)]) \n",
        "\n",
        "#   return results_normtest, list2df(results_normtest_shap),list2df(results_normtest_dagp)"
      ],
      "execution_count": 0,
      "outputs": []
    },
    {
      "metadata": {
        "id": "5Iqt2xNPPF8H",
        "colab_type": "code",
        "outputId": "e17e9da4-586e-40e2-d831-d3e6b98132ad",
        "colab": {
          "base_uri": "https://localhost:8080/",
          "height": 1236
        }
      },
      "cell_type": "code",
      "source": [
        "trans_norm_test = normtest_results(trans_data_in)[0]\n",
        "trans_norm_test"
      ],
      "execution_count": 46,
      "outputs": [
        {
          "output_type": "error",
          "ename": "KeyError",
          "evalue": "ignored",
          "traceback": [
            "\u001b[0;31m---------------------------------------------------------------------------\u001b[0m",
            "\u001b[0;31mKeyError\u001b[0m                                  Traceback (most recent call last)",
            "\u001b[0;32m/usr/local/lib/python3.6/dist-packages/pandas/core/indexes/base.py\u001b[0m in \u001b[0;36mget_loc\u001b[0;34m(self, key, method, tolerance)\u001b[0m\n\u001b[1;32m   2524\u001b[0m             \u001b[0;32mtry\u001b[0m\u001b[0;34m:\u001b[0m\u001b[0;34m\u001b[0m\u001b[0;34m\u001b[0m\u001b[0m\n\u001b[0;32m-> 2525\u001b[0;31m                 \u001b[0;32mreturn\u001b[0m \u001b[0mself\u001b[0m\u001b[0;34m.\u001b[0m\u001b[0m_engine\u001b[0m\u001b[0;34m.\u001b[0m\u001b[0mget_loc\u001b[0m\u001b[0;34m(\u001b[0m\u001b[0mkey\u001b[0m\u001b[0;34m)\u001b[0m\u001b[0;34m\u001b[0m\u001b[0;34m\u001b[0m\u001b[0m\n\u001b[0m\u001b[1;32m   2526\u001b[0m             \u001b[0;32mexcept\u001b[0m \u001b[0mKeyError\u001b[0m\u001b[0;34m:\u001b[0m\u001b[0;34m\u001b[0m\u001b[0;34m\u001b[0m\u001b[0m\n",
            "\u001b[0;32mpandas/_libs/index.pyx\u001b[0m in \u001b[0;36mpandas._libs.index.IndexEngine.get_loc\u001b[0;34m()\u001b[0m\n",
            "\u001b[0;32mpandas/_libs/index.pyx\u001b[0m in \u001b[0;36mpandas._libs.index.IndexEngine.get_loc\u001b[0;34m()\u001b[0m\n",
            "\u001b[0;32mpandas/_libs/hashtable_class_helper.pxi\u001b[0m in \u001b[0;36mpandas._libs.hashtable.PyObjectHashTable.get_item\u001b[0;34m()\u001b[0m\n",
            "\u001b[0;32mpandas/_libs/hashtable_class_helper.pxi\u001b[0m in \u001b[0;36mpandas._libs.hashtable.PyObjectHashTable.get_item\u001b[0;34m()\u001b[0m\n",
            "\u001b[0;31mKeyError\u001b[0m: 0",
            "\nDuring handling of the above exception, another exception occurred:\n",
            "\u001b[0;31mKeyError\u001b[0m                                  Traceback (most recent call last)",
            "\u001b[0;32m<ipython-input-46-0272cf8aa822>\u001b[0m in \u001b[0;36m<module>\u001b[0;34m()\u001b[0m\n\u001b[0;32m----> 1\u001b[0;31m \u001b[0mtrans_norm_test\u001b[0m \u001b[0;34m=\u001b[0m \u001b[0mnormtest_results\u001b[0m\u001b[0;34m(\u001b[0m\u001b[0mtrans_data_in\u001b[0m\u001b[0;34m)\u001b[0m\u001b[0;34m[\u001b[0m\u001b[0;36m0\u001b[0m\u001b[0;34m]\u001b[0m\u001b[0;34m\u001b[0m\u001b[0;34m\u001b[0m\u001b[0m\n\u001b[0m\u001b[1;32m      2\u001b[0m \u001b[0mtrans_norm_test\u001b[0m\u001b[0;34m\u001b[0m\u001b[0;34m\u001b[0m\u001b[0m\n",
            "\u001b[0;32m/usr/local/lib/python3.6/dist-packages/pandas/core/frame.py\u001b[0m in \u001b[0;36m__getitem__\u001b[0;34m(self, key)\u001b[0m\n\u001b[1;32m   2137\u001b[0m             \u001b[0;32mreturn\u001b[0m \u001b[0mself\u001b[0m\u001b[0;34m.\u001b[0m\u001b[0m_getitem_multilevel\u001b[0m\u001b[0;34m(\u001b[0m\u001b[0mkey\u001b[0m\u001b[0;34m)\u001b[0m\u001b[0;34m\u001b[0m\u001b[0;34m\u001b[0m\u001b[0m\n\u001b[1;32m   2138\u001b[0m         \u001b[0;32melse\u001b[0m\u001b[0;34m:\u001b[0m\u001b[0;34m\u001b[0m\u001b[0;34m\u001b[0m\u001b[0m\n\u001b[0;32m-> 2139\u001b[0;31m             \u001b[0;32mreturn\u001b[0m \u001b[0mself\u001b[0m\u001b[0;34m.\u001b[0m\u001b[0m_getitem_column\u001b[0m\u001b[0;34m(\u001b[0m\u001b[0mkey\u001b[0m\u001b[0;34m)\u001b[0m\u001b[0;34m\u001b[0m\u001b[0;34m\u001b[0m\u001b[0m\n\u001b[0m\u001b[1;32m   2140\u001b[0m \u001b[0;34m\u001b[0m\u001b[0m\n\u001b[1;32m   2141\u001b[0m     \u001b[0;32mdef\u001b[0m \u001b[0m_getitem_column\u001b[0m\u001b[0;34m(\u001b[0m\u001b[0mself\u001b[0m\u001b[0;34m,\u001b[0m \u001b[0mkey\u001b[0m\u001b[0;34m)\u001b[0m\u001b[0;34m:\u001b[0m\u001b[0;34m\u001b[0m\u001b[0;34m\u001b[0m\u001b[0m\n",
            "\u001b[0;32m/usr/local/lib/python3.6/dist-packages/pandas/core/frame.py\u001b[0m in \u001b[0;36m_getitem_column\u001b[0;34m(self, key)\u001b[0m\n\u001b[1;32m   2144\u001b[0m         \u001b[0;31m# get column\u001b[0m\u001b[0;34m\u001b[0m\u001b[0;34m\u001b[0m\u001b[0;34m\u001b[0m\u001b[0m\n\u001b[1;32m   2145\u001b[0m         \u001b[0;32mif\u001b[0m \u001b[0mself\u001b[0m\u001b[0;34m.\u001b[0m\u001b[0mcolumns\u001b[0m\u001b[0;34m.\u001b[0m\u001b[0mis_unique\u001b[0m\u001b[0;34m:\u001b[0m\u001b[0;34m\u001b[0m\u001b[0;34m\u001b[0m\u001b[0m\n\u001b[0;32m-> 2146\u001b[0;31m             \u001b[0;32mreturn\u001b[0m \u001b[0mself\u001b[0m\u001b[0;34m.\u001b[0m\u001b[0m_get_item_cache\u001b[0m\u001b[0;34m(\u001b[0m\u001b[0mkey\u001b[0m\u001b[0;34m)\u001b[0m\u001b[0;34m\u001b[0m\u001b[0;34m\u001b[0m\u001b[0m\n\u001b[0m\u001b[1;32m   2147\u001b[0m \u001b[0;34m\u001b[0m\u001b[0m\n\u001b[1;32m   2148\u001b[0m         \u001b[0;31m# duplicate columns & possible reduce dimensionality\u001b[0m\u001b[0;34m\u001b[0m\u001b[0;34m\u001b[0m\u001b[0;34m\u001b[0m\u001b[0m\n",
            "\u001b[0;32m/usr/local/lib/python3.6/dist-packages/pandas/core/generic.py\u001b[0m in \u001b[0;36m_get_item_cache\u001b[0;34m(self, item)\u001b[0m\n\u001b[1;32m   1840\u001b[0m         \u001b[0mres\u001b[0m \u001b[0;34m=\u001b[0m \u001b[0mcache\u001b[0m\u001b[0;34m.\u001b[0m\u001b[0mget\u001b[0m\u001b[0;34m(\u001b[0m\u001b[0mitem\u001b[0m\u001b[0;34m)\u001b[0m\u001b[0;34m\u001b[0m\u001b[0;34m\u001b[0m\u001b[0m\n\u001b[1;32m   1841\u001b[0m         \u001b[0;32mif\u001b[0m \u001b[0mres\u001b[0m \u001b[0;32mis\u001b[0m \u001b[0;32mNone\u001b[0m\u001b[0;34m:\u001b[0m\u001b[0;34m\u001b[0m\u001b[0;34m\u001b[0m\u001b[0m\n\u001b[0;32m-> 1842\u001b[0;31m             \u001b[0mvalues\u001b[0m \u001b[0;34m=\u001b[0m \u001b[0mself\u001b[0m\u001b[0;34m.\u001b[0m\u001b[0m_data\u001b[0m\u001b[0;34m.\u001b[0m\u001b[0mget\u001b[0m\u001b[0;34m(\u001b[0m\u001b[0mitem\u001b[0m\u001b[0;34m)\u001b[0m\u001b[0;34m\u001b[0m\u001b[0;34m\u001b[0m\u001b[0m\n\u001b[0m\u001b[1;32m   1843\u001b[0m             \u001b[0mres\u001b[0m \u001b[0;34m=\u001b[0m \u001b[0mself\u001b[0m\u001b[0;34m.\u001b[0m\u001b[0m_box_item_values\u001b[0m\u001b[0;34m(\u001b[0m\u001b[0mitem\u001b[0m\u001b[0;34m,\u001b[0m \u001b[0mvalues\u001b[0m\u001b[0;34m)\u001b[0m\u001b[0;34m\u001b[0m\u001b[0;34m\u001b[0m\u001b[0m\n\u001b[1;32m   1844\u001b[0m             \u001b[0mcache\u001b[0m\u001b[0;34m[\u001b[0m\u001b[0mitem\u001b[0m\u001b[0;34m]\u001b[0m \u001b[0;34m=\u001b[0m \u001b[0mres\u001b[0m\u001b[0;34m\u001b[0m\u001b[0;34m\u001b[0m\u001b[0m\n",
            "\u001b[0;32m/usr/local/lib/python3.6/dist-packages/pandas/core/internals.py\u001b[0m in \u001b[0;36mget\u001b[0;34m(self, item, fastpath)\u001b[0m\n\u001b[1;32m   3841\u001b[0m \u001b[0;34m\u001b[0m\u001b[0m\n\u001b[1;32m   3842\u001b[0m             \u001b[0;32mif\u001b[0m \u001b[0;32mnot\u001b[0m \u001b[0misna\u001b[0m\u001b[0;34m(\u001b[0m\u001b[0mitem\u001b[0m\u001b[0;34m)\u001b[0m\u001b[0;34m:\u001b[0m\u001b[0;34m\u001b[0m\u001b[0;34m\u001b[0m\u001b[0m\n\u001b[0;32m-> 3843\u001b[0;31m                 \u001b[0mloc\u001b[0m \u001b[0;34m=\u001b[0m \u001b[0mself\u001b[0m\u001b[0;34m.\u001b[0m\u001b[0mitems\u001b[0m\u001b[0;34m.\u001b[0m\u001b[0mget_loc\u001b[0m\u001b[0;34m(\u001b[0m\u001b[0mitem\u001b[0m\u001b[0;34m)\u001b[0m\u001b[0;34m\u001b[0m\u001b[0;34m\u001b[0m\u001b[0m\n\u001b[0m\u001b[1;32m   3844\u001b[0m             \u001b[0;32melse\u001b[0m\u001b[0;34m:\u001b[0m\u001b[0;34m\u001b[0m\u001b[0;34m\u001b[0m\u001b[0m\n\u001b[1;32m   3845\u001b[0m                 \u001b[0mindexer\u001b[0m \u001b[0;34m=\u001b[0m \u001b[0mnp\u001b[0m\u001b[0;34m.\u001b[0m\u001b[0marange\u001b[0m\u001b[0;34m(\u001b[0m\u001b[0mlen\u001b[0m\u001b[0;34m(\u001b[0m\u001b[0mself\u001b[0m\u001b[0;34m.\u001b[0m\u001b[0mitems\u001b[0m\u001b[0;34m)\u001b[0m\u001b[0;34m)\u001b[0m\u001b[0;34m[\u001b[0m\u001b[0misna\u001b[0m\u001b[0;34m(\u001b[0m\u001b[0mself\u001b[0m\u001b[0;34m.\u001b[0m\u001b[0mitems\u001b[0m\u001b[0;34m)\u001b[0m\u001b[0;34m]\u001b[0m\u001b[0;34m\u001b[0m\u001b[0;34m\u001b[0m\u001b[0m\n",
            "\u001b[0;32m/usr/local/lib/python3.6/dist-packages/pandas/core/indexes/base.py\u001b[0m in \u001b[0;36mget_loc\u001b[0;34m(self, key, method, tolerance)\u001b[0m\n\u001b[1;32m   2525\u001b[0m                 \u001b[0;32mreturn\u001b[0m \u001b[0mself\u001b[0m\u001b[0;34m.\u001b[0m\u001b[0m_engine\u001b[0m\u001b[0;34m.\u001b[0m\u001b[0mget_loc\u001b[0m\u001b[0;34m(\u001b[0m\u001b[0mkey\u001b[0m\u001b[0;34m)\u001b[0m\u001b[0;34m\u001b[0m\u001b[0;34m\u001b[0m\u001b[0m\n\u001b[1;32m   2526\u001b[0m             \u001b[0;32mexcept\u001b[0m \u001b[0mKeyError\u001b[0m\u001b[0;34m:\u001b[0m\u001b[0;34m\u001b[0m\u001b[0;34m\u001b[0m\u001b[0m\n\u001b[0;32m-> 2527\u001b[0;31m                 \u001b[0;32mreturn\u001b[0m \u001b[0mself\u001b[0m\u001b[0;34m.\u001b[0m\u001b[0m_engine\u001b[0m\u001b[0;34m.\u001b[0m\u001b[0mget_loc\u001b[0m\u001b[0;34m(\u001b[0m\u001b[0mself\u001b[0m\u001b[0;34m.\u001b[0m\u001b[0m_maybe_cast_indexer\u001b[0m\u001b[0;34m(\u001b[0m\u001b[0mkey\u001b[0m\u001b[0;34m)\u001b[0m\u001b[0;34m)\u001b[0m\u001b[0;34m\u001b[0m\u001b[0;34m\u001b[0m\u001b[0m\n\u001b[0m\u001b[1;32m   2528\u001b[0m \u001b[0;34m\u001b[0m\u001b[0m\n\u001b[1;32m   2529\u001b[0m         \u001b[0mindexer\u001b[0m \u001b[0;34m=\u001b[0m \u001b[0mself\u001b[0m\u001b[0;34m.\u001b[0m\u001b[0mget_indexer\u001b[0m\u001b[0;34m(\u001b[0m\u001b[0;34m[\u001b[0m\u001b[0mkey\u001b[0m\u001b[0;34m]\u001b[0m\u001b[0;34m,\u001b[0m \u001b[0mmethod\u001b[0m\u001b[0;34m=\u001b[0m\u001b[0mmethod\u001b[0m\u001b[0;34m,\u001b[0m \u001b[0mtolerance\u001b[0m\u001b[0;34m=\u001b[0m\u001b[0mtolerance\u001b[0m\u001b[0;34m)\u001b[0m\u001b[0;34m\u001b[0m\u001b[0;34m\u001b[0m\u001b[0m\n",
            "\u001b[0;32mpandas/_libs/index.pyx\u001b[0m in \u001b[0;36mpandas._libs.index.IndexEngine.get_loc\u001b[0;34m()\u001b[0m\n",
            "\u001b[0;32mpandas/_libs/index.pyx\u001b[0m in \u001b[0;36mpandas._libs.index.IndexEngine.get_loc\u001b[0;34m()\u001b[0m\n",
            "\u001b[0;32mpandas/_libs/hashtable_class_helper.pxi\u001b[0m in \u001b[0;36mpandas._libs.hashtable.PyObjectHashTable.get_item\u001b[0;34m()\u001b[0m\n",
            "\u001b[0;32mpandas/_libs/hashtable_class_helper.pxi\u001b[0m in \u001b[0;36mpandas._libs.hashtable.PyObjectHashTable.get_item\u001b[0;34m()\u001b[0m\n",
            "\u001b[0;31mKeyError\u001b[0m: 0"
          ]
        }
      ]
    },
    {
      "metadata": {
        "id": "Cw61oSNnAVdc",
        "colab_type": "code",
        "colab": {}
      },
      "cell_type": "code",
      "source": [
        "dataDict = {'Original':data_in,'Transformed':data_in_tf }\n",
        "# df_data = normtest_results(data_in)[0]\n",
        "dataDict_results = {'Original-Results':normtest_results(data_in),'Transformed-Results': normtest_results(data_in_tf)}"
      ],
      "execution_count": 0,
      "outputs": []
    },
    {
      "metadata": {
        "id": "w3F7bYgx2xlw",
        "colab_type": "code",
        "outputId": "5123d1ef-6f27-452d-8631-24f51f5e3272",
        "colab": {
          "base_uri": "https://localhost:8080/",
          "height": 345
        }
      },
      "cell_type": "code",
      "source": [
        "# Display info for \n",
        "printDict=dataDict\n",
        "print(f'dataDict')\n",
        "for key, val in printDict.items():\n",
        "  print(key)\n",
        "  for k, v in printDict[key].items():\n",
        "    print(f'   {k}\\n         has {len(v)} values with mean={np.mean(v)}')\n"
      ],
      "execution_count": 48,
      "outputs": [
        {
          "output_type": "stream",
          "text": [
            "dataDict\n",
            "Original\n",
            "   Orig, Disc\n",
            "         has 838 values with mean=-0.040641216074638296\n",
            "   Clean,Disc\n",
            "         has 809 values with mean=0.045823490692881975\n",
            "   Orig, Full Price\n",
            "         has 1317 values with mean=-0.04900331242351082\n",
            "   Clean, Full Price\n",
            "         has 1283 values with mean=0.03598166705462291\n",
            "Transformed\n",
            "   Orig, Disc\n",
            "         has 838 values with mean=-0.040641216074638296\n",
            "   Clean,Disc\n",
            "         has 809 values with mean=0.045823490692881975\n",
            "   Orig, Full Price\n",
            "         has 1317 values with mean=-0.04900331242351082\n",
            "   Clean, Full Price\n",
            "         has 1283 values with mean=0.03598166705462291\n"
          ],
          "name": "stdout"
        }
      ]
    },
    {
      "metadata": {
        "id": "KsDybIeCcWzd",
        "colab_type": "code",
        "outputId": "52cedaa9-9d35-4a76-f454-ec74d224eacf",
        "colab": {
          "base_uri": "https://localhost:8080/",
          "height": 328
        }
      },
      "cell_type": "code",
      "source": [
        "dataDict_results"
      ],
      "execution_count": 49,
      "outputs": [
        {
          "output_type": "execute_result",
          "data": {
            "text/plain": [
              "{'Original-Results':               DataIn          Test        stat             p\n",
              " 0         Orig, Disc       Shapiro    0.955760  3.409909e-15\n",
              " 1         Clean,Disc       Shapiro    0.868290  1.598946e-25\n",
              " 2   Orig, Full Price       Shapiro    0.919123  5.725075e-26\n",
              " 3  Clean, Full Price       Shapiro    0.855467  1.011598e-32\n",
              " 0         Orig, Disc  D’Agostino’s  103.590493  3.203393e-23\n",
              " 1         Clean,Disc  D’Agostino’s  239.235504  1.123752e-52\n",
              " 2   Orig, Full Price  D’Agostino’s  317.579615  1.092604e-69\n",
              " 3  Clean, Full Price  D’Agostino’s  281.007986  9.547531e-62,\n",
              " 'Transformed-Results':               DataIn          Test        stat             p\n",
              " 0         Orig, Disc       Shapiro    0.955760  3.409909e-15\n",
              " 1         Clean,Disc       Shapiro    0.868290  1.598946e-25\n",
              " 2   Orig, Full Price       Shapiro    0.919123  5.725075e-26\n",
              " 3  Clean, Full Price       Shapiro    0.855467  1.011598e-32\n",
              " 0         Orig, Disc  D’Agostino’s  103.590493  3.203393e-23\n",
              " 1         Clean,Disc  D’Agostino’s  239.235504  1.123752e-52\n",
              " 2   Orig, Full Price  D’Agostino’s  317.579615  1.092604e-69\n",
              " 3  Clean, Full Price  D’Agostino’s  281.007986  9.547531e-62}"
            ]
          },
          "metadata": {
            "tags": []
          },
          "execution_count": 49
        }
      ]
    },
    {
      "metadata": {
        "id": "ty-b5aCGbVkf",
        "colab_type": "code",
        "outputId": "63c318fa-7851-4b39-cc35-c9f058b6097e",
        "colab": {
          "base_uri": "https://localhost:8080/",
          "height": 380
        }
      },
      "cell_type": "code",
      "source": [
        "\n",
        "printDict=dataDict_results\n",
        "print(f'dataDict_results')\n",
        "for key, val in printDict.items():\n",
        "  print('          ',key)\n",
        "  print('             ',val)\n",
        "#   for k, v in printDict[key].items():\n",
        "#     print(f'   {k}\\n         has {len(v)} values with mean={np.mean(v)}')"
      ],
      "execution_count": 50,
      "outputs": [
        {
          "output_type": "stream",
          "text": [
            "dataDict_results\n",
            "           Original-Results\n",
            "                            DataIn          Test        stat             p\n",
            "0         Orig, Disc       Shapiro    0.955760  3.409909e-15\n",
            "1         Clean,Disc       Shapiro    0.868290  1.598946e-25\n",
            "2   Orig, Full Price       Shapiro    0.919123  5.725075e-26\n",
            "3  Clean, Full Price       Shapiro    0.855467  1.011598e-32\n",
            "0         Orig, Disc  D’Agostino’s  103.590493  3.203393e-23\n",
            "1         Clean,Disc  D’Agostino’s  239.235504  1.123752e-52\n",
            "2   Orig, Full Price  D’Agostino’s  317.579615  1.092604e-69\n",
            "3  Clean, Full Price  D’Agostino’s  281.007986  9.547531e-62\n",
            "           Transformed-Results\n",
            "                            DataIn          Test        stat             p\n",
            "0         Orig, Disc       Shapiro    0.955760  3.409909e-15\n",
            "1         Clean,Disc       Shapiro    0.868290  1.598946e-25\n",
            "2   Orig, Full Price       Shapiro    0.919123  5.725075e-26\n",
            "3  Clean, Full Price       Shapiro    0.855467  1.011598e-32\n",
            "0         Orig, Disc  D’Agostino’s  103.590493  3.203393e-23\n",
            "1         Clean,Disc  D’Agostino’s  239.235504  1.123752e-52\n",
            "2   Orig, Full Price  D’Agostino’s  317.579615  1.092604e-69\n",
            "3  Clean, Full Price  D’Agostino’s  281.007986  9.547531e-62\n"
          ],
          "name": "stdout"
        }
      ]
    },
    {
      "metadata": {
        "id": "0b4wlr87rR2b",
        "colab_type": "text"
      },
      "cell_type": "markdown",
      "source": [
        "## Now we are going to add resampling to produce normal distributions before sampling those to perform norm test and ttest_ind"
      ]
    },
    {
      "metadata": {
        "id": "L6n5eR-LrYhU",
        "colab_type": "code",
        "colab": {}
      },
      "cell_type": "code",
      "source": [
        "data_disc = df['Quantity'].loc[df['Discount']>0]\n",
        "data_fullprice = df['Quantity'].loc[df['Discount']==0]\n",
        "\n",
        "# data_dist.info(), print('n'), data_fullprice.info()"
      ],
      "execution_count": 0,
      "outputs": []
    },
    {
      "metadata": {
        "id": "bZuGT5f8rcf-",
        "colab_type": "code",
        "outputId": "a02487d3-2dc3-4d53-ec6c-c4b04017655e",
        "colab": {
          "base_uri": "https://localhost:8080/",
          "height": 451
        }
      },
      "cell_type": "code",
      "source": [
        "# sample from the discounted \n",
        "n = 50 \n",
        "i = 10000\n",
        "pop_samp_disc = []\n",
        "pop_samp_full = []\n",
        "for i in range(0,i):\n",
        "  pop_samp_disc.append(data_disc.sample(n=30).mean())\n",
        "\n",
        "  pop_samp_full.append(data_disc.sample(n=30).mean())\n",
        "#   test_results.append(normaltest())\n",
        "# plt.hist([pop_samp_disc,pop_samp_full])\n",
        "pop_samp_disc = np.random.choice(pop_samp_disc,1000)\n",
        "pop_samp_full = np.random.choice(pop_samp_full, 1000)\n",
        "plt.hist(pop_samp_disc,alpha=0.5)\n",
        "plt.hist(pop_samp_full,alpha=0.5)\n",
        "\n",
        "plt.axvline(np.mean(pop_samp_disc),color='red',label='discounted')\n",
        "plt.axvline(np.mean(pop_samp_full),color='blue',label='full price')\n",
        "plt.show()\n",
        "\n",
        "stat,p = normaltest(pop_samp_full)\n",
        "stat, p\n",
        "tstat,tp = stats.ttest_ind(pop_samp_disc, pop_samp_full)\n",
        "tstat,tp"
      ],
      "execution_count": 52,
      "outputs": [
        {
          "output_type": "display_data",
          "data": {
            "image/png": "[encoded data removed]",
            "text/plain": [
              "<Figure size 640x480 with 1 Axes>"
            ]
          },
          "metadata": {
            "tags": []
          }
        },
        {
          "output_type": "execute_result",
          "data": {
            "text/plain": [
              "(0.9096780227201231, 0.36310205881464186)"
            ]
          },
          "metadata": {
            "tags": []
          },
          "execution_count": 52
        }
      ]
    },
    {
      "metadata": {
        "id": "uRJbSmaEujs3",
        "colab_type": "code",
        "colab": {}
      },
      "cell_type": "code",
      "source": [
        "# # plt.hist([pop_samp_disc,pop_samp_full])\n",
        "# plt.figure()\n",
        "# plt.hist(pop_samp_disc,alpha=0.5,density=True)\n",
        "# plt.hist(pop_samp_full, alpha=0.5, density=True)\n",
        "\n",
        "# plt.axvline(np.mean(pop_samp_disc),color='red',label='discounted')\n",
        "# plt.axvline(np.mean(data_disc),color='blue',label='originaldiscounted')\n",
        "# plt.legend()\n",
        "# plt.show()"
      ],
      "execution_count": 0,
      "outputs": []
    },
    {
      "metadata": {
        "id": "Oo7In-gvtezW",
        "colab_type": "text"
      },
      "cell_type": "markdown",
      "source": [
        "### Below section was obsessing over get nice stacking/unstacking of the dataframe. ,\n",
        "moving on for now."
      ]
    },
    {
      "metadata": {
        "id": "r2KxoI1snfzD",
        "colab_type": "code",
        "colab": {}
      },
      "cell_type": "code",
      "source": [
        "?"
      ],
      "execution_count": 0,
      "outputs": []
    },
    {
      "metadata": {
        "id": "ARClmsCLLoNf",
        "colab_type": "text"
      },
      "cell_type": "markdown",
      "source": [
        "# James's Notes on the overall workflow / pipeline\n",
        "**Don't forget about the codeacademy slides, [the tukey test they recommend is not from scipy, its from statsmodels]**(https://drive.google.com/drive/u/0/folders/18OI7pC76d6IJ5xI0ZA8A__Da9WI2rNon)\n",
        "1. Separate data into groups\n",
        "2. test groups for normality \n",
        "    - [Normaltest/ D’Agostino and Pearson’s](https://docs.scipy.org/doc/scipy/reference/generated/scipy.stats.normaltest.html)\n",
        "\n",
        "3. test groups for homo of variance\n",
        "    - [Levene's Test](https://docs.scipy.org/doc/scipy-0.14.0/reference/generated/scipy.stats.levene.html)\n",
        "4. Try to normalize data if possible?\n",
        "    - \n",
        "5. Choose test based on output\n",
        "    - Normal: 2 sample t-test\n",
        "    - Welch's t-test (Jeff)\n",
        "    - Not normal =     - [Mann Whitney U Test](https://docs.scipy.org/doc/scipy/reference/generated/scipy.stats.mannwhitneyu.html)\n",
        "5B. Calculate other statistics for result, i.e effect size...?\n",
        "    - Effect size: [cohen's d](https://stackoverflow.com/questions/21532471/how-to-calculate-cohens-d-in-python)\n",
        "6. Run test, if significant follow up with post-hoc tests (IF have more than 2 groups)\n",
        "    - [Tukey's](https://www.statsmodels.org/stable/generated/statsmodels.stats.multicomp.pairwise_tukeyhsd.html)\n",
        "\n",
        "**FOR US:**\n",
        "- **We should now separate the discounted data by values to create a group for each level and then run the pairwise Tukey's test**\n",
        "- We may want to re-check the assumptions for the new groups (levene's test and normaltest)\n",
        "    - The data may be parametric when divided this way, in which case we would run an [ANOVA](https://docs.scipy.org/doc/scipy/reference/generated/scipy.stats.f_oneway.html)\n",
        "        - If the ANOVA is significant, we would run a Tukey's anyway for pairwise comparison so I guess can maybe just jump right to the Tukey's test.\n",
        "- \n",
        "\n"
      ]
    },
    {
      "metadata": {
        "id": "dA459xbHLnoR",
        "colab_type": "code",
        "outputId": "4063f532-9681-47e0-fddc-4d2794e874f4",
        "colab": {
          "base_uri": "https://localhost:8080/",
          "height": 345
        }
      },
      "cell_type": "code",
      "source": [
        "# 1 - Separating groups from dfH (dataframeHypothesis)\n",
        "dfH = df[['Quantity','UnitPrice','Discount']].copy()\n",
        "\n",
        "#Adding group definitions\n",
        "grpA = \"['Discount'] > 0\"\n",
        "grpB = \"['Discount'] == 0\"\n",
        "\n",
        "# Using eval to create df_A and df_B; will allow us to fill in our results \n",
        "# with the exact definitions of Group A and Group B\n",
        "df_A = eval(f'dfH.loc[dfH{grpA}]')\n",
        "df_B = eval(f'dfH.loc[dfH{grpB}]')\n",
        "\n",
        "# dfj_D = dfH.loc[dfj['Discount']>0] \n",
        "# dfj_F = dfH.loc[dfj['Discount']==0]\n",
        "df_A.describe(),'--'*25,df_B.describe()"
      ],
      "execution_count": 54,
      "outputs": [
        {
          "output_type": "execute_result",
          "data": {
            "text/plain": [
              "(         Quantity   UnitPrice    Discount\n",
              " count  838.000000  838.000000  838.000000\n",
              " mean    27.109785   26.292363    0.144439\n",
              " std     20.771439   30.017214    0.071808\n",
              " min      1.000000    2.000000    0.010000\n",
              " 25%     12.000000   12.500000    0.100000\n",
              " 50%     20.000000   18.000000    0.150000\n",
              " 75%     36.000000   31.230000    0.200000\n",
              " max    130.000000  263.500000    0.250000,\n",
              " '--------------------------------------------------',\n",
              "           Quantity    UnitPrice  Discount\n",
              " count  1317.000000  1317.000000    1317.0\n",
              " mean     21.715262    26.171534       0.0\n",
              " std      17.507493    29.717354       0.0\n",
              " min       1.000000     2.000000       0.0\n",
              " 25%      10.000000    12.000000       0.0\n",
              " 50%      18.000000    18.400000       0.0\n",
              " 75%      30.000000    32.800000       0.0\n",
              " max     130.000000   263.500000       0.0)"
            ]
          },
          "metadata": {
            "tags": []
          },
          "execution_count": 54
        }
      ]
    },
    {
      "metadata": {
        "id": "zDIYeMJMIum6",
        "colab_type": "code",
        "colab": {}
      },
      "cell_type": "code",
      "source": [
        "# Adding table to collect summary statistics\n",
        "H1_tests = [['Group:','TestName','Test Purpose','stat','p']  ]\n"
      ],
      "execution_count": 0,
      "outputs": []
    },
    {
      "metadata": {
        "id": "AXqG5zazL-vH",
        "colab_type": "code",
        "colab": {}
      },
      "cell_type": "code",
      "source": [
        "# H1_tests.pop()"
      ],
      "execution_count": 0,
      "outputs": []
    },
    {
      "metadata": {
        "id": "ZcwUoJKjNIZu",
        "colab_type": "code",
        "outputId": "a1b30299-f088-47db-989b-76bea7f5d43c",
        "colab": {
          "base_uri": "https://localhost:8080/",
          "height": 52
        }
      },
      "cell_type": "code",
      "source": [
        "#H1_tests = [['Group:','TestName','Test Purpose','stat','p']  ]\n",
        "# 2. Testing normality\n",
        "\n",
        "test_purpose = 'Normality'\n",
        "test_to_run = 'normaltest'\n",
        "\n",
        "arrA = np.array(df_A['Quantity'])\n",
        "arrB = np.array(df_B['Quantity'])\n",
        "\n",
        "statA, pA = eval(test_to_run)(arrA)\n",
        "statB, pB = eval(test_to_run)(arrB)\n",
        "\n",
        "print(f'A:stat={statA}, p={pA}')\n",
        "print(f'B:stat={statB}, p={pB}')\n",
        "\n",
        "H1_tests.append(['A: '+grpA,test_to_run,test_purpose,statA,pA])\n",
        "H1_tests.append(['B: '+grpB,test_to_run,test_purpose,statB,pB])\n",
        "# list2df(H1_tests)"
      ],
      "execution_count": 57,
      "outputs": [
        {
          "output_type": "stream",
          "text": [
            "A:stat=261.528012299789, p=1.6214878452829618e-57\n",
            "B:stat=544.5770045551502, p=5.579637380545965e-119\n"
          ],
          "name": "stdout"
        }
      ]
    },
    {
      "metadata": {
        "id": "BeOQ35sjQ4wJ",
        "colab_type": "code",
        "outputId": "091056f0-fd21-4287-9010-0c2dda42e92e",
        "colab": {
          "base_uri": "https://localhost:8080/",
          "height": 108
        }
      },
      "cell_type": "code",
      "source": [
        "list2df(H1_tests)"
      ],
      "execution_count": 58,
      "outputs": [
        {
          "output_type": "execute_result",
          "data": {
            "text/html": [
              "<div>\n",
              "<style scoped>\n",
              "    .dataframe tbody tr th:only-of-type {\n",
              "        vertical-align: middle;\n",
              "    }\n",
              "\n",
              "    .dataframe tbody tr th {\n",
              "        vertical-align: top;\n",
              "    }\n",
              "\n",
              "    .dataframe thead th {\n",
              "        text-align: right;\n",
              "    }\n",
              "</style>\n",
              "<table border=\"1\" class=\"dataframe\">\n",
              "  <thead>\n",
              "    <tr style=\"text-align: right;\">\n",
              "      <th></th>\n",
              "      <th>Group:</th>\n",
              "      <th>TestName</th>\n",
              "      <th>Test Purpose</th>\n",
              "      <th>stat</th>\n",
              "      <th>p</th>\n",
              "    </tr>\n",
              "  </thead>\n",
              "  <tbody>\n",
              "    <tr>\n",
              "      <th>0</th>\n",
              "      <td>A: ['Discount'] &gt; 0</td>\n",
              "      <td>normaltest</td>\n",
              "      <td>Normality</td>\n",
              "      <td>261.528012</td>\n",
              "      <td>1.621488e-57</td>\n",
              "    </tr>\n",
              "    <tr>\n",
              "      <th>1</th>\n",
              "      <td>B: ['Discount'] == 0</td>\n",
              "      <td>normaltest</td>\n",
              "      <td>Normality</td>\n",
              "      <td>544.577005</td>\n",
              "      <td>5.579637e-119</td>\n",
              "    </tr>\n",
              "  </tbody>\n",
              "</table>\n",
              "</div>"
            ],
            "text/plain": [
              "                 Group:    TestName Test Purpose        stat              p\n",
              "0   A: ['Discount'] > 0  normaltest    Normality  261.528012   1.621488e-57\n",
              "1  B: ['Discount'] == 0  normaltest    Normality  544.577005  5.579637e-119"
            ]
          },
          "metadata": {
            "tags": []
          },
          "execution_count": 58
        }
      ]
    },
    {
      "metadata": {
        "id": "Ows78wGWP7LH",
        "colab_type": "code",
        "colab": {}
      },
      "cell_type": "code",
      "source": [
        "# 3. Test for homo var\n",
        "test_to_run = 'stats.levene'\n",
        "stat,p = eval(test_to_run)(arrA,arrB,center='median')\n",
        "\n",
        "H1_tests.append(['A&B',test_to_run,'Equal Var',stat,p])"
      ],
      "execution_count": 0,
      "outputs": []
    },
    {
      "metadata": {
        "id": "0OVY01SMRD_l",
        "colab_type": "code",
        "outputId": "4f021183-b68b-4d42-80c5-743a86ecfd0e",
        "colab": {
          "base_uri": "https://localhost:8080/",
          "height": 138
        }
      },
      "cell_type": "code",
      "source": [
        "list2df(H1_tests)"
      ],
      "execution_count": 60,
      "outputs": [
        {
          "output_type": "execute_result",
          "data": {
            "text/html": [
              "<div>\n",
              "<style scoped>\n",
              "    .dataframe tbody tr th:only-of-type {\n",
              "        vertical-align: middle;\n",
              "    }\n",
              "\n",
              "    .dataframe tbody tr th {\n",
              "        vertical-align: top;\n",
              "    }\n",
              "\n",
              "    .dataframe thead th {\n",
              "        text-align: right;\n",
              "    }\n",
              "</style>\n",
              "<table border=\"1\" class=\"dataframe\">\n",
              "  <thead>\n",
              "    <tr style=\"text-align: right;\">\n",
              "      <th></th>\n",
              "      <th>Group:</th>\n",
              "      <th>TestName</th>\n",
              "      <th>Test Purpose</th>\n",
              "      <th>stat</th>\n",
              "      <th>p</th>\n",
              "    </tr>\n",
              "  </thead>\n",
              "  <tbody>\n",
              "    <tr>\n",
              "      <th>0</th>\n",
              "      <td>A: ['Discount'] &gt; 0</td>\n",
              "      <td>normaltest</td>\n",
              "      <td>Normality</td>\n",
              "      <td>261.528012</td>\n",
              "      <td>1.621488e-57</td>\n",
              "    </tr>\n",
              "    <tr>\n",
              "      <th>1</th>\n",
              "      <td>B: ['Discount'] == 0</td>\n",
              "      <td>normaltest</td>\n",
              "      <td>Normality</td>\n",
              "      <td>544.577005</td>\n",
              "      <td>5.579637e-119</td>\n",
              "    </tr>\n",
              "    <tr>\n",
              "      <th>2</th>\n",
              "      <td>A&amp;B</td>\n",
              "      <td>stats.levene</td>\n",
              "      <td>Equal Var</td>\n",
              "      <td>14.832672</td>\n",
              "      <td>1.209138e-04</td>\n",
              "    </tr>\n",
              "  </tbody>\n",
              "</table>\n",
              "</div>"
            ],
            "text/plain": [
              "                 Group:      TestName Test Purpose        stat              p\n",
              "0   A: ['Discount'] > 0    normaltest    Normality  261.528012   1.621488e-57\n",
              "1  B: ['Discount'] == 0    normaltest    Normality  544.577005  5.579637e-119\n",
              "2                   A&B  stats.levene    Equal Var   14.832672   1.209138e-04"
            ]
          },
          "metadata": {
            "tags": []
          },
          "execution_count": 60
        }
      ]
    },
    {
      "metadata": {
        "id": "Zq38mtURQaoN",
        "colab_type": "text"
      },
      "cell_type": "markdown",
      "source": [
        "### Conclusions so far...\n",
        "- We failed both normaltests and homo variance\n",
        "- Need non-parametric 2sample ttest\n",
        "    - [**Mann-Whitney U test**](https://docs.scipy.org/doc/scipy/reference/generated/scipy.stats.mannwhitneyu.html)"
      ]
    },
    {
      "metadata": {
        "id": "z0cdkzP5S9SX",
        "colab_type": "code",
        "colab": {}
      },
      "cell_type": "code",
      "source": [
        "# Mann Whitney U test+\n",
        "import scipy.stats as stats\n",
        "# arrA was discounted, arrB was non-discounted\n",
        "test_to_run = 'stats.mannwhitneyu'\n",
        "stat, p = eval(test_to_run)(arrA,arrB,alternative='greater')\n",
        "stat, p\n",
        "H1_tests.append(['A vs. B',test_to_run, 'H1_sig', stat,p])"
      ],
      "execution_count": 0,
      "outputs": []
    },
    {
      "metadata": {
        "id": "v1CpLOgKTVMw",
        "colab_type": "code",
        "outputId": "f9c892b8-b543-487b-8abc-57dd6debb540",
        "colab": {
          "base_uri": "https://localhost:8080/",
          "height": 168
        }
      },
      "cell_type": "code",
      "source": [
        "list2df(H1_tests)"
      ],
      "execution_count": 62,
      "outputs": [
        {
          "output_type": "execute_result",
          "data": {
            "text/html": [
              "<div>\n",
              "<style scoped>\n",
              "    .dataframe tbody tr th:only-of-type {\n",
              "        vertical-align: middle;\n",
              "    }\n",
              "\n",
              "    .dataframe tbody tr th {\n",
              "        vertical-align: top;\n",
              "    }\n",
              "\n",
              "    .dataframe thead th {\n",
              "        text-align: right;\n",
              "    }\n",
              "</style>\n",
              "<table border=\"1\" class=\"dataframe\">\n",
              "  <thead>\n",
              "    <tr style=\"text-align: right;\">\n",
              "      <th></th>\n",
              "      <th>Group:</th>\n",
              "      <th>TestName</th>\n",
              "      <th>Test Purpose</th>\n",
              "      <th>stat</th>\n",
              "      <th>p</th>\n",
              "    </tr>\n",
              "  </thead>\n",
              "  <tbody>\n",
              "    <tr>\n",
              "      <th>0</th>\n",
              "      <td>A: ['Discount'] &gt; 0</td>\n",
              "      <td>normaltest</td>\n",
              "      <td>Normality</td>\n",
              "      <td>261.528012</td>\n",
              "      <td>1.621488e-57</td>\n",
              "    </tr>\n",
              "    <tr>\n",
              "      <th>1</th>\n",
              "      <td>B: ['Discount'] == 0</td>\n",
              "      <td>normaltest</td>\n",
              "      <td>Normality</td>\n",
              "      <td>544.577005</td>\n",
              "      <td>5.579637e-119</td>\n",
              "    </tr>\n",
              "    <tr>\n",
              "      <th>2</th>\n",
              "      <td>A&amp;B</td>\n",
              "      <td>stats.levene</td>\n",
              "      <td>Equal Var</td>\n",
              "      <td>14.832672</td>\n",
              "      <td>1.209138e-04</td>\n",
              "    </tr>\n",
              "    <tr>\n",
              "      <th>3</th>\n",
              "      <td>A vs. B</td>\n",
              "      <td>stats.mannwhitneyu</td>\n",
              "      <td>H1_sig</td>\n",
              "      <td>642105.000000</td>\n",
              "      <td>6.629382e-11</td>\n",
              "    </tr>\n",
              "  </tbody>\n",
              "</table>\n",
              "</div>"
            ],
            "text/plain": [
              "                 Group:            TestName Test Purpose           stat  \\\n",
              "0   A: ['Discount'] > 0          normaltest    Normality     261.528012   \n",
              "1  B: ['Discount'] == 0          normaltest    Normality     544.577005   \n",
              "2                   A&B        stats.levene    Equal Var      14.832672   \n",
              "3               A vs. B  stats.mannwhitneyu       H1_sig  642105.000000   \n",
              "\n",
              "               p  \n",
              "0   1.621488e-57  \n",
              "1  5.579637e-119  \n",
              "2   1.209138e-04  \n",
              "3   6.629382e-11  "
            ]
          },
          "metadata": {
            "tags": []
          },
          "execution_count": 62
        }
      ]
    },
    {
      "metadata": {
        "id": "iX0tWpsAUDQU",
        "colab_type": "text"
      },
      "cell_type": "markdown",
      "source": [
        "## <img src=\"https://www.dropbox.com/s/6xqzendi1iyzls8/bookmark.png?raw=1\" width=15>  END BOOKMARK"
      ]
    },
    {
      "metadata": {
        "id": "wHEx112CTia4",
        "colab_type": "text"
      },
      "cell_type": "markdown",
      "source": [
        "**We have a significant Mann Whitney U results, but we have yet to say anything about **\n",
        "\n",
        "- We should now run post-hoc tests using pairwise Tukey's tests \n",
        "- Maybe best to run them so that the full price group is run vs the levels of discount pairwise (But not to test pairwise within the levels of discounts)"
      ]
    },
    {
      "metadata": {
        "id": "NmGwt-GyUDFF",
        "colab_type": "code",
        "outputId": "ffcfd4a8-c5ef-4f9f-c22d-f901cdadfcd5",
        "colab": {
          "base_uri": "https://localhost:8080/",
          "height": 378
        }
      },
      "cell_type": "code",
      "source": [
        "pd.DataFrame(df['Discount'].value_counts().sort_index())"
      ],
      "execution_count": 63,
      "outputs": [
        {
          "output_type": "execute_result",
          "data": {
            "text/html": [
              "<div>\n",
              "<style scoped>\n",
              "    .dataframe tbody tr th:only-of-type {\n",
              "        vertical-align: middle;\n",
              "    }\n",
              "\n",
              "    .dataframe tbody tr th {\n",
              "        vertical-align: top;\n",
              "    }\n",
              "\n",
              "    .dataframe thead th {\n",
              "        text-align: right;\n",
              "    }\n",
              "</style>\n",
              "<table border=\"1\" class=\"dataframe\">\n",
              "  <thead>\n",
              "    <tr style=\"text-align: right;\">\n",
              "      <th></th>\n",
              "      <th>Discount</th>\n",
              "    </tr>\n",
              "  </thead>\n",
              "  <tbody>\n",
              "    <tr>\n",
              "      <th>0.00</th>\n",
              "      <td>1317</td>\n",
              "    </tr>\n",
              "    <tr>\n",
              "      <th>0.01</th>\n",
              "      <td>1</td>\n",
              "    </tr>\n",
              "    <tr>\n",
              "      <th>0.02</th>\n",
              "      <td>2</td>\n",
              "    </tr>\n",
              "    <tr>\n",
              "      <th>0.03</th>\n",
              "      <td>3</td>\n",
              "    </tr>\n",
              "    <tr>\n",
              "      <th>0.04</th>\n",
              "      <td>1</td>\n",
              "    </tr>\n",
              "    <tr>\n",
              "      <th>0.05</th>\n",
              "      <td>185</td>\n",
              "    </tr>\n",
              "    <tr>\n",
              "      <th>0.06</th>\n",
              "      <td>1</td>\n",
              "    </tr>\n",
              "    <tr>\n",
              "      <th>0.10</th>\n",
              "      <td>173</td>\n",
              "    </tr>\n",
              "    <tr>\n",
              "      <th>0.15</th>\n",
              "      <td>157</td>\n",
              "    </tr>\n",
              "    <tr>\n",
              "      <th>0.20</th>\n",
              "      <td>161</td>\n",
              "    </tr>\n",
              "    <tr>\n",
              "      <th>0.25</th>\n",
              "      <td>154</td>\n",
              "    </tr>\n",
              "  </tbody>\n",
              "</table>\n",
              "</div>"
            ],
            "text/plain": [
              "      Discount\n",
              "0.00      1317\n",
              "0.01         1\n",
              "0.02         2\n",
              "0.03         3\n",
              "0.04         1\n",
              "0.05       185\n",
              "0.06         1\n",
              "0.10       173\n",
              "0.15       157\n",
              "0.20       161\n",
              "0.25       154"
            ]
          },
          "metadata": {
            "tags": []
          },
          "execution_count": 63
        }
      ]
    },
    {
      "metadata": {
        "id": "0Vr2q4dFYdEe",
        "colab_type": "code",
        "outputId": "33b17704-a46e-4044-91bd-9f8c0d8cb088",
        "colab": {
          "base_uri": "https://localhost:8080/",
          "height": 207
        }
      },
      "cell_type": "code",
      "source": [
        "df.info()"
      ],
      "execution_count": 64,
      "outputs": [
        {
          "output_type": "stream",
          "text": [
            "<class 'pandas.core.frame.DataFrame'>\n",
            "RangeIndex: 2155 entries, 0 to 2154\n",
            "Data columns (total 6 columns):\n",
            "Id           2155 non-null object\n",
            "OrderId      2155 non-null int64\n",
            "ProductId    2155 non-null int64\n",
            "UnitPrice    2155 non-null float64\n",
            "Quantity     2155 non-null int64\n",
            "Discount     2155 non-null float64\n",
            "dtypes: float64(2), int64(3), object(1)\n",
            "memory usage: 101.1+ KB\n"
          ],
          "name": "stdout"
        }
      ]
    },
    {
      "metadata": {
        "id": "sNKUUYlR7WDu",
        "colab_type": "text"
      },
      "cell_type": "markdown",
      "source": [
        "### Creating Discount Level Variables for Tukey"
      ]
    },
    {
      "metadata": {
        "id": "JhO4Axcamkll",
        "colab_type": "code",
        "colab": {}
      },
      "cell_type": "code",
      "source": [
        "# test_ints = pd.interval_range(-0.05,0.3,periods=0.05)#,closed='both')\n",
        "# test_ints\n",
        "# # int_bins = pd.IntervalIndex([-0.05,0.0,0.05,0.10,0.15,0.20,0.25,0.3])\n",
        "# # pd.Interval(bins)"
      ],
      "execution_count": 0,
      "outputs": []
    },
    {
      "metadata": {
        "id": "pwrbIEmzcpI7",
        "colab_type": "text"
      },
      "cell_type": "markdown",
      "source": [
        "### Adding LabelEncoding\n",
        "- Question: do we want to have \"None\" encoded? Not sure. Would need to replace the current np.NaN with \"NaN\" first or likely will return error"
      ]
    },
    {
      "metadata": {
        "id": "C-DVFhJMk_yb",
        "colab_type": "code",
        "outputId": "61705c48-efa2-4c3b-8e5a-4f0649947fe5",
        "colab": {
          "base_uri": "https://localhost:8080/",
          "height": 121
        }
      },
      "cell_type": "code",
      "source": [
        "# intervalIndex = pd.IntervalIndex(())\n",
        "df_cut = df.copy().drop('Discount',axis=1)\n",
        "\n",
        "\n",
        "new_discounts = pd.cut(df['Discount'],[-0.05,0.0,0.05,0.10,0.15,0.20,0.25,0.3], include_lowest=False)\n",
        "new_discouts = new_discounts.cat.as_ordered(inplace=True)\n",
        "df_disc_codes  = new_discounts.cat.codes\n",
        "\n",
        "# Save code info for later\n",
        "disc_intervals = new_discounts.unique().sort_values()\n",
        "disc_codes = sorted(df_disc_codes.unique())\n",
        "\n",
        "# Save the intervals \n",
        "labelCodes = tuple(zip(disc_intervals,disc_codes))\n",
        "labelCodes"
      ],
      "execution_count": 66,
      "outputs": [
        {
          "output_type": "execute_result",
          "data": {
            "text/plain": [
              "((Interval(-0.05, 0.0, closed='right'), 0),\n",
              " (Interval(0.0, 0.05, closed='right'), 1),\n",
              " (Interval(0.05, 0.1, closed='right'), 2),\n",
              " (Interval(0.1, 0.15, closed='right'), 3),\n",
              " (Interval(0.15, 0.2, closed='right'), 4),\n",
              " (Interval(0.2, 0.25, closed='right'), 5))"
            ]
          },
          "metadata": {
            "tags": []
          },
          "execution_count": 66
        }
      ]
    },
    {
      "metadata": {
        "id": "OtMWYl-sp2qJ",
        "colab_type": "code",
        "outputId": "a8467970-8346-4866-93c2-d5a88028d0f4",
        "colab": {
          "base_uri": "https://localhost:8080/",
          "height": 348
        }
      },
      "cell_type": "code",
      "source": [
        "# Before encoding\n",
        "df_H1codes = pd.concat([df_cut,new_discounts,df_disc_codes],axis=1)\n",
        "df_H1codes.head(10)"
      ],
      "execution_count": 67,
      "outputs": [
        {
          "output_type": "execute_result",
          "data": {
            "text/html": [
              "<div>\n",
              "<style scoped>\n",
              "    .dataframe tbody tr th:only-of-type {\n",
              "        vertical-align: middle;\n",
              "    }\n",
              "\n",
              "    .dataframe tbody tr th {\n",
              "        vertical-align: top;\n",
              "    }\n",
              "\n",
              "    .dataframe thead th {\n",
              "        text-align: right;\n",
              "    }\n",
              "</style>\n",
              "<table border=\"1\" class=\"dataframe\">\n",
              "  <thead>\n",
              "    <tr style=\"text-align: right;\">\n",
              "      <th></th>\n",
              "      <th>Id</th>\n",
              "      <th>OrderId</th>\n",
              "      <th>ProductId</th>\n",
              "      <th>UnitPrice</th>\n",
              "      <th>Quantity</th>\n",
              "      <th>Discount</th>\n",
              "      <th>0</th>\n",
              "    </tr>\n",
              "  </thead>\n",
              "  <tbody>\n",
              "    <tr>\n",
              "      <th>0</th>\n",
              "      <td>10248/11</td>\n",
              "      <td>10248</td>\n",
              "      <td>11</td>\n",
              "      <td>14.0</td>\n",
              "      <td>12</td>\n",
              "      <td>(-0.05, 0.0]</td>\n",
              "      <td>0</td>\n",
              "    </tr>\n",
              "    <tr>\n",
              "      <th>1</th>\n",
              "      <td>10248/42</td>\n",
              "      <td>10248</td>\n",
              "      <td>42</td>\n",
              "      <td>9.8</td>\n",
              "      <td>10</td>\n",
              "      <td>(-0.05, 0.0]</td>\n",
              "      <td>0</td>\n",
              "    </tr>\n",
              "    <tr>\n",
              "      <th>2</th>\n",
              "      <td>10248/72</td>\n",
              "      <td>10248</td>\n",
              "      <td>72</td>\n",
              "      <td>34.8</td>\n",
              "      <td>5</td>\n",
              "      <td>(-0.05, 0.0]</td>\n",
              "      <td>0</td>\n",
              "    </tr>\n",
              "    <tr>\n",
              "      <th>3</th>\n",
              "      <td>10249/14</td>\n",
              "      <td>10249</td>\n",
              "      <td>14</td>\n",
              "      <td>18.6</td>\n",
              "      <td>9</td>\n",
              "      <td>(-0.05, 0.0]</td>\n",
              "      <td>0</td>\n",
              "    </tr>\n",
              "    <tr>\n",
              "      <th>4</th>\n",
              "      <td>10249/51</td>\n",
              "      <td>10249</td>\n",
              "      <td>51</td>\n",
              "      <td>42.4</td>\n",
              "      <td>40</td>\n",
              "      <td>(-0.05, 0.0]</td>\n",
              "      <td>0</td>\n",
              "    </tr>\n",
              "    <tr>\n",
              "      <th>5</th>\n",
              "      <td>10250/41</td>\n",
              "      <td>10250</td>\n",
              "      <td>41</td>\n",
              "      <td>7.7</td>\n",
              "      <td>10</td>\n",
              "      <td>(-0.05, 0.0]</td>\n",
              "      <td>0</td>\n",
              "    </tr>\n",
              "    <tr>\n",
              "      <th>6</th>\n",
              "      <td>10250/51</td>\n",
              "      <td>10250</td>\n",
              "      <td>51</td>\n",
              "      <td>42.4</td>\n",
              "      <td>35</td>\n",
              "      <td>(0.1, 0.15]</td>\n",
              "      <td>3</td>\n",
              "    </tr>\n",
              "    <tr>\n",
              "      <th>7</th>\n",
              "      <td>10250/65</td>\n",
              "      <td>10250</td>\n",
              "      <td>65</td>\n",
              "      <td>16.8</td>\n",
              "      <td>15</td>\n",
              "      <td>(0.1, 0.15]</td>\n",
              "      <td>3</td>\n",
              "    </tr>\n",
              "    <tr>\n",
              "      <th>8</th>\n",
              "      <td>10251/22</td>\n",
              "      <td>10251</td>\n",
              "      <td>22</td>\n",
              "      <td>16.8</td>\n",
              "      <td>6</td>\n",
              "      <td>(0.0, 0.05]</td>\n",
              "      <td>1</td>\n",
              "    </tr>\n",
              "    <tr>\n",
              "      <th>9</th>\n",
              "      <td>10251/57</td>\n",
              "      <td>10251</td>\n",
              "      <td>57</td>\n",
              "      <td>15.6</td>\n",
              "      <td>15</td>\n",
              "      <td>(0.0, 0.05]</td>\n",
              "      <td>1</td>\n",
              "    </tr>\n",
              "  </tbody>\n",
              "</table>\n",
              "</div>"
            ],
            "text/plain": [
              "         Id  OrderId  ProductId  UnitPrice  Quantity      Discount  0\n",
              "0  10248/11    10248         11       14.0        12  (-0.05, 0.0]  0\n",
              "1  10248/42    10248         42        9.8        10  (-0.05, 0.0]  0\n",
              "2  10248/72    10248         72       34.8         5  (-0.05, 0.0]  0\n",
              "3  10249/14    10249         14       18.6         9  (-0.05, 0.0]  0\n",
              "4  10249/51    10249         51       42.4        40  (-0.05, 0.0]  0\n",
              "5  10250/41    10250         41        7.7        10  (-0.05, 0.0]  0\n",
              "6  10250/51    10250         51       42.4        35   (0.1, 0.15]  3\n",
              "7  10250/65    10250         65       16.8        15   (0.1, 0.15]  3\n",
              "8  10251/22    10251         22       16.8         6   (0.0, 0.05]  1\n",
              "9  10251/57    10251         57       15.6        15   (0.0, 0.05]  1"
            ]
          },
          "metadata": {
            "tags": []
          },
          "execution_count": 67
        }
      ]
    },
    {
      "metadata": {
        "id": "Pmqq4jpGU62Y",
        "colab_type": "code",
        "outputId": "6311372a-4d76-407d-e8c4-5dc0c6eee181",
        "colab": {
          "base_uri": "https://localhost:8080/",
          "height": 225
        }
      },
      "cell_type": "code",
      "source": [
        "df_H1codes.info()"
      ],
      "execution_count": 68,
      "outputs": [
        {
          "output_type": "stream",
          "text": [
            "<class 'pandas.core.frame.DataFrame'>\n",
            "RangeIndex: 2155 entries, 0 to 2154\n",
            "Data columns (total 7 columns):\n",
            "Id           2155 non-null object\n",
            "OrderId      2155 non-null int64\n",
            "ProductId    2155 non-null int64\n",
            "UnitPrice    2155 non-null float64\n",
            "Quantity     2155 non-null int64\n",
            "Discount     2155 non-null category\n",
            "0            2155 non-null int8\n",
            "dtypes: category(1), float64(1), int64(3), int8(1), object(1)\n",
            "memory usage: 88.6+ KB\n"
          ],
          "name": "stdout"
        }
      ]
    },
    {
      "metadata": {
        "id": "NIDghtaWjKKB",
        "colab_type": "code",
        "outputId": "faf011ca-4c87-494d-c1b1-cb08d5eab946",
        "colab": {
          "base_uri": "https://localhost:8080/",
          "height": 198
        }
      },
      "cell_type": "code",
      "source": [
        "colnames = list(df_H1codes.columns)\n",
        "colnames[-1] = 'DiscSize'\n",
        "df_H1codes.columns = colnames\n",
        "df_H1codes.head()\n",
        "# colnames"
      ],
      "execution_count": 69,
      "outputs": [
        {
          "output_type": "execute_result",
          "data": {
            "text/html": [
              "<div>\n",
              "<style scoped>\n",
              "    .dataframe tbody tr th:only-of-type {\n",
              "        vertical-align: middle;\n",
              "    }\n",
              "\n",
              "    .dataframe tbody tr th {\n",
              "        vertical-align: top;\n",
              "    }\n",
              "\n",
              "    .dataframe thead th {\n",
              "        text-align: right;\n",
              "    }\n",
              "</style>\n",
              "<table border=\"1\" class=\"dataframe\">\n",
              "  <thead>\n",
              "    <tr style=\"text-align: right;\">\n",
              "      <th></th>\n",
              "      <th>Id</th>\n",
              "      <th>OrderId</th>\n",
              "      <th>ProductId</th>\n",
              "      <th>UnitPrice</th>\n",
              "      <th>Quantity</th>\n",
              "      <th>Discount</th>\n",
              "      <th>DiscSize</th>\n",
              "    </tr>\n",
              "  </thead>\n",
              "  <tbody>\n",
              "    <tr>\n",
              "      <th>0</th>\n",
              "      <td>10248/11</td>\n",
              "      <td>10248</td>\n",
              "      <td>11</td>\n",
              "      <td>14.0</td>\n",
              "      <td>12</td>\n",
              "      <td>(-0.05, 0.0]</td>\n",
              "      <td>0</td>\n",
              "    </tr>\n",
              "    <tr>\n",
              "      <th>1</th>\n",
              "      <td>10248/42</td>\n",
              "      <td>10248</td>\n",
              "      <td>42</td>\n",
              "      <td>9.8</td>\n",
              "      <td>10</td>\n",
              "      <td>(-0.05, 0.0]</td>\n",
              "      <td>0</td>\n",
              "    </tr>\n",
              "    <tr>\n",
              "      <th>2</th>\n",
              "      <td>10248/72</td>\n",
              "      <td>10248</td>\n",
              "      <td>72</td>\n",
              "      <td>34.8</td>\n",
              "      <td>5</td>\n",
              "      <td>(-0.05, 0.0]</td>\n",
              "      <td>0</td>\n",
              "    </tr>\n",
              "    <tr>\n",
              "      <th>3</th>\n",
              "      <td>10249/14</td>\n",
              "      <td>10249</td>\n",
              "      <td>14</td>\n",
              "      <td>18.6</td>\n",
              "      <td>9</td>\n",
              "      <td>(-0.05, 0.0]</td>\n",
              "      <td>0</td>\n",
              "    </tr>\n",
              "    <tr>\n",
              "      <th>4</th>\n",
              "      <td>10249/51</td>\n",
              "      <td>10249</td>\n",
              "      <td>51</td>\n",
              "      <td>42.4</td>\n",
              "      <td>40</td>\n",
              "      <td>(-0.05, 0.0]</td>\n",
              "      <td>0</td>\n",
              "    </tr>\n",
              "  </tbody>\n",
              "</table>\n",
              "</div>"
            ],
            "text/plain": [
              "         Id  OrderId  ProductId  UnitPrice  Quantity      Discount  DiscSize\n",
              "0  10248/11    10248         11       14.0        12  (-0.05, 0.0]         0\n",
              "1  10248/42    10248         42        9.8        10  (-0.05, 0.0]         0\n",
              "2  10248/72    10248         72       34.8         5  (-0.05, 0.0]         0\n",
              "3  10249/14    10249         14       18.6         9  (-0.05, 0.0]         0\n",
              "4  10249/51    10249         51       42.4        40  (-0.05, 0.0]         0"
            ]
          },
          "metadata": {
            "tags": []
          },
          "execution_count": 69
        }
      ]
    },
    {
      "metadata": {
        "id": "sZQk-cCdc2-1",
        "colab_type": "code",
        "colab": {}
      },
      "cell_type": "code",
      "source": [
        "# # df_H1codes['Discount'].rename\n",
        "# int_str.fetch_all('(-0.05, 0.0]')\n",
        "# len(int_str)"
      ],
      "execution_count": 0,
      "outputs": []
    },
    {
      "metadata": {
        "id": "PaBa6pFN0mTd",
        "colab_type": "code",
        "colab": {}
      },
      "cell_type": "code",
      "source": [
        "# Getting integer intervals to feed in as group names for the Tukey Test\n",
        "int_str = [str(x) for x in new_discounts]\n",
        "\n",
        "# for e in range(0,len(int_str)):\n",
        "#     if int_str[e] == '(-0.05, 0.0]':\n",
        "#         int_str[e] = \"Full_Price\"\n",
        "\n",
        "    \n",
        "# int_str[int_str == ] = \"Full Price\"\n",
        "# int_str[:5]\n",
        "# int_str"
      ],
      "execution_count": 0,
      "outputs": []
    },
    {
      "metadata": {
        "id": "GIEL9dh_BGU9",
        "colab_type": "text"
      },
      "cell_type": "markdown",
      "source": [
        ""
      ]
    },
    {
      "metadata": {
        "id": "6tW9HanWAQ0w",
        "colab_type": "code",
        "colab": {}
      },
      "cell_type": "code",
      "source": [
        "# # Rename discount group\n",
        "\n",
        "# df_H1codes['Discount'][df_H1codes['Discount']== pd.Interval(-.05, 0.0)] \n",
        "# # df_H1codes['Disc']\n",
        "# # = 'No Discount'\n",
        "# df_H1codes.head(10)"
      ],
      "execution_count": 0,
      "outputs": []
    },
    {
      "metadata": {
        "id": "NSrS7lQajjJy",
        "colab_type": "code",
        "outputId": "bb8c2c29-305c-45ea-834a-23149473d14c",
        "colab": {
          "base_uri": "https://localhost:8080/",
          "height": 388
        }
      },
      "cell_type": "code",
      "source": [
        "# Importing tukey's test\n",
        "from statsmodels.stats.multicomp import pairwise_tukeyhsd as tukey\n",
        "\n",
        "\n",
        "tukey_results =tukey(df_H1codes['Quantity'], int_str, 0.05)\n",
        "# tukey_results =tukey(df_H1codes['Quantity'],df_H1codes['DiscSize'],0.05)\n",
        "tukey_results.summary()"
      ],
      "execution_count": 73,
      "outputs": [
        {
          "output_type": "execute_result",
          "data": {
            "text/html": [
              "<table class=\"simpletable\">\n",
              "<caption>Multiple Comparison of Means - Tukey HSD,FWER=0.05</caption>\n",
              "<tr>\n",
              "     <th>group1</th>      <th>group2</th>    <th>meandiff</th>  <th>lower</th>   <th>upper</th>  <th>reject</th>\n",
              "</tr>\n",
              "<tr>\n",
              "  <td>(-0.05, 0.0]</td> <td>(0.0, 0.05]</td>  <td>5.3368</td>  <td>1.1841</td>  <td>9.4895</td>   <td>True</td> \n",
              "</tr>\n",
              "<tr>\n",
              "  <td>(-0.05, 0.0]</td> <td>(0.05, 0.1]</td>  <td>3.3882</td>  <td>-0.9479</td> <td>7.7243</td>   <td>False</td>\n",
              "</tr>\n",
              "<tr>\n",
              "  <td>(-0.05, 0.0]</td> <td>(0.1, 0.15]</td>  <td>6.6669</td>  <td>2.1282</td>  <td>11.2056</td>  <td>True</td> \n",
              "</tr>\n",
              "<tr>\n",
              "  <td>(-0.05, 0.0]</td> <td>(0.15, 0.2]</td>  <td>5.3096</td>  <td>0.8215</td>  <td>9.7977</td>   <td>True</td> \n",
              "</tr>\n",
              "<tr>\n",
              "  <td>(-0.05, 0.0]</td> <td>(0.2, 0.25]</td>   <td>6.525</td>  <td>1.9469</td>  <td>11.1031</td>  <td>True</td> \n",
              "</tr>\n",
              "<tr>\n",
              "   <td>(0.0, 0.05]</td> <td>(0.05, 0.1]</td>  <td>-1.9486</td> <td>-7.5752</td> <td>3.6779</td>   <td>False</td>\n",
              "</tr>\n",
              "<tr>\n",
              "   <td>(0.0, 0.05]</td> <td>(0.1, 0.15]</td>  <td>1.3301</td>  <td>-4.4541</td> <td>7.1143</td>   <td>False</td>\n",
              "</tr>\n",
              "<tr>\n",
              "   <td>(0.0, 0.05]</td> <td>(0.15, 0.2]</td>  <td>-0.0272</td> <td>-5.7718</td> <td>5.7173</td>   <td>False</td>\n",
              "</tr>\n",
              "<tr>\n",
              "   <td>(0.0, 0.05]</td> <td>(0.2, 0.25]</td>  <td>1.1882</td>  <td>-4.6269</td> <td>7.0033</td>   <td>False</td>\n",
              "</tr>\n",
              "<tr>\n",
              "   <td>(0.05, 0.1]</td> <td>(0.1, 0.15]</td>  <td>3.2787</td>  <td>-2.6385</td>  <td>9.196</td>   <td>False</td>\n",
              "</tr>\n",
              "<tr>\n",
              "   <td>(0.05, 0.1]</td> <td>(0.15, 0.2]</td>  <td>1.9214</td>  <td>-3.9571</td> <td>7.7999</td>   <td>False</td>\n",
              "</tr>\n",
              "<tr>\n",
              "   <td>(0.05, 0.1]</td> <td>(0.2, 0.25]</td>  <td>3.1368</td>  <td>-2.8106</td> <td>9.0843</td>   <td>False</td>\n",
              "</tr>\n",
              "<tr>\n",
              "   <td>(0.1, 0.15]</td> <td>(0.15, 0.2]</td>  <td>-1.3573</td> <td>-7.3868</td> <td>4.6722</td>   <td>False</td>\n",
              "</tr>\n",
              "<tr>\n",
              "   <td>(0.1, 0.15]</td> <td>(0.2, 0.25]</td>  <td>-0.1419</td> <td>-6.2387</td> <td>5.9549</td>   <td>False</td>\n",
              "</tr>\n",
              "<tr>\n",
              "   <td>(0.15, 0.2]</td> <td>(0.2, 0.25]</td>  <td>1.2154</td>  <td>-4.8437</td> <td>7.2746</td>   <td>False</td>\n",
              "</tr>\n",
              "</table>"
            ],
            "text/plain": [
              "<class 'statsmodels.iolib.table.SimpleTable'>"
            ]
          },
          "metadata": {
            "tags": []
          },
          "execution_count": 73
        }
      ]
    },
    {
      "metadata": {
        "id": "j6-3co5F1NWz",
        "colab_type": "code",
        "colab": {}
      },
      "cell_type": "code",
      "source": [
        "# Save the results into a dataframe\n",
        "# print(tukey_results)\n",
        "\n",
        "dfH_tukey = pd.DataFrame(data=tukey_results._results_table.data[1:], columns=tukey_results._results_table.data[0])"
      ],
      "execution_count": 0,
      "outputs": []
    },
    {
      "metadata": {
        "id": "W0iroVDrXO1d",
        "colab_type": "text"
      },
      "cell_type": "markdown",
      "source": [
        "# Calculate Effect size\n",
        "- Because Sample distributions  are non-normal,  emplyed here is a nonparametric test which calculates the Overlap and Superiority to see effect size\n"
      ]
    },
    {
      "metadata": {
        "id": "LuVoivoBXNmo",
        "colab_type": "code",
        "colab": {}
      },
      "cell_type": "code",
      "source": [
        "def overlap_superiority(group1, group2, prints=False):\n",
        "  \"\"\"Calculates the overlap and superiority of two samples,\n",
        "    tailored for small populatioin sizes\n",
        "    group1 and group2 are np.arrays of 1 dimension\n",
        "  \"\"\"\n",
        "  #make sure both samples are of the same size so they can be zipped\n",
        "  if len(group1) < len(group2):\n",
        "    group2 = np.random.choice(group2, len(group1))\n",
        "  \n",
        "  elif len(group1) > len(group2):\n",
        "    group1 = np.random.choice(group1, len(group2))\n",
        "\n",
        "  # Identify the threshold between samples\n",
        "  thresh = (group1.mean() + group2.mean()) / 2\n",
        "  if prints == True: \n",
        "    print('Threshold:',thresh)\n",
        "  \n",
        "  # Calculate no. of values above and below for group 1 and group 2 respectively\n",
        "  above = sum(group1 < thresh)\n",
        "  below = sum(group2> thresh)\n",
        "  \n",
        "  # Calculate the overlap\n",
        "  overlap = (above + below) / len(group1)\n",
        "  \n",
        "  # Calculate probability of superiority\n",
        "  superiority = sum(x > y for x, y in zip(group1, group2)) / len(group1)\n",
        "  if prints == True:\n",
        "    print('Overlap:',overlap,'\\n''Superiority:', superiority)\n",
        "  \n",
        "  return overlap, superiority"
      ],
      "execution_count": 0,
      "outputs": []
    },
    {
      "metadata": {
        "id": "bXaMT4nKXoRM",
        "colab_type": "code",
        "colab": {
          "base_uri": "https://localhost:8080/",
          "height": 35
        },
        "outputId": "14b307cb-8624-457a-9058-fea00a4a94b9"
      },
      "cell_type": "code",
      "source": [
        "# group1 = stats.norm(np.mean(df_disc), np.std(df_disc))\n",
        "# group2 = stats.norm(np.mean(df_fullprice), np.std(df_fullprice))\n",
        "group1 = np.array(df['Quantity'].loc[df['Discount'] > 0])\n",
        "group2 = np.array(df['Quantity'].loc[df['Discount'] == 0])\n",
        "superiority_disc = overlap_superiority(group1, group2)\n",
        "superiority_disc\n",
        "# len(group1)"
      ],
      "execution_count": 76,
      "outputs": [
        {
          "output_type": "execute_result",
          "data": {
            "text/plain": [
              "(0.8806682577565632, 0.5560859188544153)"
            ]
          },
          "metadata": {
            "tags": []
          },
          "execution_count": 76
        }
      ]
    },
    {
      "metadata": {
        "id": "ZipMxtRfotup",
        "colab_type": "code",
        "colab": {}
      },
      "cell_type": "code",
      "source": [
        "def calc_effect_sizes(target, samples, prints=False):\n",
        "  \"\"\"target is the sample to be compared against, an np. array\n",
        "     samples is a list of np.arrays to compare against target \n",
        "  \"\"\"\n",
        "  effect_dict = {}\n",
        "  for k, v in samples.items():\n",
        "    \n",
        "    if prints == True:\n",
        "      print(f'Effect of sample size for {k}, target:')\n",
        "      effect = overlap_superiority(v, target, prints=True)\n",
        "      print('\\n')\n",
        "      \n",
        "    else:\n",
        "      effect = overlap_superiority(v, target)\n",
        "    \n",
        "    effect_dict[k] = {'overlap':effect[0], 'superiority':effect[1]}\n",
        "    \n",
        "  return effect_dict"
      ],
      "execution_count": 0,
      "outputs": []
    },
    {
      "metadata": {
        "id": "aL5EAuoeuedT",
        "colab_type": "code",
        "colab": {}
      },
      "cell_type": "code",
      "source": [
        "full_array = np.array(df['Quantity'].loc[df['Discount'] == 0])\n",
        "disc_5 = np.array(df['Quantity'].loc[(df['Discount'] > 0) & (df['Discount'] <= 0.05)])\n",
        "disc_10 = np.array(df['Quantity'].loc[(df['Discount'] > 0.05) &(df['Discount'] <= 0.10)])\n",
        "disc_15 = np.array(df['Quantity'].loc[(df['Discount'] > 0.10) &(df['Discount'] <= 0.15)])\n",
        "disc_20 = np.array(df['Quantity'].loc[(df['Discount'] > 0.15) &(df['Discount'] <= 0.20)])\n",
        "disc_25 = np.array(df['Quantity'].loc[(df['Discount'] > 0.20) &(df['Discount'] <= 0.25)])\n",
        "samples_dict = {'disc_5':disc_5, 'disc_10':disc_10, 'disc_15':disc_15, 'disc_20':disc_20, 'disc_25':disc_25}"
      ],
      "execution_count": 0,
      "outputs": []
    },
    {
      "metadata": {
        "id": "LP8I-Yrl8p-d",
        "colab_type": "code",
        "colab": {
          "base_uri": "https://localhost:8080/",
          "height": 86
        },
        "outputId": "38bbb2ab-c140-43e4-f981-bac15e3b9e8b"
      },
      "cell_type": "code",
      "source": [
        "overlap_superiority(full_array,disc_5, prints=True)"
      ],
      "execution_count": 79,
      "outputs": [
        {
          "output_type": "stream",
          "text": [
            "Threshold: 23.546875\n",
            "Overlap: 1.0885416666666667 \n",
            "Superiority: 0.375\n"
          ],
          "name": "stdout"
        },
        {
          "output_type": "execute_result",
          "data": {
            "text/plain": [
              "(1.0885416666666667, 0.375)"
            ]
          },
          "metadata": {
            "tags": []
          },
          "execution_count": 79
        }
      ]
    },
    {
      "metadata": {
        "id": "ImAY2YEHvu-N",
        "colab_type": "code",
        "colab": {
          "base_uri": "https://localhost:8080/",
          "height": 622
        },
        "outputId": "a3a40cea-77c4-472b-be9e-390d6c5f2e66"
      },
      "cell_type": "code",
      "source": [
        "\n",
        "dict_of_effect = calc_effect_sizes(full_array, samples_dict, prints=True)\n",
        "dict_of_effect"
      ],
      "execution_count": 80,
      "outputs": [
        {
          "output_type": "stream",
          "text": [
            "Effect of sample size for disc_5, target:\n",
            "Threshold: 25.3515625\n",
            "Overlap: 0.9947916666666666 \n",
            "Superiority: 0.5052083333333334\n",
            "\n",
            "\n",
            "Effect of sample size for disc_10, target:\n",
            "Threshold: 22.81896551724138\n",
            "Overlap: 0.9195402298850575 \n",
            "Superiority: 0.5402298850574713\n",
            "\n",
            "\n",
            "Effect of sample size for disc_15, target:\n",
            "Threshold: 24.68471337579618\n",
            "Overlap: 0.8598726114649682 \n",
            "Superiority: 0.643312101910828\n",
            "\n",
            "\n",
            "Effect of sample size for disc_20, target:\n",
            "Threshold: 24.440993788819874\n",
            "Overlap: 0.8509316770186336 \n",
            "Superiority: 0.5652173913043478\n",
            "\n",
            "\n",
            "Effect of sample size for disc_25, target:\n",
            "Threshold: 25.084415584415584\n",
            "Overlap: 0.8506493506493507 \n",
            "Superiority: 0.577922077922078\n",
            "\n",
            "\n"
          ],
          "name": "stdout"
        },
        {
          "output_type": "execute_result",
          "data": {
            "text/plain": [
              "{'disc_10': {'overlap': 0.9195402298850575, 'superiority': 0.5402298850574713},\n",
              " 'disc_15': {'overlap': 0.8598726114649682, 'superiority': 0.643312101910828},\n",
              " 'disc_20': {'overlap': 0.8509316770186336, 'superiority': 0.5652173913043478},\n",
              " 'disc_25': {'overlap': 0.8506493506493507, 'superiority': 0.577922077922078},\n",
              " 'disc_5': {'overlap': 0.9947916666666666, 'superiority': 0.5052083333333334}}"
            ]
          },
          "metadata": {
            "tags": []
          },
          "execution_count": 80
        }
      ]
    },
    {
      "metadata": {
        "id": "3JKcx3pw5_LK",
        "colab_type": "text"
      },
      "cell_type": "markdown",
      "source": [
        "## Final Conclusions for Hypothesis 1:\n",
        "1. **We first used D'Agostino & Perason's test (normaltest) to check for normal distributions**\n",
        "    -  Both groups had p-values very far below our $\\alpha=0.05$  (Rows 0,1 below)\n",
        "        - We rejecteded the null hypothesis that the groups came from a populatiin with a normal distribtuion. \n",
        "2. **We tested for equal variances using Levene's test. **\n",
        "    - Level's test had a signifcant p-value, so we rejected the hypothesis that the groups have equal variances\n",
        "    \n",
        "3. **We then concluded we need a non-parametric 2-sample test, so we used the Mann-Whitney U test**. \n",
        "    -  Our comparison had a p-value less than .05\n",
        "    - We reject the null hypothesis that discounts do not affect quantities sold.\n",
        "\n"
      ]
    },
    {
      "metadata": {
        "id": "qydzhcXa4dz3",
        "colab_type": "code",
        "colab": {}
      },
      "cell_type": "code",
      "source": [
        "H1_tests = list2df(H1_tests)\n",
        "# import IPython.display as display\n",
        "\n",
        "# H1html = H1_tests.to_html()"
      ],
      "execution_count": 0,
      "outputs": []
    },
    {
      "metadata": {
        "id": "Qcn4RlASByQm",
        "colab_type": "text"
      },
      "cell_type": "markdown",
      "source": [
        "4. **To determine which level of discounts had the largest effect, we performed a pairwise multiple comparison Tukey's test**. \n",
        "    - Our results showed that \n",
        "    "
      ]
    },
    {
      "metadata": {
        "id": "COM1Cjeh7BBw",
        "colab_type": "code",
        "outputId": "8ca6a79a-fbc8-4c14-974c-06f611b62243",
        "colab": {
          "base_uri": "https://localhost:8080/",
          "height": 55
        }
      },
      "cell_type": "code",
      "source": [
        "dfH_tukey.to_html()"
      ],
      "execution_count": 82,
      "outputs": [
        {
          "output_type": "execute_result",
          "data": {
            "text/plain": [
              "'<table border=\"1\" class=\"dataframe\">\\n  <thead>\\n    <tr style=\"text-align: right;\">\\n      <th></th>\\n      <th>group1</th>\\n      <th>group2</th>\\n      <th>meandiff</th>\\n      <th>lower</th>\\n      <th>upper</th>\\n      <th>reject</th>\\n    </tr>\\n  </thead>\\n  <tbody>\\n    <tr>\\n      <th>0</th>\\n      <td>(-0.05, 0.0]</td>\\n      <td>(0.0, 0.05]</td>\\n      <td>5.3368</td>\\n      <td>1.1841</td>\\n      <td>9.4895</td>\\n      <td>True</td>\\n    </tr>\\n    <tr>\\n      <th>1</th>\\n      <td>(-0.05, 0.0]</td>\\n      <td>(0.05, 0.1]</td>\\n      <td>3.3882</td>\\n      <td>-0.9479</td>\\n      <td>7.7243</td>\\n      <td>False</td>\\n    </tr>\\n    <tr>\\n      <th>2</th>\\n      <td>(-0.05, 0.0]</td>\\n      <td>(0.1, 0.15]</td>\\n      <td>6.6669</td>\\n      <td>2.1282</td>\\n      <td>11.2056</td>\\n      <td>True</td>\\n    </tr>\\n    <tr>\\n      <th>3</th>\\n      <td>(-0.05, 0.0]</td>\\n      <td>(0.15, 0.2]</td>\\n      <td>5.3096</td>\\n      <td>0.8215</td>\\n      <td>9.7977</td>\\n      <td>True</td>\\n    </tr>\\n    <tr>\\n      <th>4</th>\\n      <td>(-0.05, 0.0]</td>\\n      <td>(0.2, 0.25]</td>\\n      <td>6.5250</td>\\n      <td>1.9469</td>\\n      <td>11.1031</td>\\n      <td>True</td>\\n    </tr>\\n    <tr>\\n      <th>5</th>\\n      <td>(0.0, 0.05]</td>\\n      <td>(0.05, 0.1]</td>\\n      <td>-1.9486</td>\\n      <td>-7.5752</td>\\n      <td>3.6779</td>\\n      <td>False</td>\\n    </tr>\\n    <tr>\\n      <th>6</th>\\n      <td>(0.0, 0.05]</td>\\n      <td>(0.1, 0.15]</td>\\n      <td>1.3301</td>\\n      <td>-4.4541</td>\\n      <td>7.1143</td>\\n      <td>False</td>\\n    </tr>\\n    <tr>\\n      <th>7</th>\\n      <td>(0.0, 0.05]</td>\\n      <td>(0.15, 0.2]</td>\\n      <td>-0.0272</td>\\n      <td>-5.7718</td>\\n      <td>5.7173</td>\\n      <td>False</td>\\n    </tr>\\n    <tr>\\n      <th>8</th>\\n      <td>(0.0, 0.05]</td>\\n      <td>(0.2, 0.25]</td>\\n      <td>1.1882</td>\\n      <td>-4.6269</td>\\n      <td>7.0033</td>\\n      <td>False</td>\\n    </tr>\\n    <tr>\\n      <th>9</th>\\n      <td>(0.05, 0.1]</td>\\n      <td>(0.1, 0.15]</td>\\n      <td>3.2787</td>\\n      <td>-2.6385</td>\\n      <td>9.1960</td>\\n      <td>False</td>\\n    </tr>\\n    <tr>\\n      <th>10</th>\\n      <td>(0.05, 0.1]</td>\\n      <td>(0.15, 0.2]</td>\\n      <td>1.9214</td>\\n      <td>-3.9571</td>\\n      <td>7.7999</td>\\n      <td>False</td>\\n    </tr>\\n    <tr>\\n      <th>11</th>\\n      <td>(0.05, 0.1]</td>\\n      <td>(0.2, 0.25]</td>\\n      <td>3.1368</td>\\n      <td>-2.8106</td>\\n      <td>9.0843</td>\\n      <td>False</td>\\n    </tr>\\n    <tr>\\n      <th>12</th>\\n      <td>(0.1, 0.15]</td>\\n      <td>(0.15, 0.2]</td>\\n      <td>-1.3573</td>\\n      <td>-7.3868</td>\\n      <td>4.6722</td>\\n      <td>False</td>\\n    </tr>\\n    <tr>\\n      <th>13</th>\\n      <td>(0.1, 0.15]</td>\\n      <td>(0.2, 0.25]</td>\\n      <td>-0.1419</td>\\n      <td>-6.2387</td>\\n      <td>5.9549</td>\\n      <td>False</td>\\n    </tr>\\n    <tr>\\n      <th>14</th>\\n      <td>(0.15, 0.2]</td>\\n      <td>(0.2, 0.25]</td>\\n      <td>1.2154</td>\\n      <td>-4.8437</td>\\n      <td>7.2746</td>\\n      <td>False</td>\\n    </tr>\\n  </tbody>\\n</table>'"
            ]
          },
          "metadata": {
            "tags": []
          },
          "execution_count": 82
        }
      ]
    },
    {
      "metadata": {
        "id": "Xlhygsxa9mML",
        "colab_type": "code",
        "outputId": "575b38e1-6cb6-494c-92e5-c249c1a53f8d",
        "colab": {
          "base_uri": "https://localhost:8080/",
          "height": 168
        }
      },
      "cell_type": "code",
      "source": [
        "\n",
        "# Print JUST significant results\n",
        "dfH_tukey.loc[dfH_tukey['reject'] ==True]"
      ],
      "execution_count": 83,
      "outputs": [
        {
          "output_type": "execute_result",
          "data": {
            "text/html": [
              "<div>\n",
              "<style scoped>\n",
              "    .dataframe tbody tr th:only-of-type {\n",
              "        vertical-align: middle;\n",
              "    }\n",
              "\n",
              "    .dataframe tbody tr th {\n",
              "        vertical-align: top;\n",
              "    }\n",
              "\n",
              "    .dataframe thead th {\n",
              "        text-align: right;\n",
              "    }\n",
              "</style>\n",
              "<table border=\"1\" class=\"dataframe\">\n",
              "  <thead>\n",
              "    <tr style=\"text-align: right;\">\n",
              "      <th></th>\n",
              "      <th>group1</th>\n",
              "      <th>group2</th>\n",
              "      <th>meandiff</th>\n",
              "      <th>lower</th>\n",
              "      <th>upper</th>\n",
              "      <th>reject</th>\n",
              "    </tr>\n",
              "  </thead>\n",
              "  <tbody>\n",
              "    <tr>\n",
              "      <th>0</th>\n",
              "      <td>(-0.05, 0.0]</td>\n",
              "      <td>(0.0, 0.05]</td>\n",
              "      <td>5.3368</td>\n",
              "      <td>1.1841</td>\n",
              "      <td>9.4895</td>\n",
              "      <td>True</td>\n",
              "    </tr>\n",
              "    <tr>\n",
              "      <th>2</th>\n",
              "      <td>(-0.05, 0.0]</td>\n",
              "      <td>(0.1, 0.15]</td>\n",
              "      <td>6.6669</td>\n",
              "      <td>2.1282</td>\n",
              "      <td>11.2056</td>\n",
              "      <td>True</td>\n",
              "    </tr>\n",
              "    <tr>\n",
              "      <th>3</th>\n",
              "      <td>(-0.05, 0.0]</td>\n",
              "      <td>(0.15, 0.2]</td>\n",
              "      <td>5.3096</td>\n",
              "      <td>0.8215</td>\n",
              "      <td>9.7977</td>\n",
              "      <td>True</td>\n",
              "    </tr>\n",
              "    <tr>\n",
              "      <th>4</th>\n",
              "      <td>(-0.05, 0.0]</td>\n",
              "      <td>(0.2, 0.25]</td>\n",
              "      <td>6.5250</td>\n",
              "      <td>1.9469</td>\n",
              "      <td>11.1031</td>\n",
              "      <td>True</td>\n",
              "    </tr>\n",
              "  </tbody>\n",
              "</table>\n",
              "</div>"
            ],
            "text/plain": [
              "         group1       group2  meandiff   lower    upper  reject\n",
              "0  (-0.05, 0.0]  (0.0, 0.05]    5.3368  1.1841   9.4895    True\n",
              "2  (-0.05, 0.0]  (0.1, 0.15]    6.6669  2.1282  11.2056    True\n",
              "3  (-0.05, 0.0]  (0.15, 0.2]    5.3096  0.8215   9.7977    True\n",
              "4  (-0.05, 0.0]  (0.2, 0.25]    6.5250  1.9469  11.1031    True"
            ]
          },
          "metadata": {
            "tags": []
          },
          "execution_count": 83
        }
      ]
    },
    {
      "metadata": {
        "colab_type": "text",
        "id": "P23rLwIWwwTC"
      },
      "cell_type": "markdown",
      "source": [
        "___\n",
        "# Hypothesis 2\n",
        "## BOOKMARK START... Adding in tukey's test for level of discount.<img src=\"https://www.dropbox.com/s/6xqzendi1iyzls8/bookmark.png?raw=1\" width=25>  @NOW"
      ]
    },
    {
      "metadata": {
        "id": "eeQIJm_ESU6C",
        "colab_type": "text"
      },
      "cell_type": "markdown",
      "source": [
        "\n",
        "### Hypothesis 2:\n",
        "\n",
        "- $H_1$: Customers buy more of other store items when they are buying discounted items.\n",
        "- $H_0$: Customers buy the same ***amount*** of items\n",
        "    - **amount could mean:**\n",
        "        - the # of items (discounted vs not discounted vs same level of discount?)\n",
        "        - total price per order with/without discounted products\n",
        "<br>\n",
        "- **Specific Aims:**\n",
        "\n",
        "    - Aim 1:To select dataset that allows us to compare our target variable [    ] vs the predictor variable [      ].\n",
        "        - Groupy order id, classify orders with discounted items vs others.  \n",
        "    - Aim 2: To test the relationship using a [ ] -tailed t-test. \n",
        "    - Aim 3: To determine which levels of the predictor underly the effect."
      ]
    },
    {
      "metadata": {
        "colab_type": "text",
        "id": "-xn_WHdcwwTT"
      },
      "cell_type": "markdown",
      "source": [
        "# Experimental"
      ]
    },
    {
      "metadata": {
        "colab_type": "code",
        "id": "a_22M7dSftkZ",
        "outputId": "bc65ffe5-0c38-4f63-d2ba-e8211a3fe321",
        "colab": {
          "base_uri": "https://localhost:8080/",
          "height": 175
        }
      },
      "cell_type": "code",
      "source": [
        "\n",
        "filepath = '/content/drive/My Drive/Colab Notebooks/datasets/Northwind_small.sqlite'\n",
        "#-------------------\n",
        "# Testing minimal version of prior code\n",
        "import sqlite3\n",
        "from sqlalchemy import create_engine, inspect\n",
        "# from sqlalchemy import Table, Column, Integer, String, MetaData, ForeignKey,text, Float\n",
        "\n",
        "engine = create_engine('sqlite:///'+filepath,echo=True)\n",
        "inspector = inspect(engine);\n",
        "db_tables = inspector.get_table_names()\n",
        "print('\\n',db_tables);"
      ],
      "execution_count": 84,
      "outputs": [
        {
          "output_type": "stream",
          "text": [
            "2019-04-05 13:37:25,602 INFO sqlalchemy.engine.base.Engine SELECT CAST('test plain returns' AS VARCHAR(60)) AS anon_1\n",
            "2019-04-05 13:37:25,604 INFO sqlalchemy.engine.base.Engine ()\n",
            "2019-04-05 13:37:25,606 INFO sqlalchemy.engine.base.Engine SELECT CAST('test unicode returns' AS VARCHAR(60)) AS anon_1\n",
            "2019-04-05 13:37:25,608 INFO sqlalchemy.engine.base.Engine ()\n",
            "2019-04-05 13:37:25,612 INFO sqlalchemy.engine.base.Engine SELECT name FROM sqlite_master WHERE type='table' ORDER BY name\n",
            "2019-04-05 13:37:25,613 INFO sqlalchemy.engine.base.Engine ()\n",
            "\n",
            " ['Category', 'Customer', 'CustomerCustomerDemo', 'CustomerDemographic', 'Employee', 'EmployeeTerritory', 'Order', 'OrderDetail', 'Product', 'Region', 'Shipper', 'Supplier', 'Territory']\n"
          ],
          "name": "stdout"
        }
      ]
    },
    {
      "metadata": {
        "id": "Mhf5gyVYHovd",
        "colab_type": "code",
        "outputId": "a9a62e14-17e0-41f8-e21e-20dfb6a5ff82",
        "colab": {
          "base_uri": "https://localhost:8080/",
          "height": 233
        }
      },
      "cell_type": "code",
      "source": [
        "# We want to test hypothesis one, so we need OrderDetail table.\n",
        "table_to_test = \"OrderDetail\"\n",
        "df = pd.read_sql_query(\"SELECT * FROM OrderDetail\",  engine)\n",
        "df.head()"
      ],
      "execution_count": 85,
      "outputs": [
        {
          "output_type": "stream",
          "text": [
            "2019-04-05 13:37:25,946 INFO sqlalchemy.engine.base.Engine SELECT * FROM OrderDetail\n",
            "2019-04-05 13:37:25,949 INFO sqlalchemy.engine.base.Engine ()\n"
          ],
          "name": "stdout"
        },
        {
          "output_type": "execute_result",
          "data": {
            "text/html": [
              "<div>\n",
              "<style scoped>\n",
              "    .dataframe tbody tr th:only-of-type {\n",
              "        vertical-align: middle;\n",
              "    }\n",
              "\n",
              "    .dataframe tbody tr th {\n",
              "        vertical-align: top;\n",
              "    }\n",
              "\n",
              "    .dataframe thead th {\n",
              "        text-align: right;\n",
              "    }\n",
              "</style>\n",
              "<table border=\"1\" class=\"dataframe\">\n",
              "  <thead>\n",
              "    <tr style=\"text-align: right;\">\n",
              "      <th></th>\n",
              "      <th>Id</th>\n",
              "      <th>OrderId</th>\n",
              "      <th>ProductId</th>\n",
              "      <th>UnitPrice</th>\n",
              "      <th>Quantity</th>\n",
              "      <th>Discount</th>\n",
              "    </tr>\n",
              "  </thead>\n",
              "  <tbody>\n",
              "    <tr>\n",
              "      <th>0</th>\n",
              "      <td>10248/11</td>\n",
              "      <td>10248</td>\n",
              "      <td>11</td>\n",
              "      <td>14.0</td>\n",
              "      <td>12</td>\n",
              "      <td>0.0</td>\n",
              "    </tr>\n",
              "    <tr>\n",
              "      <th>1</th>\n",
              "      <td>10248/42</td>\n",
              "      <td>10248</td>\n",
              "      <td>42</td>\n",
              "      <td>9.8</td>\n",
              "      <td>10</td>\n",
              "      <td>0.0</td>\n",
              "    </tr>\n",
              "    <tr>\n",
              "      <th>2</th>\n",
              "      <td>10248/72</td>\n",
              "      <td>10248</td>\n",
              "      <td>72</td>\n",
              "      <td>34.8</td>\n",
              "      <td>5</td>\n",
              "      <td>0.0</td>\n",
              "    </tr>\n",
              "    <tr>\n",
              "      <th>3</th>\n",
              "      <td>10249/14</td>\n",
              "      <td>10249</td>\n",
              "      <td>14</td>\n",
              "      <td>18.6</td>\n",
              "      <td>9</td>\n",
              "      <td>0.0</td>\n",
              "    </tr>\n",
              "    <tr>\n",
              "      <th>4</th>\n",
              "      <td>10249/51</td>\n",
              "      <td>10249</td>\n",
              "      <td>51</td>\n",
              "      <td>42.4</td>\n",
              "      <td>40</td>\n",
              "      <td>0.0</td>\n",
              "    </tr>\n",
              "  </tbody>\n",
              "</table>\n",
              "</div>"
            ],
            "text/plain": [
              "         Id  OrderId  ProductId  UnitPrice  Quantity  Discount\n",
              "0  10248/11    10248         11       14.0        12       0.0\n",
              "1  10248/42    10248         42        9.8        10       0.0\n",
              "2  10248/72    10248         72       34.8         5       0.0\n",
              "3  10249/14    10249         14       18.6         9       0.0\n",
              "4  10249/51    10249         51       42.4        40       0.0"
            ]
          },
          "metadata": {
            "tags": []
          },
          "execution_count": 85
        }
      ]
    },
    {
      "metadata": {
        "id": "eVPIGVZ6JcfD",
        "colab_type": "code",
        "outputId": "a0f11cdd-a315-4667-aa5d-fb3c3adefcc9",
        "colab": {
          "base_uri": "https://localhost:8080/",
          "height": 235
        }
      },
      "cell_type": "code",
      "source": [
        "# Testing other ways of pulling out the order info together\n",
        "\n",
        "order_list = df['OrderId'].unique()\n",
        "order_dict = {}\n",
        "for order in order_list:\n",
        "    order_dict[order]['df_order'] = df.loc[df['OrderId']==order].copy() \n",
        "#     order_dict[order]['total'] = \n",
        "order_dict[order_list[0]]"
      ],
      "execution_count": 86,
      "outputs": [
        {
          "output_type": "error",
          "ename": "KeyError",
          "evalue": "ignored",
          "traceback": [
            "\u001b[0;31m---------------------------------------------------------------------------\u001b[0m",
            "\u001b[0;31mKeyError\u001b[0m                                  Traceback (most recent call last)",
            "\u001b[0;32m<ipython-input-86-db9b359612ca>\u001b[0m in \u001b[0;36m<module>\u001b[0;34m()\u001b[0m\n\u001b[1;32m      3\u001b[0m \u001b[0morder_dict\u001b[0m \u001b[0;34m=\u001b[0m \u001b[0;34m{\u001b[0m\u001b[0;34m}\u001b[0m\u001b[0;34m\u001b[0m\u001b[0;34m\u001b[0m\u001b[0m\n\u001b[1;32m      4\u001b[0m \u001b[0;32mfor\u001b[0m \u001b[0morder\u001b[0m \u001b[0;32min\u001b[0m \u001b[0morder_list\u001b[0m\u001b[0;34m:\u001b[0m\u001b[0;34m\u001b[0m\u001b[0;34m\u001b[0m\u001b[0m\n\u001b[0;32m----> 5\u001b[0;31m     \u001b[0morder_dict\u001b[0m\u001b[0;34m[\u001b[0m\u001b[0morder\u001b[0m\u001b[0;34m]\u001b[0m\u001b[0;34m[\u001b[0m\u001b[0;34m'df_order'\u001b[0m\u001b[0;34m]\u001b[0m \u001b[0;34m=\u001b[0m \u001b[0mdf\u001b[0m\u001b[0;34m.\u001b[0m\u001b[0mloc\u001b[0m\u001b[0;34m[\u001b[0m\u001b[0mdf\u001b[0m\u001b[0;34m[\u001b[0m\u001b[0;34m'OrderId'\u001b[0m\u001b[0;34m]\u001b[0m\u001b[0;34m==\u001b[0m\u001b[0morder\u001b[0m\u001b[0;34m]\u001b[0m\u001b[0;34m.\u001b[0m\u001b[0mcopy\u001b[0m\u001b[0;34m(\u001b[0m\u001b[0;34m)\u001b[0m\u001b[0;34m\u001b[0m\u001b[0;34m\u001b[0m\u001b[0m\n\u001b[0m\u001b[1;32m      6\u001b[0m \u001b[0;31m#     order_dict[order]['total'] =\u001b[0m\u001b[0;34m\u001b[0m\u001b[0;34m\u001b[0m\u001b[0;34m\u001b[0m\u001b[0m\n\u001b[1;32m      7\u001b[0m \u001b[0morder_dict\u001b[0m\u001b[0;34m[\u001b[0m\u001b[0morder_list\u001b[0m\u001b[0;34m[\u001b[0m\u001b[0;36m0\u001b[0m\u001b[0;34m]\u001b[0m\u001b[0;34m]\u001b[0m\u001b[0;34m\u001b[0m\u001b[0;34m\u001b[0m\u001b[0m\n",
            "\u001b[0;31mKeyError\u001b[0m: 10248"
          ]
        }
      ]
    },
    {
      "metadata": {
        "id": "MDGKB5daH-P6",
        "colab_type": "code",
        "colab": {}
      },
      "cell_type": "code",
      "source": [
        "# Look thorugh all of the id values in Order to save the indices for each \n",
        "# order's products as well as checks if any of the products were discounted\n",
        "\n",
        "\n",
        "list_of_dicts = [[]] \n",
        "new_dict={}\n",
        "\n",
        "for id in df['OrderId']:\n",
        "    \n",
        "    # Get the index of every product in that order\n",
        "    new = df.loc[(df['OrderId']==id)].index\n",
        "    \n",
        "    # Save the index in new_dict['OrderId'][index']\n",
        "    new_dict[str(id)]={'index':new}\n",
        "    \n",
        "    # Get the discount fields for each product in the index \n",
        "    check_disc = df.iloc[new]\n",
        "\n",
        "    # If any values in check_disc are discounted, classif \n",
        "    if any(check_disc['Discount']>0):\n",
        "           \n",
        "        new_dict[str(id)]['group']= 'sale'\n",
        "    else:\n",
        "        new_dict[str(id)]['group'] = 'fullprice'\n",
        "    \n",
        "    \n",
        "    \n",
        "    # Calculate the order total\n",
        "    order_total = []\n",
        "    for i in range(0,len(check_disc)):\n",
        "        order_total= check_disc['UnitPrice'].iloc[i]*(1-check_disc['Discount'].iloc[i])*check_disc['Quantity'].iloc[i]\n",
        "        new_dict[str(id)]['order_total']=np.sum(order_total)\n",
        "    \n",
        "    "
      ],
      "execution_count": 0,
      "outputs": []
    },
    {
      "metadata": {
        "id": "mktnuFWCL4_O",
        "colab_type": "code",
        "colab": {
          "base_uri": "https://localhost:8080/",
          "height": 35
        },
        "outputId": "7a19fc67-c9f5-4861-d9a3-0721c8275ca1"
      },
      "cell_type": "code",
      "source": [
        "# Get indices of all orders that contained a discounted item\n",
        "df_sale = pd.DataFrame([])\n",
        "df_fullprice = pd.DataFrame([])\n",
        "\n",
        "# Loop througy the dictionaries and create two list of indices\n",
        "# One for orders containing discounted items, one with no discounted items\n",
        "sale_idx = []\n",
        "full_idx = []\n",
        "\n",
        "for k,v in new_dict.items():\n",
        "    if new_dict[k]['group']=='sale':\n",
        "        sale_idx.append([new_dict[k]['index']])\n",
        "    elif new_dict[k]['group']=='fullprice':\n",
        "        full_idx.append([new_dict[k]['index']])\n",
        "\n",
        "# df_sale = df.loc[sale_idx]\n",
        "# df_fullprice = df.loc[[full_idx]]\n",
        "len(sale_idx), len(full_idx)"
      ],
      "execution_count": 88,
      "outputs": [
        {
          "output_type": "execute_result",
          "data": {
            "text/plain": [
              "(380, 450)"
            ]
          },
          "metadata": {
            "tags": []
          },
          "execution_count": 88
        }
      ]
    },
    {
      "metadata": {
        "id": "5LX2XelzHNLE",
        "colab_type": "code",
        "colab": {
          "base_uri": "https://localhost:8080/",
          "height": 43026
        },
        "outputId": "bfc4d936-3ef0-4cba-8b8f-89cbc9aaf876"
      },
      "cell_type": "code",
      "source": [
        "# Preview the contents of new_dict \n",
        "for k,v in new_dict.items():\n",
        "    print(f'\\nOrder:{k}')#', v:{v}')\n",
        "    print(f\"Group:{new_dict[k]['group']}, spent ${new_dict[k]['order_total']}\")# on products in rows {}'\n",
        "#     print(f'     has keys  {new_dict[k].keys()}')\n",
        "#     print(f'   with values {new_dict[k].values()}')"
      ],
      "execution_count": 89,
      "outputs": [
        {
          "output_type": "stream",
          "text": [
            "\n",
            "Order:10248\n",
            "Group:fullprice, spent $174.0\n",
            "\n",
            "Order:10249\n",
            "Group:fullprice, spent $1696.0\n",
            "\n",
            "Order:10250\n",
            "Group:sale, spent $214.2\n",
            "\n",
            "Order:10251\n",
            "Group:sale, spent $336.0\n",
            "\n",
            "Order:10252\n",
            "Group:sale, spent $1088.0\n",
            "\n",
            "Order:10253\n",
            "Group:fullprice, spent $640.0\n",
            "\n",
            "Order:10254\n",
            "Group:sale, spent $168.0\n",
            "\n",
            "Order:10255\n",
            "Group:fullprice, spent $1320.0\n",
            "\n",
            "Order:10256\n",
            "Group:fullprice, spent $124.80000000000001\n",
            "\n",
            "Order:10257\n",
            "Group:fullprice, spent $156.0\n",
            "\n",
            "Order:10258\n",
            "Group:sale, spent $122.88000000000002\n",
            "\n",
            "Order:10259\n",
            "Group:fullprice, spent $20.8\n",
            "\n",
            "Order:10260\n",
            "Group:sale, spent $189.0\n",
            "\n",
            "Order:10261\n",
            "Group:fullprice, spent $288.0\n",
            "\n",
            "Order:10262\n",
            "Group:sale, spent $60.8\n",
            "\n",
            "Order:10263\n",
            "Group:sale, spent $216.0\n",
            "\n",
            "Order:10264\n",
            "Group:sale, spent $163.625\n",
            "\n",
            "Order:10265\n",
            "Group:fullprice, spent $240.0\n",
            "\n",
            "Order:10266\n",
            "Group:sale, spent $346.56\n",
            "\n",
            "Order:10267\n",
            "Group:sale, spent $183.6\n",
            "\n",
            "Order:10268\n",
            "Group:fullprice, spent $111.2\n",
            "\n",
            "Order:10269\n",
            "Group:sale, spent $528.2\n",
            "\n",
            "Order:10270\n",
            "Group:fullprice, spent $919.9999999999999\n",
            "\n",
            "Order:10271\n",
            "Group:fullprice, spent $48.0\n",
            "\n",
            "Order:10272\n",
            "Group:fullprice, spent $667.2\n",
            "\n",
            "Order:10273\n",
            "Group:sale, spent $451.44\n",
            "\n",
            "Order:10274\n",
            "Group:fullprice, spent $194.6\n",
            "\n",
            "Order:10275\n",
            "Group:sale, spent $250.79999999999998\n",
            "\n",
            "Order:10276\n",
            "Group:fullprice, spent $48.0\n",
            "\n",
            "Order:10277\n",
            "Group:fullprice, spent $472.79999999999995\n",
            "\n",
            "Order:10278\n",
            "Group:fullprice, spent $300.0\n",
            "\n",
            "Order:10279\n",
            "Group:sale, spent $351.0\n",
            "\n",
            "Order:10280\n",
            "Group:fullprice, spent $186.0\n",
            "\n",
            "Order:10281\n",
            "Group:fullprice, spent $57.6\n",
            "\n",
            "Order:10282\n",
            "Group:fullprice, spent $31.2\n",
            "\n",
            "Order:10283\n",
            "Group:fullprice, spent $83.4\n",
            "\n",
            "Order:10284\n",
            "Group:sale, spent $41.99999999999999\n",
            "\n",
            "Order:10285\n",
            "Group:sale, spent $754.5600000000001\n",
            "\n",
            "Order:10286\n",
            "Group:fullprice, spent $1576.0\n",
            "\n",
            "Order:10287\n",
            "Group:sale, spent $122.4\n",
            "\n",
            "Order:10288\n",
            "Group:sale, spent $27.0\n",
            "\n",
            "Order:10289\n",
            "Group:fullprice, spent $239.4\n",
            "\n",
            "Order:10290\n",
            "Group:fullprice, spent $104.0\n",
            "\n",
            "Order:10291\n",
            "Group:sale, spent $76.32\n",
            "\n",
            "Order:10292\n",
            "Group:fullprice, spent $1296.0\n",
            "\n",
            "Order:10293\n",
            "Group:fullprice, spent $37.2\n",
            "\n",
            "Order:10294\n",
            "Group:fullprice, spent $37.2\n",
            "\n",
            "Order:10295\n",
            "Group:fullprice, spent $121.6\n",
            "\n",
            "Order:10296\n",
            "Group:fullprice, spent $432.0\n",
            "\n",
            "Order:10297\n",
            "Group:fullprice, spent $556.0\n",
            "\n",
            "Order:10298\n",
            "Group:sale, spent $591.0\n",
            "\n",
            "Order:10299\n",
            "Group:fullprice, spent $240.0\n",
            "\n",
            "Order:10300\n",
            "Group:fullprice, spent $200.0\n",
            "\n",
            "Order:10301\n",
            "Group:fullprice, spent $608.0\n",
            "\n",
            "Order:10302\n",
            "Group:fullprice, spent $441.59999999999997\n",
            "\n",
            "Order:10303\n",
            "Group:sale, spent $135.0\n",
            "\n",
            "Order:10304\n",
            "Group:fullprice, spent $34.4\n",
            "\n",
            "Order:10305\n",
            "Group:sale, spent $388.8\n",
            "\n",
            "Order:10306\n",
            "Group:fullprice, spent $29.5\n",
            "\n",
            "Order:10307\n",
            "Group:fullprice, spent $30.0\n",
            "\n",
            "Order:10308\n",
            "Group:fullprice, spent $60.0\n",
            "\n",
            "Order:10309\n",
            "Group:fullprice, spent $51.599999999999994\n",
            "\n",
            "Order:10310\n",
            "Group:fullprice, spent $197.0\n",
            "\n",
            "Order:10311\n",
            "Group:fullprice, spent $201.6\n",
            "\n",
            "Order:10312\n",
            "Group:fullprice, spent $62.0\n",
            "\n",
            "Order:10313\n",
            "Group:fullprice, spent $182.39999999999998\n",
            "\n",
            "Order:10314\n",
            "Group:sale, spent $886.5\n",
            "\n",
            "Order:10315\n",
            "Group:fullprice, spent $360.0\n",
            "\n",
            "Order:10316\n",
            "Group:fullprice, spent $2758.0\n",
            "\n",
            "Order:10317\n",
            "Group:fullprice, spent $288.0\n",
            "\n",
            "Order:10318\n",
            "Group:fullprice, spent $86.4\n",
            "\n",
            "Order:10319\n",
            "Group:fullprice, spent $432.0\n",
            "\n",
            "Order:10320\n",
            "Group:fullprice, spent $516.0\n",
            "\n",
            "Order:10321\n",
            "Group:fullprice, spent $144.0\n",
            "\n",
            "Order:10322\n",
            "Group:fullprice, spent $112.0\n",
            "\n",
            "Order:10323\n",
            "Group:fullprice, spent $57.6\n",
            "\n",
            "Order:10324\n",
            "Group:sale, spent $2386.8\n",
            "\n",
            "Order:10325\n",
            "Group:fullprice, spent $1112.0\n",
            "\n",
            "Order:10326\n",
            "Group:fullprice, spent $310.0\n",
            "\n",
            "Order:10327\n",
            "Group:sale, spent $254.4\n",
            "\n",
            "Order:10328\n",
            "Group:fullprice, spent $100.0\n",
            "\n",
            "Order:10329\n",
            "Group:sale, spent $346.56\n",
            "\n",
            "Order:10330\n",
            "Group:sale, spent $590.75\n",
            "\n",
            "Order:10331\n",
            "Group:fullprice, spent $88.5\n",
            "\n",
            "Order:10332\n",
            "Group:sale, spent $97.28\n",
            "\n",
            "Order:10333\n",
            "Group:sale, spent $619.2\n",
            "\n",
            "Order:10334\n",
            "Group:fullprice, spent $100.0\n",
            "\n",
            "Order:10335\n",
            "Group:sale, spent $1628.16\n",
            "\n",
            "Order:10336\n",
            "Group:sale, spent $285.12\n",
            "\n",
            "Order:10337\n",
            "Group:fullprice, spent $695.0\n",
            "\n",
            "Order:10338\n",
            "Group:fullprice, spent $310.5\n",
            "\n",
            "Order:10339\n",
            "Group:sale, spent $1103.2\n",
            "\n",
            "Order:10340\n",
            "Group:sale, spent $1398.3999999999996\n",
            "\n",
            "Order:10341\n",
            "Group:sale, spent $336.59999999999997\n",
            "\n",
            "Order:10342\n",
            "Group:sale, spent $614.4\n",
            "\n",
            "Order:10343\n",
            "Group:sale, spent $216.0\n",
            "\n",
            "Order:10344\n",
            "Group:sale, spent $1680.0\n",
            "\n",
            "Order:10345\n",
            "Group:fullprice, spent $100.8\n",
            "\n",
            "Order:10346\n",
            "Group:sale, spent $608.0\n",
            "\n",
            "Order:10347\n",
            "Group:sale, spent $31.619999999999997\n",
            "\n",
            "Order:10348\n",
            "Group:sale, spent $180.0\n",
            "\n",
            "Order:10349\n",
            "Group:fullprice, spent $141.60000000000002\n",
            "\n",
            "Order:10350\n",
            "Group:sale, spent $466.56000000000006\n",
            "\n",
            "Order:10351\n",
            "Group:sale, spent $159.6\n",
            "\n",
            "Order:10352\n",
            "Group:sale, spent $100.30000000000001\n",
            "\n",
            "Order:10353\n",
            "Group:sale, spent $8432.0\n",
            "\n",
            "Order:10354\n",
            "Group:fullprice, spent $396.0\n",
            "\n",
            "Order:10355\n",
            "Group:fullprice, spent $390.0\n",
            "\n",
            "Order:10356\n",
            "Group:fullprice, spent $576.0\n",
            "\n",
            "Order:10357\n",
            "Group:sale, spent $174.08\n",
            "\n",
            "Order:10358\n",
            "Group:sale, spent $288.8\n",
            "\n",
            "Order:10359\n",
            "Group:sale, spent $2067.2\n",
            "\n",
            "Order:10360\n",
            "Group:fullprice, spent $165.20000000000002\n",
            "\n",
            "Order:10361\n",
            "Group:sale, spent $1346.4\n",
            "\n",
            "Order:10362\n",
            "Group:fullprice, spent $141.60000000000002\n",
            "\n",
            "Order:10363\n",
            "Group:fullprice, spent $172.8\n",
            "\n",
            "Order:10364\n",
            "Group:fullprice, spent $86.0\n",
            "\n",
            "Order:10365\n",
            "Group:fullprice, spent $403.20000000000005\n",
            "\n",
            "Order:10366\n",
            "Group:fullprice, spent $52.0\n",
            "\n",
            "Order:10367\n",
            "Group:fullprice, spent $72.8\n",
            "\n",
            "Order:10368\n",
            "Group:sale, spent $837.9000000000001\n",
            "\n",
            "Order:10369\n",
            "Group:sale, spent $410.4\n",
            "\n",
            "Order:10370\n",
            "Group:sale, spent $136.0\n",
            "\n",
            "Order:10371\n",
            "Group:sale, spent $72.96000000000001\n",
            "\n",
            "Order:10372\n",
            "Group:sale, spent $875.7\n",
            "\n",
            "Order:10373\n",
            "Group:sale, spent $688.0\n",
            "\n",
            "Order:10374\n",
            "Group:fullprice, spent $159.0\n",
            "\n",
            "Order:10375\n",
            "Group:fullprice, spent $59.0\n",
            "\n",
            "Order:10376\n",
            "Group:sale, spent $399.0\n",
            "\n",
            "Order:10377\n",
            "Group:sale, spent $244.8\n",
            "\n",
            "Order:10378\n",
            "Group:fullprice, spent $103.19999999999999\n",
            "\n",
            "Order:10379\n",
            "Group:sale, spent $302.40000000000003\n",
            "\n",
            "Order:10380\n",
            "Group:sale, spent $360.0\n",
            "\n",
            "Order:10381\n",
            "Group:fullprice, spent $112.0\n",
            "\n",
            "Order:10382\n",
            "Group:fullprice, spent $400.0\n",
            "\n",
            "Order:10383\n",
            "Group:fullprice, spent $608.0\n",
            "\n",
            "Order:10384\n",
            "Group:fullprice, spent $408.0\n",
            "\n",
            "Order:10385\n",
            "Group:sale, spent $64.0\n",
            "\n",
            "Order:10386\n",
            "Group:fullprice, spent $112.0\n",
            "\n",
            "Order:10387\n",
            "Group:fullprice, spent $258.0\n",
            "\n",
            "Order:10388\n",
            "Group:sale, spent $1048.0\n",
            "\n",
            "Order:10389\n",
            "Group:fullprice, spent $360.0\n",
            "\n",
            "Order:10390\n",
            "Group:sale, spent $600.48\n",
            "\n",
            "Order:10391\n",
            "Group:fullprice, spent $86.39999999999999\n",
            "\n",
            "Order:10392\n",
            "Group:fullprice, spent $1440.0\n",
            "\n",
            "Order:10393\n",
            "Group:sale, spent $320.0\n",
            "\n",
            "Order:10394\n",
            "Group:fullprice, spent $394.0\n",
            "\n",
            "Order:10395\n",
            "Group:sale, spent $230.4\n",
            "\n",
            "Order:10396\n",
            "Group:fullprice, spent $583.8000000000001\n",
            "\n",
            "Order:10397\n",
            "Group:sale, spent $648.72\n",
            "\n",
            "Order:10398\n",
            "Group:sale, spent $2073.6000000000004\n",
            "\n",
            "Order:10399\n",
            "Group:fullprice, spent $145.6\n",
            "\n",
            "Order:10400\n",
            "Group:fullprice, spent $480.0\n",
            "\n",
            "Order:10401\n",
            "Group:fullprice, spent $1032.0\n",
            "\n",
            "Order:10402\n",
            "Group:fullprice, spent $2281.5\n",
            "\n",
            "Order:10403\n",
            "Group:sale, spent $606.9\n",
            "\n",
            "Order:10404\n",
            "Group:sale, spent $456.0\n",
            "\n",
            "Order:10405\n",
            "Group:fullprice, spent $400.0\n",
            "\n",
            "Order:10406\n",
            "Group:sale, spent $26.46\n",
            "\n",
            "Order:10407\n",
            "Group:fullprice, spent $258.0\n",
            "\n",
            "Order:10408\n",
            "Group:fullprice, spent $1379.0\n",
            "\n",
            "Order:10409\n",
            "Group:fullprice, spent $96.0\n",
            "\n",
            "Order:10410\n",
            "Group:fullprice, spent $704.0\n",
            "\n",
            "Order:10411\n",
            "Group:sale, spent $316.8\n",
            "\n",
            "Order:10412\n",
            "Group:sale, spent $334.80000000000007\n",
            "\n",
            "Order:10413\n",
            "Group:fullprice, spent $201.6\n",
            "\n",
            "Order:10414\n",
            "Group:sale, spent $100.0\n",
            "\n",
            "Order:10415\n",
            "Group:fullprice, spent $40.0\n",
            "\n",
            "Order:10416\n",
            "Group:fullprice, spent $312.0\n",
            "\n",
            "Order:10417\n",
            "Group:sale, spent $364.0\n",
            "\n",
            "Order:10418\n",
            "Group:fullprice, spent $120.0\n",
            "\n",
            "Order:10419\n",
            "Group:sale, spent $547.2\n",
            "\n",
            "Order:10420\n",
            "Group:sale, spent $216.0\n",
            "\n",
            "Order:10421\n",
            "Group:sale, spent $88.4\n",
            "\n",
            "Order:10422\n",
            "Group:fullprice, spent $49.8\n",
            "\n",
            "Order:10423\n",
            "Group:fullprice, spent $880.0\n",
            "\n",
            "Order:10424\n",
            "Group:sale, spent $240.0\n",
            "\n",
            "Order:10425\n",
            "Group:sale, spent $216.0\n",
            "\n",
            "Order:10426\n",
            "Group:fullprice, spent $186.20000000000002\n",
            "\n",
            "Order:10427\n",
            "Group:fullprice, spent $651.0\n",
            "\n",
            "Order:10428\n",
            "Group:fullprice, spent $192.0\n",
            "\n",
            "Order:10429\n",
            "Group:sale, spent $921.3750000000001\n",
            "\n",
            "Order:10430\n",
            "Group:sale, spent $2464.0\n",
            "\n",
            "Order:10431\n",
            "Group:sale, spent $170.99999999999997\n",
            "\n",
            "Order:10432\n",
            "Group:fullprice, spent $236.0\n",
            "\n",
            "Order:10433\n",
            "Group:fullprice, spent $851.1999999999999\n",
            "\n",
            "Order:10434\n",
            "Group:sale, spent $220.32\n",
            "\n",
            "Order:10435\n",
            "Group:fullprice, spent $278.0\n",
            "\n",
            "Order:10436\n",
            "Group:sale, spent $133.92000000000002\n",
            "\n",
            "Order:10437\n",
            "Group:fullprice, spent $393.0\n",
            "\n",
            "Order:10438\n",
            "Group:sale, spent $187.20000000000002\n",
            "\n",
            "Order:10439\n",
            "Group:fullprice, spent $240.0\n",
            "\n",
            "Order:10440\n",
            "Group:sale, spent $1744.1999999999998\n",
            "\n",
            "Order:10441\n",
            "Group:fullprice, spent $1755.0\n",
            "\n",
            "Order:10442\n",
            "Group:fullprice, spent $816.0\n",
            "\n",
            "Order:10443\n",
            "Group:sale, spent $436.79999999999995\n",
            "\n",
            "Order:10444\n",
            "Group:fullprice, spent $231.0\n",
            "\n",
            "Order:10445\n",
            "Group:fullprice, spent $88.5\n",
            "\n",
            "Order:10446\n",
            "Group:sale, spent $75.6\n",
            "\n",
            "Order:10447\n",
            "Group:fullprice, spent $34.4\n",
            "\n",
            "Order:10448\n",
            "Group:fullprice, spent $294.0\n",
            "\n",
            "Order:10449\n",
            "Group:fullprice, spent $1379.0\n",
            "\n",
            "Order:10450\n",
            "Group:sale, spent $28.320000000000004\n",
            "\n",
            "Order:10451\n",
            "Group:sale, spent $514.8000000000001\n",
            "\n",
            "Order:10452\n",
            "Group:sale, spent $1472.5\n",
            "\n",
            "Order:10453\n",
            "Group:sale, spent $270.0\n",
            "\n",
            "Order:10454\n",
            "Group:sale, spent $76.8\n",
            "\n",
            "Order:10455\n",
            "Group:fullprice, spent $516.0\n",
            "\n",
            "Order:10456\n",
            "Group:sale, spent $285.59999999999997\n",
            "\n",
            "Order:10457\n",
            "Group:fullprice, spent $1584.0\n",
            "\n",
            "Order:10458\n",
            "Group:fullprice, spent $860.0\n",
            "\n",
            "Order:10459\n",
            "Group:sale, spent $1112.0\n",
            "\n",
            "Order:10460\n",
            "Group:sale, spent $18.6\n",
            "\n",
            "Order:10461\n",
            "Group:sale, spent $863.9999999999999\n",
            "\n",
            "Order:10462\n",
            "Group:fullprice, spent $151.20000000000002\n",
            "\n",
            "Order:10463\n",
            "Group:fullprice, spent $560.0\n",
            "\n",
            "Order:10464\n",
            "Group:sale, spent $544.0\n",
            "\n",
            "Order:10465\n",
            "Group:sale, spent $325.0\n",
            "\n",
            "Order:10466\n",
            "Group:fullprice, spent $48.0\n",
            "\n",
            "Order:10467\n",
            "Group:fullprice, spent $134.39999999999998\n",
            "\n",
            "Order:10468\n",
            "Group:fullprice, spent $552.0\n",
            "\n",
            "Order:10469\n",
            "Group:sale, spent $26.349999999999998\n",
            "\n",
            "Order:10470\n",
            "Group:fullprice, spent $212.8\n",
            "\n",
            "Order:10471\n",
            "Group:fullprice, spent $608.0\n",
            "\n",
            "Order:10472\n",
            "Group:sale, spent $763.1999999999999\n",
            "\n",
            "Order:10473\n",
            "Group:fullprice, spent $206.39999999999998\n",
            "\n",
            "Order:10474\n",
            "Group:fullprice, spent $62.0\n",
            "\n",
            "Order:10475\n",
            "Group:sale, spent $514.08\n",
            "\n",
            "Order:10476\n",
            "Group:sale, spent $144.0\n",
            "\n",
            "Order:10477\n",
            "Group:sale, spent $216.0\n",
            "\n",
            "Order:10478\n",
            "Group:sale, spent $471.2\n",
            "\n",
            "Order:10479\n",
            "Group:fullprice, spent $798.0\n",
            "\n",
            "Order:10480\n",
            "Group:fullprice, spent $528.0\n",
            "\n",
            "Order:10481\n",
            "Group:fullprice, spent $1088.0\n",
            "\n",
            "Order:10482\n",
            "Group:fullprice, spent $147.0\n",
            "\n",
            "Order:10483\n",
            "Group:sale, spent $296.4\n",
            "\n",
            "Order:10484\n",
            "Group:fullprice, spent $127.19999999999999\n",
            "\n",
            "Order:10485\n",
            "Group:sale, spent $648.0\n",
            "\n",
            "Order:10486\n",
            "Group:fullprice, spent $128.0\n",
            "\n",
            "Order:10487\n",
            "Group:sale, spent $106.20000000000002\n",
            "\n",
            "Order:10488\n",
            "Group:sale, spent $192.00000000000003\n",
            "\n",
            "Order:10489\n",
            "Group:sale, spent $250.20000000000002\n",
            "\n",
            "Order:10490\n",
            "Group:fullprice, spent $223.20000000000002\n",
            "\n",
            "Order:10491\n",
            "Group:sale, spent $61.879999999999995\n",
            "\n",
            "Order:10492\n",
            "Group:sale, spent $212.79999999999998\n",
            "\n",
            "Order:10493\n",
            "Group:sale, spent $259.20000000000005\n",
            "\n",
            "Order:10494\n",
            "Group:fullprice, spent $912.0\n",
            "\n",
            "Order:10495\n",
            "Group:fullprice, spent $52.0\n",
            "\n",
            "Order:10496\n",
            "Group:sale, spent $190.0\n",
            "\n",
            "Order:10497\n",
            "Group:fullprice, spent $260.0\n",
            "\n",
            "Order:10498\n",
            "Group:fullprice, spent $420.0\n",
            "\n",
            "Order:10499\n",
            "Group:fullprice, spent $500.0\n",
            "\n",
            "Order:10500\n",
            "Group:sale, spent $346.56\n",
            "\n",
            "Order:10501\n",
            "Group:fullprice, spent $149.0\n",
            "\n",
            "Order:10502\n",
            "Group:fullprice, spent $420.0\n",
            "\n",
            "Order:10503\n",
            "Group:fullprice, spent $421.0\n",
            "\n",
            "Order:10504\n",
            "Group:fullprice, spent $712.5\n",
            "\n",
            "Order:10505\n",
            "Group:fullprice, spent $147.89999999999998\n",
            "\n",
            "Order:10506\n",
            "Group:sale, spent $189.0\n",
            "\n",
            "Order:10507\n",
            "Group:sale, spent $162.5625\n",
            "\n",
            "Order:10508\n",
            "Group:fullprice, spent $180.0\n",
            "\n",
            "Order:10509\n",
            "Group:fullprice, spent $136.8\n",
            "\n",
            "Order:10510\n",
            "Group:sale, spent $251.10000000000002\n",
            "\n",
            "Order:10511\n",
            "Group:sale, spent $340.0\n",
            "\n",
            "Order:10512\n",
            "Group:sale, spent $346.79999999999995\n",
            "\n",
            "Order:10513\n",
            "Group:sale, spent $342.0\n",
            "\n",
            "Order:10514\n",
            "Group:fullprice, spent $387.5\n",
            "\n",
            "Order:10515\n",
            "Group:sale, spent $2427.6\n",
            "\n",
            "Order:10516\n",
            "Group:sale, spent $280.0\n",
            "\n",
            "Order:10517\n",
            "Group:fullprice, spent $90.0\n",
            "\n",
            "Order:10518\n",
            "Group:fullprice, spent $175.04999999999998\n",
            "\n",
            "Order:10519\n",
            "Group:sale, spent $323.0\n",
            "\n",
            "Order:10520\n",
            "Group:fullprice, spent $164.0\n",
            "\n",
            "Order:10521\n",
            "Group:fullprice, spent $75.0\n",
            "\n",
            "Order:10522\n",
            "Group:sale, spent $368.0\n",
            "\n",
            "Order:10523\n",
            "Group:sale, spent $52.11\n",
            "\n",
            "Order:10524\n",
            "Group:fullprice, spent $111.75\n",
            "\n",
            "Order:10525\n",
            "Group:sale, spent $248.39999999999998\n",
            "\n",
            "Order:10526\n",
            "Group:sale, spent $968.9999999999999\n",
            "\n",
            "Order:10527\n",
            "Group:sale, spent $513.0\n",
            "\n",
            "Order:10528\n",
            "Group:sale, spent $313.2\n",
            "\n",
            "Order:10529\n",
            "Group:fullprice, spent $360.0\n",
            "\n",
            "Order:10530\n",
            "Group:fullprice, spent $900.0\n",
            "\n",
            "Order:10531\n",
            "Group:fullprice, spent $110.0\n",
            "\n",
            "Order:10532\n",
            "Group:fullprice, spent $408.0\n",
            "\n",
            "Order:10533\n",
            "Group:sale, spent $342.0\n",
            "\n",
            "Order:10534\n",
            "Group:sale, spent $59.60000000000001\n",
            "\n",
            "Order:10535\n",
            "Group:sale, spent $742.5\n",
            "\n",
            "Order:10536\n",
            "Group:sale, spent $892.5\n",
            "\n",
            "Order:10537\n",
            "Group:fullprice, spent $135.0\n",
            "\n",
            "Order:10538\n",
            "Group:fullprice, spent $34.8\n",
            "\n",
            "Order:10539\n",
            "Group:fullprice, spent $120.0\n",
            "\n",
            "Order:10540\n",
            "Group:fullprice, spent $437.5\n",
            "\n",
            "Order:10541\n",
            "Group:sale, spent $174.15\n",
            "\n",
            "Order:10542\n",
            "Group:sale, spent $169.85999999999999\n",
            "\n",
            "Order:10543\n",
            "Group:sale, spent $535.5\n",
            "\n",
            "Order:10544\n",
            "Group:fullprice, spent $98.0\n",
            "\n",
            "Order:10545\n",
            "Group:fullprice, spent $210.0\n",
            "\n",
            "Order:10546\n",
            "Group:fullprice, spent $1972.0\n",
            "\n",
            "Order:10547\n",
            "Group:sale, spent $1140.0\n",
            "\n",
            "Order:10548\n",
            "Group:sale, spent $135.1\n",
            "\n",
            "Order:10549\n",
            "Group:sale, spent $2162.3999999999996\n",
            "\n",
            "Order:10550\n",
            "Group:sale, spent $256.5\n",
            "\n",
            "Order:10551\n",
            "Group:sale, spent $778.0\n",
            "\n",
            "Order:10552\n",
            "Group:fullprice, spent $232.5\n",
            "\n",
            "Order:10553\n",
            "Group:fullprice, spent $108.0\n",
            "\n",
            "Order:10554\n",
            "Group:sale, spent $123.5\n",
            "\n",
            "Order:10555\n",
            "Group:sale, spent $1216.0\n",
            "\n",
            "Order:10556\n",
            "Group:fullprice, spent $835.1999999999999\n",
            "\n",
            "Order:10557\n",
            "Group:fullprice, spent $155.0\n",
            "\n",
            "Order:10558\n",
            "Group:fullprice, spent $45.0\n",
            "\n",
            "Order:10559\n",
            "Group:sale, spent $410.4\n",
            "\n",
            "Order:10560\n",
            "Group:sale, spent $554.6249999999999\n",
            "\n",
            "Order:10561\n",
            "Group:fullprice, spent $2650.0\n",
            "\n",
            "Order:10562\n",
            "Group:sale, spent $443.7\n",
            "\n",
            "Order:10563\n",
            "Group:fullprice, spent $490.0\n",
            "\n",
            "Order:10564\n",
            "Group:sale, spent $569.9999999999999\n",
            "\n",
            "Order:10565\n",
            "Group:sale, spent $538.65\n",
            "\n",
            "Order:10566\n",
            "Group:sale, spent $180.0\n",
            "\n",
            "Order:10567\n",
            "Group:sale, spent $1760.0\n",
            "\n",
            "Order:10568\n",
            "Group:fullprice, spent $155.0\n",
            "\n",
            "Order:10569\n",
            "Group:sale, spent $540.0\n",
            "\n",
            "Order:10570\n",
            "Group:sale, spent $2166.0\n",
            "\n",
            "Order:10571\n",
            "Group:sale, spent $333.2\n",
            "\n",
            "Order:10572\n",
            "Group:sale, spent $104.62500000000001\n",
            "\n",
            "Order:10573\n",
            "Group:fullprice, spent $819.9999999999999\n",
            "\n",
            "Order:10574\n",
            "Group:fullprice, spent $199.5\n",
            "\n",
            "Order:10575\n",
            "Group:fullprice, spent $180.0\n",
            "\n",
            "Order:10576\n",
            "Group:fullprice, spent $408.45\n",
            "\n",
            "Order:10577\n",
            "Group:fullprice, spent $234.0\n",
            "\n",
            "Order:10578\n",
            "Group:fullprice, spent $117.0\n",
            "\n",
            "Order:10579\n",
            "Group:fullprice, spent $162.75\n",
            "\n",
            "Order:10580\n",
            "Group:sale, spent $599.925\n",
            "\n",
            "Order:10581\n",
            "Group:sale, spent $310.0\n",
            "\n",
            "Order:10582\n",
            "Group:fullprice, spent $252.0\n",
            "\n",
            "Order:10583\n",
            "Group:sale, spent $306.0\n",
            "\n",
            "Order:10584\n",
            "Group:sale, spent $593.75\n",
            "\n",
            "Order:10585\n",
            "Group:fullprice, spent $142.5\n",
            "\n",
            "Order:10586\n",
            "Group:sale, spent $23.8\n",
            "\n",
            "Order:10587\n",
            "Group:fullprice, spent $260.0\n",
            "\n",
            "Order:10588\n",
            "Group:sale, spent $1120.0\n",
            "\n",
            "Order:10589\n",
            "Group:fullprice, spent $72.0\n",
            "\n",
            "Order:10590\n",
            "Group:sale, spent $741.0\n",
            "\n",
            "Order:10591\n",
            "Group:fullprice, spent $372.5\n",
            "\n",
            "Order:10592\n",
            "Group:sale, spent $148.3425\n",
            "\n",
            "Order:10593\n",
            "Group:sale, spent $57.6\n",
            "\n",
            "Order:10594\n",
            "Group:fullprice, spent $397.5\n",
            "\n",
            "Order:10595\n",
            "Group:sale, spent $1755.0\n",
            "\n",
            "Order:10596\n",
            "Group:sale, spent $186.0\n",
            "\n",
            "Order:10597\n",
            "Group:sale, spent $202.07999999999998\n",
            "\n",
            "Order:10598\n",
            "Group:fullprice, spent $193.5\n",
            "\n",
            "Order:10599\n",
            "Group:fullprice, spent $493.0\n",
            "\n",
            "Order:10600\n",
            "Group:fullprice, spent $450.0\n",
            "\n",
            "Order:10601\n",
            "Group:fullprice, spent $1925.0\n",
            "\n",
            "Order:10602\n",
            "Group:sale, spent $48.75\n",
            "\n",
            "Order:10603\n",
            "Group:sale, spent $475.0\n",
            "\n",
            "Order:10604\n",
            "Group:sale, spent $162.0\n",
            "\n",
            "Order:10605\n",
            "Group:sale, spent $306.375\n",
            "\n",
            "Order:10606\n",
            "Group:sale, spent $394.4\n",
            "\n",
            "Order:10607\n",
            "Group:fullprice, spent $417.59999999999997\n",
            "\n",
            "Order:10608\n",
            "Group:fullprice, spent $1064.0\n",
            "\n",
            "Order:10609\n",
            "Group:fullprice, spent $60.0\n",
            "\n",
            "Order:10610\n",
            "Group:sale, spent $299.25\n",
            "\n",
            "Order:10611\n",
            "Group:fullprice, spent $510.0\n",
            "\n",
            "Order:10612\n",
            "Group:fullprice, spent $1440.0\n",
            "\n",
            "Order:10613\n",
            "Group:sale, spent $310.0\n",
            "\n",
            "Order:10614\n",
            "Group:fullprice, spent $90.0\n",
            "\n",
            "Order:10615\n",
            "Group:fullprice, spent $120.0\n",
            "\n",
            "Order:10616\n",
            "Group:sale, spent $306.375\n",
            "\n",
            "Order:10617\n",
            "Group:sale, spent $1402.5\n",
            "\n",
            "Order:10618\n",
            "Group:fullprice, spent $187.5\n",
            "\n",
            "Order:10619\n",
            "Group:fullprice, spent $840.0\n",
            "\n",
            "Order:10620\n",
            "Group:fullprice, spent $35.0\n",
            "\n",
            "Order:10621\n",
            "Group:fullprice, spent $322.5\n",
            "\n",
            "Order:10622\n",
            "Group:sale, spent $180.0\n",
            "\n",
            "Order:10623\n",
            "Group:sale, spent $486.0\n",
            "\n",
            "Order:10624\n",
            "Group:fullprice, spent $194.5\n",
            "\n",
            "Order:10625\n",
            "Group:fullprice, spent $340.0\n",
            "\n",
            "Order:10626\n",
            "Group:fullprice, spent $430.0\n",
            "\n",
            "Order:10627\n",
            "Group:sale, spent $446.25\n",
            "\n",
            "Order:10628\n",
            "Group:fullprice, spent $450.0\n",
            "\n",
            "Order:10629\n",
            "Group:fullprice, spent $299.25\n",
            "\n",
            "Order:10630\n",
            "Group:sale, spent $630.0\n",
            "\n",
            "Order:10631\n",
            "Group:sale, spent $55.800000000000004\n",
            "\n",
            "Order:10632\n",
            "Group:sale, spent $47.5\n",
            "\n",
            "Order:10633\n",
            "Group:sale, spent $3352.3999999999996\n",
            "\n",
            "Order:10634\n",
            "Group:fullprice, spent $15.5\n",
            "\n",
            "Order:10635\n",
            "Group:sale, spent $840.0\n",
            "\n",
            "Order:10636\n",
            "Group:fullprice, spent $79.5\n",
            "\n",
            "Order:10637\n",
            "Group:sale, spent $2166.0\n",
            "\n",
            "Order:10638\n",
            "Group:fullprice, spent $2088.0\n",
            "\n",
            "Order:10639\n",
            "Group:fullprice, spent $500.0\n",
            "\n",
            "Order:10640\n",
            "Group:sale, spent $168.75\n",
            "\n",
            "Order:10641\n",
            "Group:fullprice, spent $1104.0\n",
            "\n",
            "Order:10642\n",
            "Group:sale, spent $456.0\n",
            "\n",
            "Order:10643\n",
            "Group:sale, spent $18.0\n",
            "\n",
            "Order:10644\n",
            "Group:sale, spent $226.8\n",
            "\n",
            "Order:10645\n",
            "Group:fullprice, spent $285.0\n",
            "\n",
            "Order:10646\n",
            "Group:sale, spent $341.25\n",
            "\n",
            "Order:10647\n",
            "Group:fullprice, spent $360.0\n",
            "\n",
            "Order:10648\n",
            "Group:sale, spent $57.37499999999999\n",
            "\n",
            "Order:10649\n",
            "Group:fullprice, spent $522.0\n",
            "\n",
            "Order:10650\n",
            "Group:sale, spent $223.5\n",
            "\n",
            "Order:10651\n",
            "Group:sale, spent $315.0\n",
            "\n",
            "Order:10652\n",
            "Group:sale, spent $280.0\n",
            "\n",
            "Order:10653\n",
            "Group:sale, spent $612.0\n",
            "\n",
            "Order:10654\n",
            "Group:sale, spent $40.230000000000004\n",
            "\n",
            "Order:10655\n",
            "Group:sale, spent $154.4\n",
            "\n",
            "Order:10656\n",
            "Group:sale, spent $51.300000000000004\n",
            "\n",
            "Order:10657\n",
            "Group:fullprice, spent $1020.0\n",
            "\n",
            "Order:10658\n",
            "Group:sale, spent $864.5\n",
            "\n",
            "Order:10659\n",
            "Group:sale, spent $570.0\n",
            "\n",
            "Order:10660\n",
            "Group:fullprice, spent $1701.0\n",
            "\n",
            "Order:10661\n",
            "Group:sale, spent $519.4000000000001\n",
            "\n",
            "Order:10662\n",
            "Group:fullprice, spent $125.0\n",
            "\n",
            "Order:10663\n",
            "Group:sale, spent $1006.9999999999999\n",
            "\n",
            "Order:10664\n",
            "Group:sale, spent $268.38750000000005\n",
            "\n",
            "Order:10665\n",
            "Group:fullprice, spent $180.0\n",
            "\n",
            "Order:10666\n",
            "Group:fullprice, spent $210.5\n",
            "\n",
            "Order:10667\n",
            "Group:sale, spent $240.79999999999998\n",
            "\n",
            "Order:10668\n",
            "Group:sale, spent $448.875\n",
            "\n",
            "Order:10669\n",
            "Group:fullprice, spent $570.0\n",
            "\n",
            "Order:10670\n",
            "Group:fullprice, spent $193.75\n",
            "\n",
            "Order:10671\n",
            "Group:fullprice, spent $252.60000000000002\n",
            "\n",
            "Order:10672\n",
            "Group:sale, spent $258.0\n",
            "\n",
            "Order:10673\n",
            "Group:fullprice, spent $276.0\n",
            "\n",
            "Order:10674\n",
            "Group:fullprice, spent $45.0\n",
            "\n",
            "Order:10675\n",
            "Group:fullprice, spent $397.5\n",
            "\n",
            "Order:10676\n",
            "Group:fullprice, spent $408.45\n",
            "\n",
            "Order:10677\n",
            "Group:sale, spent $17.0\n",
            "\n",
            "Order:10678\n",
            "Group:fullprice, spent $223.5\n",
            "\n",
            "Order:10679\n",
            "Group:fullprice, spent $660.0\n",
            "\n",
            "Order:10680\n",
            "Group:sale, spent $420.0\n",
            "\n",
            "Order:10681\n",
            "Group:sale, spent $931.0\n",
            "\n",
            "Order:10682\n",
            "Group:fullprice, spent $232.5\n",
            "\n",
            "Order:10683\n",
            "Group:fullprice, spent $63.0\n",
            "\n",
            "Order:10684\n",
            "Group:fullprice, spent $1020.0\n",
            "\n",
            "Order:10685\n",
            "Group:fullprice, spent $142.5\n",
            "\n",
            "Order:10686\n",
            "Group:sale, spent $468.45\n",
            "\n",
            "Order:10687\n",
            "Group:sale, spent $85.5\n",
            "\n",
            "Order:10688\n",
            "Group:sale, spent $196.0\n",
            "\n",
            "Order:10689\n",
            "Group:sale, spent $472.5\n",
            "\n",
            "Order:10690\n",
            "Group:sale, spent $292.5\n",
            "\n",
            "Order:10691\n",
            "Group:fullprice, spent $2366.3999999999996\n",
            "\n",
            "Order:10692\n",
            "Group:fullprice, spent $878.0\n",
            "\n",
            "Order:10693\n",
            "Group:sale, spent $191.25\n",
            "\n",
            "Order:10694\n",
            "Group:fullprice, spent $750.0\n",
            "\n",
            "Order:10695\n",
            "Group:fullprice, spent $90.0\n",
            "\n",
            "Order:10696\n",
            "Group:fullprice, spent $216.0\n",
            "\n",
            "Order:10697\n",
            "Group:sale, spent $337.5\n",
            "\n",
            "Order:10698\n",
            "Group:sale, spent $114.0\n",
            "\n",
            "Order:10699\n",
            "Group:fullprice, spent $114.0\n",
            "\n",
            "Order:10700\n",
            "Group:sale, spent $1032.0\n",
            "\n",
            "Order:10701\n",
            "Group:sale, spent $535.5\n",
            "\n",
            "Order:10702\n",
            "Group:fullprice, spent $270.0\n",
            "\n",
            "Order:10703\n",
            "Group:fullprice, spent $525.0\n",
            "\n",
            "Order:10704\n",
            "Group:fullprice, spent $306.0\n",
            "\n",
            "Order:10705\n",
            "Group:fullprice, spent $128.0\n",
            "\n",
            "Order:10706\n",
            "Group:fullprice, spent $440.0\n",
            "\n",
            "Order:10707\n",
            "Group:sale, spent $357.0\n",
            "\n",
            "Order:10708\n",
            "Group:fullprice, spent $95.0\n",
            "\n",
            "Order:10709\n",
            "Group:fullprice, spent $340.0\n",
            "\n",
            "Order:10710\n",
            "Group:fullprice, spent $47.5\n",
            "\n",
            "Order:10711\n",
            "Group:fullprice, spent $3935.9999999999995\n",
            "\n",
            "Order:10712\n",
            "Group:sale, spent $1140.0\n",
            "\n",
            "Order:10713\n",
            "Group:fullprice, spent $288.0\n",
            "\n",
            "Order:10714\n",
            "Group:sale, spent $119.25\n",
            "\n",
            "Order:10715\n",
            "Group:fullprice, spent $645.0\n",
            "\n",
            "Order:10716\n",
            "Group:fullprice, spent $285.0\n",
            "\n",
            "Order:10717\n",
            "Group:sale, spent $854.9999999999999\n",
            "\n",
            "Order:10718\n",
            "Group:fullprice, spent $986.0\n",
            "\n",
            "Order:10719\n",
            "Group:sale, spent $223.5\n",
            "\n",
            "Order:10720\n",
            "Group:fullprice, spent $172.0\n",
            "\n",
            "Order:10721\n",
            "Group:sale, spent $923.875\n",
            "\n",
            "Order:10722\n",
            "Group:fullprice, spent $325.5\n",
            "\n",
            "Order:10723\n",
            "Group:fullprice, spent $468.45\n",
            "\n",
            "Order:10724\n",
            "Group:fullprice, spent $142.5\n",
            "\n",
            "Order:10725\n",
            "Group:fullprice, spent $144.0\n",
            "\n",
            "Order:10726\n",
            "Group:fullprice, spent $105.0\n",
            "\n",
            "Order:10727\n",
            "Group:sale, spent $522.5\n",
            "\n",
            "Order:10728\n",
            "Group:fullprice, spent $510.0\n",
            "\n",
            "Order:10729\n",
            "Group:fullprice, spent $650.0\n",
            "\n",
            "Order:10730\n",
            "Group:sale, spent $199.975\n",
            "\n",
            "Order:10731\n",
            "Group:sale, spent $1510.4999999999998\n",
            "\n",
            "Order:10732\n",
            "Group:fullprice, spent $360.0\n",
            "\n",
            "Order:10733\n",
            "Group:fullprice, spent $175.0\n",
            "\n",
            "Order:10734\n",
            "Group:fullprice, spent $360.0\n",
            "\n",
            "Order:10735\n",
            "Group:sale, spent $23.400000000000002\n",
            "\n",
            "Order:10736\n",
            "Group:fullprice, spent $155.0\n",
            "\n",
            "Order:10737\n",
            "Group:fullprice, spent $115.80000000000001\n",
            "\n",
            "Order:10738\n",
            "Group:fullprice, spent $52.349999999999994\n",
            "\n",
            "Order:10739\n",
            "Group:fullprice, spent $126.0\n",
            "\n",
            "Order:10740\n",
            "Group:sale, spent $425.6\n",
            "\n",
            "Order:10741\n",
            "Group:sale, spent $228.00000000000003\n",
            "\n",
            "Order:10742\n",
            "Group:fullprice, spent $1218.0\n",
            "\n",
            "Order:10743\n",
            "Group:sale, spent $319.19999999999993\n",
            "\n",
            "Order:10744\n",
            "Group:sale, spent $736.0\n",
            "\n",
            "Order:10745\n",
            "Group:fullprice, spent $243.59999999999997\n",
            "\n",
            "Order:10746\n",
            "Group:fullprice, spent $1440.0\n",
            "\n",
            "Order:10747\n",
            "Group:fullprice, spent $1080.0\n",
            "\n",
            "Order:10748\n",
            "Group:fullprice, spent $1064.0\n",
            "\n",
            "Order:10749\n",
            "Group:fullprice, spent $180.0\n",
            "\n",
            "Order:10750\n",
            "Group:sale, spent $1168.75\n",
            "\n",
            "Order:10751\n",
            "Group:sale, spent $225.0\n",
            "\n",
            "Order:10752\n",
            "Group:fullprice, spent $108.0\n",
            "\n",
            "Order:10753\n",
            "Group:fullprice, spent $50.0\n",
            "\n",
            "Order:10754\n",
            "Group:fullprice, spent $55.199999999999996\n",
            "\n",
            "Order:10755\n",
            "Group:sale, spent $675.0\n",
            "\n",
            "Order:10756\n",
            "Group:sale, spent $576.0\n",
            "\n",
            "Order:10757\n",
            "Group:fullprice, spent $798.0\n",
            "\n",
            "Order:10758\n",
            "Group:fullprice, spent $600.0\n",
            "\n",
            "Order:10759\n",
            "Group:fullprice, spent $320.0\n",
            "\n",
            "Order:10760\n",
            "Group:sale, spent $1035.0\n",
            "\n",
            "Order:10761\n",
            "Group:sale, spent $139.5\n",
            "\n",
            "Order:10762\n",
            "Group:fullprice, spent $2280.0\n",
            "\n",
            "Order:10763\n",
            "Group:fullprice, spent $90.0\n",
            "\n",
            "Order:10764\n",
            "Group:sale, spent $2106.0\n",
            "\n",
            "Order:10765\n",
            "Group:sale, spent $1515.6\n",
            "\n",
            "Order:10766\n",
            "Group:fullprice, spent $500.0\n",
            "\n",
            "Order:10767\n",
            "Group:fullprice, spent $28.0\n",
            "\n",
            "Order:10768\n",
            "Group:fullprice, spent $258.0\n",
            "\n",
            "Order:10769\n",
            "Group:sale, spent $739.5\n",
            "\n",
            "Order:10770\n",
            "Group:sale, spent $236.25\n",
            "\n",
            "Order:10771\n",
            "Group:fullprice, spent $344.0\n",
            "\n",
            "Order:10772\n",
            "Group:fullprice, spent $1375.0\n",
            "\n",
            "Order:10773\n",
            "Group:sale, spent $43.4\n",
            "\n",
            "Order:10774\n",
            "Group:sale, spent $850.0\n",
            "\n",
            "Order:10775\n",
            "Group:fullprice, spent $42.0\n",
            "\n",
            "Order:10776\n",
            "Group:sale, spent $6041.999999999999\n",
            "\n",
            "Order:10777\n",
            "Group:sale, spent $224.00000000000003\n",
            "\n",
            "Order:10778\n",
            "Group:fullprice, spent $96.5\n",
            "\n",
            "Order:10779\n",
            "Group:fullprice, spent $986.0\n",
            "\n",
            "Order:10780\n",
            "Group:fullprice, spent $195.0\n",
            "\n",
            "Order:10781\n",
            "Group:sale, spent $350.0\n",
            "\n",
            "Order:10782\n",
            "Group:fullprice, spent $12.5\n",
            "\n",
            "Order:10783\n",
            "Group:fullprice, spent $1317.5\n",
            "\n",
            "Order:10784\n",
            "Group:sale, spent $887.4\n",
            "\n",
            "Order:10785\n",
            "Group:fullprice, spent $77.5\n",
            "\n",
            "Order:10786\n",
            "Group:sale, spent $260.40000000000003\n",
            "\n",
            "Order:10787\n",
            "Group:sale, spent $2352.0099999999998\n",
            "\n",
            "Order:10788\n",
            "Group:sale, spent $294.5\n",
            "\n",
            "Order:10789\n",
            "Group:fullprice, spent $225.0\n",
            "\n",
            "Order:10790\n",
            "Group:sale, spent $646.0\n",
            "\n",
            "Order:10791\n",
            "Group:sale, spent $183.35000000000002\n",
            "\n",
            "Order:10792\n",
            "Group:fullprice, spent $187.5\n",
            "\n",
            "Order:10793\n",
            "Group:fullprice, spent $56.0\n",
            "\n",
            "Order:10794\n",
            "Group:sale, spent $35.760000000000005\n",
            "\n",
            "Order:10795\n",
            "Group:sale, spent $1023.75\n",
            "\n",
            "Order:10796\n",
            "Group:sale, spent $691.2\n",
            "\n",
            "Order:10797\n",
            "Group:fullprice, spent $420.0\n",
            "\n",
            "Order:10798\n",
            "Group:fullprice, spent $348.0\n",
            "\n",
            "Order:10799\n",
            "Group:sale, spent $1375.0\n",
            "\n",
            "Order:10800\n",
            "Group:sale, spent $46.935\n",
            "\n",
            "Order:10801\n",
            "Group:sale, spent $1856.85\n",
            "\n",
            "Order:10802\n",
            "Group:sale, spent $184.87499999999997\n",
            "\n",
            "Order:10803\n",
            "Group:sale, spent $783.75\n",
            "\n",
            "Order:10804\n",
            "Group:sale, spent $68.0\n",
            "\n",
            "Order:10805\n",
            "Group:fullprice, spent $2635.0\n",
            "\n",
            "Order:10806\n",
            "Group:sale, spent $112.5\n",
            "\n",
            "Order:10807\n",
            "Group:fullprice, spent $18.4\n",
            "\n",
            "Order:10808\n",
            "Group:sale, spent $765.0\n",
            "\n",
            "Order:10809\n",
            "Group:fullprice, spent $140.0\n",
            "\n",
            "Order:10810\n",
            "Group:fullprice, spent $75.0\n",
            "\n",
            "Order:10811\n",
            "Group:fullprice, spent $552.0\n",
            "\n",
            "Order:10812\n",
            "Group:sale, spent $260.0\n",
            "\n",
            "Order:10813\n",
            "Group:sale, spent $420.0\n",
            "\n",
            "Order:10814\n",
            "Group:sale, spent $726.7499999999999\n",
            "\n",
            "Order:10815\n",
            "Group:fullprice, spent $40.0\n",
            "\n",
            "Order:10816\n",
            "Group:sale, spent $936.6999999999998\n",
            "\n",
            "Order:10817\n",
            "Group:sale, spent $1047.6249999999998\n",
            "\n",
            "Order:10818\n",
            "Group:fullprice, spent $193.0\n",
            "\n",
            "Order:10819\n",
            "Group:fullprice, spent $155.0\n",
            "\n",
            "Order:10820\n",
            "Group:fullprice, spent $1140.0\n",
            "\n",
            "Order:10821\n",
            "Group:fullprice, spent $318.0\n",
            "\n",
            "Order:10822\n",
            "Group:fullprice, spent $90.0\n",
            "\n",
            "Order:10823\n",
            "Group:sale, spent $175.50000000000003\n",
            "\n",
            "Order:10824\n",
            "Group:fullprice, spent $135.0\n",
            "\n",
            "Order:10825\n",
            "Group:fullprice, spent $656.0\n",
            "\n",
            "Order:10826\n",
            "Group:fullprice, spent $292.5\n",
            "\n",
            "Order:10827\n",
            "Group:fullprice, spent $378.0\n",
            "\n",
            "Order:10828\n",
            "Group:fullprice, spent $527.0\n",
            "\n",
            "Order:10829\n",
            "Group:fullprice, spent $714.0\n",
            "\n",
            "Order:10830\n",
            "Group:fullprice, spent $300.0\n",
            "\n",
            "Order:10831\n",
            "Group:fullprice, spent $414.0\n",
            "\n",
            "Order:10832\n",
            "Group:sale, spent $99.75\n",
            "\n",
            "Order:10833\n",
            "Group:sale, spent $265.68\n",
            "\n",
            "Order:10834\n",
            "Group:sale, spent $491.90999999999997\n",
            "\n",
            "Order:10835\n",
            "Group:sale, spent $20.8\n",
            "\n",
            "Order:10836\n",
            "Group:fullprice, spent $997.5\n",
            "\n",
            "Order:10837\n",
            "Group:sale, spent $283.5\n",
            "\n",
            "Order:10838\n",
            "Group:sale, spent $712.5\n",
            "\n",
            "Order:10839\n",
            "Group:sale, spent $469.79999999999995\n",
            "\n",
            "Order:10840\n",
            "Group:sale, spent $144.0\n",
            "\n",
            "Order:10841\n",
            "Group:fullprice, spent $195.0\n",
            "\n",
            "Order:10842\n",
            "Group:fullprice, spent $180.0\n",
            "\n",
            "Order:10843\n",
            "Group:sale, spent $159.0\n",
            "\n",
            "Order:10844\n",
            "Group:fullprice, spent $735.0\n",
            "\n",
            "Order:10845\n",
            "Group:sale, spent $1596.0\n",
            "\n",
            "Order:10846\n",
            "Group:fullprice, spent $200.0\n",
            "\n",
            "Order:10847\n",
            "Group:sale, spent $946.0\n",
            "\n",
            "Order:10848\n",
            "Group:fullprice, spent $291.0\n",
            "\n",
            "Order:10849\n",
            "Group:sale, spent $477.819\n",
            "\n",
            "Order:10850\n",
            "Group:sale, spent $382.5\n",
            "\n",
            "Order:10851\n",
            "Group:sale, spent $2194.5\n",
            "\n",
            "Order:10852\n",
            "Group:fullprice, spent $2465.0\n",
            "\n",
            "Order:10853\n",
            "Group:fullprice, spent $625.0\n",
            "\n",
            "Order:10854\n",
            "Group:sale, spent $331.5\n",
            "\n",
            "Order:10855\n",
            "Group:sale, spent $268.38750000000005\n",
            "\n",
            "Order:10856\n",
            "Group:fullprice, spent $280.0\n",
            "\n",
            "Order:10857\n",
            "Group:sale, spent $928.425\n",
            "\n",
            "Order:10858\n",
            "Group:fullprice, spent $60.0\n",
            "\n",
            "Order:10859\n",
            "Group:sale, spent $748.125\n",
            "\n",
            "Order:10860\n",
            "Group:fullprice, spent $360.0\n",
            "\n",
            "Order:10861\n",
            "Group:fullprice, spent $147.89999999999998\n",
            "\n",
            "Order:10862\n",
            "Group:fullprice, spent $56.0\n",
            "\n",
            "Order:10863\n",
            "Group:sale, spent $135.14999999999998\n",
            "\n",
            "Order:10864\n",
            "Group:fullprice, spent $210.0\n",
            "\n",
            "Order:10865\n",
            "Group:sale, spent $1367.9999999999998\n",
            "\n",
            "Order:10866\n",
            "Group:sale, spent $776.7\n",
            "\n",
            "Order:10867\n",
            "Group:fullprice, spent $98.39999999999999\n",
            "\n",
            "Order:10868\n",
            "Group:sale, spent $756.0\n",
            "\n",
            "Order:10869\n",
            "Group:fullprice, spent $250.0\n",
            "\n",
            "Order:10870\n",
            "Group:fullprice, spent $106.0\n",
            "\n",
            "Order:10871\n",
            "Group:sale, spent $592.8\n",
            "\n",
            "Order:10872\n",
            "Group:sale, spent $419.9475\n",
            "\n",
            "Order:10873\n",
            "Group:fullprice, spent $136.8\n",
            "\n",
            "Order:10874\n",
            "Group:fullprice, spent $310.0\n",
            "\n",
            "Order:10875\n",
            "Group:sale, spent $300.0\n",
            "\n",
            "Order:10876\n",
            "Group:fullprice, spent $665.0\n",
            "\n",
            "Order:10877\n",
            "Group:sale, spent $1562.5\n",
            "\n",
            "Order:10878\n",
            "Group:sale, spent $1539.0\n",
            "\n",
            "Order:10879\n",
            "Group:fullprice, spent $180.0\n",
            "\n",
            "Order:10880\n",
            "Group:sale, spent $600.0\n",
            "\n",
            "Order:10881\n",
            "Group:fullprice, spent $150.0\n",
            "\n",
            "Order:10882\n",
            "Group:sale, spent $202.64\n",
            "\n",
            "Order:10883\n",
            "Group:fullprice, spent $36.0\n",
            "\n",
            "Order:10884\n",
            "Group:sale, spent $239.96999999999997\n",
            "\n",
            "Order:10885\n",
            "Group:fullprice, spent $325.0\n",
            "\n",
            "Order:10886\n",
            "Group:fullprice, spent $520.0\n",
            "\n",
            "Order:10887\n",
            "Group:fullprice, spent $70.0\n",
            "\n",
            "Order:10888\n",
            "Group:fullprice, spent $225.0\n",
            "\n",
            "Order:10889\n",
            "Group:fullprice, spent $10540.0\n",
            "\n",
            "Order:10890\n",
            "Group:fullprice, spent $135.1\n",
            "\n",
            "Order:10891\n",
            "Group:sale, spent $368.93249999999995\n",
            "\n",
            "Order:10892\n",
            "Group:sale, spent $2090.0\n",
            "\n",
            "Order:10893\n",
            "Group:fullprice, spent $380.0\n",
            "\n",
            "Order:10894\n",
            "Group:sale, spent $883.5\n",
            "\n",
            "Order:10895\n",
            "Group:fullprice, spent $3400.0\n",
            "\n",
            "Order:10896\n",
            "Group:fullprice, spent $608.0\n",
            "\n",
            "Order:10897\n",
            "Group:fullprice, spent $932.04\n",
            "\n",
            "Order:10898\n",
            "Group:fullprice, spent $30.0\n",
            "\n",
            "Order:10899\n",
            "Group:sale, spent $122.39999999999999\n",
            "\n",
            "Order:10900\n",
            "Group:sale, spent $33.75\n",
            "\n",
            "Order:10901\n",
            "Group:fullprice, spent $645.0\n",
            "\n",
            "Order:10902\n",
            "Group:sale, spent $251.42999999999995\n",
            "\n",
            "Order:10903\n",
            "Group:fullprice, spent $250.0\n",
            "\n",
            "Order:10904\n",
            "Group:fullprice, spent $1725.5\n",
            "\n",
            "Order:10905\n",
            "Group:sale, spent $341.99999999999994\n",
            "\n",
            "Order:10906\n",
            "Group:fullprice, spent $427.5\n",
            "\n",
            "Order:10907\n",
            "Group:fullprice, spent $108.5\n",
            "\n",
            "Order:10908\n",
            "Group:sale, spent $93.1\n",
            "\n",
            "Order:10909\n",
            "Group:fullprice, spent $48.25\n",
            "\n",
            "Order:10910\n",
            "Group:fullprice, spent $142.5\n",
            "\n",
            "Order:10911\n",
            "Group:fullprice, spent $210.0\n",
            "\n",
            "Order:10912\n",
            "Group:sale, spent $5570.55\n",
            "\n",
            "Order:10913\n",
            "Group:sale, spent $198.75\n",
            "\n",
            "Order:10914\n",
            "Group:fullprice, spent $537.5\n",
            "\n",
            "Order:10915\n",
            "Group:fullprice, spent $74.5\n",
            "\n",
            "Order:10916\n",
            "Group:fullprice, spent $390.0\n",
            "\n",
            "Order:10917\n",
            "Group:fullprice, spent $340.0\n",
            "\n",
            "Order:10918\n",
            "Group:sale, spent $637.5\n",
            "\n",
            "Order:10919\n",
            "Group:fullprice, spent $368.0\n",
            "\n",
            "Order:10920\n",
            "Group:fullprice, spent $390.0\n",
            "\n",
            "Order:10921\n",
            "Group:fullprice, spent $1756.0\n",
            "\n",
            "Order:10922\n",
            "Group:fullprice, spent $157.5\n",
            "\n",
            "Order:10923\n",
            "Group:sale, spent $268.8\n",
            "\n",
            "Order:10924\n",
            "Group:sale, spent $46.5\n",
            "\n",
            "Order:10925\n",
            "Group:sale, spent $71.4\n",
            "\n",
            "Order:10926\n",
            "Group:fullprice, spent $348.0\n",
            "\n",
            "Order:10927\n",
            "Group:fullprice, spent $360.0\n",
            "\n",
            "Order:10928\n",
            "Group:fullprice, spent $90.0\n",
            "\n",
            "Order:10929\n",
            "Group:fullprice, spent $195.0\n",
            "\n",
            "Order:10930\n",
            "Group:sale, spent $318.00000000000006\n",
            "\n",
            "Order:10931\n",
            "Group:sale, spent $585.0\n",
            "\n",
            "Order:10932\n",
            "Group:sale, spent $139.5\n",
            "\n",
            "Order:10933\n",
            "Group:fullprice, spent $855.0\n",
            "\n",
            "Order:10934\n",
            "Group:fullprice, spent $500.0\n",
            "\n",
            "Order:10935\n",
            "Group:sale, spent $54.0\n",
            "\n",
            "Order:10936\n",
            "Group:sale, spent $456.00000000000006\n",
            "\n",
            "Order:10937\n",
            "Group:fullprice, spent $280.0\n",
            "\n",
            "Order:10938\n",
            "Group:sale, spent $564.375\n",
            "\n",
            "Order:10939\n",
            "Group:sale, spent $476.0\n",
            "\n",
            "Order:10940\n",
            "Group:fullprice, spent $120.0\n",
            "\n",
            "Order:10941\n",
            "Group:sale, spent $1739.9999999999998\n",
            "\n",
            "Order:10942\n",
            "Group:fullprice, spent $560.0\n",
            "\n",
            "Order:10943\n",
            "Group:fullprice, spent $180.0\n",
            "\n",
            "Order:10944\n",
            "Group:sale, spent $684.0\n",
            "\n",
            "Order:10945\n",
            "Group:fullprice, spent $125.0\n",
            "\n",
            "Order:10946\n",
            "Group:fullprice, spent $520.0\n",
            "\n",
            "Order:10947\n",
            "Group:fullprice, spent $220.0\n",
            "\n",
            "Order:10948\n",
            "Group:fullprice, spent $96.0\n",
            "\n",
            "Order:10949\n",
            "Group:fullprice, spent $2958.0\n",
            "\n",
            "Order:10950\n",
            "Group:fullprice, spent $110.0\n",
            "\n",
            "Order:10951\n",
            "Group:sale, spent $368.125\n",
            "\n",
            "Order:10952\n",
            "Group:sale, spent $91.2\n",
            "\n",
            "Order:10953\n",
            "Group:sale, spent $593.75\n",
            "\n",
            "Order:10954\n",
            "Group:sale, spent $693.5999999999999\n",
            "\n",
            "Order:10955\n",
            "Group:sale, spent $74.4\n",
            "\n",
            "Order:10956\n",
            "Group:fullprice, spent $424.0\n",
            "\n",
            "Order:10957\n",
            "Group:fullprice, spent $266.0\n",
            "\n",
            "Order:10958\n",
            "Group:fullprice, spent $174.0\n",
            "\n",
            "Order:10959\n",
            "Group:sale, spent $131.75\n",
            "\n",
            "Order:10960\n",
            "Group:sale, spent $231.60000000000002\n",
            "\n",
            "Order:10961\n",
            "Group:sale, spent $1080.0\n",
            "\n",
            "Order:10962\n",
            "Group:fullprice, spent $792.0\n",
            "\n",
            "Order:10963\n",
            "Group:sale, spent $57.8\n",
            "\n",
            "Order:10964\n",
            "Group:fullprice, spent $360.0\n",
            "\n",
            "Order:10965\n",
            "Group:fullprice, spent $848.0\n",
            "\n",
            "Order:10966\n",
            "Group:sale, spent $502.8599999999999\n",
            "\n",
            "Order:10967\n",
            "Group:fullprice, spent $800.0\n",
            "\n",
            "Order:10968\n",
            "Group:fullprice, spent $133.0\n",
            "\n",
            "Order:10969\n",
            "Group:fullprice, spent $108.0\n",
            "\n",
            "Order:10970\n",
            "Group:sale, spent $224.00000000000003\n",
            "\n",
            "Order:10971\n",
            "Group:fullprice, spent $1733.0600000000002\n",
            "\n",
            "Order:10972\n",
            "Group:fullprice, spent $17.5\n",
            "\n",
            "Order:10973\n",
            "Group:fullprice, spent $77.5\n",
            "\n",
            "Order:10974\n",
            "Group:fullprice, spent $439.0\n",
            "\n",
            "Order:10975\n",
            "Group:fullprice, spent $77.5\n",
            "\n",
            "Order:10976\n",
            "Group:fullprice, spent $912.0\n",
            "\n",
            "Order:10977\n",
            "Group:fullprice, spent $878.0\n",
            "\n",
            "Order:10978\n",
            "Group:sale, spent $99.195\n",
            "\n",
            "Order:10979\n",
            "Group:fullprice, spent $1536.5\n",
            "\n",
            "Order:10980\n",
            "Group:sale, spent $248.0\n",
            "\n",
            "Order:10981\n",
            "Group:fullprice, spent $15810.0\n",
            "\n",
            "Order:10982\n",
            "Group:fullprice, spent $414.0\n",
            "\n",
            "Order:10983\n",
            "Group:sale, spent $292.5\n",
            "\n",
            "Order:10984\n",
            "Group:fullprice, spent $760.0\n",
            "\n",
            "Order:10985\n",
            "Group:sale, spent $1008.0\n",
            "\n",
            "Order:10986\n",
            "Group:fullprice, spent $195.0\n",
            "\n",
            "Order:10987\n",
            "Group:fullprice, spent $696.0\n",
            "\n",
            "Order:10988\n",
            "Group:sale, spent $1774.8\n",
            "\n",
            "Order:10989\n",
            "Group:fullprice, spent $38.6\n",
            "\n",
            "Order:10990\n",
            "Group:sale, spent $1598.85\n",
            "\n",
            "Order:10991\n",
            "Group:sale, spent $1296.0\n",
            "\n",
            "Order:10992\n",
            "Group:fullprice, spent $69.6\n",
            "\n",
            "Order:10993\n",
            "Group:sale, spent $253.31250000000003\n",
            "\n",
            "Order:10994\n",
            "Group:sale, spent $940.5\n",
            "\n",
            "Order:10995\n",
            "Group:fullprice, spent $136.0\n",
            "\n",
            "Order:10996\n",
            "Group:fullprice, spent $560.0\n",
            "\n",
            "Order:10997\n",
            "Group:sale, spent $105.0\n",
            "\n",
            "Order:10998\n",
            "Group:fullprice, spent $232.5\n",
            "\n",
            "Order:10999\n",
            "Group:sale, spent $259.34999999999997\n",
            "\n",
            "Order:11000\n",
            "Group:sale, spent $390.0\n",
            "\n",
            "Order:11001\n",
            "Group:fullprice, spent $144.0\n",
            "\n",
            "Order:11002\n",
            "Group:sale, spent $960.0\n",
            "\n",
            "Order:11003\n",
            "Group:fullprice, spent $70.0\n",
            "\n",
            "Order:11004\n",
            "Group:fullprice, spent $108.0\n",
            "\n",
            "Order:11005\n",
            "Group:fullprice, spent $550.0\n",
            "\n",
            "Order:11006\n",
            "Group:sale, spent $185.685\n",
            "\n",
            "Order:11007\n",
            "Group:fullprice, spent $196.0\n",
            "\n",
            "Order:11008\n",
            "Group:sale, spent $451.5\n",
            "\n",
            "Order:11009\n",
            "Group:sale, spent $306.0\n",
            "\n",
            "Order:11010\n",
            "Group:fullprice, spent $45.0\n",
            "\n",
            "Order:11011\n",
            "Group:sale, spent $430.0\n",
            "\n",
            "Order:11012\n",
            "Group:sale, spent $1225.5\n",
            "\n",
            "Order:11013\n",
            "Group:fullprice, spent $25.0\n",
            "\n",
            "Order:11014\n",
            "Group:sale, spent $243.18\n",
            "\n",
            "Order:11015\n",
            "Group:fullprice, spent $234.0\n",
            "\n",
            "Order:11016\n",
            "Group:fullprice, spent $304.0\n",
            "\n",
            "Order:11017\n",
            "Group:fullprice, spent $450.0\n",
            "\n",
            "Order:11018\n",
            "Group:fullprice, spent $190.0\n",
            "\n",
            "Order:11019\n",
            "Group:fullprice, spent $40.0\n",
            "\n",
            "Order:11020\n",
            "Group:sale, spent $632.4\n",
            "\n",
            "Order:11021\n",
            "Group:sale, spent $1218.0\n",
            "\n",
            "Order:11022\n",
            "Group:fullprice, spent $1080.0\n",
            "\n",
            "Order:11023\n",
            "Group:fullprice, spent $1380.0\n",
            "\n",
            "Order:11024\n",
            "Group:fullprice, spent $1075.0\n",
            "\n",
            "Order:11025\n",
            "Group:sale, spent $108.0\n",
            "\n",
            "Order:11026\n",
            "Group:fullprice, spent $530.0\n",
            "\n",
            "Order:11027\n",
            "Group:sale, spent $776.4749999999999\n",
            "\n",
            "Order:11028\n",
            "Group:fullprice, spent $1320.0\n",
            "\n",
            "Order:11029\n",
            "Group:fullprice, spent $526.8\n",
            "\n",
            "Order:11030\n",
            "Group:sale, spent $4125.0\n",
            "\n",
            "Order:11031\n",
            "Group:fullprice, spent $344.0\n",
            "\n",
            "Order:11032\n",
            "Group:fullprice, spent $1650.0\n",
            "\n",
            "Order:11033\n",
            "Group:sale, spent $1166.3999999999999\n",
            "\n",
            "Order:11034\n",
            "Group:sale, spent $171.0\n",
            "\n",
            "Order:11035\n",
            "Group:fullprice, spent $74.5\n",
            "\n",
            "Order:11036\n",
            "Group:fullprice, spent $1650.0\n",
            "\n",
            "Order:11037\n",
            "Group:fullprice, spent $60.0\n",
            "\n",
            "Order:11038\n",
            "Group:sale, spent $645.0\n",
            "\n",
            "Order:11039\n",
            "Group:fullprice, spent $546.0\n",
            "\n",
            "Order:11040\n",
            "Group:fullprice, spent $200.0\n",
            "\n",
            "Order:11041\n",
            "Group:sale, spent $1317.0\n",
            "\n",
            "Order:11042\n",
            "Group:fullprice, spent $114.0\n",
            "\n",
            "Order:11043\n",
            "Group:fullprice, spent $210.0\n",
            "\n",
            "Order:11044\n",
            "Group:fullprice, spent $591.5999999999999\n",
            "\n",
            "Order:11045\n",
            "Group:fullprice, spent $1272.0\n",
            "\n",
            "Order:11046\n",
            "Group:sale, spent $307.79999999999995\n",
            "\n",
            "Order:11047\n",
            "Group:sale, spent $480.3750000000001\n",
            "\n",
            "Order:11048\n",
            "Group:fullprice, spent $525.0\n",
            "\n",
            "Order:11049\n",
            "Group:sale, spent $121.60000000000001\n",
            "\n",
            "Order:11050\n",
            "Group:sale, spent $810.0\n",
            "\n",
            "Order:11051\n",
            "Group:sale, spent $36.0\n",
            "\n",
            "Order:11052\n",
            "Group:sale, spent $228.0\n",
            "\n",
            "Order:11053\n",
            "Group:sale, spent $665.0\n",
            "\n",
            "Order:11054\n",
            "Group:fullprice, spent $280.0\n",
            "\n",
            "Order:11055\n",
            "Group:fullprice, spent $390.0\n",
            "\n",
            "Order:11056\n",
            "Group:fullprice, spent $1700.0\n",
            "\n",
            "Order:11057\n",
            "Group:fullprice, spent $45.0\n",
            "\n",
            "Order:11058\n",
            "Group:fullprice, spent $114.0\n",
            "\n",
            "Order:11059\n",
            "Group:fullprice, spent $1190.0\n",
            "\n",
            "Order:11060\n",
            "Group:fullprice, spent $130.0\n",
            "\n",
            "Order:11061\n",
            "Group:fullprice, spent $510.0\n",
            "\n",
            "Order:11062\n",
            "Group:sale, spent $144.0\n",
            "\n",
            "Order:11063\n",
            "Group:sale, spent $260.55\n",
            "\n",
            "Order:11064\n",
            "Group:sale, spent $687.5\n",
            "\n",
            "Order:11065\n",
            "Group:sale, spent $111.75\n",
            "\n",
            "Order:11066\n",
            "Group:fullprice, spent $490.0\n",
            "\n",
            "Order:11067\n",
            "Group:fullprice, spent $86.85000000000001\n",
            "\n",
            "Order:11068\n",
            "Group:sale, spent $309.4\n",
            "\n",
            "Order:11069\n",
            "Group:fullprice, spent $360.0\n",
            "\n",
            "Order:11070\n",
            "Group:sale, spent $250.0\n",
            "\n",
            "Order:11071\n",
            "Group:sale, spent $56.99999999999999\n",
            "\n",
            "Order:11072\n",
            "Group:fullprice, spent $4322.5\n",
            "\n",
            "Order:11073\n",
            "Group:fullprice, spent $90.0\n",
            "\n",
            "Order:11074\n",
            "Group:sale, spent $232.08499999999995\n",
            "\n",
            "Order:11075\n",
            "Group:sale, spent $30.599999999999998\n",
            "\n",
            "Order:11076\n",
            "Group:sale, spent $69.0\n",
            "\n",
            "Order:11077\n",
            "Group:sale, spent $26.0\n"
          ],
          "name": "stdout"
        }
      ]
    },
    {
      "metadata": {
        "id": "J05Aqk6VTo4V",
        "colab_type": "text"
      },
      "cell_type": "markdown",
      "source": [
        "# Hypothesis 3:\n",
        "\n",
        "\n",
        "Does the time of year affect quantity of items sold?\n",
        "\n",
        " - H0 = The month of an order has no affect on the mean quantity of items sold.\n",
        "\n",
        " - HA = THe month an order is placed relates to either a higher or lower mean quantity of items sold.\n"
      ]
    },
    {
      "metadata": {
        "id": "CRL7c0TSbpHm",
        "colab_type": "text"
      },
      "cell_type": "markdown",
      "source": [
        "### Hypothesis 3\n",
        "\n",
        "- $H_1$: Mean total price per order  is the same for each month of the year.\n",
        "\n",
        "- $H_0$: Mean total price per order is different between months:\n",
        "    \n",
        "    \n",
        "  \n",
        "<br>\n",
        "- **Specific Aims:**\n",
        "\n",
        "    - Aim 1:Determine which months have the worst sales, best sales . \n",
        "    - Aim 2: To test the relationship using a 2 -tailed t-test. \n",
        "    - Aim 3: determine if there are any distinguishable reasons why there is a difference month by month."
      ]
    },
    {
      "metadata": {
        "id": "xeM73kM6V3Di",
        "colab_type": "code",
        "colab": {}
      },
      "cell_type": "code",
      "source": [
        ""
      ],
      "execution_count": 0,
      "outputs": []
    },
    {
      "metadata": {
        "id": "gW9ZpyP7UPca",
        "colab_type": "code",
        "colab": {}
      },
      "cell_type": "code",
      "source": [
        "import sqlalchemy\n",
        "from sqlalchemy import create_engine\n",
        "from sqlalchemy.orm import Session, sessionmaker\n",
        "\n",
        "\n"
      ],
      "execution_count": 0,
      "outputs": []
    },
    {
      "metadata": {
        "id": "ia4SIYaRrD4f",
        "colab_type": "code",
        "colab": {}
      },
      "cell_type": "code",
      "source": [
        "# df_employee = pd.read_sql_query(\"SELECT Id, Title, LastName, HireDate , BirthDate  FROM [EMPLOYEE]\", engine )\n"
      ],
      "execution_count": 0,
      "outputs": []
    },
    {
      "metadata": {
        "id": "TR_JqCxvXGHF",
        "colab_type": "code",
        "outputId": "0b58b5aa-9a08-42c8-df8d-9928ebab72c0",
        "colab": {
          "base_uri": "https://localhost:8080/",
          "height": 52
        }
      },
      "cell_type": "code",
      "source": [
        "df_ord = pd.read_sql_query(\"SELECT * FROM OrderDetail JOIN [Order]  ON [Order].Id = OrderDetail.OrderId\", engine)\n",
        "# df_ord = pd.concat([df_ord, df_employee['Title']], axis=1)"
      ],
      "execution_count": 91,
      "outputs": [
        {
          "output_type": "stream",
          "text": [
            "2019-04-05 13:37:32,682 INFO sqlalchemy.engine.base.Engine SELECT * FROM OrderDetail JOIN [Order]  ON [Order].Id = OrderDetail.OrderId\n",
            "2019-04-05 13:37:32,685 INFO sqlalchemy.engine.base.Engine ()\n"
          ],
          "name": "stdout"
        }
      ]
    },
    {
      "metadata": {
        "id": "Yjy9nRCVfZ_S",
        "colab_type": "code",
        "outputId": "dd404c1b-f1c7-4eaf-f87f-0dee63bfde8d",
        "colab": {
          "base_uri": "https://localhost:8080/",
          "height": 69
        }
      },
      "cell_type": "code",
      "source": [
        "df_ord.drop(['OrderId', 'ShipName', 'ShippedDate', 'RequiredDate', 'ShipVia','ShipAddress',\n",
        "             'RequiredDate','ShippedDate', 'ShippedDate', 'ShipCity', 'ShipCountry',\n",
        "            'ShipRegion', 'Freight'],inplace=True, axis=1)\n",
        "df_ord.columns"
      ],
      "execution_count": 92,
      "outputs": [
        {
          "output_type": "execute_result",
          "data": {
            "text/plain": [
              "Index(['Id', 'ProductId', 'UnitPrice', 'Quantity', 'Discount', 'Id',\n",
              "       'CustomerId', 'EmployeeId', 'OrderDate', 'ShipPostalCode'],\n",
              "      dtype='object')"
            ]
          },
          "metadata": {
            "tags": []
          },
          "execution_count": 92
        }
      ]
    },
    {
      "metadata": {
        "id": "8pqwSINFcKia",
        "colab_type": "code",
        "colab": {}
      },
      "cell_type": "code",
      "source": [
        "df_ord.columns = ['Id', 'ProductId', 'UnitPrice', 'Quantity', 'Discount', 'OrderId',\n",
        "       'CustomerId', 'EmployeeId', 'OrderDate', 'ShipPostalCode']"
      ],
      "execution_count": 0,
      "outputs": []
    },
    {
      "metadata": {
        "id": "8CF8TglBqlhm",
        "colab_type": "code",
        "colab": {}
      },
      "cell_type": "code",
      "source": [
        "df_ord['OrderDate'] = pd.to_datetime(df_ord.OrderDate )"
      ],
      "execution_count": 0,
      "outputs": []
    },
    {
      "metadata": {
        "id": "BEaytfV7u7Tk",
        "colab_type": "code",
        "outputId": "0b26b7a0-e4b8-426a-fcee-397c643396ad",
        "colab": {
          "base_uri": "https://localhost:8080/",
          "height": 35
        }
      },
      "cell_type": "code",
      "source": [
        "df_ord.OrderDate.sort_values().min(), df_ord.OrderDate.sort_values().max()"
      ],
      "execution_count": 95,
      "outputs": [
        {
          "output_type": "execute_result",
          "data": {
            "text/plain": [
              "(Timestamp('2012-07-04 00:00:00'), Timestamp('2014-05-06 00:00:00'))"
            ]
          },
          "metadata": {
            "tags": []
          },
          "execution_count": 95
        }
      ]
    },
    {
      "metadata": {
        "id": "J9YIedhAu-O2",
        "colab_type": "code",
        "colab": {
          "base_uri": "https://localhost:8080/",
          "height": 198
        },
        "outputId": "cd6ba93f-ed12-4506-d7bb-a99170f597a2"
      },
      "cell_type": "code",
      "source": [
        "def calc_product_price(row):\n",
        "    price = row['UnitPrice']*(1-row['Discount'])*row['Quantity']\n",
        "    row['price'] = price\n",
        "    if row['Discount']>0:\n",
        "        row['OnSale'] = True\n",
        "    else:\n",
        "        row['OnSale'] = False\n",
        "    return row    \n",
        "\n",
        "# Use calc_order_total to fill in order_total column\n",
        "def calc_order_total(row,df):\n",
        "    order = row['OrderId']\n",
        "    df_temp = df.groupby('OrderId').get_group(order)\n",
        "\n",
        "    \n",
        "    if any(df_temp['OnSale']):\n",
        "        row['discounted_order'] = True\n",
        "    else:\n",
        "        row['discounted_order'] = False\n",
        "    \n",
        "    order_total = df_temp['price'].sum()\n",
        "    row['order_total'] = order_total\n",
        "    \n",
        "    return row\n",
        "  \n",
        "# Apply calc_product_price to every row \n",
        "df_price = df.apply(lambda x: calc_product_price(x),axis=1)\n",
        "# df_price['order_total'] = None\n",
        "\n",
        "\n",
        "# Apply_calc_order_total to every row\n",
        "df_price = df_price.apply(lambda x: calc_order_total(x,df_price), axis=1)  \n",
        "df_price.head()"
      ],
      "execution_count": 96,
      "outputs": [
        {
          "output_type": "execute_result",
          "data": {
            "text/html": [
              "<div>\n",
              "<style scoped>\n",
              "    .dataframe tbody tr th:only-of-type {\n",
              "        vertical-align: middle;\n",
              "    }\n",
              "\n",
              "    .dataframe tbody tr th {\n",
              "        vertical-align: top;\n",
              "    }\n",
              "\n",
              "    .dataframe thead th {\n",
              "        text-align: right;\n",
              "    }\n",
              "</style>\n",
              "<table border=\"1\" class=\"dataframe\">\n",
              "  <thead>\n",
              "    <tr style=\"text-align: right;\">\n",
              "      <th></th>\n",
              "      <th>Id</th>\n",
              "      <th>OrderId</th>\n",
              "      <th>ProductId</th>\n",
              "      <th>UnitPrice</th>\n",
              "      <th>Quantity</th>\n",
              "      <th>Discount</th>\n",
              "      <th>price</th>\n",
              "      <th>OnSale</th>\n",
              "      <th>discounted_order</th>\n",
              "      <th>order_total</th>\n",
              "    </tr>\n",
              "  </thead>\n",
              "  <tbody>\n",
              "    <tr>\n",
              "      <th>0</th>\n",
              "      <td>10248/11</td>\n",
              "      <td>10248</td>\n",
              "      <td>11</td>\n",
              "      <td>14.0</td>\n",
              "      <td>12</td>\n",
              "      <td>0.0</td>\n",
              "      <td>168.0</td>\n",
              "      <td>False</td>\n",
              "      <td>False</td>\n",
              "      <td>440.0</td>\n",
              "    </tr>\n",
              "    <tr>\n",
              "      <th>1</th>\n",
              "      <td>10248/42</td>\n",
              "      <td>10248</td>\n",
              "      <td>42</td>\n",
              "      <td>9.8</td>\n",
              "      <td>10</td>\n",
              "      <td>0.0</td>\n",
              "      <td>98.0</td>\n",
              "      <td>False</td>\n",
              "      <td>False</td>\n",
              "      <td>440.0</td>\n",
              "    </tr>\n",
              "    <tr>\n",
              "      <th>2</th>\n",
              "      <td>10248/72</td>\n",
              "      <td>10248</td>\n",
              "      <td>72</td>\n",
              "      <td>34.8</td>\n",
              "      <td>5</td>\n",
              "      <td>0.0</td>\n",
              "      <td>174.0</td>\n",
              "      <td>False</td>\n",
              "      <td>False</td>\n",
              "      <td>440.0</td>\n",
              "    </tr>\n",
              "    <tr>\n",
              "      <th>3</th>\n",
              "      <td>10249/14</td>\n",
              "      <td>10249</td>\n",
              "      <td>14</td>\n",
              "      <td>18.6</td>\n",
              "      <td>9</td>\n",
              "      <td>0.0</td>\n",
              "      <td>167.4</td>\n",
              "      <td>False</td>\n",
              "      <td>False</td>\n",
              "      <td>1863.4</td>\n",
              "    </tr>\n",
              "    <tr>\n",
              "      <th>4</th>\n",
              "      <td>10249/51</td>\n",
              "      <td>10249</td>\n",
              "      <td>51</td>\n",
              "      <td>42.4</td>\n",
              "      <td>40</td>\n",
              "      <td>0.0</td>\n",
              "      <td>1696.0</td>\n",
              "      <td>False</td>\n",
              "      <td>False</td>\n",
              "      <td>1863.4</td>\n",
              "    </tr>\n",
              "  </tbody>\n",
              "</table>\n",
              "</div>"
            ],
            "text/plain": [
              "         Id  OrderId  ProductId  UnitPrice  Quantity  Discount   price  \\\n",
              "0  10248/11    10248         11       14.0        12       0.0   168.0   \n",
              "1  10248/42    10248         42        9.8        10       0.0    98.0   \n",
              "2  10248/72    10248         72       34.8         5       0.0   174.0   \n",
              "3  10249/14    10249         14       18.6         9       0.0   167.4   \n",
              "4  10249/51    10249         51       42.4        40       0.0  1696.0   \n",
              "\n",
              "   OnSale  discounted_order  order_total  \n",
              "0   False             False        440.0  \n",
              "1   False             False        440.0  \n",
              "2   False             False        440.0  \n",
              "3   False             False       1863.4  \n",
              "4   False             False       1863.4  "
            ]
          },
          "metadata": {
            "tags": []
          },
          "execution_count": 96
        }
      ]
    },
    {
      "metadata": {
        "id": "K6ISt698TKFB",
        "colab_type": "code",
        "colab": {}
      },
      "cell_type": "code",
      "source": [
        "df_price = pd.concat([df_price, df_ord[['OrderDate']]], axis=1)#, 'EmployeeId', 'employee_title"
      ],
      "execution_count": 0,
      "outputs": []
    },
    {
      "metadata": {
        "id": "suMU_rYsTwGA",
        "colab_type": "code",
        "colab": {}
      },
      "cell_type": "code",
      "source": [
        "df_price['week_day'] = df_price['OrderDate'].dt.dayofweek\n",
        "df_price['month'] = df_price['OrderDate'].dt.month\n",
        "# df_price.head()"
      ],
      "execution_count": 0,
      "outputs": []
    },
    {
      "metadata": {
        "id": "dJonaKDzThHY",
        "colab_type": "code",
        "colab": {
          "base_uri": "https://localhost:8080/",
          "height": 35
        },
        "outputId": "420de37e-18c1-44d3-ecf5-1eb579ee7002"
      },
      "cell_type": "code",
      "source": [
        "criteria = df_price['month'] <= 6\n",
        "df_month6 = df_price.loc[criteria,['month','order_total','Discount','OrderId']].drop_duplicates(['OrderId'])\n",
        "df_month12 = df_price.loc[~criteria,['month','order_total','Discount','OrderId']].drop_duplicates(['OrderId'])\n",
        "total_order = pd.concat([df_month6['order_total'], df_month12['order_total']],axis=0)\n",
        "len(total_order) == len(df_month6['order_total'])+len(df_month12['order_total'])"
      ],
      "execution_count": 99,
      "outputs": [
        {
          "output_type": "execute_result",
          "data": {
            "text/plain": [
              "True"
            ]
          },
          "metadata": {
            "tags": []
          },
          "execution_count": 99
        }
      ]
    },
    {
      "metadata": {
        "id": "EIoJqAPcTnkd",
        "colab_type": "code",
        "colab": {
          "base_uri": "https://localhost:8080/",
          "height": 225
        },
        "outputId": "376b3cb3-7cb4-426c-85d3-d4f4622ccdc3"
      },
      "cell_type": "code",
      "source": [
        "df_year = df_price[['month', 'order_total', 'Discount', 'OrderId']].drop_duplicates(['OrderId'])\n",
        "months = ['jan','feb', 'mar', 'apr', 'may' , 'jun', 'jul', 'aug', 'sep', 'oct', 'nov', 'dec']\n",
        "month_code = list(range(1,len(months)+1))\n",
        "month_dict = dict(zip(month_code,months))\n",
        "month_dict\n",
        "month_ticks =[v for v in month_dict.values()] \n",
        "month_top_ticks = ['$'+str(round(np.mean(df_year[df_year.month== i].order_total),2)) for i in month_dict.keys()]\n",
        "month_top_ticks"
      ],
      "execution_count": 101,
      "outputs": [
        {
          "output_type": "execute_result",
          "data": {
            "text/plain": [
              "['$1766.82',\n",
              " '$1661.43',\n",
              " '$1392.25',\n",
              " '$1684.11',\n",
              " '$1567.72',\n",
              " '$1212.09',\n",
              " '$1434.23',\n",
              " '$1254.71',\n",
              " '$1366.84',\n",
              " '$1629.14',\n",
              " '$1510.74',\n",
              " '$1476.43']"
            ]
          },
          "metadata": {
            "tags": []
          },
          "execution_count": 101
        }
      ]
    },
    {
      "metadata": {
        "id": "WeEaJQ_iTF8V",
        "colab_type": "code",
        "colab": {
          "base_uri": "https://localhost:8080/",
          "height": 591
        },
        "outputId": "dd8ab2cf-6ac4-40a6-a1d1-158613e98e3e"
      },
      "cell_type": "code",
      "source": [
        "\n",
        "plt.style.use('dark_background')\n",
        "fig,ax =plt.subplots(figsize=(12,5))\n",
        "\n",
        "\n",
        "sns.violinplot(df_year['month'], df_year['order_total'],cut=0,split=True, scale='count', scale_hue=True,\n",
        "               saturation=.5, alpha=.9,bw=.25, palette='Dark2',inner='stick', hue=df_year['Discount'] > 0).set_title('Order totals per month')\n",
        "\n",
        "ax.axhline(df_year['order_total'].mean(),label='total mean', ls=':', alpha=.5, color='xkcd:yellow')\n",
        "ax.set_xticklabels(month_ticks)\n",
        "\n",
        "plt.legend()\n",
        "plt.show()"
      ],
      "execution_count": 102,
      "outputs": [
        {
          "output_type": "stream",
          "text": [
            "/usr/local/lib/python3.6/dist-packages/seaborn/categorical.py:637: FutureWarning: remove_na is deprecated and is a private function. Do not use.\n",
            "  kde_data = remove_na(group_data[hue_mask])\n",
            "/usr/local/lib/python3.6/dist-packages/seaborn/categorical.py:885: FutureWarning: remove_na is deprecated and is a private function. Do not use.\n",
            "  violin_data = remove_na(group_data[hue_mask])\n",
            "/usr/local/lib/python3.6/dist-packages/seaborn/categorical.py:905: FutureWarning: remove_na is deprecated and is a private function. Do not use.\n",
            "  violin_data = remove_na(group_data)\n"
          ],
          "name": "stderr"
        },
        {
          "output_type": "display_data",
          "data": {
            "image/png": "[encoded data removed]",
            "text/plain": [
              "<Figure size 1200x500 with 1 Axes>"
            ]
          },
          "metadata": {
            "tags": []
          }
        }
      ]
    },
    {
      "metadata": {
        "id": "Jb8xEqHk8TT1",
        "colab_type": "code",
        "colab": {
          "base_uri": "https://localhost:8080/",
          "height": 757
        },
        "outputId": "86eae326-db63-4920-e139-2a549c5158fe"
      },
      "cell_type": "code",
      "source": [
        "\n",
        "\n",
        "def draw_histograms(df, variable, sample_dict, n_rows, n_cols):\n",
        "\n",
        "  fig = plt.figure(figsize=(8.5,7.5))\n",
        "\n",
        "  for k,v in sample_dict.items():\n",
        "\n",
        "    month = df[df[variable] == k]['order_total']\n",
        "    month_mean = round(np.mean(month),2)\n",
        "\n",
        "    year =  df[df['month'] != k]['order_total']\n",
        "    year_mean = round(np.mean(year),2)\n",
        "\n",
        "    ax = fig.add_subplot(n_rows,n_cols,k)\n",
        "    ax.tick_params(labelsize=8)\n",
        "\n",
        "    plt.hist(year, bins=90,alpha=.7)\n",
        "    plt.hist(month, alpha=.6)\n",
        "\n",
        "    ax.set_title(v,fontsize=14)\n",
        "\n",
        "    plt.axvline(month_mean, color='xkcd:fuchsia',linestyle='--',\n",
        "                label='Sample Mean \\n'+str(month_mean))\n",
        "\n",
        "    plt.axvline(year_mean,color='xkcd:green',linestyle='-',\n",
        "                label='Pop. Mean \\n'+str(year_mean))\n",
        "    \n",
        "    plt.legend(fontsize=6, frameon=False, ncol = 2 )\n",
        "    \n",
        "  fig.tight_layout()    \n",
        "  plt.show()\n",
        "\n",
        "draw_histograms(df_year, 'month', month_dict, 4, 3)\n",
        "\n",
        " \n"
      ],
      "execution_count": 103,
      "outputs": [
        {
          "output_type": "display_data",
          "data": {
            "image/png": "[encoded data removed]",
            "text/plain": [
              "<Figure size 850x750 with 12 Axes>"
            ]
          },
          "metadata": {
            "tags": []
          }
        }
      ]
    },
    {
      "metadata": {
        "id": "v8fsyQZ4ddft",
        "colab_type": "text"
      },
      "cell_type": "markdown",
      "source": [
        "##Test for normality"
      ]
    },
    {
      "metadata": {
        "id": "YmKmeUo4d45Y",
        "colab_type": "code",
        "colab": {}
      },
      "cell_type": "code",
      "source": [
        "sample_month_dict = {v:np.array(df_year.loc[df_year['month']==k]['order_total']).reshape(-1,1) for k,v in month_dict.items()}\n",
        "pop_full = np.array(df_year['order_total']).reshape(-1,1)"
      ],
      "execution_count": 0,
      "outputs": []
    },
    {
      "metadata": {
        "colab_type": "code",
        "id": "xL9wbfZQlmnU",
        "colab": {}
      },
      "cell_type": "code",
      "source": [
        "# D'Agonstino Pearson Normality Test\n",
        "from scipy.stats import normaltest \n",
        "# # Create results container list\n",
        "# results_normtest = [['DataIn','stat','p']]\n",
        "\n",
        "# # Perform Normality Test - Discounted\n",
        "# stat, p = normaltest(df_discounted['Quantity'])\n",
        "# results_normtest.append(['Discounted',stat,p])\n",
        "# print(f'Discounted: p ={p}, stat ={stat}')\n",
        "\n",
        "# # Perform Normality Test - Full Price\n",
        "# stat, p = normaltest(df_fullprice['Quantity'])\n",
        "# results_normtest.append(['Fullprice',stat,p])\n",
        "\n",
        "# print(f'Fullprice: p ={p}, stat ={stat}')\n",
        "# list2df(results_normtest)\n",
        "\n",
        "# normtest_results(sample_month_dict)\n",
        "\n"
      ],
      "execution_count": 0,
      "outputs": []
    },
    {
      "metadata": {
        "id": "AAuMDL-y0473",
        "colab_type": "text"
      },
      "cell_type": "markdown",
      "source": [
        "Resampling to test normacy"
      ]
    },
    {
      "metadata": {
        "id": "QaWJZGIu00qz",
        "colab_type": "code",
        "colab": {}
      },
      "cell_type": "code",
      "source": [
        "months = {v:df_year.loc[df_year['month']==k]['order_total'] for k,v in month_dict.items()}\n",
        "totals = df_year['order_total']\n",
        "n = 50 \n",
        "i = 10000\n",
        "pop_samp_month_dict = {}\n",
        "pop_samp_order_total = []\n",
        "\n",
        "\n",
        "for i in range(0,i):\n",
        "  \n",
        "  pop_samp_order_total.append(totals.sample(n=30).mean())\n",
        "  \n",
        "for k,v in months.items():\n",
        "  pop_samp_month_dict[k] = []\n",
        "  for i in range(0,i):\n",
        "      \n",
        "    pop_samp_month_dict[k].append(round(v.sample(n=30).mean(),2))"
      ],
      "execution_count": 0,
      "outputs": []
    },
    {
      "metadata": {
        "id": "cBUL0Zf2l3im",
        "colab_type": "code",
        "colab": {
          "base_uri": "https://localhost:8080/",
          "height": 757
        },
        "outputId": "a75c4a3e-2c28-4967-fdca-7f59aec9febb"
      },
      "cell_type": "code",
      "source": [
        "                        \n",
        "def draw_histograms_from_sample(population, sample_dict, n_rows, n_cols):\n",
        "\n",
        "  fig = plt.figure(figsize=(8.5,7.5))\n",
        "  count = 0\n",
        "  \n",
        "  for k,v in sample_dict.items():\n",
        "    \n",
        "    count += 1                        \n",
        "\n",
        "    month = sample_dict[k] #pop_samp_month_dict[k]\n",
        "    month_mean = round(np.mean(v),2)\n",
        "    \n",
        "    year = population\n",
        "    year_mean = round(np.mean(population),2)\n",
        "\n",
        "    ax = fig.add_subplot(n_rows,n_cols, count)\n",
        "    ax.tick_params(labelsize=8)\n",
        "\n",
        "    plt.hist(year, alpha=.8)\n",
        "    plt.hist(month, alpha=.6)\n",
        "\n",
        "    ax.set_title(k,fontsize=14)\n",
        "\n",
        "    plt.axvline(month_mean, color='xkcd:fuchsia',linestyle='--',\n",
        "                label='Sample Mean \\n'+str(month_mean))\n",
        "    plt.axvline(year_mean,color='xkcd:green',linestyle='-',\n",
        "                label='Pop. Mean \\n'+str(year_mean))\n",
        "    \n",
        "    plt.legend(fontsize=6, frameon=False)\n",
        "    \n",
        "  fig.tight_layout()    \n",
        "  plt.show()\n",
        "  \n",
        "draw_histograms_from_sample(pop_samp_order_total, pop_samp_month_dict, 4,3)\n"
      ],
      "execution_count": 140,
      "outputs": [
        {
          "output_type": "display_data",
          "data": {
            "image/png": "[encoded data removed]",
            "text/plain": [
              "<Figure size 850x750 with 12 Axes>"
            ]
          },
          "metadata": {
            "tags": []
          }
        }
      ]
    },
    {
      "metadata": {
        "id": "iq8f80b95eoz",
        "colab_type": "code",
        "colab": {}
      },
      "cell_type": "code",
      "source": [
        ""
      ],
      "execution_count": 0,
      "outputs": []
    },
    {
      "metadata": {
        "id": "lg3FmZF52chd",
        "colab_type": "text"
      },
      "cell_type": "markdown",
      "source": [
        "## Test for homoscdesticity\n",
        " - Levene Test"
      ]
    },
    {
      "metadata": {
        "id": "UYmXJJeC2811",
        "colab_type": "code",
        "colab": {
          "base_uri": "https://localhost:8080/",
          "height": 131
        },
        "outputId": "f9c5387d-0d6d-4f87-f75e-d221eab8f45a"
      },
      "cell_type": "code",
      "source": [
        "H3_tests = [['Group:','TestName','Test Purpose','stat','p']  ]\n",
        "\n",
        "#create table to store all test results\n",
        "\n",
        "test_purpose = 'Normality'\n",
        "test_to_run = 'normaltest'\n",
        "\n",
        "# arrA = np.array(df_year['order_total'])\n",
        "# arrB = np.array(df_year['order_total'])\n",
        "\n",
        "H3_months_dict = {}\n",
        "for k,v in months.items():\n",
        "  \n",
        "  H3_month_dict[k] = {k:{statA, pA = eval(test_to_run)(k)}}\n",
        "  print(f'A:stat={statA}, p={pA}')\n",
        "  \n",
        "statB, pB = eval(test_to_run)(totals)\n",
        "\n",
        "print(f'B:stat={statB}, p={pB}')\n",
        "\n",
        "H3_tests.append(['A: '+grpA,test_to_run,test_purpose,statA,pA])\n",
        "H3_tests.append(['B: '+grpB,test_to_run,test_purpose,statB,pB])"
      ],
      "execution_count": 143,
      "outputs": [
        {
          "output_type": "error",
          "ename": "SyntaxError",
          "evalue": "ignored",
          "traceback": [
            "\u001b[0;36m  File \u001b[0;32m\"<ipython-input-143-baead1807d15>\"\u001b[0;36m, line \u001b[0;32m14\u001b[0m\n\u001b[0;31m    H3_month_dict[k] = {k:{statA, pA : eval(test_to_run)(k)}}\u001b[0m\n\u001b[0m                                     ^\u001b[0m\n\u001b[0;31mSyntaxError\u001b[0m\u001b[0;31m:\u001b[0m invalid syntax\n"
          ]
        }
      ]
    },
    {
      "metadata": {
        "id": "wD3kJb16nNDK",
        "colab_type": "code",
        "colab": {}
      },
      "cell_type": "code",
      "source": [
        "test_to_run = 'stats.levene'\n",
        "stat,p = eval(test_to_run)(arrA,arrB,center='median')\n",
        "\n",
        "H1_tests.append(['A&B',test_to_run,'Equal Var',stat,p])\n"
      ],
      "execution_count": 0,
      "outputs": []
    },
    {
      "metadata": {
        "id": "A7dbRcBh5w9i",
        "colab_type": "text"
      },
      "cell_type": "markdown",
      "source": [
        "###Mann-Whitney U test"
      ]
    },
    {
      "metadata": {
        "id": "REwsOjGWuB5I",
        "colab_type": "code",
        "colab": {
          "base_uri": "https://localhost:8080/",
          "height": 432
        },
        "outputId": "32836c74-499f-415a-c70a-cce58a666689"
      },
      "cell_type": "code",
      "source": [
        "# Mann Whitney U test+\n",
        "import scipy.stats as stats\n",
        "# arrA was discounted, arrB was non-discounted\n",
        "mannwhit_months = {}\n",
        "\n",
        "test_to_run = 'stats.mannwhitneyu'\n",
        "\n",
        "for k,v in sample_month_dict.items():\n",
        "\n",
        "  mannwhit_months[k] = eval(test_to_run)(v,pop_full,alternative='two-sided')\n",
        "  print(f'{k}''\\n', mannwhit_months[k])\n",
        "# H3_tests.append(['A vs. B',test_to_run, 'H1_sig', stat,p])"
      ],
      "execution_count": 177,
      "outputs": [
        {
          "output_type": "stream",
          "text": [
            "jan\n",
            " MannwhitneyuResult(statistic=39094.0, pvalue=0.2765420112740373)\n",
            "feb\n",
            " MannwhitneyuResult(statistic=32504.5, pvalue=0.397040778774961)\n",
            "mar\n",
            " MannwhitneyuResult(statistic=40223.5, pvalue=0.3284153440773995)\n",
            "apr\n",
            " MannwhitneyuResult(statistic=43578.0, pvalue=0.9992349333133655)\n",
            "may\n",
            " MannwhitneyuResult(statistic=19592.0, pvalue=0.7640070387172484)\n",
            "jun\n",
            " MannwhitneyuResult(statistic=12636.5, pvalue=0.88932673899123)\n",
            "jul\n",
            " MannwhitneyuResult(statistic=22169.5, pvalue=0.7212599766032516)\n",
            "aug\n",
            " MannwhitneyuResult(statistic=23658.5, pvalue=0.8277135151606767)\n",
            "sep\n",
            " MannwhitneyuResult(statistic=24066.5, pvalue=0.6648739304857842)\n",
            "oct\n",
            " MannwhitneyuResult(statistic=28409.0, pvalue=0.35305089693057)\n",
            "nov\n",
            " MannwhitneyuResult(statistic=24699.5, pvalue=0.9105927574947236)\n",
            "dec\n",
            " MannwhitneyuResult(statistic=33818.5, pvalue=0.6431833031647948)\n"
          ],
          "name": "stdout"
        }
      ]
    },
    {
      "metadata": {
        "id": "heBlfxhFCZYt",
        "colab_type": "text"
      },
      "cell_type": "markdown",
      "source": [
        "## Tukeys test"
      ]
    },
    {
      "metadata": {
        "id": "KCcUa2wLC6F7",
        "colab_type": "code",
        "colab": {}
      },
      "cell_type": "code",
      "source": [
        "# Importing tukey's test\n",
        "from statsmodels.stats.multicomp import pairwise_tukeyhsd as tukey\n",
        "int_str = [str(x) for x in samp_pop_months.keys()]\n",
        "\n",
        "tukey_results =tukey(df_H1codes['Quantity'], int_str, 0.05)\n",
        "print(tukey_results.summary())"
      ],
      "execution_count": 0,
      "outputs": []
    },
    {
      "metadata": {
        "id": "BykNmUg4CdaL",
        "colab_type": "code",
        "colab": {}
      },
      "cell_type": "code",
      "source": [
        "df_month_tukey = pd.DataFrame(data=tukey_results._results_table.data[1:], columns=tukey_results._results_table.data[0])\n",
        "df_month_tukey.loc[dfH_tukey['reject']==True]"
      ],
      "execution_count": 0,
      "outputs": []
    },
    {
      "metadata": {
        "id": "I61pQKIW57mN",
        "colab_type": "text"
      },
      "cell_type": "markdown",
      "source": [
        "###Cohens D to calculate effectsize"
      ]
    },
    {
      "metadata": {
        "id": "JPh4GsOp6EjZ",
        "colab_type": "code",
        "colab": {
          "base_uri": "https://localhost:8080/",
          "height": 225
        },
        "outputId": "32415bf5-40b1-470d-8d1d-5f17895f9a85"
      },
      "cell_type": "code",
      "source": [
        "# Calculating Cohens d\n",
        "cohen_months = {}\n",
        "for k,v in months.items():\n",
        "  d = Cohen_d(months[k], totals)\n",
        "  cohen_months[k] = d\n",
        "  print(f\"{k} Cohen's d={round(d,3)}\")"
      ],
      "execution_count": 158,
      "outputs": [
        {
          "output_type": "stream",
          "text": [
            "jan Cohen's d=0.129\n",
            "feb Cohen's d=0.071\n",
            "mar Cohen's d=-0.071\n",
            "apr Cohen's d=0.084\n",
            "may Cohen's d=0.023\n",
            "jun Cohen's d=-0.172\n",
            "jul Cohen's d=-0.05\n",
            "aug Cohen's d=-0.15\n",
            "sep Cohen's d=-0.087\n",
            "oct Cohen's d=0.057\n",
            "nov Cohen's d=-0.008\n",
            "dec Cohen's d=-0.027\n"
          ],
          "name": "stdout"
        }
      ]
    },
    {
      "metadata": {
        "id": "JliywcNY6zLy",
        "colab_type": "code",
        "colab": {}
      },
      "cell_type": "code",
      "source": [
        ""
      ],
      "execution_count": 0,
      "outputs": []
    }
  ]
}